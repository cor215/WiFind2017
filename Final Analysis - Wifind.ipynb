{
 "cells": [
  {
   "cell_type": "markdown",
   "metadata": {},
   "source": [
    "# Wifind Data - Final Analysis \n",
    "\n",
    "## Author_: Chritstian Rosado"
   ]
  },
  {
   "cell_type": "code",
   "execution_count": 1801,
   "metadata": {
    "collapsed": false
   },
   "outputs": [
    {
     "name": "stdout",
     "output_type": "stream",
     "text": [
      "Populating the interactive namespace from numpy and matplotlib\n"
     ]
    },
    {
     "name": "stderr",
     "output_type": "stream",
     "text": [
      "/Applications/anaconda/lib/python3.6/site-packages/IPython/core/magics/pylab.py:161: UserWarning: pylab import has clobbered these variables: ['Polygon', 'chisquare', 'axes', 'colors']\n",
      "`%matplotlib` prevents importing * from pylab and numpy\n",
      "  \"\\n`%matplotlib` prevents importing * from pylab and numpy\"\n"
     ]
    }
   ],
   "source": [
    "# importing packages \n",
    "from __future__  import print_function, division\n",
    "import pylab as pl\n",
    "import pandas as pd\n",
    "import numpy as np\n",
    "import matplotlib.pyplot as plt\n",
    "from fiona.crs import from_epsg\n",
    "import shapely as shp\n",
    "import seaborn \n",
    "import os\n",
    "import geopandas as gpd\n",
    "%pylab inline"
   ]
  },
  {
   "cell_type": "code",
   "execution_count": 1802,
   "metadata": {
    "collapsed": false
   },
   "outputs": [
    {
     "name": "stdout",
     "output_type": "stream",
     "text": [
      "http://wifindproject.com/wifipulling/?columns=lat%7Clng%7Cssid%7Cbssid%7Cacc%7Ctime%7Clevel&startdate=06/01/2017&enddate=07/23/2017&timeformat=1\n"
     ]
    }
   ],
   "source": [
    "# important all data\n",
    "startdate = \"06/01/2017\"\n",
    "enddate = \"07/23/2017\"\n",
    "link = 'http://wifindproject.com/wifipulling/?columns=lat%7Clng%7Cssid%7Cbssid%7Cacc%7Ctime%7Clevel\\\n",
    "&startdate={0}&enddate={1}&timeformat=1'.format(startdate,enddate)\n",
    "print(link)"
   ]
  },
  {
   "cell_type": "code",
   "execution_count": 1803,
   "metadata": {
    "collapsed": false
   },
   "outputs": [],
   "source": [
    "# loading raw data for analysis \n",
    "data = pd.read_json(link, dtype={\"lng\":float, \"lat\":float})"
   ]
  },
  {
   "cell_type": "code",
   "execution_count": 1804,
   "metadata": {
    "collapsed": false
   },
   "outputs": [
    {
     "data": {
      "text/plain": [
       "(1300700, 7)"
      ]
     },
     "execution_count": 1804,
     "metadata": {},
     "output_type": "execute_result"
    }
   ],
   "source": [
    "data.shape"
   ]
  },
  {
   "cell_type": "code",
   "execution_count": 1805,
   "metadata": {
    "collapsed": true
   },
   "outputs": [],
   "source": [
    "# filtering errant scans \n",
    "wifi_data = data.drop(data[data.acc > 50].index)"
   ]
  },
  {
   "cell_type": "code",
   "execution_count": 1806,
   "metadata": {
    "collapsed": false
   },
   "outputs": [
    {
     "data": {
      "text/html": [
       "<div>\n",
       "<table border=\"1\" class=\"dataframe\">\n",
       "  <thead>\n",
       "    <tr style=\"text-align: right;\">\n",
       "      <th></th>\n",
       "      <th>acc</th>\n",
       "      <th>bssid</th>\n",
       "      <th>lat</th>\n",
       "      <th>level</th>\n",
       "      <th>lng</th>\n",
       "      <th>ssid</th>\n",
       "      <th>time</th>\n",
       "    </tr>\n",
       "  </thead>\n",
       "  <tbody>\n",
       "    <tr>\n",
       "      <th>0</th>\n",
       "      <td>19.929</td>\n",
       "      <td>fc:0a:81:c0:b4:b2</td>\n",
       "      <td>40.710426</td>\n",
       "      <td>-54.0</td>\n",
       "      <td>-74.011387</td>\n",
       "      <td></td>\n",
       "      <td>06-12-2017 15:51:03</td>\n",
       "    </tr>\n",
       "  </tbody>\n",
       "</table>\n",
       "</div>"
      ],
      "text/plain": [
       "      acc              bssid        lat  level        lng ssid  \\\n",
       "0  19.929  fc:0a:81:c0:b4:b2  40.710426  -54.0 -74.011387        \n",
       "\n",
       "                  time  \n",
       "0  06-12-2017 15:51:03  "
      ]
     },
     "execution_count": 1806,
     "metadata": {},
     "output_type": "execute_result"
    }
   ],
   "source": [
    "wifi_data.head(1)"
   ]
  },
  {
   "cell_type": "code",
   "execution_count": 1808,
   "metadata": {
    "collapsed": false
   },
   "outputs": [
    {
     "data": {
      "text/plain": [
       "(1248783, 7)"
      ]
     },
     "execution_count": 1808,
     "metadata": {},
     "output_type": "execute_result"
    }
   ],
   "source": [
    "wifi_data.shape"
   ]
  },
  {
   "cell_type": "code",
   "execution_count": 1809,
   "metadata": {
    "collapsed": false
   },
   "outputs": [
    {
     "name": "stdout",
     "output_type": "stream",
     "text": [
      "number of errant records removed: 51917\n"
     ]
    }
   ],
   "source": [
    "# errant resords removed\n",
    "errant_records = data.shape[0] - wifi_data.shape[0]\n",
    "print(\"number of errant records removed:\", errant_records)"
   ]
  },
  {
   "cell_type": "code",
   "execution_count": 1810,
   "metadata": {
    "collapsed": true
   },
   "outputs": [],
   "source": [
    "wifi_data.to_csv(\"wifi_data.csv\")"
   ]
  },
  {
   "cell_type": "code",
   "execution_count": 1811,
   "metadata": {
    "collapsed": false
   },
   "outputs": [
    {
     "data": {
      "text/html": [
       "<div>\n",
       "<table border=\"1\" class=\"dataframe\">\n",
       "  <thead>\n",
       "    <tr style=\"text-align: right;\">\n",
       "      <th></th>\n",
       "      <th>acc</th>\n",
       "      <th>level</th>\n",
       "    </tr>\n",
       "  </thead>\n",
       "  <tbody>\n",
       "    <tr>\n",
       "      <th>count</th>\n",
       "      <td>1.248783e+06</td>\n",
       "      <td>1.248783e+06</td>\n",
       "    </tr>\n",
       "    <tr>\n",
       "      <th>mean</th>\n",
       "      <td>1.407823e+01</td>\n",
       "      <td>-7.777126e+01</td>\n",
       "    </tr>\n",
       "    <tr>\n",
       "      <th>std</th>\n",
       "      <td>8.515134e+00</td>\n",
       "      <td>1.006214e+01</td>\n",
       "    </tr>\n",
       "    <tr>\n",
       "      <th>min</th>\n",
       "      <td>3.000000e+00</td>\n",
       "      <td>-9.900000e+01</td>\n",
       "    </tr>\n",
       "    <tr>\n",
       "      <th>25%</th>\n",
       "      <td>9.000000e+00</td>\n",
       "      <td>-8.600000e+01</td>\n",
       "    </tr>\n",
       "    <tr>\n",
       "      <th>50%</th>\n",
       "      <td>1.100000e+01</td>\n",
       "      <td>-7.900000e+01</td>\n",
       "    </tr>\n",
       "    <tr>\n",
       "      <th>75%</th>\n",
       "      <td>1.820400e+01</td>\n",
       "      <td>-7.100000e+01</td>\n",
       "    </tr>\n",
       "    <tr>\n",
       "      <th>max</th>\n",
       "      <td>5.000000e+01</td>\n",
       "      <td>-1.000000e+01</td>\n",
       "    </tr>\n",
       "  </tbody>\n",
       "</table>\n",
       "</div>"
      ],
      "text/plain": [
       "                acc         level\n",
       "count  1.248783e+06  1.248783e+06\n",
       "mean   1.407823e+01 -7.777126e+01\n",
       "std    8.515134e+00  1.006214e+01\n",
       "min    3.000000e+00 -9.900000e+01\n",
       "25%    9.000000e+00 -8.600000e+01\n",
       "50%    1.100000e+01 -7.900000e+01\n",
       "75%    1.820400e+01 -7.100000e+01\n",
       "max    5.000000e+01 -1.000000e+01"
      ]
     },
     "execution_count": 1811,
     "metadata": {},
     "output_type": "execute_result"
    }
   ],
   "source": [
    "wifi_data[[\"acc\", \"level\"]].describe()"
   ]
  },
  {
   "cell_type": "code",
   "execution_count": 1812,
   "metadata": {
    "collapsed": true
   },
   "outputs": [],
   "source": [
    "# generating points for wifi data\n",
    "def points(p):\n",
    "    point = shp.geometry.Point(p)\n",
    "    return point\n",
    "\n",
    "wifi_data[\"geometry\"] = list(map(lambda x: points(x), zip(wifi_data.lng, wifi_data.lat)))"
   ]
  },
  {
   "cell_type": "code",
   "execution_count": 1813,
   "metadata": {
    "collapsed": false
   },
   "outputs": [
    {
     "data": {
      "text/html": [
       "<div>\n",
       "<table border=\"1\" class=\"dataframe\">\n",
       "  <thead>\n",
       "    <tr style=\"text-align: right;\">\n",
       "      <th></th>\n",
       "      <th>acc</th>\n",
       "      <th>bssid</th>\n",
       "      <th>lat</th>\n",
       "      <th>level</th>\n",
       "      <th>lng</th>\n",
       "      <th>ssid</th>\n",
       "      <th>time</th>\n",
       "      <th>geometry</th>\n",
       "    </tr>\n",
       "  </thead>\n",
       "  <tbody>\n",
       "    <tr>\n",
       "      <th>0</th>\n",
       "      <td>19.929</td>\n",
       "      <td>fc:0a:81:c0:b4:b2</td>\n",
       "      <td>40.710426</td>\n",
       "      <td>-54.0</td>\n",
       "      <td>-74.011387</td>\n",
       "      <td></td>\n",
       "      <td>06-12-2017 15:51:03</td>\n",
       "      <td>POINT (-74.01138659999999 40.7104258)</td>\n",
       "    </tr>\n",
       "  </tbody>\n",
       "</table>\n",
       "</div>"
      ],
      "text/plain": [
       "      acc              bssid        lat  level        lng ssid  \\\n",
       "0  19.929  fc:0a:81:c0:b4:b2  40.710426  -54.0 -74.011387        \n",
       "\n",
       "                  time                               geometry  \n",
       "0  06-12-2017 15:51:03  POINT (-74.01138659999999 40.7104258)  "
      ]
     },
     "execution_count": 1813,
     "metadata": {},
     "output_type": "execute_result"
    }
   ],
   "source": [
    "wifi_data.head(1)"
   ]
  },
  {
   "cell_type": "code",
   "execution_count": 1814,
   "metadata": {
    "collapsed": false
   },
   "outputs": [
    {
     "data": {
      "text/plain": [
       "(1248783, 8)"
      ]
     },
     "execution_count": 1814,
     "metadata": {},
     "output_type": "execute_result"
    }
   ],
   "source": [
    "wifi_data.shape"
   ]
  },
  {
   "cell_type": "code",
   "execution_count": 1815,
   "metadata": {
    "collapsed": false
   },
   "outputs": [],
   "source": [
    "# loading wifi data into geopandas\n",
    "wifi_shape = gpd.GeoDataFrame(wifi_data)"
   ]
  },
  {
   "cell_type": "code",
   "execution_count": 1817,
   "metadata": {
    "collapsed": true
   },
   "outputs": [],
   "source": [
    "#housing_shape = gpd.GeoDataFrame.from_file(\"../Downloads/data/shape/Export_Output.shp\")"
   ]
  },
  {
   "cell_type": "code",
   "execution_count": 1816,
   "metadata": {
    "collapsed": false
   },
   "outputs": [
    {
     "name": "stderr",
     "output_type": "stream",
     "text": [
      "WARNING:Fiona:PROJ data files not located, PROJ_LIB not set\n"
     ]
    }
   ],
   "source": [
    "# loading census block groups shapes into geopandas\n",
    "housing_shape = gpd.GeoDataFrame.from_file(\"../Downloads/data/tl_2013_36_bg/tl_2013_36_bg.shp\")"
   ]
  },
  {
   "cell_type": "code",
   "execution_count": 1818,
   "metadata": {
    "collapsed": false
   },
   "outputs": [
    {
     "data": {
      "text/plain": [
       "(15463, 13)"
      ]
     },
     "execution_count": 1818,
     "metadata": {},
     "output_type": "execute_result"
    }
   ],
   "source": [
    "housing_shape.shape"
   ]
  },
  {
   "cell_type": "code",
   "execution_count": 112,
   "metadata": {
    "collapsed": false
   },
   "outputs": [
    {
     "data": {
      "text/plain": [
       "<matplotlib.axes._subplots.AxesSubplot at 0x1891b9b70>"
      ]
     },
     "execution_count": 112,
     "metadata": {},
     "output_type": "execute_result"
    },
    {
     "data": {
      "image/png": "[encoded data removed]",
      "text/plain": [
       "<matplotlib.figure.Figure at 0x189ec7f28>"
      ]
     },
     "metadata": {},
     "output_type": "display_data"
    }
   ],
   "source": [
    "housing_shape.plot()"
   ]
  },
  {
   "cell_type": "code",
   "execution_count": 1820,
   "metadata": {
    "collapsed": false
   },
   "outputs": [],
   "source": [
    "# epsg=4326: lat/on | 26918: NAD83/UTM zone 18N | epsg=2263 is US feet\n",
    "wifi_shape.crs = from_epsg(4326)\n",
    "housing_shape.crs = from_epsg(4326)"
   ]
  },
  {
   "cell_type": "code",
   "execution_count": 1822,
   "metadata": {
    "collapsed": false
   },
   "outputs": [],
   "source": [
    "# merging wifi data with housing shapes - blocks \n",
    "# geometry = points\n",
    "housing_wifi = gpd.sjoin(wifi_shape, housing_shape, how=\"inner\", op='intersects') #geo merger"
   ]
  },
  {
   "cell_type": "code",
   "execution_count": 1825,
   "metadata": {
    "collapsed": false
   },
   "outputs": [],
   "source": [
    "# merging wifi data with housing shapes - blocks \n",
    "# geometry = polygons\n",
    "housing_wifi_ = gpd.sjoin(housing_shape, wifi_shape, how=\"inner\", op='intersects') #geo merger"
   ]
  },
  {
   "cell_type": "code",
   "execution_count": 1826,
   "metadata": {
    "collapsed": false
   },
   "outputs": [
    {
     "data": {
      "text/plain": [
       "(15463, 13)"
      ]
     },
     "execution_count": 1826,
     "metadata": {},
     "output_type": "execute_result"
    }
   ],
   "source": [
    "housing_shape.shape"
   ]
  },
  {
   "cell_type": "code",
   "execution_count": 1827,
   "metadata": {
    "collapsed": false
   },
   "outputs": [
    {
     "data": {
      "text/html": [
       "<div>\n",
       "<table border=\"1\" class=\"dataframe\">\n",
       "  <thead>\n",
       "    <tr style=\"text-align: right;\">\n",
       "      <th></th>\n",
       "      <th>ALAND</th>\n",
       "      <th>AWATER</th>\n",
       "      <th>BLKGRPCE</th>\n",
       "      <th>COUNTYFP</th>\n",
       "      <th>FUNCSTAT</th>\n",
       "      <th>GEOID</th>\n",
       "      <th>INTPTLAT</th>\n",
       "      <th>INTPTLON</th>\n",
       "      <th>MTFCC</th>\n",
       "      <th>NAMELSAD</th>\n",
       "      <th>...</th>\n",
       "      <th>TRACTCE</th>\n",
       "      <th>geometry</th>\n",
       "      <th>index_right</th>\n",
       "      <th>acc</th>\n",
       "      <th>bssid</th>\n",
       "      <th>lat</th>\n",
       "      <th>level</th>\n",
       "      <th>lng</th>\n",
       "      <th>ssid</th>\n",
       "      <th>time</th>\n",
       "    </tr>\n",
       "  </thead>\n",
       "  <tbody>\n",
       "    <tr>\n",
       "      <th>1942</th>\n",
       "      <td>89832</td>\n",
       "      <td>0</td>\n",
       "      <td>1</td>\n",
       "      <td>061</td>\n",
       "      <td>S</td>\n",
       "      <td>360610015011</td>\n",
       "      <td>+40.7107881</td>\n",
       "      <td>-074.0060113</td>\n",
       "      <td>G5030</td>\n",
       "      <td>Block Group 1</td>\n",
       "      <td>...</td>\n",
       "      <td>001501</td>\n",
       "      <td>POLYGON ((-74.00861399999999 40.711372, -74.00...</td>\n",
       "      <td>881088</td>\n",
       "      <td>50.0</td>\n",
       "      <td>fc:0a:81:b5:ee:c2</td>\n",
       "      <td>40.710642</td>\n",
       "      <td>-77.0</td>\n",
       "      <td>-74.008483</td>\n",
       "      <td></td>\n",
       "      <td>07-10-2017 19:47:26</td>\n",
       "    </tr>\n",
       "  </tbody>\n",
       "</table>\n",
       "<p>1 rows × 21 columns</p>\n",
       "</div>"
      ],
      "text/plain": [
       "      ALAND  AWATER BLKGRPCE COUNTYFP FUNCSTAT         GEOID     INTPTLAT  \\\n",
       "1942  89832       0        1      061        S  360610015011  +40.7107881   \n",
       "\n",
       "          INTPTLON  MTFCC       NAMELSAD         ...          TRACTCE  \\\n",
       "1942  -074.0060113  G5030  Block Group 1         ...           001501   \n",
       "\n",
       "                                               geometry index_right   acc  \\\n",
       "1942  POLYGON ((-74.00861399999999 40.711372, -74.00...      881088  50.0   \n",
       "\n",
       "                  bssid        lat  level        lng  ssid  \\\n",
       "1942  fc:0a:81:b5:ee:c2  40.710642  -77.0 -74.008483         \n",
       "\n",
       "                     time  \n",
       "1942  07-10-2017 19:47:26  \n",
       "\n",
       "[1 rows x 21 columns]"
      ]
     },
     "execution_count": 1827,
     "metadata": {},
     "output_type": "execute_result"
    }
   ],
   "source": [
    "housing_wifi_.head(1)"
   ]
  },
  {
   "cell_type": "code",
   "execution_count": 1829,
   "metadata": {
    "collapsed": false
   },
   "outputs": [],
   "source": [
    "uni_bssid = housing_wifi_.groupby(housing_wifi_.GEOID)['bssid'].nunique()"
   ]
  },
  {
   "cell_type": "code",
   "execution_count": 1830,
   "metadata": {
    "collapsed": true
   },
   "outputs": [],
   "source": [
    "uni_bssid = pd.DataFrame(uni_bssid)"
   ]
  },
  {
   "cell_type": "code",
   "execution_count": 1831,
   "metadata": {
    "collapsed": true
   },
   "outputs": [],
   "source": [
    "uni_bssid[\"GEOID\"] = uni_bssid.index\n",
    "uni_bssid[\"uni_bssid_count\"] = uni_bssid.bssid"
   ]
  },
  {
   "cell_type": "code",
   "execution_count": 1833,
   "metadata": {
    "collapsed": true
   },
   "outputs": [],
   "source": [
    "del uni_bssid[\"bssid\"]"
   ]
  },
  {
   "cell_type": "code",
   "execution_count": 1834,
   "metadata": {
    "collapsed": false
   },
   "outputs": [
    {
     "data": {
      "text/html": [
       "<div>\n",
       "<table border=\"1\" class=\"dataframe\">\n",
       "  <thead>\n",
       "    <tr style=\"text-align: right;\">\n",
       "      <th></th>\n",
       "      <th>GEOID</th>\n",
       "      <th>uni_bssid_count</th>\n",
       "    </tr>\n",
       "    <tr>\n",
       "      <th>GEOID</th>\n",
       "      <th></th>\n",
       "      <th></th>\n",
       "    </tr>\n",
       "  </thead>\n",
       "  <tbody>\n",
       "    <tr>\n",
       "      <th>360470001004</th>\n",
       "      <td>360470001004</td>\n",
       "      <td>9</td>\n",
       "    </tr>\n",
       "    <tr>\n",
       "      <th>360470003014</th>\n",
       "      <td>360470003014</td>\n",
       "      <td>306</td>\n",
       "    </tr>\n",
       "    <tr>\n",
       "      <th>360470005013</th>\n",
       "      <td>360470005013</td>\n",
       "      <td>251</td>\n",
       "    </tr>\n",
       "    <tr>\n",
       "      <th>360470005022</th>\n",
       "      <td>360470005022</td>\n",
       "      <td>214</td>\n",
       "    </tr>\n",
       "    <tr>\n",
       "      <th>360470007001</th>\n",
       "      <td>360470007001</td>\n",
       "      <td>562</td>\n",
       "    </tr>\n",
       "  </tbody>\n",
       "</table>\n",
       "</div>"
      ],
      "text/plain": [
       "                     GEOID  uni_bssid_count\n",
       "GEOID                                      \n",
       "360470001004  360470001004                9\n",
       "360470003014  360470003014              306\n",
       "360470005013  360470005013              251\n",
       "360470005022  360470005022              214\n",
       "360470007001  360470007001              562"
      ]
     },
     "execution_count": 1834,
     "metadata": {},
     "output_type": "execute_result"
    }
   ],
   "source": [
    "uni_bssid.head()"
   ]
  },
  {
   "cell_type": "code",
   "execution_count": 1835,
   "metadata": {
    "collapsed": false
   },
   "outputs": [],
   "source": [
    "# merge unique bssid with main data frame\n",
    "housing_wifi__uni = housing_wifi_.merge(uni_bssid, on=\"GEOID\", how=\"inner\")"
   ]
  },
  {
   "cell_type": "code",
   "execution_count": 1836,
   "metadata": {
    "collapsed": false
   },
   "outputs": [
    {
     "data": {
      "text/html": [
       "<div>\n",
       "<table border=\"1\" class=\"dataframe\">\n",
       "  <thead>\n",
       "    <tr style=\"text-align: right;\">\n",
       "      <th></th>\n",
       "      <th>ALAND</th>\n",
       "      <th>AWATER</th>\n",
       "      <th>BLKGRPCE</th>\n",
       "      <th>COUNTYFP</th>\n",
       "      <th>FUNCSTAT</th>\n",
       "      <th>GEOID</th>\n",
       "      <th>INTPTLAT</th>\n",
       "      <th>INTPTLON</th>\n",
       "      <th>MTFCC</th>\n",
       "      <th>NAMELSAD</th>\n",
       "      <th>...</th>\n",
       "      <th>geometry</th>\n",
       "      <th>index_right</th>\n",
       "      <th>acc</th>\n",
       "      <th>bssid</th>\n",
       "      <th>lat</th>\n",
       "      <th>level</th>\n",
       "      <th>lng</th>\n",
       "      <th>ssid</th>\n",
       "      <th>time</th>\n",
       "      <th>uni_bssid_count</th>\n",
       "    </tr>\n",
       "  </thead>\n",
       "  <tbody>\n",
       "    <tr>\n",
       "      <th>0</th>\n",
       "      <td>89832</td>\n",
       "      <td>0</td>\n",
       "      <td>1</td>\n",
       "      <td>061</td>\n",
       "      <td>S</td>\n",
       "      <td>360610015011</td>\n",
       "      <td>+40.7107881</td>\n",
       "      <td>-074.0060113</td>\n",
       "      <td>G5030</td>\n",
       "      <td>Block Group 1</td>\n",
       "      <td>...</td>\n",
       "      <td>POLYGON ((-74.00861399999999 40.711372, -74.00...</td>\n",
       "      <td>881088</td>\n",
       "      <td>50.0</td>\n",
       "      <td>fc:0a:81:b5:ee:c2</td>\n",
       "      <td>40.710642</td>\n",
       "      <td>-77.0</td>\n",
       "      <td>-74.008483</td>\n",
       "      <td></td>\n",
       "      <td>07-10-2017 19:47:26</td>\n",
       "      <td>24</td>\n",
       "    </tr>\n",
       "  </tbody>\n",
       "</table>\n",
       "<p>1 rows × 22 columns</p>\n",
       "</div>"
      ],
      "text/plain": [
       "   ALAND  AWATER BLKGRPCE COUNTYFP FUNCSTAT         GEOID     INTPTLAT  \\\n",
       "0  89832       0        1      061        S  360610015011  +40.7107881   \n",
       "\n",
       "       INTPTLON  MTFCC       NAMELSAD       ...        \\\n",
       "0  -074.0060113  G5030  Block Group 1       ...         \n",
       "\n",
       "                                            geometry index_right   acc  \\\n",
       "0  POLYGON ((-74.00861399999999 40.711372, -74.00...      881088  50.0   \n",
       "\n",
       "               bssid        lat level        lng  ssid                 time  \\\n",
       "0  fc:0a:81:b5:ee:c2  40.710642 -77.0 -74.008483        07-10-2017 19:47:26   \n",
       "\n",
       "  uni_bssid_count  \n",
       "0              24  \n",
       "\n",
       "[1 rows x 22 columns]"
      ]
     },
     "execution_count": 1836,
     "metadata": {},
     "output_type": "execute_result"
    }
   ],
   "source": [
    "housing_wifi__uni.head(1)"
   ]
  },
  {
   "cell_type": "code",
   "execution_count": 1837,
   "metadata": {
    "collapsed": false
   },
   "outputs": [
    {
     "data": {
      "text/plain": [
       "(1243976, 22)"
      ]
     },
     "execution_count": 1837,
     "metadata": {},
     "output_type": "execute_result"
    }
   ],
   "source": [
    "housing_wifi__uni.shape"
   ]
  },
  {
   "cell_type": "code",
   "execution_count": 1840,
   "metadata": {
    "collapsed": false
   },
   "outputs": [
    {
     "data": {
      "text/plain": [
       "<matplotlib.axes._subplots.AxesSubplot at 0x1a92f92e8>"
      ]
     },
     "execution_count": 1840,
     "metadata": {},
     "output_type": "execute_result"
    },
    {
     "data": {
      "image/png": "[encoded data removed]",
      "text/plain": [
       "<matplotlib.figure.Figure at 0x1a92f9128>"
      ]
     },
     "metadata": {},
     "output_type": "display_data"
    }
   ],
   "source": [
    "housing_wifi__uni[::1000].plot()"
   ]
  },
  {
   "cell_type": "code",
   "execution_count": 1842,
   "metadata": {
    "collapsed": true
   },
   "outputs": [],
   "source": [
    "# Merge Population and median household income Data for blocks groups"
   ]
  },
  {
   "cell_type": "code",
   "execution_count": 1841,
   "metadata": {
    "collapsed": true
   },
   "outputs": [],
   "source": [
    "# genrate bar chart, t-test, and plot median household income vs. bssid/population"
   ]
  },
  {
   "cell_type": "markdown",
   "metadata": {},
   "source": [
    "# Loading Demographic Data - Population, MHI, and Education (if possible)"
   ]
  },
  {
   "cell_type": "markdown",
   "metadata": {},
   "source": [
    "# Income"
   ]
  },
  {
   "cell_type": "code",
   "execution_count": 1042,
   "metadata": {
    "collapsed": true
   },
   "outputs": [],
   "source": [
    "# merge income data"
   ]
  },
  {
   "cell_type": "code",
   "execution_count": 1843,
   "metadata": {
    "collapsed": true
   },
   "outputs": [],
   "source": [
    "census_block_group_income = pd.read_csv(\"../Downloads/data/census_block_group_income.csv\", converters={\"Geo_FIPS\":str})"
   ]
  },
  {
   "cell_type": "code",
   "execution_count": 1844,
   "metadata": {
    "collapsed": true
   },
   "outputs": [],
   "source": [
    "census_block_group_income[\"GEOID\"] = census_block_group_income.Geo_FIPS\n",
    "del census_block_group_income[\"Geo_FIPS\"]\n",
    "census_block_group_income[\"MHI\"] = census_block_group_income.SE_T093_001\n",
    "del census_block_group_income[\"SE_T093_001\"]"
   ]
  },
  {
   "cell_type": "code",
   "execution_count": 1845,
   "metadata": {
    "collapsed": false
   },
   "outputs": [
    {
     "data": {
      "text/html": [
       "<div>\n",
       "<table border=\"1\" class=\"dataframe\">\n",
       "  <thead>\n",
       "    <tr style=\"text-align: right;\">\n",
       "      <th></th>\n",
       "      <th>Geo_NAME</th>\n",
       "      <th>Geo_QName</th>\n",
       "      <th>Geo_AREALAND</th>\n",
       "      <th>Geo_AREAWATR</th>\n",
       "      <th>Geo_SUMLEV</th>\n",
       "      <th>Geo_GEOCOMP</th>\n",
       "      <th>Geo_REGION</th>\n",
       "      <th>Geo_DIVISION</th>\n",
       "      <th>Geo_STATE</th>\n",
       "      <th>Geo_COUNTY</th>\n",
       "      <th>Geo_TRACT</th>\n",
       "      <th>Geo_BLKGRP</th>\n",
       "      <th>GEOID</th>\n",
       "      <th>MHI</th>\n",
       "    </tr>\n",
       "  </thead>\n",
       "  <tbody>\n",
       "    <tr>\n",
       "      <th>0</th>\n",
       "      <td>Block Group 1</td>\n",
       "      <td>Block Group 1, Census Tract 1, Albany County, ...</td>\n",
       "      <td>2005713</td>\n",
       "      <td>235376</td>\n",
       "      <td>150</td>\n",
       "      <td>0</td>\n",
       "      <td>1</td>\n",
       "      <td>2</td>\n",
       "      <td>36</td>\n",
       "      <td>1</td>\n",
       "      <td>100</td>\n",
       "      <td>1</td>\n",
       "      <td>360010001001</td>\n",
       "      <td>24615</td>\n",
       "    </tr>\n",
       "  </tbody>\n",
       "</table>\n",
       "</div>"
      ],
      "text/plain": [
       "        Geo_NAME                                          Geo_QName  \\\n",
       "0  Block Group 1  Block Group 1, Census Tract 1, Albany County, ...   \n",
       "\n",
       "   Geo_AREALAND  Geo_AREAWATR  Geo_SUMLEV  Geo_GEOCOMP  Geo_REGION  \\\n",
       "0       2005713        235376         150            0           1   \n",
       "\n",
       "   Geo_DIVISION  Geo_STATE  Geo_COUNTY  Geo_TRACT  Geo_BLKGRP         GEOID  \\\n",
       "0             2         36           1        100           1  360010001001   \n",
       "\n",
       "     MHI  \n",
       "0  24615  "
      ]
     },
     "execution_count": 1845,
     "metadata": {},
     "output_type": "execute_result"
    }
   ],
   "source": [
    "census_block_group_income.head(1)"
   ]
  },
  {
   "cell_type": "code",
   "execution_count": 1847,
   "metadata": {
    "collapsed": false
   },
   "outputs": [
    {
     "data": {
      "text/plain": [
       "(15079, 14)"
      ]
     },
     "execution_count": 1847,
     "metadata": {},
     "output_type": "execute_result"
    }
   ],
   "source": [
    "census_block_group_income.shape"
   ]
  },
  {
   "cell_type": "code",
   "execution_count": 1107,
   "metadata": {
    "collapsed": true
   },
   "outputs": [],
   "source": [
    "#census_block_group_income[\"block_group\"], census_block_group_income[\"census_tract\"], \\\n",
    "#census_block_group_income[\"county\"], census_block_group_income[\"state\"] = \\\n",
    "#census_block_group_income.Geo_QName.str.split(',').str"
   ]
  },
  {
   "cell_type": "code",
   "execution_count": 1108,
   "metadata": {
    "collapsed": true
   },
   "outputs": [],
   "source": [
    "#census_block_group_income[\"block_group\"] = census_block_group_income[\"block_group\"].str.split(' ').str[2]\n",
    "#census_block_group_income[\"block_group\"] = "
   ]
  },
  {
   "cell_type": "code",
   "execution_count": 1109,
   "metadata": {
    "collapsed": false
   },
   "outputs": [],
   "source": [
    "#census_block_group_income[\"census_tract\"] = census_block_group_income[\"census_tract\"].str.split(' ').str[3]\n",
    "#census_block_group_income[\"census_tract\"] ="
   ]
  },
  {
   "cell_type": "code",
   "execution_count": 1110,
   "metadata": {
    "collapsed": false
   },
   "outputs": [],
   "source": [
    "#census_block_group_income[census_block_group_income.county.str.contains(\"Richmond County\")]"
   ]
  },
  {
   "cell_type": "code",
   "execution_count": 1848,
   "metadata": {
    "collapsed": false
   },
   "outputs": [
    {
     "data": {
      "text/plain": [
       "dtype('O')"
      ]
     },
     "execution_count": 1848,
     "metadata": {},
     "output_type": "execute_result"
    }
   ],
   "source": [
    "housing_wifi__uni.GEOID.dtype"
   ]
  },
  {
   "cell_type": "code",
   "execution_count": 1849,
   "metadata": {
    "collapsed": false
   },
   "outputs": [
    {
     "data": {
      "text/plain": [
       "dtype('O')"
      ]
     },
     "execution_count": 1849,
     "metadata": {},
     "output_type": "execute_result"
    }
   ],
   "source": [
    "census_block_group_income.GEOID.dtype"
   ]
  },
  {
   "cell_type": "code",
   "execution_count": 1850,
   "metadata": {
    "collapsed": false
   },
   "outputs": [],
   "source": [
    "housing_wifi_uni_by_bl_group = housing_wifi__uni.merge(census_block_group_income, on=\"GEOID\", how=\"inner\")"
   ]
  },
  {
   "cell_type": "code",
   "execution_count": 1851,
   "metadata": {
    "collapsed": false
   },
   "outputs": [
    {
     "data": {
      "text/plain": [
       "(1074051, 35)"
      ]
     },
     "execution_count": 1851,
     "metadata": {},
     "output_type": "execute_result"
    }
   ],
   "source": [
    "housing_wifi_uni_by_bl_group.shape"
   ]
  },
  {
   "cell_type": "code",
   "execution_count": 1852,
   "metadata": {
    "collapsed": false
   },
   "outputs": [
    {
     "data": {
      "text/html": [
       "<div>\n",
       "<table border=\"1\" class=\"dataframe\">\n",
       "  <thead>\n",
       "    <tr style=\"text-align: right;\">\n",
       "      <th></th>\n",
       "      <th>ALAND</th>\n",
       "      <th>AWATER</th>\n",
       "      <th>BLKGRPCE</th>\n",
       "      <th>COUNTYFP</th>\n",
       "      <th>FUNCSTAT</th>\n",
       "      <th>GEOID</th>\n",
       "      <th>INTPTLAT</th>\n",
       "      <th>INTPTLON</th>\n",
       "      <th>MTFCC</th>\n",
       "      <th>NAMELSAD</th>\n",
       "      <th>...</th>\n",
       "      <th>Geo_AREAWATR</th>\n",
       "      <th>Geo_SUMLEV</th>\n",
       "      <th>Geo_GEOCOMP</th>\n",
       "      <th>Geo_REGION</th>\n",
       "      <th>Geo_DIVISION</th>\n",
       "      <th>Geo_STATE</th>\n",
       "      <th>Geo_COUNTY</th>\n",
       "      <th>Geo_TRACT</th>\n",
       "      <th>Geo_BLKGRP</th>\n",
       "      <th>MHI</th>\n",
       "    </tr>\n",
       "  </thead>\n",
       "  <tbody>\n",
       "    <tr>\n",
       "      <th>0</th>\n",
       "      <td>89832</td>\n",
       "      <td>0</td>\n",
       "      <td>1</td>\n",
       "      <td>061</td>\n",
       "      <td>S</td>\n",
       "      <td>360610015011</td>\n",
       "      <td>+40.7107881</td>\n",
       "      <td>-074.0060113</td>\n",
       "      <td>G5030</td>\n",
       "      <td>Block Group 1</td>\n",
       "      <td>...</td>\n",
       "      <td>0</td>\n",
       "      <td>150</td>\n",
       "      <td>0</td>\n",
       "      <td>1</td>\n",
       "      <td>2</td>\n",
       "      <td>36</td>\n",
       "      <td>61</td>\n",
       "      <td>1501</td>\n",
       "      <td>1</td>\n",
       "      <td>37232</td>\n",
       "    </tr>\n",
       "    <tr>\n",
       "      <th>1</th>\n",
       "      <td>89832</td>\n",
       "      <td>0</td>\n",
       "      <td>1</td>\n",
       "      <td>061</td>\n",
       "      <td>S</td>\n",
       "      <td>360610015011</td>\n",
       "      <td>+40.7107881</td>\n",
       "      <td>-074.0060113</td>\n",
       "      <td>G5030</td>\n",
       "      <td>Block Group 1</td>\n",
       "      <td>...</td>\n",
       "      <td>0</td>\n",
       "      <td>150</td>\n",
       "      <td>0</td>\n",
       "      <td>1</td>\n",
       "      <td>2</td>\n",
       "      <td>36</td>\n",
       "      <td>61</td>\n",
       "      <td>1501</td>\n",
       "      <td>1</td>\n",
       "      <td>37232</td>\n",
       "    </tr>\n",
       "    <tr>\n",
       "      <th>2</th>\n",
       "      <td>89832</td>\n",
       "      <td>0</td>\n",
       "      <td>1</td>\n",
       "      <td>061</td>\n",
       "      <td>S</td>\n",
       "      <td>360610015011</td>\n",
       "      <td>+40.7107881</td>\n",
       "      <td>-074.0060113</td>\n",
       "      <td>G5030</td>\n",
       "      <td>Block Group 1</td>\n",
       "      <td>...</td>\n",
       "      <td>0</td>\n",
       "      <td>150</td>\n",
       "      <td>0</td>\n",
       "      <td>1</td>\n",
       "      <td>2</td>\n",
       "      <td>36</td>\n",
       "      <td>61</td>\n",
       "      <td>1501</td>\n",
       "      <td>1</td>\n",
       "      <td>37232</td>\n",
       "    </tr>\n",
       "    <tr>\n",
       "      <th>3</th>\n",
       "      <td>89832</td>\n",
       "      <td>0</td>\n",
       "      <td>1</td>\n",
       "      <td>061</td>\n",
       "      <td>S</td>\n",
       "      <td>360610015011</td>\n",
       "      <td>+40.7107881</td>\n",
       "      <td>-074.0060113</td>\n",
       "      <td>G5030</td>\n",
       "      <td>Block Group 1</td>\n",
       "      <td>...</td>\n",
       "      <td>0</td>\n",
       "      <td>150</td>\n",
       "      <td>0</td>\n",
       "      <td>1</td>\n",
       "      <td>2</td>\n",
       "      <td>36</td>\n",
       "      <td>61</td>\n",
       "      <td>1501</td>\n",
       "      <td>1</td>\n",
       "      <td>37232</td>\n",
       "    </tr>\n",
       "    <tr>\n",
       "      <th>4</th>\n",
       "      <td>89832</td>\n",
       "      <td>0</td>\n",
       "      <td>1</td>\n",
       "      <td>061</td>\n",
       "      <td>S</td>\n",
       "      <td>360610015011</td>\n",
       "      <td>+40.7107881</td>\n",
       "      <td>-074.0060113</td>\n",
       "      <td>G5030</td>\n",
       "      <td>Block Group 1</td>\n",
       "      <td>...</td>\n",
       "      <td>0</td>\n",
       "      <td>150</td>\n",
       "      <td>0</td>\n",
       "      <td>1</td>\n",
       "      <td>2</td>\n",
       "      <td>36</td>\n",
       "      <td>61</td>\n",
       "      <td>1501</td>\n",
       "      <td>1</td>\n",
       "      <td>37232</td>\n",
       "    </tr>\n",
       "  </tbody>\n",
       "</table>\n",
       "<p>5 rows × 35 columns</p>\n",
       "</div>"
      ],
      "text/plain": [
       "   ALAND  AWATER BLKGRPCE COUNTYFP FUNCSTAT         GEOID     INTPTLAT  \\\n",
       "0  89832       0        1      061        S  360610015011  +40.7107881   \n",
       "1  89832       0        1      061        S  360610015011  +40.7107881   \n",
       "2  89832       0        1      061        S  360610015011  +40.7107881   \n",
       "3  89832       0        1      061        S  360610015011  +40.7107881   \n",
       "4  89832       0        1      061        S  360610015011  +40.7107881   \n",
       "\n",
       "       INTPTLON  MTFCC       NAMELSAD  ...   Geo_AREAWATR Geo_SUMLEV  \\\n",
       "0  -074.0060113  G5030  Block Group 1  ...              0        150   \n",
       "1  -074.0060113  G5030  Block Group 1  ...              0        150   \n",
       "2  -074.0060113  G5030  Block Group 1  ...              0        150   \n",
       "3  -074.0060113  G5030  Block Group 1  ...              0        150   \n",
       "4  -074.0060113  G5030  Block Group 1  ...              0        150   \n",
       "\n",
       "  Geo_GEOCOMP  Geo_REGION  Geo_DIVISION Geo_STATE  Geo_COUNTY  Geo_TRACT  \\\n",
       "0           0           1             2        36          61       1501   \n",
       "1           0           1             2        36          61       1501   \n",
       "2           0           1             2        36          61       1501   \n",
       "3           0           1             2        36          61       1501   \n",
       "4           0           1             2        36          61       1501   \n",
       "\n",
       "   Geo_BLKGRP    MHI  \n",
       "0           1  37232  \n",
       "1           1  37232  \n",
       "2           1  37232  \n",
       "3           1  37232  \n",
       "4           1  37232  \n",
       "\n",
       "[5 rows x 35 columns]"
      ]
     },
     "execution_count": 1852,
     "metadata": {},
     "output_type": "execute_result"
    }
   ],
   "source": [
    "housing_wifi_uni_by_bl_group.head()"
   ]
  },
  {
   "cell_type": "code",
   "execution_count": 1853,
   "metadata": {
    "collapsed": false
   },
   "outputs": [
    {
     "data": {
      "text/plain": [
       "Index(['ALAND', 'AWATER', 'BLKGRPCE', 'COUNTYFP', 'FUNCSTAT', 'GEOID',\n",
       "       'INTPTLAT', 'INTPTLON', 'MTFCC', 'NAMELSAD', 'STATEFP', 'TRACTCE',\n",
       "       'geometry', 'index_right', 'acc', 'bssid', 'lat', 'level', 'lng',\n",
       "       'ssid', 'time', 'uni_bssid_count', 'Geo_NAME', 'Geo_QName',\n",
       "       'Geo_AREALAND', 'Geo_AREAWATR', 'Geo_SUMLEV', 'Geo_GEOCOMP',\n",
       "       'Geo_REGION', 'Geo_DIVISION', 'Geo_STATE', 'Geo_COUNTY', 'Geo_TRACT',\n",
       "       'Geo_BLKGRP', 'MHI'],\n",
       "      dtype='object')"
      ]
     },
     "execution_count": 1853,
     "metadata": {},
     "output_type": "execute_result"
    }
   ],
   "source": [
    "housing_wifi_uni_by_bl_group.columns"
   ]
  },
  {
   "cell_type": "code",
   "execution_count": 1854,
   "metadata": {
    "collapsed": false
   },
   "outputs": [
    {
     "data": {
      "text/plain": [
       "<matplotlib.axes._subplots.AxesSubplot at 0x362b3dda0>"
      ]
     },
     "execution_count": 1854,
     "metadata": {},
     "output_type": "execute_result"
    },
    {
     "data": {
      "image/png": "[encoded data removed]",
      "text/plain": [
       "<matplotlib.figure.Figure at 0x362b3d748>"
      ]
     },
     "metadata": {},
     "output_type": "display_data"
    }
   ],
   "source": [
    "housing_wifi_uni_by_bl_group[::1000].plot()"
   ]
  },
  {
   "cell_type": "markdown",
   "metadata": {},
   "source": [
    "# Population"
   ]
  },
  {
   "cell_type": "code",
   "execution_count": 1855,
   "metadata": {
    "collapsed": true
   },
   "outputs": [],
   "source": [
    "# merge population "
   ]
  },
  {
   "cell_type": "code",
   "execution_count": 1856,
   "metadata": {
    "collapsed": true
   },
   "outputs": [],
   "source": [
    "# Loading population data by block group\n",
    "census_block_group_pop = pd.read_csv(\"../Downloads/data/census_block_group_pop.csv\", converters={\"Geo_FIPS\":str})"
   ]
  },
  {
   "cell_type": "code",
   "execution_count": 1857,
   "metadata": {
    "collapsed": false
   },
   "outputs": [],
   "source": [
    "census_block_group_pop[\"GEOID\"] = census_block_group_pop.Geo_FIPS\n",
    "del census_block_group_pop[\"Geo_FIPS\"]\n",
    "census_block_group_pop[\"Population\"] = census_block_group_pop.SE_T003_002\n",
    "del census_block_group_pop[\"SE_T003_002\"]\n",
    "census_block_group_pop[\"Pop_Density\"] = census_block_group_pop.SE_T003_001\n",
    "del census_block_group_pop[\"SE_T003_001\"]"
   ]
  },
  {
   "cell_type": "code",
   "execution_count": 1858,
   "metadata": {
    "collapsed": false
   },
   "outputs": [
    {
     "data": {
      "text/html": [
       "<div>\n",
       "<table border=\"1\" class=\"dataframe\">\n",
       "  <thead>\n",
       "    <tr style=\"text-align: right;\">\n",
       "      <th></th>\n",
       "      <th>Geo_NAME</th>\n",
       "      <th>Geo_QName</th>\n",
       "      <th>Geo_AREALAND</th>\n",
       "      <th>Geo_AREAWATR</th>\n",
       "      <th>Geo_SUMLEV</th>\n",
       "      <th>Geo_GEOCOMP</th>\n",
       "      <th>Geo_REGION</th>\n",
       "      <th>Geo_DIVISION</th>\n",
       "      <th>Geo_STATE</th>\n",
       "      <th>Geo_COUNTY</th>\n",
       "      <th>Geo_TRACT</th>\n",
       "      <th>Geo_BLKGRP</th>\n",
       "      <th>SE_T003_003</th>\n",
       "      <th>GEOID</th>\n",
       "      <th>Population</th>\n",
       "      <th>Pop_Density</th>\n",
       "    </tr>\n",
       "  </thead>\n",
       "  <tbody>\n",
       "    <tr>\n",
       "      <th>0</th>\n",
       "      <td>Block Group 1</td>\n",
       "      <td>Block Group 1, Census Tract 1, Albany County, ...</td>\n",
       "      <td>2005713</td>\n",
       "      <td>235376</td>\n",
       "      <td>150</td>\n",
       "      <td>0</td>\n",
       "      <td>1</td>\n",
       "      <td>2</td>\n",
       "      <td>36</td>\n",
       "      <td>1</td>\n",
       "      <td>100</td>\n",
       "      <td>1</td>\n",
       "      <td>0.77441</td>\n",
       "      <td>360010001001</td>\n",
       "      <td>1031</td>\n",
       "      <td>1331.336</td>\n",
       "    </tr>\n",
       "  </tbody>\n",
       "</table>\n",
       "</div>"
      ],
      "text/plain": [
       "        Geo_NAME                                          Geo_QName  \\\n",
       "0  Block Group 1  Block Group 1, Census Tract 1, Albany County, ...   \n",
       "\n",
       "   Geo_AREALAND  Geo_AREAWATR  Geo_SUMLEV  Geo_GEOCOMP  Geo_REGION  \\\n",
       "0       2005713        235376         150            0           1   \n",
       "\n",
       "   Geo_DIVISION  Geo_STATE  Geo_COUNTY  Geo_TRACT  Geo_BLKGRP  SE_T003_003  \\\n",
       "0             2         36           1        100           1      0.77441   \n",
       "\n",
       "          GEOID  Population  Pop_Density  \n",
       "0  360010001001        1031     1331.336  "
      ]
     },
     "execution_count": 1858,
     "metadata": {},
     "output_type": "execute_result"
    }
   ],
   "source": [
    "census_block_group_pop.head(1)"
   ]
  },
  {
   "cell_type": "code",
   "execution_count": 1859,
   "metadata": {
    "collapsed": false
   },
   "outputs": [
    {
     "data": {
      "text/plain": [
       "dtype('O')"
      ]
     },
     "execution_count": 1859,
     "metadata": {},
     "output_type": "execute_result"
    }
   ],
   "source": [
    "housing_wifi_uni_by_bl_group.GEOID.dtype"
   ]
  },
  {
   "cell_type": "code",
   "execution_count": 1860,
   "metadata": {
    "collapsed": false
   },
   "outputs": [
    {
     "data": {
      "text/plain": [
       "dtype('O')"
      ]
     },
     "execution_count": 1860,
     "metadata": {},
     "output_type": "execute_result"
    }
   ],
   "source": [
    "census_block_group_pop.GEOID.dtype"
   ]
  },
  {
   "cell_type": "code",
   "execution_count": 1861,
   "metadata": {
    "collapsed": true
   },
   "outputs": [],
   "source": [
    "housing_wifi_uni_by_bl_group_ = housing_wifi_uni_by_bl_group.merge(census_block_group_pop, on=\"GEOID\", how=\"inner\")"
   ]
  },
  {
   "cell_type": "code",
   "execution_count": 1862,
   "metadata": {
    "collapsed": false
   },
   "outputs": [
    {
     "data": {
      "text/plain": [
       "(1074051, 50)"
      ]
     },
     "execution_count": 1862,
     "metadata": {},
     "output_type": "execute_result"
    }
   ],
   "source": [
    "housing_wifi_uni_by_bl_group_.shape"
   ]
  },
  {
   "cell_type": "code",
   "execution_count": 1863,
   "metadata": {
    "collapsed": false
   },
   "outputs": [
    {
     "data": {
      "text/html": [
       "<div>\n",
       "<table border=\"1\" class=\"dataframe\">\n",
       "  <thead>\n",
       "    <tr style=\"text-align: right;\">\n",
       "      <th></th>\n",
       "      <th>ALAND</th>\n",
       "      <th>AWATER</th>\n",
       "      <th>BLKGRPCE</th>\n",
       "      <th>COUNTYFP</th>\n",
       "      <th>FUNCSTAT</th>\n",
       "      <th>GEOID</th>\n",
       "      <th>INTPTLAT</th>\n",
       "      <th>INTPTLON</th>\n",
       "      <th>MTFCC</th>\n",
       "      <th>NAMELSAD</th>\n",
       "      <th>...</th>\n",
       "      <th>Geo_GEOCOMP_y</th>\n",
       "      <th>Geo_REGION_y</th>\n",
       "      <th>Geo_DIVISION_y</th>\n",
       "      <th>Geo_STATE_y</th>\n",
       "      <th>Geo_COUNTY_y</th>\n",
       "      <th>Geo_TRACT_y</th>\n",
       "      <th>Geo_BLKGRP_y</th>\n",
       "      <th>SE_T003_003</th>\n",
       "      <th>Population</th>\n",
       "      <th>Pop_Density</th>\n",
       "    </tr>\n",
       "  </thead>\n",
       "  <tbody>\n",
       "    <tr>\n",
       "      <th>0</th>\n",
       "      <td>89832</td>\n",
       "      <td>0</td>\n",
       "      <td>1</td>\n",
       "      <td>061</td>\n",
       "      <td>S</td>\n",
       "      <td>360610015011</td>\n",
       "      <td>+40.7107881</td>\n",
       "      <td>-074.0060113</td>\n",
       "      <td>G5030</td>\n",
       "      <td>Block Group 1</td>\n",
       "      <td>...</td>\n",
       "      <td>0</td>\n",
       "      <td>1</td>\n",
       "      <td>2</td>\n",
       "      <td>36</td>\n",
       "      <td>61</td>\n",
       "      <td>1501</td>\n",
       "      <td>1</td>\n",
       "      <td>0.040587</td>\n",
       "      <td>3552</td>\n",
       "      <td>87515.58</td>\n",
       "    </tr>\n",
       "  </tbody>\n",
       "</table>\n",
       "<p>1 rows × 50 columns</p>\n",
       "</div>"
      ],
      "text/plain": [
       "   ALAND  AWATER BLKGRPCE COUNTYFP FUNCSTAT         GEOID     INTPTLAT  \\\n",
       "0  89832       0        1      061        S  360610015011  +40.7107881   \n",
       "\n",
       "       INTPTLON  MTFCC       NAMELSAD     ...     Geo_GEOCOMP_y Geo_REGION_y  \\\n",
       "0  -074.0060113  G5030  Block Group 1     ...                 0            1   \n",
       "\n",
       "  Geo_DIVISION_y  Geo_STATE_y  Geo_COUNTY_y Geo_TRACT_y  Geo_BLKGRP_y  \\\n",
       "0              2           36            61        1501             1   \n",
       "\n",
       "   SE_T003_003  Population Pop_Density  \n",
       "0     0.040587        3552    87515.58  \n",
       "\n",
       "[1 rows x 50 columns]"
      ]
     },
     "execution_count": 1863,
     "metadata": {},
     "output_type": "execute_result"
    }
   ],
   "source": [
    "housing_wifi_uni_by_bl_group_.head(1)"
   ]
  },
  {
   "cell_type": "code",
   "execution_count": 1864,
   "metadata": {
    "collapsed": false
   },
   "outputs": [
    {
     "data": {
      "text/plain": [
       "Index(['ALAND', 'AWATER', 'BLKGRPCE', 'COUNTYFP', 'FUNCSTAT', 'GEOID',\n",
       "       'INTPTLAT', 'INTPTLON', 'MTFCC', 'NAMELSAD', 'STATEFP', 'TRACTCE',\n",
       "       'geometry', 'index_right', 'acc', 'bssid', 'lat', 'level', 'lng',\n",
       "       'ssid', 'time', 'uni_bssid_count', 'Geo_NAME_x', 'Geo_QName_x',\n",
       "       'Geo_AREALAND_x', 'Geo_AREAWATR_x', 'Geo_SUMLEV_x', 'Geo_GEOCOMP_x',\n",
       "       'Geo_REGION_x', 'Geo_DIVISION_x', 'Geo_STATE_x', 'Geo_COUNTY_x',\n",
       "       'Geo_TRACT_x', 'Geo_BLKGRP_x', 'MHI', 'Geo_NAME_y', 'Geo_QName_y',\n",
       "       'Geo_AREALAND_y', 'Geo_AREAWATR_y', 'Geo_SUMLEV_y', 'Geo_GEOCOMP_y',\n",
       "       'Geo_REGION_y', 'Geo_DIVISION_y', 'Geo_STATE_y', 'Geo_COUNTY_y',\n",
       "       'Geo_TRACT_y', 'Geo_BLKGRP_y', 'SE_T003_003', 'Population',\n",
       "       'Pop_Density'],\n",
       "      dtype='object')"
      ]
     },
     "execution_count": 1864,
     "metadata": {},
     "output_type": "execute_result"
    }
   ],
   "source": [
    "housing_wifi_uni_by_bl_group_.columns"
   ]
  },
  {
   "cell_type": "code",
   "execution_count": 1865,
   "metadata": {
    "collapsed": false
   },
   "outputs": [
    {
     "data": {
      "text/plain": [
       "<matplotlib.axes._subplots.AxesSubplot at 0x3637f8278>"
      ]
     },
     "execution_count": 1865,
     "metadata": {},
     "output_type": "execute_result"
    },
    {
     "data": {
      "image/png": "[encoded data removed]",
      "text/plain": [
       "<matplotlib.figure.Figure at 0x3637f8b38>"
      ]
     },
     "metadata": {},
     "output_type": "display_data"
    }
   ],
   "source": [
    "housing_wifi_uni_by_bl_group_[::1000].plot()"
   ]
  },
  {
   "cell_type": "markdown",
   "metadata": {},
   "source": [
    "# Education"
   ]
  },
  {
   "cell_type": "code",
   "execution_count": 1866,
   "metadata": {
    "collapsed": true
   },
   "outputs": [],
   "source": [
    "# merge education"
   ]
  },
  {
   "cell_type": "code",
   "execution_count": 1867,
   "metadata": {
    "collapsed": true
   },
   "outputs": [],
   "source": [
    "# Loading education data by block group\n",
    "census_block_group_edu = pd.read_csv(\"../Downloads/data/education_attainment.csv\", converters={\"Geo_FIPS\":str})"
   ]
  },
  {
   "cell_type": "code",
   "execution_count": 1868,
   "metadata": {
    "collapsed": true
   },
   "outputs": [],
   "source": [
    "census_block_group_edu[\"GEOID\"] = census_block_group_edu.Geo_FIPS\n",
    "del census_block_group_edu[\"Geo_FIPS\"]\n",
    "census_block_group_edu[\"Pop_over_25\"] = census_block_group_edu.SE_T040_001\n",
    "del census_block_group_edu[\"SE_T040_001\"]\n",
    "census_block_group_edu[\"Less_than_HS\"] = census_block_group_edu.SE_T040_002\n",
    "del census_block_group_edu[\"SE_T040_002\"]\n",
    "census_block_group_edu[\"High_School\"] = census_block_group_edu.SE_T040_003\n",
    "del census_block_group_edu[\"SE_T040_003\"]\n",
    "census_block_group_edu[\"Some_College\"] = census_block_group_edu.SE_T040_004\n",
    "del census_block_group_edu[\"SE_T040_004\"]\n",
    "census_block_group_edu[\"Bachelors\"] = census_block_group_edu.SE_T040_005\n",
    "del census_block_group_edu[\"SE_T040_005\"]\n",
    "census_block_group_edu[\"Masters\"] = census_block_group_edu.SE_T040_006\n",
    "del census_block_group_edu[\"SE_T040_006\"]\n",
    "census_block_group_edu[\"Professional_School_Degree\"] = census_block_group_edu.SE_T040_007\n",
    "del census_block_group_edu[\"SE_T040_007\"]\n",
    "census_block_group_edu[\"Doctorate\"] = census_block_group_edu.SE_T040_008\n",
    "del census_block_group_edu[\"SE_T040_008\"]"
   ]
  },
  {
   "cell_type": "code",
   "execution_count": 1869,
   "metadata": {
    "collapsed": false
   },
   "outputs": [
    {
     "data": {
      "text/html": [
       "<div>\n",
       "<table border=\"1\" class=\"dataframe\">\n",
       "  <thead>\n",
       "    <tr style=\"text-align: right;\">\n",
       "      <th></th>\n",
       "      <th>Geo_NAME</th>\n",
       "      <th>Geo_QName</th>\n",
       "      <th>Geo_AREALAND</th>\n",
       "      <th>Geo_AREAWATR</th>\n",
       "      <th>Geo_SUMLEV</th>\n",
       "      <th>Geo_GEOCOMP</th>\n",
       "      <th>Geo_REGION</th>\n",
       "      <th>Geo_DIVISION</th>\n",
       "      <th>Geo_STATE</th>\n",
       "      <th>Geo_COUNTY</th>\n",
       "      <th>...</th>\n",
       "      <th>Geo_BLKGRP</th>\n",
       "      <th>GEOID</th>\n",
       "      <th>Pop_over_25</th>\n",
       "      <th>Less_than_HS</th>\n",
       "      <th>High_School</th>\n",
       "      <th>Some_College</th>\n",
       "      <th>Bachelors</th>\n",
       "      <th>Masters</th>\n",
       "      <th>Professional_School_Degree</th>\n",
       "      <th>Doctorate</th>\n",
       "    </tr>\n",
       "  </thead>\n",
       "  <tbody>\n",
       "    <tr>\n",
       "      <th>0</th>\n",
       "      <td>Block Group 1</td>\n",
       "      <td>Block Group 1, Census Tract 1, Albany County, ...</td>\n",
       "      <td>2005713</td>\n",
       "      <td>235376</td>\n",
       "      <td>150</td>\n",
       "      <td>0</td>\n",
       "      <td>1</td>\n",
       "      <td>2</td>\n",
       "      <td>36</td>\n",
       "      <td>1</td>\n",
       "      <td>...</td>\n",
       "      <td>1</td>\n",
       "      <td>360010001001</td>\n",
       "      <td>685</td>\n",
       "      <td>198</td>\n",
       "      <td>181</td>\n",
       "      <td>222</td>\n",
       "      <td>62</td>\n",
       "      <td>15</td>\n",
       "      <td>7</td>\n",
       "      <td>0</td>\n",
       "    </tr>\n",
       "  </tbody>\n",
       "</table>\n",
       "<p>1 rows × 21 columns</p>\n",
       "</div>"
      ],
      "text/plain": [
       "        Geo_NAME                                          Geo_QName  \\\n",
       "0  Block Group 1  Block Group 1, Census Tract 1, Albany County, ...   \n",
       "\n",
       "   Geo_AREALAND  Geo_AREAWATR  Geo_SUMLEV  Geo_GEOCOMP  Geo_REGION  \\\n",
       "0       2005713        235376         150            0           1   \n",
       "\n",
       "   Geo_DIVISION  Geo_STATE  Geo_COUNTY    ...      Geo_BLKGRP         GEOID  \\\n",
       "0             2         36           1    ...               1  360010001001   \n",
       "\n",
       "  Pop_over_25  Less_than_HS  High_School  Some_College  Bachelors  Masters  \\\n",
       "0         685           198          181           222         62       15   \n",
       "\n",
       "   Professional_School_Degree  Doctorate  \n",
       "0                           7          0  \n",
       "\n",
       "[1 rows x 21 columns]"
      ]
     },
     "execution_count": 1869,
     "metadata": {},
     "output_type": "execute_result"
    }
   ],
   "source": [
    "census_block_group_edu.head(1)"
   ]
  },
  {
   "cell_type": "code",
   "execution_count": 1870,
   "metadata": {
    "collapsed": false
   },
   "outputs": [
    {
     "data": {
      "text/plain": [
       "dtype('O')"
      ]
     },
     "execution_count": 1870,
     "metadata": {},
     "output_type": "execute_result"
    }
   ],
   "source": [
    "housing_wifi_uni_by_bl_group_.GEOID.dtype"
   ]
  },
  {
   "cell_type": "code",
   "execution_count": 1871,
   "metadata": {
    "collapsed": false
   },
   "outputs": [
    {
     "data": {
      "text/plain": [
       "dtype('O')"
      ]
     },
     "execution_count": 1871,
     "metadata": {},
     "output_type": "execute_result"
    }
   ],
   "source": [
    "census_block_group_edu.GEOID.dtype"
   ]
  },
  {
   "cell_type": "code",
   "execution_count": 1872,
   "metadata": {
    "collapsed": true
   },
   "outputs": [],
   "source": [
    "housing_wifi_uni_by_bl_group__ = housing_wifi_uni_by_bl_group_.merge(census_block_group_edu, on=\"GEOID\", how=\"inner\")"
   ]
  },
  {
   "cell_type": "code",
   "execution_count": 1873,
   "metadata": {
    "collapsed": false
   },
   "outputs": [
    {
     "data": {
      "text/plain": [
       "(1074051, 70)"
      ]
     },
     "execution_count": 1873,
     "metadata": {},
     "output_type": "execute_result"
    }
   ],
   "source": [
    "housing_wifi_uni_by_bl_group__.shape"
   ]
  },
  {
   "cell_type": "code",
   "execution_count": 1874,
   "metadata": {
    "collapsed": false
   },
   "outputs": [
    {
     "data": {
      "text/html": [
       "<div>\n",
       "<table border=\"1\" class=\"dataframe\">\n",
       "  <thead>\n",
       "    <tr style=\"text-align: right;\">\n",
       "      <th></th>\n",
       "      <th>ALAND</th>\n",
       "      <th>AWATER</th>\n",
       "      <th>BLKGRPCE</th>\n",
       "      <th>COUNTYFP</th>\n",
       "      <th>FUNCSTAT</th>\n",
       "      <th>GEOID</th>\n",
       "      <th>INTPTLAT</th>\n",
       "      <th>INTPTLON</th>\n",
       "      <th>MTFCC</th>\n",
       "      <th>NAMELSAD</th>\n",
       "      <th>...</th>\n",
       "      <th>Geo_TRACT</th>\n",
       "      <th>Geo_BLKGRP</th>\n",
       "      <th>Pop_over_25</th>\n",
       "      <th>Less_than_HS</th>\n",
       "      <th>High_School</th>\n",
       "      <th>Some_College</th>\n",
       "      <th>Bachelors</th>\n",
       "      <th>Masters</th>\n",
       "      <th>Professional_School_Degree</th>\n",
       "      <th>Doctorate</th>\n",
       "    </tr>\n",
       "  </thead>\n",
       "  <tbody>\n",
       "    <tr>\n",
       "      <th>0</th>\n",
       "      <td>89832</td>\n",
       "      <td>0</td>\n",
       "      <td>1</td>\n",
       "      <td>061</td>\n",
       "      <td>S</td>\n",
       "      <td>360610015011</td>\n",
       "      <td>+40.7107881</td>\n",
       "      <td>-074.0060113</td>\n",
       "      <td>G5030</td>\n",
       "      <td>Block Group 1</td>\n",
       "      <td>...</td>\n",
       "      <td>1501</td>\n",
       "      <td>1</td>\n",
       "      <td>3032</td>\n",
       "      <td>408</td>\n",
       "      <td>709</td>\n",
       "      <td>730</td>\n",
       "      <td>830</td>\n",
       "      <td>238</td>\n",
       "      <td>97</td>\n",
       "      <td>20</td>\n",
       "    </tr>\n",
       "  </tbody>\n",
       "</table>\n",
       "<p>1 rows × 70 columns</p>\n",
       "</div>"
      ],
      "text/plain": [
       "   ALAND  AWATER BLKGRPCE COUNTYFP FUNCSTAT         GEOID     INTPTLAT  \\\n",
       "0  89832       0        1      061        S  360610015011  +40.7107881   \n",
       "\n",
       "       INTPTLON  MTFCC       NAMELSAD    ...    Geo_TRACT Geo_BLKGRP  \\\n",
       "0  -074.0060113  G5030  Block Group 1    ...         1501          1   \n",
       "\n",
       "  Pop_over_25  Less_than_HS  High_School Some_College  Bachelors  Masters  \\\n",
       "0        3032           408          709          730        830      238   \n",
       "\n",
       "   Professional_School_Degree Doctorate  \n",
       "0                          97        20  \n",
       "\n",
       "[1 rows x 70 columns]"
      ]
     },
     "execution_count": 1874,
     "metadata": {},
     "output_type": "execute_result"
    }
   ],
   "source": [
    "housing_wifi_uni_by_bl_group__.head(1)"
   ]
  },
  {
   "cell_type": "code",
   "execution_count": 1876,
   "metadata": {
    "collapsed": false
   },
   "outputs": [
    {
     "data": {
      "text/plain": [
       "Index(['ALAND', 'AWATER', 'BLKGRPCE', 'COUNTYFP', 'FUNCSTAT', 'GEOID',\n",
       "       'INTPTLAT', 'INTPTLON', 'MTFCC', 'NAMELSAD', 'STATEFP', 'TRACTCE',\n",
       "       'geometry', 'index_right', 'acc', 'bssid', 'lat', 'level', 'lng',\n",
       "       'ssid', 'time', 'uni_bssid_count', 'Geo_NAME_x', 'Geo_QName_x',\n",
       "       'Geo_AREALAND_x', 'Geo_AREAWATR_x', 'Geo_SUMLEV_x', 'Geo_GEOCOMP_x',\n",
       "       'Geo_REGION_x', 'Geo_DIVISION_x', 'Geo_STATE_x', 'Geo_COUNTY_x',\n",
       "       'Geo_TRACT_x', 'Geo_BLKGRP_x', 'MHI', 'Geo_NAME_y', 'Geo_QName_y',\n",
       "       'Geo_AREALAND_y', 'Geo_AREAWATR_y', 'Geo_SUMLEV_y', 'Geo_GEOCOMP_y',\n",
       "       'Geo_REGION_y', 'Geo_DIVISION_y', 'Geo_STATE_y', 'Geo_COUNTY_y',\n",
       "       'Geo_TRACT_y', 'Geo_BLKGRP_y', 'SE_T003_003', 'Population',\n",
       "       'Pop_Density', 'Geo_NAME', 'Geo_QName', 'Geo_AREALAND', 'Geo_AREAWATR',\n",
       "       'Geo_SUMLEV', 'Geo_GEOCOMP', 'Geo_REGION', 'Geo_DIVISION', 'Geo_STATE',\n",
       "       'Geo_COUNTY', 'Geo_TRACT', 'Geo_BLKGRP', 'Pop_over_25', 'Less_than_HS',\n",
       "       'High_School', 'Some_College', 'Bachelors', 'Masters',\n",
       "       'Professional_School_Degree', 'Doctorate'],\n",
       "      dtype='object')"
      ]
     },
     "execution_count": 1876,
     "metadata": {},
     "output_type": "execute_result"
    }
   ],
   "source": [
    "housing_wifi_uni_by_bl_group__.columns"
   ]
  },
  {
   "cell_type": "code",
   "execution_count": 1877,
   "metadata": {
    "collapsed": true
   },
   "outputs": [],
   "source": [
    "del housing_wifi_uni_by_bl_group__[\"index_right\"]"
   ]
  },
  {
   "cell_type": "code",
   "execution_count": 1878,
   "metadata": {
    "collapsed": false
   },
   "outputs": [
    {
     "data": {
      "text/plain": [
       "<matplotlib.axes._subplots.AxesSubplot at 0x364570748>"
      ]
     },
     "execution_count": 1878,
     "metadata": {},
     "output_type": "execute_result"
    },
    {
     "data": {
      "image/png": "[encoded data removed]",
      "text/plain": [
       "<matplotlib.figure.Figure at 0x364570d68>"
      ]
     },
     "metadata": {},
     "output_type": "display_data"
    }
   ],
   "source": [
    "housing_wifi_uni_by_bl_group__[::1000].plot()"
   ]
  },
  {
   "cell_type": "markdown",
   "metadata": {},
   "source": [
    "# Loading 10 Areas"
   ]
  },
  {
   "cell_type": "code",
   "execution_count": 1882,
   "metadata": {
    "collapsed": false
   },
   "outputs": [
    {
     "name": "stderr",
     "output_type": "stream",
     "text": [
      "WARNING:Fiona:PROJ data files not located, PROJ_LIB not set\n"
     ]
    }
   ],
   "source": [
    "# loading housing projects areas shapes into geopandas (10)\n",
    "housing_areas_shape = gpd.GeoDataFrame.from_file(\"../Downloads/data/Ranges_new/Ranges.shp\")"
   ]
  },
  {
   "cell_type": "code",
   "execution_count": 1883,
   "metadata": {
    "collapsed": false
   },
   "outputs": [
    {
     "data": {
      "text/html": [
       "<div>\n",
       "<table border=\"1\" class=\"dataframe\">\n",
       "  <thead>\n",
       "    <tr style=\"text-align: right;\">\n",
       "      <th></th>\n",
       "      <th>cartodb_id</th>\n",
       "      <th>descriptio</th>\n",
       "      <th>geometry</th>\n",
       "      <th>name</th>\n",
       "    </tr>\n",
       "  </thead>\n",
       "  <tbody>\n",
       "    <tr>\n",
       "      <th>0</th>\n",
       "      <td>8</td>\n",
       "      <td></td>\n",
       "      <td>POLYGON ((-74.00246859000001 40.6730546, -74.0...</td>\n",
       "      <td>Public_RedHook</td>\n",
       "    </tr>\n",
       "  </tbody>\n",
       "</table>\n",
       "</div>"
      ],
      "text/plain": [
       "   cartodb_id descriptio                                           geometry  \\\n",
       "0           8             POLYGON ((-74.00246859000001 40.6730546, -74.0...   \n",
       "\n",
       "             name  \n",
       "0  Public_RedHook  "
      ]
     },
     "execution_count": 1883,
     "metadata": {},
     "output_type": "execute_result"
    }
   ],
   "source": [
    "housing_areas_shape.head(1)"
   ]
  },
  {
   "cell_type": "code",
   "execution_count": 1884,
   "metadata": {
    "collapsed": false
   },
   "outputs": [
    {
     "data": {
      "text/plain": [
       "<matplotlib.axes._subplots.AxesSubplot at 0x37106f208>"
      ]
     },
     "execution_count": 1884,
     "metadata": {},
     "output_type": "execute_result"
    },
    {
     "data": {
      "image/png": "[encoded data removed]",
      "text/plain": [
       "<matplotlib.figure.Figure at 0x3710d2128>"
      ]
     },
     "metadata": {},
     "output_type": "display_data"
    }
   ],
   "source": [
    "housing_areas_shape.plot()"
   ]
  },
  {
   "cell_type": "code",
   "execution_count": 1885,
   "metadata": {
    "collapsed": false
   },
   "outputs": [],
   "source": [
    "housing_areas_shape.crs = from_epsg(4326)"
   ]
  },
  {
   "cell_type": "code",
   "execution_count": 1886,
   "metadata": {
    "collapsed": false
   },
   "outputs": [],
   "source": [
    "housing_gdf = gpd.sjoin(housing_wifi_uni_by_bl_group__, housing_areas_shape, how=\"inner\", op='within')"
   ]
  },
  {
   "cell_type": "code",
   "execution_count": 1887,
   "metadata": {
    "collapsed": false
   },
   "outputs": [
    {
     "data": {
      "text/plain": [
       "(447385, 73)"
      ]
     },
     "execution_count": 1887,
     "metadata": {},
     "output_type": "execute_result"
    }
   ],
   "source": [
    "# 422365\n",
    "housing_gdf.shape"
   ]
  },
  {
   "cell_type": "code",
   "execution_count": 1889,
   "metadata": {
    "collapsed": false
   },
   "outputs": [
    {
     "data": {
      "text/plain": [
       "<matplotlib.axes._subplots.AxesSubplot at 0x3710f1748>"
      ]
     },
     "execution_count": 1889,
     "metadata": {},
     "output_type": "execute_result"
    },
    {
     "data": {
      "image/png": "[encoded data removed]",
      "text/plain": [
       "<matplotlib.figure.Figure at 0x371139588>"
      ]
     },
     "metadata": {},
     "output_type": "display_data"
    }
   ],
   "source": [
    "housing_gdf[::100].plot()"
   ]
  },
  {
   "cell_type": "code",
   "execution_count": 1890,
   "metadata": {
    "collapsed": false
   },
   "outputs": [
    {
     "data": {
      "text/plain": [
       "Index(['ALAND', 'AWATER', 'BLKGRPCE', 'COUNTYFP', 'FUNCSTAT', 'GEOID',\n",
       "       'INTPTLAT', 'INTPTLON', 'MTFCC', 'NAMELSAD', 'STATEFP', 'TRACTCE',\n",
       "       'geometry', 'acc', 'bssid', 'lat', 'level', 'lng', 'ssid', 'time',\n",
       "       'uni_bssid_count', 'Geo_NAME_x', 'Geo_QName_x', 'Geo_AREALAND_x',\n",
       "       'Geo_AREAWATR_x', 'Geo_SUMLEV_x', 'Geo_GEOCOMP_x', 'Geo_REGION_x',\n",
       "       'Geo_DIVISION_x', 'Geo_STATE_x', 'Geo_COUNTY_x', 'Geo_TRACT_x',\n",
       "       'Geo_BLKGRP_x', 'MHI', 'Geo_NAME_y', 'Geo_QName_y', 'Geo_AREALAND_y',\n",
       "       'Geo_AREAWATR_y', 'Geo_SUMLEV_y', 'Geo_GEOCOMP_y', 'Geo_REGION_y',\n",
       "       'Geo_DIVISION_y', 'Geo_STATE_y', 'Geo_COUNTY_y', 'Geo_TRACT_y',\n",
       "       'Geo_BLKGRP_y', 'SE_T003_003', 'Population', 'Pop_Density', 'Geo_NAME',\n",
       "       'Geo_QName', 'Geo_AREALAND', 'Geo_AREAWATR', 'Geo_SUMLEV',\n",
       "       'Geo_GEOCOMP', 'Geo_REGION', 'Geo_DIVISION', 'Geo_STATE', 'Geo_COUNTY',\n",
       "       'Geo_TRACT', 'Geo_BLKGRP', 'Pop_over_25', 'Less_than_HS', 'High_School',\n",
       "       'Some_College', 'Bachelors', 'Masters', 'Professional_School_Degree',\n",
       "       'Doctorate', 'index_right', 'cartodb_id', 'descriptio', 'name'],\n",
       "      dtype='object')"
      ]
     },
     "execution_count": 1890,
     "metadata": {},
     "output_type": "execute_result"
    }
   ],
   "source": [
    "housing_gdf.columns"
   ]
  },
  {
   "cell_type": "code",
   "execution_count": 1891,
   "metadata": {
    "collapsed": false
   },
   "outputs": [
    {
     "data": {
      "text/html": [
       "<div>\n",
       "<table border=\"1\" class=\"dataframe\">\n",
       "  <thead>\n",
       "    <tr style=\"text-align: right;\">\n",
       "      <th></th>\n",
       "      <th>Areas</th>\n",
       "    </tr>\n",
       "  </thead>\n",
       "  <tbody>\n",
       "    <tr>\n",
       "      <th>0</th>\n",
       "      <td>Public_RedHook</td>\n",
       "    </tr>\n",
       "    <tr>\n",
       "      <th>1</th>\n",
       "      <td>Non_Public_RedHook</td>\n",
       "    </tr>\n",
       "    <tr>\n",
       "      <th>2</th>\n",
       "      <td>Public_Whitman</td>\n",
       "    </tr>\n",
       "    <tr>\n",
       "      <th>3</th>\n",
       "      <td>Public_Gowanus</td>\n",
       "    </tr>\n",
       "    <tr>\n",
       "      <th>4</th>\n",
       "      <td>Public_Chelsea</td>\n",
       "    </tr>\n",
       "    <tr>\n",
       "      <th>5</th>\n",
       "      <td>Non_Public_Tompkins</td>\n",
       "    </tr>\n",
       "    <tr>\n",
       "      <th>6</th>\n",
       "      <td>Non_Public_Gowanus</td>\n",
       "    </tr>\n",
       "    <tr>\n",
       "      <th>7</th>\n",
       "      <td>Public_Tompkins</td>\n",
       "    </tr>\n",
       "    <tr>\n",
       "      <th>8</th>\n",
       "      <td>Non_Public_Chelsea</td>\n",
       "    </tr>\n",
       "    <tr>\n",
       "      <th>9</th>\n",
       "      <td>Non_Public_Whitman</td>\n",
       "    </tr>\n",
       "  </tbody>\n",
       "</table>\n",
       "</div>"
      ],
      "text/plain": [
       "                 Areas\n",
       "0       Public_RedHook\n",
       "1   Non_Public_RedHook\n",
       "2       Public_Whitman\n",
       "3       Public_Gowanus\n",
       "4       Public_Chelsea\n",
       "5  Non_Public_Tompkins\n",
       "6   Non_Public_Gowanus\n",
       "7      Public_Tompkins\n",
       "8   Non_Public_Chelsea\n",
       "9   Non_Public_Whitman"
      ]
     },
     "execution_count": 1891,
     "metadata": {},
     "output_type": "execute_result"
    }
   ],
   "source": [
    "pd.DataFrame(housing_gdf.name.unique(), columns=[\"Areas\"])"
   ]
  },
  {
   "cell_type": "code",
   "execution_count": 1892,
   "metadata": {
    "collapsed": false
   },
   "outputs": [
    {
     "data": {
      "text/html": [
       "<div>\n",
       "<table border=\"1\" class=\"dataframe\">\n",
       "  <thead>\n",
       "    <tr style=\"text-align: right;\">\n",
       "      <th></th>\n",
       "      <th>ALAND</th>\n",
       "      <th>AWATER</th>\n",
       "      <th>BLKGRPCE</th>\n",
       "      <th>COUNTYFP</th>\n",
       "      <th>FUNCSTAT</th>\n",
       "      <th>GEOID</th>\n",
       "      <th>INTPTLAT</th>\n",
       "      <th>INTPTLON</th>\n",
       "      <th>MTFCC</th>\n",
       "      <th>NAMELSAD</th>\n",
       "      <th>...</th>\n",
       "      <th>High_School</th>\n",
       "      <th>Some_College</th>\n",
       "      <th>Bachelors</th>\n",
       "      <th>Masters</th>\n",
       "      <th>Professional_School_Degree</th>\n",
       "      <th>Doctorate</th>\n",
       "      <th>index_right</th>\n",
       "      <th>cartodb_id</th>\n",
       "      <th>descriptio</th>\n",
       "      <th>name</th>\n",
       "    </tr>\n",
       "  </thead>\n",
       "  <tbody>\n",
       "    <tr>\n",
       "      <th>947524</th>\n",
       "      <td>114476</td>\n",
       "      <td>0</td>\n",
       "      <td>1</td>\n",
       "      <td>047</td>\n",
       "      <td>S</td>\n",
       "      <td>360470085001</td>\n",
       "      <td>+40.6766988</td>\n",
       "      <td>-074.0086120</td>\n",
       "      <td>G5030</td>\n",
       "      <td>Block Group 1</td>\n",
       "      <td>...</td>\n",
       "      <td>947</td>\n",
       "      <td>649</td>\n",
       "      <td>79</td>\n",
       "      <td>50</td>\n",
       "      <td>0</td>\n",
       "      <td>0</td>\n",
       "      <td>0</td>\n",
       "      <td>8</td>\n",
       "      <td></td>\n",
       "      <td>Public_RedHook</td>\n",
       "    </tr>\n",
       "    <tr>\n",
       "      <th>947525</th>\n",
       "      <td>114476</td>\n",
       "      <td>0</td>\n",
       "      <td>1</td>\n",
       "      <td>047</td>\n",
       "      <td>S</td>\n",
       "      <td>360470085001</td>\n",
       "      <td>+40.6766988</td>\n",
       "      <td>-074.0086120</td>\n",
       "      <td>G5030</td>\n",
       "      <td>Block Group 1</td>\n",
       "      <td>...</td>\n",
       "      <td>947</td>\n",
       "      <td>649</td>\n",
       "      <td>79</td>\n",
       "      <td>50</td>\n",
       "      <td>0</td>\n",
       "      <td>0</td>\n",
       "      <td>0</td>\n",
       "      <td>8</td>\n",
       "      <td></td>\n",
       "      <td>Public_RedHook</td>\n",
       "    </tr>\n",
       "    <tr>\n",
       "      <th>947526</th>\n",
       "      <td>114476</td>\n",
       "      <td>0</td>\n",
       "      <td>1</td>\n",
       "      <td>047</td>\n",
       "      <td>S</td>\n",
       "      <td>360470085001</td>\n",
       "      <td>+40.6766988</td>\n",
       "      <td>-074.0086120</td>\n",
       "      <td>G5030</td>\n",
       "      <td>Block Group 1</td>\n",
       "      <td>...</td>\n",
       "      <td>947</td>\n",
       "      <td>649</td>\n",
       "      <td>79</td>\n",
       "      <td>50</td>\n",
       "      <td>0</td>\n",
       "      <td>0</td>\n",
       "      <td>0</td>\n",
       "      <td>8</td>\n",
       "      <td></td>\n",
       "      <td>Public_RedHook</td>\n",
       "    </tr>\n",
       "    <tr>\n",
       "      <th>947527</th>\n",
       "      <td>114476</td>\n",
       "      <td>0</td>\n",
       "      <td>1</td>\n",
       "      <td>047</td>\n",
       "      <td>S</td>\n",
       "      <td>360470085001</td>\n",
       "      <td>+40.6766988</td>\n",
       "      <td>-074.0086120</td>\n",
       "      <td>G5030</td>\n",
       "      <td>Block Group 1</td>\n",
       "      <td>...</td>\n",
       "      <td>947</td>\n",
       "      <td>649</td>\n",
       "      <td>79</td>\n",
       "      <td>50</td>\n",
       "      <td>0</td>\n",
       "      <td>0</td>\n",
       "      <td>0</td>\n",
       "      <td>8</td>\n",
       "      <td></td>\n",
       "      <td>Public_RedHook</td>\n",
       "    </tr>\n",
       "    <tr>\n",
       "      <th>947528</th>\n",
       "      <td>114476</td>\n",
       "      <td>0</td>\n",
       "      <td>1</td>\n",
       "      <td>047</td>\n",
       "      <td>S</td>\n",
       "      <td>360470085001</td>\n",
       "      <td>+40.6766988</td>\n",
       "      <td>-074.0086120</td>\n",
       "      <td>G5030</td>\n",
       "      <td>Block Group 1</td>\n",
       "      <td>...</td>\n",
       "      <td>947</td>\n",
       "      <td>649</td>\n",
       "      <td>79</td>\n",
       "      <td>50</td>\n",
       "      <td>0</td>\n",
       "      <td>0</td>\n",
       "      <td>0</td>\n",
       "      <td>8</td>\n",
       "      <td></td>\n",
       "      <td>Public_RedHook</td>\n",
       "    </tr>\n",
       "  </tbody>\n",
       "</table>\n",
       "<p>5 rows × 73 columns</p>\n",
       "</div>"
      ],
      "text/plain": [
       "         ALAND  AWATER BLKGRPCE COUNTYFP FUNCSTAT         GEOID     INTPTLAT  \\\n",
       "947524  114476       0        1      047        S  360470085001  +40.6766988   \n",
       "947525  114476       0        1      047        S  360470085001  +40.6766988   \n",
       "947526  114476       0        1      047        S  360470085001  +40.6766988   \n",
       "947527  114476       0        1      047        S  360470085001  +40.6766988   \n",
       "947528  114476       0        1      047        S  360470085001  +40.6766988   \n",
       "\n",
       "            INTPTLON  MTFCC       NAMELSAD       ...       High_School  \\\n",
       "947524  -074.0086120  G5030  Block Group 1       ...               947   \n",
       "947525  -074.0086120  G5030  Block Group 1       ...               947   \n",
       "947526  -074.0086120  G5030  Block Group 1       ...               947   \n",
       "947527  -074.0086120  G5030  Block Group 1       ...               947   \n",
       "947528  -074.0086120  G5030  Block Group 1       ...               947   \n",
       "\n",
       "       Some_College Bachelors  Masters Professional_School_Degree  Doctorate  \\\n",
       "947524          649        79       50                          0          0   \n",
       "947525          649        79       50                          0          0   \n",
       "947526          649        79       50                          0          0   \n",
       "947527          649        79       50                          0          0   \n",
       "947528          649        79       50                          0          0   \n",
       "\n",
       "        index_right  cartodb_id descriptio            name  \n",
       "947524            0           8             Public_RedHook  \n",
       "947525            0           8             Public_RedHook  \n",
       "947526            0           8             Public_RedHook  \n",
       "947527            0           8             Public_RedHook  \n",
       "947528            0           8             Public_RedHook  \n",
       "\n",
       "[5 rows x 73 columns]"
      ]
     },
     "execution_count": 1892,
     "metadata": {},
     "output_type": "execute_result"
    }
   ],
   "source": [
    "housing_gdf.head()"
   ]
  },
  {
   "cell_type": "markdown",
   "metadata": {},
   "source": [
    "# Delete This Later..."
   ]
  },
  {
   "cell_type": "code",
   "execution_count": 1909,
   "metadata": {
    "collapsed": false
   },
   "outputs": [],
   "source": [
    "area_populations = housing_gdf.groupby([\"name\"])[\"Population\"].unique()"
   ]
  },
  {
   "cell_type": "code",
   "execution_count": 1910,
   "metadata": {
    "collapsed": false
   },
   "outputs": [],
   "source": [
    "area_populations = pd.DataFrame(area_populations)"
   ]
  },
  {
   "cell_type": "code",
   "execution_count": 1911,
   "metadata": {
    "collapsed": false
   },
   "outputs": [
    {
     "data": {
      "text/html": [
       "<div>\n",
       "<table border=\"1\" class=\"dataframe\">\n",
       "  <thead>\n",
       "    <tr style=\"text-align: right;\">\n",
       "      <th></th>\n",
       "      <th>Population</th>\n",
       "    </tr>\n",
       "    <tr>\n",
       "      <th>name</th>\n",
       "      <th></th>\n",
       "    </tr>\n",
       "  </thead>\n",
       "  <tbody>\n",
       "    <tr>\n",
       "      <th>Non_Public_Chelsea</th>\n",
       "      <td>[1723, 911]</td>\n",
       "    </tr>\n",
       "    <tr>\n",
       "      <th>Non_Public_Gowanus</th>\n",
       "      <td>[848, 733, 825]</td>\n",
       "    </tr>\n",
       "    <tr>\n",
       "      <th>Non_Public_RedHook</th>\n",
       "      <td>[761, 729, 692, 625, 570]</td>\n",
       "    </tr>\n",
       "    <tr>\n",
       "      <th>Non_Public_Tompkins</th>\n",
       "      <td>[1091, 584, 613, 1026, 1131]</td>\n",
       "    </tr>\n",
       "    <tr>\n",
       "      <th>Non_Public_Whitman</th>\n",
       "      <td>[780, 853, 410, 571]</td>\n",
       "    </tr>\n",
       "    <tr>\n",
       "      <th>Public_Chelsea</th>\n",
       "      <td>[1546, 1479, 1260]</td>\n",
       "    </tr>\n",
       "    <tr>\n",
       "      <th>Public_Gowanus</th>\n",
       "      <td>[3221, 957]</td>\n",
       "    </tr>\n",
       "    <tr>\n",
       "      <th>Public_RedHook</th>\n",
       "      <td>[7278]</td>\n",
       "    </tr>\n",
       "    <tr>\n",
       "      <th>Public_Tompkins</th>\n",
       "      <td>[3595, 2921, 1641, 1135, 1305, 1600]</td>\n",
       "    </tr>\n",
       "    <tr>\n",
       "      <th>Public_Whitman</th>\n",
       "      <td>[617, 3683]</td>\n",
       "    </tr>\n",
       "  </tbody>\n",
       "</table>\n",
       "</div>"
      ],
      "text/plain": [
       "                                               Population\n",
       "name                                                     \n",
       "Non_Public_Chelsea                            [1723, 911]\n",
       "Non_Public_Gowanus                        [848, 733, 825]\n",
       "Non_Public_RedHook              [761, 729, 692, 625, 570]\n",
       "Non_Public_Tompkins          [1091, 584, 613, 1026, 1131]\n",
       "Non_Public_Whitman                   [780, 853, 410, 571]\n",
       "Public_Chelsea                         [1546, 1479, 1260]\n",
       "Public_Gowanus                                [3221, 957]\n",
       "Public_RedHook                                     [7278]\n",
       "Public_Tompkins      [3595, 2921, 1641, 1135, 1305, 1600]\n",
       "Public_Whitman                                [617, 3683]"
      ]
     },
     "execution_count": 1911,
     "metadata": {},
     "output_type": "execute_result"
    }
   ],
   "source": [
    "area_populations"
   ]
  },
  {
   "cell_type": "code",
   "execution_count": 1912,
   "metadata": {
    "collapsed": false
   },
   "outputs": [],
   "source": [
    "area_populations[\"Population\"] = list(map(lambda x: x[0].sum(),area_populations.Population))"
   ]
  },
  {
   "cell_type": "code",
   "execution_count": 1913,
   "metadata": {
    "collapsed": false
   },
   "outputs": [
    {
     "data": {
      "text/html": [
       "<div>\n",
       "<table border=\"1\" class=\"dataframe\">\n",
       "  <thead>\n",
       "    <tr style=\"text-align: right;\">\n",
       "      <th></th>\n",
       "      <th>Population</th>\n",
       "    </tr>\n",
       "    <tr>\n",
       "      <th>name</th>\n",
       "      <th></th>\n",
       "    </tr>\n",
       "  </thead>\n",
       "  <tbody>\n",
       "    <tr>\n",
       "      <th>Non_Public_Chelsea</th>\n",
       "      <td>1723</td>\n",
       "    </tr>\n",
       "    <tr>\n",
       "      <th>Non_Public_Gowanus</th>\n",
       "      <td>848</td>\n",
       "    </tr>\n",
       "    <tr>\n",
       "      <th>Non_Public_RedHook</th>\n",
       "      <td>761</td>\n",
       "    </tr>\n",
       "    <tr>\n",
       "      <th>Non_Public_Tompkins</th>\n",
       "      <td>1091</td>\n",
       "    </tr>\n",
       "    <tr>\n",
       "      <th>Non_Public_Whitman</th>\n",
       "      <td>780</td>\n",
       "    </tr>\n",
       "    <tr>\n",
       "      <th>Public_Chelsea</th>\n",
       "      <td>1546</td>\n",
       "    </tr>\n",
       "    <tr>\n",
       "      <th>Public_Gowanus</th>\n",
       "      <td>3221</td>\n",
       "    </tr>\n",
       "    <tr>\n",
       "      <th>Public_RedHook</th>\n",
       "      <td>7278</td>\n",
       "    </tr>\n",
       "    <tr>\n",
       "      <th>Public_Tompkins</th>\n",
       "      <td>3595</td>\n",
       "    </tr>\n",
       "    <tr>\n",
       "      <th>Public_Whitman</th>\n",
       "      <td>617</td>\n",
       "    </tr>\n",
       "  </tbody>\n",
       "</table>\n",
       "</div>"
      ],
      "text/plain": [
       "                     Population\n",
       "name                           \n",
       "Non_Public_Chelsea         1723\n",
       "Non_Public_Gowanus          848\n",
       "Non_Public_RedHook          761\n",
       "Non_Public_Tompkins        1091\n",
       "Non_Public_Whitman          780\n",
       "Public_Chelsea             1546\n",
       "Public_Gowanus             3221\n",
       "Public_RedHook             7278\n",
       "Public_Tompkins            3595\n",
       "Public_Whitman              617"
      ]
     },
     "execution_count": 1913,
     "metadata": {},
     "output_type": "execute_result"
    }
   ],
   "source": [
    "area_populations"
   ]
  },
  {
   "cell_type": "code",
   "execution_count": 1914,
   "metadata": {
    "collapsed": true
   },
   "outputs": [],
   "source": [
    "area_populations[\"name\"] = area_populations.index"
   ]
  },
  {
   "cell_type": "code",
   "execution_count": null,
   "metadata": {
    "collapsed": true
   },
   "outputs": [],
   "source": []
  },
  {
   "cell_type": "code",
   "execution_count": 1915,
   "metadata": {
    "collapsed": true
   },
   "outputs": [],
   "source": [
    "#area_populations = housing_gdf.groupby([\"name\",\"GEOID\"])[\"Population\"].unique()"
   ]
  },
  {
   "cell_type": "code",
   "execution_count": 1916,
   "metadata": {
    "collapsed": false
   },
   "outputs": [
    {
     "data": {
      "text/html": [
       "<div>\n",
       "<table border=\"1\" class=\"dataframe\">\n",
       "  <thead>\n",
       "    <tr style=\"text-align: right;\">\n",
       "      <th></th>\n",
       "      <th>Population</th>\n",
       "      <th>name</th>\n",
       "    </tr>\n",
       "    <tr>\n",
       "      <th>name</th>\n",
       "      <th></th>\n",
       "      <th></th>\n",
       "    </tr>\n",
       "  </thead>\n",
       "  <tbody>\n",
       "    <tr>\n",
       "      <th>Non_Public_Chelsea</th>\n",
       "      <td>1723</td>\n",
       "      <td>Non_Public_Chelsea</td>\n",
       "    </tr>\n",
       "    <tr>\n",
       "      <th>Non_Public_Gowanus</th>\n",
       "      <td>848</td>\n",
       "      <td>Non_Public_Gowanus</td>\n",
       "    </tr>\n",
       "    <tr>\n",
       "      <th>Non_Public_RedHook</th>\n",
       "      <td>761</td>\n",
       "      <td>Non_Public_RedHook</td>\n",
       "    </tr>\n",
       "    <tr>\n",
       "      <th>Non_Public_Tompkins</th>\n",
       "      <td>1091</td>\n",
       "      <td>Non_Public_Tompkins</td>\n",
       "    </tr>\n",
       "    <tr>\n",
       "      <th>Non_Public_Whitman</th>\n",
       "      <td>780</td>\n",
       "      <td>Non_Public_Whitman</td>\n",
       "    </tr>\n",
       "    <tr>\n",
       "      <th>Public_Chelsea</th>\n",
       "      <td>1546</td>\n",
       "      <td>Public_Chelsea</td>\n",
       "    </tr>\n",
       "    <tr>\n",
       "      <th>Public_Gowanus</th>\n",
       "      <td>3221</td>\n",
       "      <td>Public_Gowanus</td>\n",
       "    </tr>\n",
       "    <tr>\n",
       "      <th>Public_RedHook</th>\n",
       "      <td>7278</td>\n",
       "      <td>Public_RedHook</td>\n",
       "    </tr>\n",
       "    <tr>\n",
       "      <th>Public_Tompkins</th>\n",
       "      <td>3595</td>\n",
       "      <td>Public_Tompkins</td>\n",
       "    </tr>\n",
       "    <tr>\n",
       "      <th>Public_Whitman</th>\n",
       "      <td>617</td>\n",
       "      <td>Public_Whitman</td>\n",
       "    </tr>\n",
       "  </tbody>\n",
       "</table>\n",
       "</div>"
      ],
      "text/plain": [
       "                     Population                 name\n",
       "name                                                \n",
       "Non_Public_Chelsea         1723   Non_Public_Chelsea\n",
       "Non_Public_Gowanus          848   Non_Public_Gowanus\n",
       "Non_Public_RedHook          761   Non_Public_RedHook\n",
       "Non_Public_Tompkins        1091  Non_Public_Tompkins\n",
       "Non_Public_Whitman          780   Non_Public_Whitman\n",
       "Public_Chelsea             1546       Public_Chelsea\n",
       "Public_Gowanus             3221       Public_Gowanus\n",
       "Public_RedHook             7278       Public_RedHook\n",
       "Public_Tompkins            3595      Public_Tompkins\n",
       "Public_Whitman              617       Public_Whitman"
      ]
     },
     "execution_count": 1916,
     "metadata": {},
     "output_type": "execute_result"
    }
   ],
   "source": [
    "area_populations"
   ]
  },
  {
   "cell_type": "code",
   "execution_count": 1917,
   "metadata": {
    "collapsed": false
   },
   "outputs": [
    {
     "data": {
      "text/plain": [
       "(10, 2)"
      ]
     },
     "execution_count": 1917,
     "metadata": {},
     "output_type": "execute_result"
    }
   ],
   "source": [
    "area_populations.shape"
   ]
  },
  {
   "cell_type": "code",
   "execution_count": 1918,
   "metadata": {
    "collapsed": false
   },
   "outputs": [
    {
     "data": {
      "text/plain": [
       "Index(['ALAND', 'AWATER', 'BLKGRPCE', 'COUNTYFP', 'FUNCSTAT', 'GEOID',\n",
       "       'INTPTLAT', 'INTPTLON', 'MTFCC', 'NAMELSAD', 'STATEFP', 'TRACTCE',\n",
       "       'geometry', 'acc', 'bssid', 'lat', 'level', 'lng', 'ssid', 'time',\n",
       "       'uni_bssid_count', 'Geo_NAME_x', 'Geo_QName_x', 'Geo_AREALAND_x',\n",
       "       'Geo_AREAWATR_x', 'Geo_SUMLEV_x', 'Geo_GEOCOMP_x', 'Geo_REGION_x',\n",
       "       'Geo_DIVISION_x', 'Geo_STATE_x', 'Geo_COUNTY_x', 'Geo_TRACT_x',\n",
       "       'Geo_BLKGRP_x', 'MHI', 'Geo_NAME_y', 'Geo_QName_y', 'Geo_AREALAND_y',\n",
       "       'Geo_AREAWATR_y', 'Geo_SUMLEV_y', 'Geo_GEOCOMP_y', 'Geo_REGION_y',\n",
       "       'Geo_DIVISION_y', 'Geo_STATE_y', 'Geo_COUNTY_y', 'Geo_TRACT_y',\n",
       "       'Geo_BLKGRP_y', 'SE_T003_003', 'Population', 'Pop_Density', 'Geo_NAME',\n",
       "       'Geo_QName', 'Geo_AREALAND', 'Geo_AREAWATR', 'Geo_SUMLEV',\n",
       "       'Geo_GEOCOMP', 'Geo_REGION', 'Geo_DIVISION', 'Geo_STATE', 'Geo_COUNTY',\n",
       "       'Geo_TRACT', 'Geo_BLKGRP', 'Pop_over_25', 'Less_than_HS', 'High_School',\n",
       "       'Some_College', 'Bachelors', 'Masters', 'Professional_School_Degree',\n",
       "       'Doctorate', 'index_right', 'cartodb_id', 'descriptio', 'name'],\n",
       "      dtype='object')"
      ]
     },
     "execution_count": 1918,
     "metadata": {},
     "output_type": "execute_result"
    }
   ],
   "source": [
    "housing_gdf.columns"
   ]
  },
  {
   "cell_type": "code",
   "execution_count": 1919,
   "metadata": {
    "collapsed": false
   },
   "outputs": [],
   "source": [
    "unique_bssid = housing_gdf.groupby(housing_gdf.name)[\"bssid\"].nunique()"
   ]
  },
  {
   "cell_type": "code",
   "execution_count": 1920,
   "metadata": {
    "collapsed": true
   },
   "outputs": [],
   "source": [
    "df = pd.DataFrame(unique_bssid)"
   ]
  },
  {
   "cell_type": "code",
   "execution_count": 1921,
   "metadata": {
    "collapsed": true
   },
   "outputs": [],
   "source": [
    "df[\"name\"] = df.index"
   ]
  },
  {
   "cell_type": "code",
   "execution_count": 1922,
   "metadata": {
    "collapsed": true
   },
   "outputs": [],
   "source": [
    "df[\"uni_bssid_by_housing_area\"] = df.bssid"
   ]
  },
  {
   "cell_type": "code",
   "execution_count": 1923,
   "metadata": {
    "collapsed": true
   },
   "outputs": [],
   "source": [
    "del df[\"bssid\"]"
   ]
  },
  {
   "cell_type": "code",
   "execution_count": 1924,
   "metadata": {
    "collapsed": false
   },
   "outputs": [
    {
     "data": {
      "text/html": [
       "<div>\n",
       "<table border=\"1\" class=\"dataframe\">\n",
       "  <thead>\n",
       "    <tr style=\"text-align: right;\">\n",
       "      <th></th>\n",
       "      <th>name</th>\n",
       "      <th>uni_bssid_by_housing_area</th>\n",
       "    </tr>\n",
       "    <tr>\n",
       "      <th>name</th>\n",
       "      <th></th>\n",
       "      <th></th>\n",
       "    </tr>\n",
       "  </thead>\n",
       "  <tbody>\n",
       "    <tr>\n",
       "      <th>Non_Public_Chelsea</th>\n",
       "      <td>Non_Public_Chelsea</td>\n",
       "      <td>2172</td>\n",
       "    </tr>\n",
       "    <tr>\n",
       "      <th>Non_Public_Gowanus</th>\n",
       "      <td>Non_Public_Gowanus</td>\n",
       "      <td>1065</td>\n",
       "    </tr>\n",
       "    <tr>\n",
       "      <th>Non_Public_RedHook</th>\n",
       "      <td>Non_Public_RedHook</td>\n",
       "      <td>867</td>\n",
       "    </tr>\n",
       "    <tr>\n",
       "      <th>Non_Public_Tompkins</th>\n",
       "      <td>Non_Public_Tompkins</td>\n",
       "      <td>1515</td>\n",
       "    </tr>\n",
       "    <tr>\n",
       "      <th>Non_Public_Whitman</th>\n",
       "      <td>Non_Public_Whitman</td>\n",
       "      <td>3666</td>\n",
       "    </tr>\n",
       "    <tr>\n",
       "      <th>Public_Chelsea</th>\n",
       "      <td>Public_Chelsea</td>\n",
       "      <td>5774</td>\n",
       "    </tr>\n",
       "    <tr>\n",
       "      <th>Public_Gowanus</th>\n",
       "      <td>Public_Gowanus</td>\n",
       "      <td>1628</td>\n",
       "    </tr>\n",
       "    <tr>\n",
       "      <th>Public_RedHook</th>\n",
       "      <td>Public_RedHook</td>\n",
       "      <td>448</td>\n",
       "    </tr>\n",
       "    <tr>\n",
       "      <th>Public_Tompkins</th>\n",
       "      <td>Public_Tompkins</td>\n",
       "      <td>2235</td>\n",
       "    </tr>\n",
       "    <tr>\n",
       "      <th>Public_Whitman</th>\n",
       "      <td>Public_Whitman</td>\n",
       "      <td>712</td>\n",
       "    </tr>\n",
       "  </tbody>\n",
       "</table>\n",
       "</div>"
      ],
      "text/plain": [
       "                                    name  uni_bssid_by_housing_area\n",
       "name                                                               \n",
       "Non_Public_Chelsea    Non_Public_Chelsea                       2172\n",
       "Non_Public_Gowanus    Non_Public_Gowanus                       1065\n",
       "Non_Public_RedHook    Non_Public_RedHook                        867\n",
       "Non_Public_Tompkins  Non_Public_Tompkins                       1515\n",
       "Non_Public_Whitman    Non_Public_Whitman                       3666\n",
       "Public_Chelsea            Public_Chelsea                       5774\n",
       "Public_Gowanus            Public_Gowanus                       1628\n",
       "Public_RedHook            Public_RedHook                        448\n",
       "Public_Tompkins          Public_Tompkins                       2235\n",
       "Public_Whitman            Public_Whitman                        712"
      ]
     },
     "execution_count": 1924,
     "metadata": {},
     "output_type": "execute_result"
    }
   ],
   "source": [
    "df"
   ]
  },
  {
   "cell_type": "code",
   "execution_count": null,
   "metadata": {
    "collapsed": true
   },
   "outputs": [],
   "source": []
  },
  {
   "cell_type": "code",
   "execution_count": 1932,
   "metadata": {
    "collapsed": false
   },
   "outputs": [],
   "source": [
    "housing_gdf_ = housing_gdf.merge(df, on=\"name\")"
   ]
  },
  {
   "cell_type": "code",
   "execution_count": 1933,
   "metadata": {
    "collapsed": false
   },
   "outputs": [
    {
     "data": {
      "text/plain": [
       "(447385, 74)"
      ]
     },
     "execution_count": 1933,
     "metadata": {},
     "output_type": "execute_result"
    }
   ],
   "source": [
    "housing_gdf_.shape"
   ]
  },
  {
   "cell_type": "code",
   "execution_count": 1934,
   "metadata": {
    "collapsed": false
   },
   "outputs": [
    {
     "data": {
      "text/html": [
       "<div>\n",
       "<table border=\"1\" class=\"dataframe\">\n",
       "  <thead>\n",
       "    <tr style=\"text-align: right;\">\n",
       "      <th></th>\n",
       "      <th>ALAND</th>\n",
       "      <th>AWATER</th>\n",
       "      <th>BLKGRPCE</th>\n",
       "      <th>COUNTYFP</th>\n",
       "      <th>FUNCSTAT</th>\n",
       "      <th>GEOID</th>\n",
       "      <th>INTPTLAT</th>\n",
       "      <th>INTPTLON</th>\n",
       "      <th>MTFCC</th>\n",
       "      <th>NAMELSAD</th>\n",
       "      <th>...</th>\n",
       "      <th>Some_College</th>\n",
       "      <th>Bachelors</th>\n",
       "      <th>Masters</th>\n",
       "      <th>Professional_School_Degree</th>\n",
       "      <th>Doctorate</th>\n",
       "      <th>index_right</th>\n",
       "      <th>cartodb_id</th>\n",
       "      <th>descriptio</th>\n",
       "      <th>name</th>\n",
       "      <th>uni_bssid_by_housing_area</th>\n",
       "    </tr>\n",
       "  </thead>\n",
       "  <tbody>\n",
       "    <tr>\n",
       "      <th>0</th>\n",
       "      <td>114476</td>\n",
       "      <td>0</td>\n",
       "      <td>1</td>\n",
       "      <td>047</td>\n",
       "      <td>S</td>\n",
       "      <td>360470085001</td>\n",
       "      <td>+40.6766988</td>\n",
       "      <td>-074.0086120</td>\n",
       "      <td>G5030</td>\n",
       "      <td>Block Group 1</td>\n",
       "      <td>...</td>\n",
       "      <td>649</td>\n",
       "      <td>79</td>\n",
       "      <td>50</td>\n",
       "      <td>0</td>\n",
       "      <td>0</td>\n",
       "      <td>0</td>\n",
       "      <td>8</td>\n",
       "      <td></td>\n",
       "      <td>Public_RedHook</td>\n",
       "      <td>448</td>\n",
       "    </tr>\n",
       "  </tbody>\n",
       "</table>\n",
       "<p>1 rows × 74 columns</p>\n",
       "</div>"
      ],
      "text/plain": [
       "    ALAND  AWATER BLKGRPCE COUNTYFP FUNCSTAT         GEOID     INTPTLAT  \\\n",
       "0  114476       0        1      047        S  360470085001  +40.6766988   \n",
       "\n",
       "       INTPTLON  MTFCC       NAMELSAD            ...            Some_College  \\\n",
       "0  -074.0086120  G5030  Block Group 1            ...                     649   \n",
       "\n",
       "  Bachelors Masters  Professional_School_Degree Doctorate  index_right  \\\n",
       "0        79      50                           0         0            0   \n",
       "\n",
       "   cartodb_id  descriptio            name uni_bssid_by_housing_area  \n",
       "0           8              Public_RedHook                       448  \n",
       "\n",
       "[1 rows x 74 columns]"
      ]
     },
     "execution_count": 1934,
     "metadata": {},
     "output_type": "execute_result"
    }
   ],
   "source": [
    "housing_gdf_.head(1)"
   ]
  },
  {
   "cell_type": "markdown",
   "metadata": {},
   "source": [
    "# Indentifying Open Networks"
   ]
  },
  {
   "cell_type": "code",
   "execution_count": 537,
   "metadata": {
    "collapsed": false
   },
   "outputs": [],
   "source": [
    "def open_net(x):\n",
    "    x = str(x).lower()\n",
    "    free_wifi_list = [\"flatiron free wifi\",\"flatiron\",\"freewifibysurface\",\"bryantpark.org\",\"bryantpark\",\\\n",
    "                     \"downtownbrooklynwifi_fon\",\"downtownbrooklyn\",\"linknyc free wi-fi\",\"linknyc\",\"metrotech\",\\\n",
    "                     \"usp park wifi\",\"usppark\",\"red hook wifi\",\"redhook\",\"attwifi\",\"guestwifi\",\"guest\",\\\n",
    "                      \"unionsquarewifi\"]\n",
    "    for free_wifi in free_wifi_list:\n",
    "        if x in free_wifi:\n",
    "            return True\n",
    "        else:\n",
    "            return False"
   ]
  },
  {
   "cell_type": "code",
   "execution_count": 1935,
   "metadata": {
    "collapsed": true
   },
   "outputs": [],
   "source": [
    "def open_net(x):\n",
    "    x = str(x)\n",
    "    if \"flatiron free wifi\" in x.lower():\n",
    "        return True\n",
    "    else:\n",
    "        if \"flatiron\" in x.lower():\n",
    "            return True\n",
    "        else:\n",
    "            if \"freewifibysurface\" in x.lower():\n",
    "                return True\n",
    "            else:\n",
    "                if \"bryantpark.org\" in x.lower():\n",
    "                    return True\n",
    "                else:\n",
    "                    if \"bryantpark\" in x.lower():\n",
    "                        return True\n",
    "                    else:\n",
    "                        if \"downtownbrooklynwifi_fon\" in x.lower():\n",
    "                            return True\n",
    "                        else:\n",
    "                            if \"downtownbrooklyn\" in x.lower():\n",
    "                                return True\n",
    "                            else:\n",
    "                                if \"linknyc free wi-fi\" in x.lower():\n",
    "                                    return True\n",
    "                                else:\n",
    "                                    if \"linknyc\" in x.lower():\n",
    "                                        return True\n",
    "                                    else:\n",
    "                                        if \"metrotech\" in x.lower():\n",
    "                                            return True\n",
    "                                        else:\n",
    "                                            if \"usp park wifi\" in x.lower():\n",
    "                                                return True\n",
    "                                            else:\n",
    "                                                if \"usppark\" in x.lower():\n",
    "                                                    return True\n",
    "                                                else: \n",
    "                                                    if \"red hook wifi\" in x.lower():\n",
    "                                                        return True\n",
    "                                                    else:\n",
    "                                                        if \"redhook\" in x.lower():\n",
    "                                                            return True\n",
    "                                                        else:\n",
    "                                                            if \"attwifi\" in x.lower():\n",
    "                                                                return True\n",
    "                                                            else:\n",
    "                                                                if \"guestwifi\" in x.lower():\n",
    "                                                                    return True\n",
    "                                                                else:\n",
    "                                                                    if \"guest\" in x.lower():\n",
    "                                                                        return True\n",
    "                                                                    else:\n",
    "                                                                        if \"unionsquarewifi\" in x.lower():\n",
    "                                                                            return True\n",
    "                                                                        else:\n",
    "                                                                            return False"
   ]
  },
  {
   "cell_type": "code",
   "execution_count": 1936,
   "metadata": {
    "collapsed": false
   },
   "outputs": [
    {
     "data": {
      "text/plain": [
       "True"
      ]
     },
     "execution_count": 1936,
     "metadata": {},
     "output_type": "execute_result"
    }
   ],
   "source": [
    "open_net(\"guest\")"
   ]
  },
  {
   "cell_type": "code",
   "execution_count": 1937,
   "metadata": {
    "collapsed": false
   },
   "outputs": [
    {
     "data": {
      "text/html": [
       "<div>\n",
       "<table border=\"1\" class=\"dataframe\">\n",
       "  <thead>\n",
       "    <tr style=\"text-align: right;\">\n",
       "      <th></th>\n",
       "      <th>ALAND</th>\n",
       "      <th>AWATER</th>\n",
       "      <th>BLKGRPCE</th>\n",
       "      <th>COUNTYFP</th>\n",
       "      <th>FUNCSTAT</th>\n",
       "      <th>GEOID</th>\n",
       "      <th>INTPTLAT</th>\n",
       "      <th>INTPTLON</th>\n",
       "      <th>MTFCC</th>\n",
       "      <th>NAMELSAD</th>\n",
       "      <th>...</th>\n",
       "      <th>Some_College</th>\n",
       "      <th>Bachelors</th>\n",
       "      <th>Masters</th>\n",
       "      <th>Professional_School_Degree</th>\n",
       "      <th>Doctorate</th>\n",
       "      <th>index_right</th>\n",
       "      <th>cartodb_id</th>\n",
       "      <th>descriptio</th>\n",
       "      <th>name</th>\n",
       "      <th>uni_bssid_by_housing_area</th>\n",
       "    </tr>\n",
       "  </thead>\n",
       "  <tbody>\n",
       "    <tr>\n",
       "      <th>0</th>\n",
       "      <td>114476</td>\n",
       "      <td>0</td>\n",
       "      <td>1</td>\n",
       "      <td>047</td>\n",
       "      <td>S</td>\n",
       "      <td>360470085001</td>\n",
       "      <td>+40.6766988</td>\n",
       "      <td>-074.0086120</td>\n",
       "      <td>G5030</td>\n",
       "      <td>Block Group 1</td>\n",
       "      <td>...</td>\n",
       "      <td>649</td>\n",
       "      <td>79</td>\n",
       "      <td>50</td>\n",
       "      <td>0</td>\n",
       "      <td>0</td>\n",
       "      <td>0</td>\n",
       "      <td>8</td>\n",
       "      <td></td>\n",
       "      <td>Public_RedHook</td>\n",
       "      <td>448</td>\n",
       "    </tr>\n",
       "  </tbody>\n",
       "</table>\n",
       "<p>1 rows × 74 columns</p>\n",
       "</div>"
      ],
      "text/plain": [
       "    ALAND  AWATER BLKGRPCE COUNTYFP FUNCSTAT         GEOID     INTPTLAT  \\\n",
       "0  114476       0        1      047        S  360470085001  +40.6766988   \n",
       "\n",
       "       INTPTLON  MTFCC       NAMELSAD            ...            Some_College  \\\n",
       "0  -074.0086120  G5030  Block Group 1            ...                     649   \n",
       "\n",
       "  Bachelors Masters  Professional_School_Degree Doctorate  index_right  \\\n",
       "0        79      50                           0         0            0   \n",
       "\n",
       "   cartodb_id  descriptio            name uni_bssid_by_housing_area  \n",
       "0           8              Public_RedHook                       448  \n",
       "\n",
       "[1 rows x 74 columns]"
      ]
     },
     "execution_count": 1937,
     "metadata": {},
     "output_type": "execute_result"
    }
   ],
   "source": [
    "housing_gdf_.head(1)"
   ]
  },
  {
   "cell_type": "code",
   "execution_count": 1175,
   "metadata": {
    "collapsed": false
   },
   "outputs": [],
   "source": [
    "#del housing_gdf_[\"open_net\"]"
   ]
  },
  {
   "cell_type": "code",
   "execution_count": 1938,
   "metadata": {
    "collapsed": false
   },
   "outputs": [],
   "source": [
    "housing_gdf_[\"open_net\"] = list(map(lambda x: open_net(x), housing_gdf_.ssid))"
   ]
  },
  {
   "cell_type": "code",
   "execution_count": 1939,
   "metadata": {
    "collapsed": false
   },
   "outputs": [
    {
     "data": {
      "text/plain": [
       "count     447385\n",
       "unique         2\n",
       "top        False\n",
       "freq      428733\n",
       "Name: open_net, dtype: object"
      ]
     },
     "execution_count": 1939,
     "metadata": {},
     "output_type": "execute_result"
    }
   ],
   "source": [
    "housing_gdf_[\"open_net\"].describe()"
   ]
  },
  {
   "cell_type": "code",
   "execution_count": 1940,
   "metadata": {
    "collapsed": false,
    "scrolled": false
   },
   "outputs": [],
   "source": [
    "networks = pd.DataFrame(housing_gdf_[\"ssid\"].unique())"
   ]
  },
  {
   "cell_type": "code",
   "execution_count": 1941,
   "metadata": {
    "collapsed": false
   },
   "outputs": [
    {
     "data": {
      "text/plain": [
       "name\n",
       "Non_Public_Chelsea      3462.0\n",
       "Non_Public_Gowanus       798.0\n",
       "Non_Public_RedHook        58.0\n",
       "Non_Public_Tompkins       90.0\n",
       "Non_Public_Whitman      1640.0\n",
       "Public_Chelsea         11629.0\n",
       "Public_Gowanus           520.0\n",
       "Public_RedHook            60.0\n",
       "Public_Tompkins          125.0\n",
       "Public_Whitman           270.0\n",
       "Name: open_net, dtype: float64"
      ]
     },
     "execution_count": 1941,
     "metadata": {},
     "output_type": "execute_result"
    }
   ],
   "source": [
    "housing_gdf_.groupby(housing_gdf_.name)[\"open_net\"].sum()"
   ]
  },
  {
   "cell_type": "code",
   "execution_count": 1942,
   "metadata": {
    "collapsed": true
   },
   "outputs": [],
   "source": [
    "open_vs_non = pd.DataFrame(housing_gdf_.groupby([\"name\"])[\"open_net\"].sum())"
   ]
  },
  {
   "cell_type": "code",
   "execution_count": 1943,
   "metadata": {
    "collapsed": false
   },
   "outputs": [],
   "source": [
    "open_vs_non = pd.DataFrame(housing_gdf_.groupby([\"name\",\"bssid\"])[\"open_net\"].sum())"
   ]
  },
  {
   "cell_type": "code",
   "execution_count": 1944,
   "metadata": {
    "collapsed": false
   },
   "outputs": [
    {
     "data": {
      "text/html": [
       "<div>\n",
       "<table border=\"1\" class=\"dataframe\">\n",
       "  <thead>\n",
       "    <tr style=\"text-align: right;\">\n",
       "      <th></th>\n",
       "      <th></th>\n",
       "      <th>open_net</th>\n",
       "    </tr>\n",
       "    <tr>\n",
       "      <th>name</th>\n",
       "      <th>bssid</th>\n",
       "      <th></th>\n",
       "    </tr>\n",
       "  </thead>\n",
       "  <tbody>\n",
       "    <tr>\n",
       "      <th rowspan=\"30\" valign=\"top\">Non_Public_Chelsea</th>\n",
       "      <th>00:04:96:82:92:00</th>\n",
       "      <td>0.0</td>\n",
       "    </tr>\n",
       "    <tr>\n",
       "      <th>00:04:96:82:9a:41</th>\n",
       "      <td>0.0</td>\n",
       "    </tr>\n",
       "    <tr>\n",
       "      <th>00:04:96:82:ab:31</th>\n",
       "      <td>0.0</td>\n",
       "    </tr>\n",
       "    <tr>\n",
       "      <th>00:04:96:82:c1:c1</th>\n",
       "      <td>0.0</td>\n",
       "    </tr>\n",
       "    <tr>\n",
       "      <th>00:04:96:82:c2:20</th>\n",
       "      <td>0.0</td>\n",
       "    </tr>\n",
       "    <tr>\n",
       "      <th>00:04:96:82:c4:01</th>\n",
       "      <td>0.0</td>\n",
       "    </tr>\n",
       "    <tr>\n",
       "      <th>00:04:96:82:f7:31</th>\n",
       "      <td>0.0</td>\n",
       "    </tr>\n",
       "    <tr>\n",
       "      <th>00:04:96:82:f7:71</th>\n",
       "      <td>0.0</td>\n",
       "    </tr>\n",
       "    <tr>\n",
       "      <th>00:04:96:82:f8:41</th>\n",
       "      <td>0.0</td>\n",
       "    </tr>\n",
       "    <tr>\n",
       "      <th>00:04:96:82:fc:00</th>\n",
       "      <td>0.0</td>\n",
       "    </tr>\n",
       "    <tr>\n",
       "      <th>00:04:96:83:04:d1</th>\n",
       "      <td>0.0</td>\n",
       "    </tr>\n",
       "    <tr>\n",
       "      <th>00:04:96:83:05:81</th>\n",
       "      <td>0.0</td>\n",
       "    </tr>\n",
       "    <tr>\n",
       "      <th>00:04:96:83:06:11</th>\n",
       "      <td>0.0</td>\n",
       "    </tr>\n",
       "    <tr>\n",
       "      <th>00:04:96:83:09:61</th>\n",
       "      <td>0.0</td>\n",
       "    </tr>\n",
       "    <tr>\n",
       "      <th>00:04:96:83:0d:50</th>\n",
       "      <td>0.0</td>\n",
       "    </tr>\n",
       "    <tr>\n",
       "      <th>00:04:96:83:11:e1</th>\n",
       "      <td>0.0</td>\n",
       "    </tr>\n",
       "    <tr>\n",
       "      <th>00:04:96:83:1a:b0</th>\n",
       "      <td>0.0</td>\n",
       "    </tr>\n",
       "    <tr>\n",
       "      <th>00:04:96:83:1b:60</th>\n",
       "      <td>0.0</td>\n",
       "    </tr>\n",
       "    <tr>\n",
       "      <th>00:0c:41:6e:eb:8c</th>\n",
       "      <td>0.0</td>\n",
       "    </tr>\n",
       "    <tr>\n",
       "      <th>00:0d:0b:04:4b:ae</th>\n",
       "      <td>0.0</td>\n",
       "    </tr>\n",
       "    <tr>\n",
       "      <th>00:0e:8e:6d:a3:5a</th>\n",
       "      <td>0.0</td>\n",
       "    </tr>\n",
       "    <tr>\n",
       "      <th>00:0e:8e:7f:82:d5</th>\n",
       "      <td>0.0</td>\n",
       "    </tr>\n",
       "    <tr>\n",
       "      <th>00:0e:8e:7f:82:d6</th>\n",
       "      <td>0.0</td>\n",
       "    </tr>\n",
       "    <tr>\n",
       "      <th>00:0e:8e:7f:86:cf</th>\n",
       "      <td>0.0</td>\n",
       "    </tr>\n",
       "    <tr>\n",
       "      <th>00:0e:8e:7f:87:74</th>\n",
       "      <td>0.0</td>\n",
       "    </tr>\n",
       "    <tr>\n",
       "      <th>00:0e:8f:cd:78:4c</th>\n",
       "      <td>0.0</td>\n",
       "    </tr>\n",
       "    <tr>\n",
       "      <th>00:0f:b5:11:02:cd</th>\n",
       "      <td>0.0</td>\n",
       "    </tr>\n",
       "    <tr>\n",
       "      <th>00:11:74:ed:19:80</th>\n",
       "      <td>0.0</td>\n",
       "    </tr>\n",
       "    <tr>\n",
       "      <th>00:11:74:ed:19:81</th>\n",
       "      <td>0.0</td>\n",
       "    </tr>\n",
       "    <tr>\n",
       "      <th>00:11:74:ed:19:90</th>\n",
       "      <td>0.0</td>\n",
       "    </tr>\n",
       "    <tr>\n",
       "      <th>...</th>\n",
       "      <th>...</th>\n",
       "      <td>...</td>\n",
       "    </tr>\n",
       "    <tr>\n",
       "      <th rowspan=\"30\" valign=\"top\">Public_Whitman</th>\n",
       "      <th>ec:1a:59:24:e6:bc</th>\n",
       "      <td>0.0</td>\n",
       "    </tr>\n",
       "    <tr>\n",
       "      <th>f0:92:1c:d9:86:65</th>\n",
       "      <td>0.0</td>\n",
       "    </tr>\n",
       "    <tr>\n",
       "      <th>f6:27:2d:a1:87:4b</th>\n",
       "      <td>0.0</td>\n",
       "    </tr>\n",
       "    <tr>\n",
       "      <th>f8:e4:fb:cb:ac:73</th>\n",
       "      <td>0.0</td>\n",
       "    </tr>\n",
       "    <tr>\n",
       "      <th>f8:e7:1e:a7:6e:97</th>\n",
       "      <td>0.0</td>\n",
       "    </tr>\n",
       "    <tr>\n",
       "      <th>f8:e7:1e:a7:70:c7</th>\n",
       "      <td>0.0</td>\n",
       "    </tr>\n",
       "    <tr>\n",
       "      <th>f8:e7:1e:a7:79:d7</th>\n",
       "      <td>0.0</td>\n",
       "    </tr>\n",
       "    <tr>\n",
       "      <th>f8:e7:1e:a7:7f:27</th>\n",
       "      <td>0.0</td>\n",
       "    </tr>\n",
       "    <tr>\n",
       "      <th>f8:e7:1e:a7:84:27</th>\n",
       "      <td>0.0</td>\n",
       "    </tr>\n",
       "    <tr>\n",
       "      <th>fa:04:2e:c9:35:f0</th>\n",
       "      <td>0.0</td>\n",
       "    </tr>\n",
       "    <tr>\n",
       "      <th>fa:8f:ca:3a:16:4e</th>\n",
       "      <td>0.0</td>\n",
       "    </tr>\n",
       "    <tr>\n",
       "      <th>fa:8f:ca:58:a0:bb</th>\n",
       "      <td>0.0</td>\n",
       "    </tr>\n",
       "    <tr>\n",
       "      <th>fa:8f:ca:62:b2:9a</th>\n",
       "      <td>0.0</td>\n",
       "    </tr>\n",
       "    <tr>\n",
       "      <th>fa:8f:ca:67:60:94</th>\n",
       "      <td>0.0</td>\n",
       "    </tr>\n",
       "    <tr>\n",
       "      <th>fa:8f:ca:6c:8e:7f</th>\n",
       "      <td>0.0</td>\n",
       "    </tr>\n",
       "    <tr>\n",
       "      <th>fa:8f:ca:8b:51:56</th>\n",
       "      <td>0.0</td>\n",
       "    </tr>\n",
       "    <tr>\n",
       "      <th>fa:8f:ca:98:e0:4b</th>\n",
       "      <td>0.0</td>\n",
       "    </tr>\n",
       "    <tr>\n",
       "      <th>fc:15:b4:6b:e8:8f</th>\n",
       "      <td>0.0</td>\n",
       "    </tr>\n",
       "    <tr>\n",
       "      <th>fc:52:8d:03:89:8d</th>\n",
       "      <td>0.0</td>\n",
       "    </tr>\n",
       "    <tr>\n",
       "      <th>fc:52:8d:03:89:8e</th>\n",
       "      <td>0.0</td>\n",
       "    </tr>\n",
       "    <tr>\n",
       "      <th>fc:52:8d:03:98:5a</th>\n",
       "      <td>0.0</td>\n",
       "    </tr>\n",
       "    <tr>\n",
       "      <th>fc:52:8d:03:98:5b</th>\n",
       "      <td>0.0</td>\n",
       "    </tr>\n",
       "    <tr>\n",
       "      <th>fc:52:8d:42:f3:1a</th>\n",
       "      <td>0.0</td>\n",
       "    </tr>\n",
       "    <tr>\n",
       "      <th>fc:52:8d:42:f3:1b</th>\n",
       "      <td>0.0</td>\n",
       "    </tr>\n",
       "    <tr>\n",
       "      <th>fc:52:8d:44:45:7b</th>\n",
       "      <td>0.0</td>\n",
       "    </tr>\n",
       "    <tr>\n",
       "      <th>fc:52:8d:44:45:7c</th>\n",
       "      <td>0.0</td>\n",
       "    </tr>\n",
       "    <tr>\n",
       "      <th>fc:52:8d:50:32:7f</th>\n",
       "      <td>0.0</td>\n",
       "    </tr>\n",
       "    <tr>\n",
       "      <th>fe:a6:67:79:67:17</th>\n",
       "      <td>0.0</td>\n",
       "    </tr>\n",
       "    <tr>\n",
       "      <th>fe:a6:67:bf:43:ab</th>\n",
       "      <td>0.0</td>\n",
       "    </tr>\n",
       "    <tr>\n",
       "      <th>fe:a6:67:c8:c3:c5</th>\n",
       "      <td>0.0</td>\n",
       "    </tr>\n",
       "  </tbody>\n",
       "</table>\n",
       "<p>20082 rows × 1 columns</p>\n",
       "</div>"
      ],
      "text/plain": [
       "                                      open_net\n",
       "name               bssid                      \n",
       "Non_Public_Chelsea 00:04:96:82:92:00       0.0\n",
       "                   00:04:96:82:9a:41       0.0\n",
       "                   00:04:96:82:ab:31       0.0\n",
       "                   00:04:96:82:c1:c1       0.0\n",
       "                   00:04:96:82:c2:20       0.0\n",
       "                   00:04:96:82:c4:01       0.0\n",
       "                   00:04:96:82:f7:31       0.0\n",
       "                   00:04:96:82:f7:71       0.0\n",
       "                   00:04:96:82:f8:41       0.0\n",
       "                   00:04:96:82:fc:00       0.0\n",
       "                   00:04:96:83:04:d1       0.0\n",
       "                   00:04:96:83:05:81       0.0\n",
       "                   00:04:96:83:06:11       0.0\n",
       "                   00:04:96:83:09:61       0.0\n",
       "                   00:04:96:83:0d:50       0.0\n",
       "                   00:04:96:83:11:e1       0.0\n",
       "                   00:04:96:83:1a:b0       0.0\n",
       "                   00:04:96:83:1b:60       0.0\n",
       "                   00:0c:41:6e:eb:8c       0.0\n",
       "                   00:0d:0b:04:4b:ae       0.0\n",
       "                   00:0e:8e:6d:a3:5a       0.0\n",
       "                   00:0e:8e:7f:82:d5       0.0\n",
       "                   00:0e:8e:7f:82:d6       0.0\n",
       "                   00:0e:8e:7f:86:cf       0.0\n",
       "                   00:0e:8e:7f:87:74       0.0\n",
       "                   00:0e:8f:cd:78:4c       0.0\n",
       "                   00:0f:b5:11:02:cd       0.0\n",
       "                   00:11:74:ed:19:80       0.0\n",
       "                   00:11:74:ed:19:81       0.0\n",
       "                   00:11:74:ed:19:90       0.0\n",
       "...                                        ...\n",
       "Public_Whitman     ec:1a:59:24:e6:bc       0.0\n",
       "                   f0:92:1c:d9:86:65       0.0\n",
       "                   f6:27:2d:a1:87:4b       0.0\n",
       "                   f8:e4:fb:cb:ac:73       0.0\n",
       "                   f8:e7:1e:a7:6e:97       0.0\n",
       "                   f8:e7:1e:a7:70:c7       0.0\n",
       "                   f8:e7:1e:a7:79:d7       0.0\n",
       "                   f8:e7:1e:a7:7f:27       0.0\n",
       "                   f8:e7:1e:a7:84:27       0.0\n",
       "                   fa:04:2e:c9:35:f0       0.0\n",
       "                   fa:8f:ca:3a:16:4e       0.0\n",
       "                   fa:8f:ca:58:a0:bb       0.0\n",
       "                   fa:8f:ca:62:b2:9a       0.0\n",
       "                   fa:8f:ca:67:60:94       0.0\n",
       "                   fa:8f:ca:6c:8e:7f       0.0\n",
       "                   fa:8f:ca:8b:51:56       0.0\n",
       "                   fa:8f:ca:98:e0:4b       0.0\n",
       "                   fc:15:b4:6b:e8:8f       0.0\n",
       "                   fc:52:8d:03:89:8d       0.0\n",
       "                   fc:52:8d:03:89:8e       0.0\n",
       "                   fc:52:8d:03:98:5a       0.0\n",
       "                   fc:52:8d:03:98:5b       0.0\n",
       "                   fc:52:8d:42:f3:1a       0.0\n",
       "                   fc:52:8d:42:f3:1b       0.0\n",
       "                   fc:52:8d:44:45:7b       0.0\n",
       "                   fc:52:8d:44:45:7c       0.0\n",
       "                   fc:52:8d:50:32:7f       0.0\n",
       "                   fe:a6:67:79:67:17       0.0\n",
       "                   fe:a6:67:bf:43:ab       0.0\n",
       "                   fe:a6:67:c8:c3:c5       0.0\n",
       "\n",
       "[20082 rows x 1 columns]"
      ]
     },
     "execution_count": 1944,
     "metadata": {},
     "output_type": "execute_result"
    }
   ],
   "source": [
    "open_vs_non"
   ]
  },
  {
   "cell_type": "code",
   "execution_count": 1945,
   "metadata": {
    "collapsed": false
   },
   "outputs": [],
   "source": [
    "open_vs_non[\"open_net_counts\"] = list(map(lambda x: x > 0, open_vs_non.open_net))\n",
    "open_vs_non[\"non_open_net_counts\"] = list(map(lambda x: x == 0, open_vs_non.open_net))"
   ]
  },
  {
   "cell_type": "code",
   "execution_count": 1946,
   "metadata": {
    "collapsed": false
   },
   "outputs": [],
   "source": [
    "open_vs_non[\"name\"] = list(map(lambda x: list(x),open_vs_non.index))\n",
    "open_vs_non[\"name\"] = list(map(lambda x: x[0][:], open_vs_non[\"name\"]))"
   ]
  },
  {
   "cell_type": "code",
   "execution_count": 1947,
   "metadata": {
    "collapsed": false
   },
   "outputs": [
    {
     "data": {
      "text/html": [
       "<div>\n",
       "<table border=\"1\" class=\"dataframe\">\n",
       "  <thead>\n",
       "    <tr style=\"text-align: right;\">\n",
       "      <th></th>\n",
       "      <th></th>\n",
       "      <th>open_net</th>\n",
       "      <th>open_net_counts</th>\n",
       "      <th>non_open_net_counts</th>\n",
       "      <th>name</th>\n",
       "    </tr>\n",
       "    <tr>\n",
       "      <th>name</th>\n",
       "      <th>bssid</th>\n",
       "      <th></th>\n",
       "      <th></th>\n",
       "      <th></th>\n",
       "      <th></th>\n",
       "    </tr>\n",
       "  </thead>\n",
       "  <tbody>\n",
       "    <tr>\n",
       "      <th rowspan=\"30\" valign=\"top\">Non_Public_Chelsea</th>\n",
       "      <th>00:04:96:82:92:00</th>\n",
       "      <td>0.0</td>\n",
       "      <td>False</td>\n",
       "      <td>True</td>\n",
       "      <td>Non_Public_Chelsea</td>\n",
       "    </tr>\n",
       "    <tr>\n",
       "      <th>00:04:96:82:9a:41</th>\n",
       "      <td>0.0</td>\n",
       "      <td>False</td>\n",
       "      <td>True</td>\n",
       "      <td>Non_Public_Chelsea</td>\n",
       "    </tr>\n",
       "    <tr>\n",
       "      <th>00:04:96:82:ab:31</th>\n",
       "      <td>0.0</td>\n",
       "      <td>False</td>\n",
       "      <td>True</td>\n",
       "      <td>Non_Public_Chelsea</td>\n",
       "    </tr>\n",
       "    <tr>\n",
       "      <th>00:04:96:82:c1:c1</th>\n",
       "      <td>0.0</td>\n",
       "      <td>False</td>\n",
       "      <td>True</td>\n",
       "      <td>Non_Public_Chelsea</td>\n",
       "    </tr>\n",
       "    <tr>\n",
       "      <th>00:04:96:82:c2:20</th>\n",
       "      <td>0.0</td>\n",
       "      <td>False</td>\n",
       "      <td>True</td>\n",
       "      <td>Non_Public_Chelsea</td>\n",
       "    </tr>\n",
       "    <tr>\n",
       "      <th>00:04:96:82:c4:01</th>\n",
       "      <td>0.0</td>\n",
       "      <td>False</td>\n",
       "      <td>True</td>\n",
       "      <td>Non_Public_Chelsea</td>\n",
       "    </tr>\n",
       "    <tr>\n",
       "      <th>00:04:96:82:f7:31</th>\n",
       "      <td>0.0</td>\n",
       "      <td>False</td>\n",
       "      <td>True</td>\n",
       "      <td>Non_Public_Chelsea</td>\n",
       "    </tr>\n",
       "    <tr>\n",
       "      <th>00:04:96:82:f7:71</th>\n",
       "      <td>0.0</td>\n",
       "      <td>False</td>\n",
       "      <td>True</td>\n",
       "      <td>Non_Public_Chelsea</td>\n",
       "    </tr>\n",
       "    <tr>\n",
       "      <th>00:04:96:82:f8:41</th>\n",
       "      <td>0.0</td>\n",
       "      <td>False</td>\n",
       "      <td>True</td>\n",
       "      <td>Non_Public_Chelsea</td>\n",
       "    </tr>\n",
       "    <tr>\n",
       "      <th>00:04:96:82:fc:00</th>\n",
       "      <td>0.0</td>\n",
       "      <td>False</td>\n",
       "      <td>True</td>\n",
       "      <td>Non_Public_Chelsea</td>\n",
       "    </tr>\n",
       "    <tr>\n",
       "      <th>00:04:96:83:04:d1</th>\n",
       "      <td>0.0</td>\n",
       "      <td>False</td>\n",
       "      <td>True</td>\n",
       "      <td>Non_Public_Chelsea</td>\n",
       "    </tr>\n",
       "    <tr>\n",
       "      <th>00:04:96:83:05:81</th>\n",
       "      <td>0.0</td>\n",
       "      <td>False</td>\n",
       "      <td>True</td>\n",
       "      <td>Non_Public_Chelsea</td>\n",
       "    </tr>\n",
       "    <tr>\n",
       "      <th>00:04:96:83:06:11</th>\n",
       "      <td>0.0</td>\n",
       "      <td>False</td>\n",
       "      <td>True</td>\n",
       "      <td>Non_Public_Chelsea</td>\n",
       "    </tr>\n",
       "    <tr>\n",
       "      <th>00:04:96:83:09:61</th>\n",
       "      <td>0.0</td>\n",
       "      <td>False</td>\n",
       "      <td>True</td>\n",
       "      <td>Non_Public_Chelsea</td>\n",
       "    </tr>\n",
       "    <tr>\n",
       "      <th>00:04:96:83:0d:50</th>\n",
       "      <td>0.0</td>\n",
       "      <td>False</td>\n",
       "      <td>True</td>\n",
       "      <td>Non_Public_Chelsea</td>\n",
       "    </tr>\n",
       "    <tr>\n",
       "      <th>00:04:96:83:11:e1</th>\n",
       "      <td>0.0</td>\n",
       "      <td>False</td>\n",
       "      <td>True</td>\n",
       "      <td>Non_Public_Chelsea</td>\n",
       "    </tr>\n",
       "    <tr>\n",
       "      <th>00:04:96:83:1a:b0</th>\n",
       "      <td>0.0</td>\n",
       "      <td>False</td>\n",
       "      <td>True</td>\n",
       "      <td>Non_Public_Chelsea</td>\n",
       "    </tr>\n",
       "    <tr>\n",
       "      <th>00:04:96:83:1b:60</th>\n",
       "      <td>0.0</td>\n",
       "      <td>False</td>\n",
       "      <td>True</td>\n",
       "      <td>Non_Public_Chelsea</td>\n",
       "    </tr>\n",
       "    <tr>\n",
       "      <th>00:0c:41:6e:eb:8c</th>\n",
       "      <td>0.0</td>\n",
       "      <td>False</td>\n",
       "      <td>True</td>\n",
       "      <td>Non_Public_Chelsea</td>\n",
       "    </tr>\n",
       "    <tr>\n",
       "      <th>00:0d:0b:04:4b:ae</th>\n",
       "      <td>0.0</td>\n",
       "      <td>False</td>\n",
       "      <td>True</td>\n",
       "      <td>Non_Public_Chelsea</td>\n",
       "    </tr>\n",
       "    <tr>\n",
       "      <th>00:0e:8e:6d:a3:5a</th>\n",
       "      <td>0.0</td>\n",
       "      <td>False</td>\n",
       "      <td>True</td>\n",
       "      <td>Non_Public_Chelsea</td>\n",
       "    </tr>\n",
       "    <tr>\n",
       "      <th>00:0e:8e:7f:82:d5</th>\n",
       "      <td>0.0</td>\n",
       "      <td>False</td>\n",
       "      <td>True</td>\n",
       "      <td>Non_Public_Chelsea</td>\n",
       "    </tr>\n",
       "    <tr>\n",
       "      <th>00:0e:8e:7f:82:d6</th>\n",
       "      <td>0.0</td>\n",
       "      <td>False</td>\n",
       "      <td>True</td>\n",
       "      <td>Non_Public_Chelsea</td>\n",
       "    </tr>\n",
       "    <tr>\n",
       "      <th>00:0e:8e:7f:86:cf</th>\n",
       "      <td>0.0</td>\n",
       "      <td>False</td>\n",
       "      <td>True</td>\n",
       "      <td>Non_Public_Chelsea</td>\n",
       "    </tr>\n",
       "    <tr>\n",
       "      <th>00:0e:8e:7f:87:74</th>\n",
       "      <td>0.0</td>\n",
       "      <td>False</td>\n",
       "      <td>True</td>\n",
       "      <td>Non_Public_Chelsea</td>\n",
       "    </tr>\n",
       "    <tr>\n",
       "      <th>00:0e:8f:cd:78:4c</th>\n",
       "      <td>0.0</td>\n",
       "      <td>False</td>\n",
       "      <td>True</td>\n",
       "      <td>Non_Public_Chelsea</td>\n",
       "    </tr>\n",
       "    <tr>\n",
       "      <th>00:0f:b5:11:02:cd</th>\n",
       "      <td>0.0</td>\n",
       "      <td>False</td>\n",
       "      <td>True</td>\n",
       "      <td>Non_Public_Chelsea</td>\n",
       "    </tr>\n",
       "    <tr>\n",
       "      <th>00:11:74:ed:19:80</th>\n",
       "      <td>0.0</td>\n",
       "      <td>False</td>\n",
       "      <td>True</td>\n",
       "      <td>Non_Public_Chelsea</td>\n",
       "    </tr>\n",
       "    <tr>\n",
       "      <th>00:11:74:ed:19:81</th>\n",
       "      <td>0.0</td>\n",
       "      <td>False</td>\n",
       "      <td>True</td>\n",
       "      <td>Non_Public_Chelsea</td>\n",
       "    </tr>\n",
       "    <tr>\n",
       "      <th>00:11:74:ed:19:90</th>\n",
       "      <td>0.0</td>\n",
       "      <td>False</td>\n",
       "      <td>True</td>\n",
       "      <td>Non_Public_Chelsea</td>\n",
       "    </tr>\n",
       "    <tr>\n",
       "      <th>...</th>\n",
       "      <th>...</th>\n",
       "      <td>...</td>\n",
       "      <td>...</td>\n",
       "      <td>...</td>\n",
       "      <td>...</td>\n",
       "    </tr>\n",
       "    <tr>\n",
       "      <th rowspan=\"30\" valign=\"top\">Public_Whitman</th>\n",
       "      <th>ec:1a:59:24:e6:bc</th>\n",
       "      <td>0.0</td>\n",
       "      <td>False</td>\n",
       "      <td>True</td>\n",
       "      <td>Public_Whitman</td>\n",
       "    </tr>\n",
       "    <tr>\n",
       "      <th>f0:92:1c:d9:86:65</th>\n",
       "      <td>0.0</td>\n",
       "      <td>False</td>\n",
       "      <td>True</td>\n",
       "      <td>Public_Whitman</td>\n",
       "    </tr>\n",
       "    <tr>\n",
       "      <th>f6:27:2d:a1:87:4b</th>\n",
       "      <td>0.0</td>\n",
       "      <td>False</td>\n",
       "      <td>True</td>\n",
       "      <td>Public_Whitman</td>\n",
       "    </tr>\n",
       "    <tr>\n",
       "      <th>f8:e4:fb:cb:ac:73</th>\n",
       "      <td>0.0</td>\n",
       "      <td>False</td>\n",
       "      <td>True</td>\n",
       "      <td>Public_Whitman</td>\n",
       "    </tr>\n",
       "    <tr>\n",
       "      <th>f8:e7:1e:a7:6e:97</th>\n",
       "      <td>0.0</td>\n",
       "      <td>False</td>\n",
       "      <td>True</td>\n",
       "      <td>Public_Whitman</td>\n",
       "    </tr>\n",
       "    <tr>\n",
       "      <th>f8:e7:1e:a7:70:c7</th>\n",
       "      <td>0.0</td>\n",
       "      <td>False</td>\n",
       "      <td>True</td>\n",
       "      <td>Public_Whitman</td>\n",
       "    </tr>\n",
       "    <tr>\n",
       "      <th>f8:e7:1e:a7:79:d7</th>\n",
       "      <td>0.0</td>\n",
       "      <td>False</td>\n",
       "      <td>True</td>\n",
       "      <td>Public_Whitman</td>\n",
       "    </tr>\n",
       "    <tr>\n",
       "      <th>f8:e7:1e:a7:7f:27</th>\n",
       "      <td>0.0</td>\n",
       "      <td>False</td>\n",
       "      <td>True</td>\n",
       "      <td>Public_Whitman</td>\n",
       "    </tr>\n",
       "    <tr>\n",
       "      <th>f8:e7:1e:a7:84:27</th>\n",
       "      <td>0.0</td>\n",
       "      <td>False</td>\n",
       "      <td>True</td>\n",
       "      <td>Public_Whitman</td>\n",
       "    </tr>\n",
       "    <tr>\n",
       "      <th>fa:04:2e:c9:35:f0</th>\n",
       "      <td>0.0</td>\n",
       "      <td>False</td>\n",
       "      <td>True</td>\n",
       "      <td>Public_Whitman</td>\n",
       "    </tr>\n",
       "    <tr>\n",
       "      <th>fa:8f:ca:3a:16:4e</th>\n",
       "      <td>0.0</td>\n",
       "      <td>False</td>\n",
       "      <td>True</td>\n",
       "      <td>Public_Whitman</td>\n",
       "    </tr>\n",
       "    <tr>\n",
       "      <th>fa:8f:ca:58:a0:bb</th>\n",
       "      <td>0.0</td>\n",
       "      <td>False</td>\n",
       "      <td>True</td>\n",
       "      <td>Public_Whitman</td>\n",
       "    </tr>\n",
       "    <tr>\n",
       "      <th>fa:8f:ca:62:b2:9a</th>\n",
       "      <td>0.0</td>\n",
       "      <td>False</td>\n",
       "      <td>True</td>\n",
       "      <td>Public_Whitman</td>\n",
       "    </tr>\n",
       "    <tr>\n",
       "      <th>fa:8f:ca:67:60:94</th>\n",
       "      <td>0.0</td>\n",
       "      <td>False</td>\n",
       "      <td>True</td>\n",
       "      <td>Public_Whitman</td>\n",
       "    </tr>\n",
       "    <tr>\n",
       "      <th>fa:8f:ca:6c:8e:7f</th>\n",
       "      <td>0.0</td>\n",
       "      <td>False</td>\n",
       "      <td>True</td>\n",
       "      <td>Public_Whitman</td>\n",
       "    </tr>\n",
       "    <tr>\n",
       "      <th>fa:8f:ca:8b:51:56</th>\n",
       "      <td>0.0</td>\n",
       "      <td>False</td>\n",
       "      <td>True</td>\n",
       "      <td>Public_Whitman</td>\n",
       "    </tr>\n",
       "    <tr>\n",
       "      <th>fa:8f:ca:98:e0:4b</th>\n",
       "      <td>0.0</td>\n",
       "      <td>False</td>\n",
       "      <td>True</td>\n",
       "      <td>Public_Whitman</td>\n",
       "    </tr>\n",
       "    <tr>\n",
       "      <th>fc:15:b4:6b:e8:8f</th>\n",
       "      <td>0.0</td>\n",
       "      <td>False</td>\n",
       "      <td>True</td>\n",
       "      <td>Public_Whitman</td>\n",
       "    </tr>\n",
       "    <tr>\n",
       "      <th>fc:52:8d:03:89:8d</th>\n",
       "      <td>0.0</td>\n",
       "      <td>False</td>\n",
       "      <td>True</td>\n",
       "      <td>Public_Whitman</td>\n",
       "    </tr>\n",
       "    <tr>\n",
       "      <th>fc:52:8d:03:89:8e</th>\n",
       "      <td>0.0</td>\n",
       "      <td>False</td>\n",
       "      <td>True</td>\n",
       "      <td>Public_Whitman</td>\n",
       "    </tr>\n",
       "    <tr>\n",
       "      <th>fc:52:8d:03:98:5a</th>\n",
       "      <td>0.0</td>\n",
       "      <td>False</td>\n",
       "      <td>True</td>\n",
       "      <td>Public_Whitman</td>\n",
       "    </tr>\n",
       "    <tr>\n",
       "      <th>fc:52:8d:03:98:5b</th>\n",
       "      <td>0.0</td>\n",
       "      <td>False</td>\n",
       "      <td>True</td>\n",
       "      <td>Public_Whitman</td>\n",
       "    </tr>\n",
       "    <tr>\n",
       "      <th>fc:52:8d:42:f3:1a</th>\n",
       "      <td>0.0</td>\n",
       "      <td>False</td>\n",
       "      <td>True</td>\n",
       "      <td>Public_Whitman</td>\n",
       "    </tr>\n",
       "    <tr>\n",
       "      <th>fc:52:8d:42:f3:1b</th>\n",
       "      <td>0.0</td>\n",
       "      <td>False</td>\n",
       "      <td>True</td>\n",
       "      <td>Public_Whitman</td>\n",
       "    </tr>\n",
       "    <tr>\n",
       "      <th>fc:52:8d:44:45:7b</th>\n",
       "      <td>0.0</td>\n",
       "      <td>False</td>\n",
       "      <td>True</td>\n",
       "      <td>Public_Whitman</td>\n",
       "    </tr>\n",
       "    <tr>\n",
       "      <th>fc:52:8d:44:45:7c</th>\n",
       "      <td>0.0</td>\n",
       "      <td>False</td>\n",
       "      <td>True</td>\n",
       "      <td>Public_Whitman</td>\n",
       "    </tr>\n",
       "    <tr>\n",
       "      <th>fc:52:8d:50:32:7f</th>\n",
       "      <td>0.0</td>\n",
       "      <td>False</td>\n",
       "      <td>True</td>\n",
       "      <td>Public_Whitman</td>\n",
       "    </tr>\n",
       "    <tr>\n",
       "      <th>fe:a6:67:79:67:17</th>\n",
       "      <td>0.0</td>\n",
       "      <td>False</td>\n",
       "      <td>True</td>\n",
       "      <td>Public_Whitman</td>\n",
       "    </tr>\n",
       "    <tr>\n",
       "      <th>fe:a6:67:bf:43:ab</th>\n",
       "      <td>0.0</td>\n",
       "      <td>False</td>\n",
       "      <td>True</td>\n",
       "      <td>Public_Whitman</td>\n",
       "    </tr>\n",
       "    <tr>\n",
       "      <th>fe:a6:67:c8:c3:c5</th>\n",
       "      <td>0.0</td>\n",
       "      <td>False</td>\n",
       "      <td>True</td>\n",
       "      <td>Public_Whitman</td>\n",
       "    </tr>\n",
       "  </tbody>\n",
       "</table>\n",
       "<p>20082 rows × 4 columns</p>\n",
       "</div>"
      ],
      "text/plain": [
       "                                      open_net open_net_counts  \\\n",
       "name               bssid                                         \n",
       "Non_Public_Chelsea 00:04:96:82:92:00       0.0           False   \n",
       "                   00:04:96:82:9a:41       0.0           False   \n",
       "                   00:04:96:82:ab:31       0.0           False   \n",
       "                   00:04:96:82:c1:c1       0.0           False   \n",
       "                   00:04:96:82:c2:20       0.0           False   \n",
       "                   00:04:96:82:c4:01       0.0           False   \n",
       "                   00:04:96:82:f7:31       0.0           False   \n",
       "                   00:04:96:82:f7:71       0.0           False   \n",
       "                   00:04:96:82:f8:41       0.0           False   \n",
       "                   00:04:96:82:fc:00       0.0           False   \n",
       "                   00:04:96:83:04:d1       0.0           False   \n",
       "                   00:04:96:83:05:81       0.0           False   \n",
       "                   00:04:96:83:06:11       0.0           False   \n",
       "                   00:04:96:83:09:61       0.0           False   \n",
       "                   00:04:96:83:0d:50       0.0           False   \n",
       "                   00:04:96:83:11:e1       0.0           False   \n",
       "                   00:04:96:83:1a:b0       0.0           False   \n",
       "                   00:04:96:83:1b:60       0.0           False   \n",
       "                   00:0c:41:6e:eb:8c       0.0           False   \n",
       "                   00:0d:0b:04:4b:ae       0.0           False   \n",
       "                   00:0e:8e:6d:a3:5a       0.0           False   \n",
       "                   00:0e:8e:7f:82:d5       0.0           False   \n",
       "                   00:0e:8e:7f:82:d6       0.0           False   \n",
       "                   00:0e:8e:7f:86:cf       0.0           False   \n",
       "                   00:0e:8e:7f:87:74       0.0           False   \n",
       "                   00:0e:8f:cd:78:4c       0.0           False   \n",
       "                   00:0f:b5:11:02:cd       0.0           False   \n",
       "                   00:11:74:ed:19:80       0.0           False   \n",
       "                   00:11:74:ed:19:81       0.0           False   \n",
       "                   00:11:74:ed:19:90       0.0           False   \n",
       "...                                        ...             ...   \n",
       "Public_Whitman     ec:1a:59:24:e6:bc       0.0           False   \n",
       "                   f0:92:1c:d9:86:65       0.0           False   \n",
       "                   f6:27:2d:a1:87:4b       0.0           False   \n",
       "                   f8:e4:fb:cb:ac:73       0.0           False   \n",
       "                   f8:e7:1e:a7:6e:97       0.0           False   \n",
       "                   f8:e7:1e:a7:70:c7       0.0           False   \n",
       "                   f8:e7:1e:a7:79:d7       0.0           False   \n",
       "                   f8:e7:1e:a7:7f:27       0.0           False   \n",
       "                   f8:e7:1e:a7:84:27       0.0           False   \n",
       "                   fa:04:2e:c9:35:f0       0.0           False   \n",
       "                   fa:8f:ca:3a:16:4e       0.0           False   \n",
       "                   fa:8f:ca:58:a0:bb       0.0           False   \n",
       "                   fa:8f:ca:62:b2:9a       0.0           False   \n",
       "                   fa:8f:ca:67:60:94       0.0           False   \n",
       "                   fa:8f:ca:6c:8e:7f       0.0           False   \n",
       "                   fa:8f:ca:8b:51:56       0.0           False   \n",
       "                   fa:8f:ca:98:e0:4b       0.0           False   \n",
       "                   fc:15:b4:6b:e8:8f       0.0           False   \n",
       "                   fc:52:8d:03:89:8d       0.0           False   \n",
       "                   fc:52:8d:03:89:8e       0.0           False   \n",
       "                   fc:52:8d:03:98:5a       0.0           False   \n",
       "                   fc:52:8d:03:98:5b       0.0           False   \n",
       "                   fc:52:8d:42:f3:1a       0.0           False   \n",
       "                   fc:52:8d:42:f3:1b       0.0           False   \n",
       "                   fc:52:8d:44:45:7b       0.0           False   \n",
       "                   fc:52:8d:44:45:7c       0.0           False   \n",
       "                   fc:52:8d:50:32:7f       0.0           False   \n",
       "                   fe:a6:67:79:67:17       0.0           False   \n",
       "                   fe:a6:67:bf:43:ab       0.0           False   \n",
       "                   fe:a6:67:c8:c3:c5       0.0           False   \n",
       "\n",
       "                                     non_open_net_counts                name  \n",
       "name               bssid                                                      \n",
       "Non_Public_Chelsea 00:04:96:82:92:00                True  Non_Public_Chelsea  \n",
       "                   00:04:96:82:9a:41                True  Non_Public_Chelsea  \n",
       "                   00:04:96:82:ab:31                True  Non_Public_Chelsea  \n",
       "                   00:04:96:82:c1:c1                True  Non_Public_Chelsea  \n",
       "                   00:04:96:82:c2:20                True  Non_Public_Chelsea  \n",
       "                   00:04:96:82:c4:01                True  Non_Public_Chelsea  \n",
       "                   00:04:96:82:f7:31                True  Non_Public_Chelsea  \n",
       "                   00:04:96:82:f7:71                True  Non_Public_Chelsea  \n",
       "                   00:04:96:82:f8:41                True  Non_Public_Chelsea  \n",
       "                   00:04:96:82:fc:00                True  Non_Public_Chelsea  \n",
       "                   00:04:96:83:04:d1                True  Non_Public_Chelsea  \n",
       "                   00:04:96:83:05:81                True  Non_Public_Chelsea  \n",
       "                   00:04:96:83:06:11                True  Non_Public_Chelsea  \n",
       "                   00:04:96:83:09:61                True  Non_Public_Chelsea  \n",
       "                   00:04:96:83:0d:50                True  Non_Public_Chelsea  \n",
       "                   00:04:96:83:11:e1                True  Non_Public_Chelsea  \n",
       "                   00:04:96:83:1a:b0                True  Non_Public_Chelsea  \n",
       "                   00:04:96:83:1b:60                True  Non_Public_Chelsea  \n",
       "                   00:0c:41:6e:eb:8c                True  Non_Public_Chelsea  \n",
       "                   00:0d:0b:04:4b:ae                True  Non_Public_Chelsea  \n",
       "                   00:0e:8e:6d:a3:5a                True  Non_Public_Chelsea  \n",
       "                   00:0e:8e:7f:82:d5                True  Non_Public_Chelsea  \n",
       "                   00:0e:8e:7f:82:d6                True  Non_Public_Chelsea  \n",
       "                   00:0e:8e:7f:86:cf                True  Non_Public_Chelsea  \n",
       "                   00:0e:8e:7f:87:74                True  Non_Public_Chelsea  \n",
       "                   00:0e:8f:cd:78:4c                True  Non_Public_Chelsea  \n",
       "                   00:0f:b5:11:02:cd                True  Non_Public_Chelsea  \n",
       "                   00:11:74:ed:19:80                True  Non_Public_Chelsea  \n",
       "                   00:11:74:ed:19:81                True  Non_Public_Chelsea  \n",
       "                   00:11:74:ed:19:90                True  Non_Public_Chelsea  \n",
       "...                                                  ...                 ...  \n",
       "Public_Whitman     ec:1a:59:24:e6:bc                True      Public_Whitman  \n",
       "                   f0:92:1c:d9:86:65                True      Public_Whitman  \n",
       "                   f6:27:2d:a1:87:4b                True      Public_Whitman  \n",
       "                   f8:e4:fb:cb:ac:73                True      Public_Whitman  \n",
       "                   f8:e7:1e:a7:6e:97                True      Public_Whitman  \n",
       "                   f8:e7:1e:a7:70:c7                True      Public_Whitman  \n",
       "                   f8:e7:1e:a7:79:d7                True      Public_Whitman  \n",
       "                   f8:e7:1e:a7:7f:27                True      Public_Whitman  \n",
       "                   f8:e7:1e:a7:84:27                True      Public_Whitman  \n",
       "                   fa:04:2e:c9:35:f0                True      Public_Whitman  \n",
       "                   fa:8f:ca:3a:16:4e                True      Public_Whitman  \n",
       "                   fa:8f:ca:58:a0:bb                True      Public_Whitman  \n",
       "                   fa:8f:ca:62:b2:9a                True      Public_Whitman  \n",
       "                   fa:8f:ca:67:60:94                True      Public_Whitman  \n",
       "                   fa:8f:ca:6c:8e:7f                True      Public_Whitman  \n",
       "                   fa:8f:ca:8b:51:56                True      Public_Whitman  \n",
       "                   fa:8f:ca:98:e0:4b                True      Public_Whitman  \n",
       "                   fc:15:b4:6b:e8:8f                True      Public_Whitman  \n",
       "                   fc:52:8d:03:89:8d                True      Public_Whitman  \n",
       "                   fc:52:8d:03:89:8e                True      Public_Whitman  \n",
       "                   fc:52:8d:03:98:5a                True      Public_Whitman  \n",
       "                   fc:52:8d:03:98:5b                True      Public_Whitman  \n",
       "                   fc:52:8d:42:f3:1a                True      Public_Whitman  \n",
       "                   fc:52:8d:42:f3:1b                True      Public_Whitman  \n",
       "                   fc:52:8d:44:45:7b                True      Public_Whitman  \n",
       "                   fc:52:8d:44:45:7c                True      Public_Whitman  \n",
       "                   fc:52:8d:50:32:7f                True      Public_Whitman  \n",
       "                   fe:a6:67:79:67:17                True      Public_Whitman  \n",
       "                   fe:a6:67:bf:43:ab                True      Public_Whitman  \n",
       "                   fe:a6:67:c8:c3:c5                True      Public_Whitman  \n",
       "\n",
       "[20082 rows x 4 columns]"
      ]
     },
     "execution_count": 1947,
     "metadata": {},
     "output_type": "execute_result"
    }
   ],
   "source": [
    "open_vs_non"
   ]
  },
  {
   "cell_type": "code",
   "execution_count": 1948,
   "metadata": {
    "collapsed": false
   },
   "outputs": [],
   "source": [
    "open_vs_non_ = pd.DataFrame(open_vs_non.groupby(open_vs_non.name)[[\"open_net_counts\",\"non_open_net_counts\"]].sum())"
   ]
  },
  {
   "cell_type": "code",
   "execution_count": 1949,
   "metadata": {
    "collapsed": false
   },
   "outputs": [
    {
     "data": {
      "text/html": [
       "<div>\n",
       "<table border=\"1\" class=\"dataframe\">\n",
       "  <thead>\n",
       "    <tr style=\"text-align: right;\">\n",
       "      <th></th>\n",
       "      <th>open_net_counts</th>\n",
       "      <th>non_open_net_counts</th>\n",
       "    </tr>\n",
       "    <tr>\n",
       "      <th>name</th>\n",
       "      <th></th>\n",
       "      <th></th>\n",
       "    </tr>\n",
       "  </thead>\n",
       "  <tbody>\n",
       "    <tr>\n",
       "      <th>Non_Public_Chelsea</th>\n",
       "      <td>129.0</td>\n",
       "      <td>2043.0</td>\n",
       "    </tr>\n",
       "    <tr>\n",
       "      <th>Non_Public_Gowanus</th>\n",
       "      <td>32.0</td>\n",
       "      <td>1033.0</td>\n",
       "    </tr>\n",
       "    <tr>\n",
       "      <th>Non_Public_RedHook</th>\n",
       "      <td>29.0</td>\n",
       "      <td>838.0</td>\n",
       "    </tr>\n",
       "    <tr>\n",
       "      <th>Non_Public_Tompkins</th>\n",
       "      <td>30.0</td>\n",
       "      <td>1485.0</td>\n",
       "    </tr>\n",
       "    <tr>\n",
       "      <th>Non_Public_Whitman</th>\n",
       "      <td>100.0</td>\n",
       "      <td>3566.0</td>\n",
       "    </tr>\n",
       "    <tr>\n",
       "      <th>Public_Chelsea</th>\n",
       "      <td>259.0</td>\n",
       "      <td>5515.0</td>\n",
       "    </tr>\n",
       "    <tr>\n",
       "      <th>Public_Gowanus</th>\n",
       "      <td>14.0</td>\n",
       "      <td>1614.0</td>\n",
       "    </tr>\n",
       "    <tr>\n",
       "      <th>Public_RedHook</th>\n",
       "      <td>15.0</td>\n",
       "      <td>433.0</td>\n",
       "    </tr>\n",
       "    <tr>\n",
       "      <th>Public_Tompkins</th>\n",
       "      <td>37.0</td>\n",
       "      <td>2198.0</td>\n",
       "    </tr>\n",
       "    <tr>\n",
       "      <th>Public_Whitman</th>\n",
       "      <td>42.0</td>\n",
       "      <td>670.0</td>\n",
       "    </tr>\n",
       "  </tbody>\n",
       "</table>\n",
       "</div>"
      ],
      "text/plain": [
       "                     open_net_counts  non_open_net_counts\n",
       "name                                                     \n",
       "Non_Public_Chelsea             129.0               2043.0\n",
       "Non_Public_Gowanus              32.0               1033.0\n",
       "Non_Public_RedHook              29.0                838.0\n",
       "Non_Public_Tompkins             30.0               1485.0\n",
       "Non_Public_Whitman             100.0               3566.0\n",
       "Public_Chelsea                 259.0               5515.0\n",
       "Public_Gowanus                  14.0               1614.0\n",
       "Public_RedHook                  15.0                433.0\n",
       "Public_Tompkins                 37.0               2198.0\n",
       "Public_Whitman                  42.0                670.0"
      ]
     },
     "execution_count": 1949,
     "metadata": {},
     "output_type": "execute_result"
    }
   ],
   "source": [
    "open_vs_non_"
   ]
  },
  {
   "cell_type": "code",
   "execution_count": 1950,
   "metadata": {
    "collapsed": false
   },
   "outputs": [],
   "source": [
    "open_vs_non_[\"name\"] = open_vs_non_.index"
   ]
  },
  {
   "cell_type": "code",
   "execution_count": 1951,
   "metadata": {
    "collapsed": false
   },
   "outputs": [
    {
     "data": {
      "text/html": [
       "<div>\n",
       "<table border=\"1\" class=\"dataframe\">\n",
       "  <thead>\n",
       "    <tr style=\"text-align: right;\">\n",
       "      <th></th>\n",
       "      <th>Population</th>\n",
       "      <th>name</th>\n",
       "    </tr>\n",
       "    <tr>\n",
       "      <th>name</th>\n",
       "      <th></th>\n",
       "      <th></th>\n",
       "    </tr>\n",
       "  </thead>\n",
       "  <tbody>\n",
       "    <tr>\n",
       "      <th>Non_Public_Chelsea</th>\n",
       "      <td>1723</td>\n",
       "      <td>Non_Public_Chelsea</td>\n",
       "    </tr>\n",
       "    <tr>\n",
       "      <th>Non_Public_Gowanus</th>\n",
       "      <td>848</td>\n",
       "      <td>Non_Public_Gowanus</td>\n",
       "    </tr>\n",
       "    <tr>\n",
       "      <th>Non_Public_RedHook</th>\n",
       "      <td>761</td>\n",
       "      <td>Non_Public_RedHook</td>\n",
       "    </tr>\n",
       "    <tr>\n",
       "      <th>Non_Public_Tompkins</th>\n",
       "      <td>1091</td>\n",
       "      <td>Non_Public_Tompkins</td>\n",
       "    </tr>\n",
       "    <tr>\n",
       "      <th>Non_Public_Whitman</th>\n",
       "      <td>780</td>\n",
       "      <td>Non_Public_Whitman</td>\n",
       "    </tr>\n",
       "    <tr>\n",
       "      <th>Public_Chelsea</th>\n",
       "      <td>1546</td>\n",
       "      <td>Public_Chelsea</td>\n",
       "    </tr>\n",
       "    <tr>\n",
       "      <th>Public_Gowanus</th>\n",
       "      <td>3221</td>\n",
       "      <td>Public_Gowanus</td>\n",
       "    </tr>\n",
       "    <tr>\n",
       "      <th>Public_RedHook</th>\n",
       "      <td>7278</td>\n",
       "      <td>Public_RedHook</td>\n",
       "    </tr>\n",
       "    <tr>\n",
       "      <th>Public_Tompkins</th>\n",
       "      <td>3595</td>\n",
       "      <td>Public_Tompkins</td>\n",
       "    </tr>\n",
       "    <tr>\n",
       "      <th>Public_Whitman</th>\n",
       "      <td>617</td>\n",
       "      <td>Public_Whitman</td>\n",
       "    </tr>\n",
       "  </tbody>\n",
       "</table>\n",
       "</div>"
      ],
      "text/plain": [
       "                     Population                 name\n",
       "name                                                \n",
       "Non_Public_Chelsea         1723   Non_Public_Chelsea\n",
       "Non_Public_Gowanus          848   Non_Public_Gowanus\n",
       "Non_Public_RedHook          761   Non_Public_RedHook\n",
       "Non_Public_Tompkins        1091  Non_Public_Tompkins\n",
       "Non_Public_Whitman          780   Non_Public_Whitman\n",
       "Public_Chelsea             1546       Public_Chelsea\n",
       "Public_Gowanus             3221       Public_Gowanus\n",
       "Public_RedHook             7278       Public_RedHook\n",
       "Public_Tompkins            3595      Public_Tompkins\n",
       "Public_Whitman              617       Public_Whitman"
      ]
     },
     "execution_count": 1951,
     "metadata": {},
     "output_type": "execute_result"
    }
   ],
   "source": [
    "#open_vs_non_\n",
    "area_populations"
   ]
  },
  {
   "cell_type": "code",
   "execution_count": 1952,
   "metadata": {
    "collapsed": false
   },
   "outputs": [],
   "source": [
    "housing_gdf_final = housing_gdf_.merge(open_vs_non_, on=\"name\", how=\"inner\")"
   ]
  },
  {
   "cell_type": "code",
   "execution_count": 1953,
   "metadata": {
    "collapsed": false
   },
   "outputs": [
    {
     "data": {
      "text/html": [
       "<div>\n",
       "<table border=\"1\" class=\"dataframe\">\n",
       "  <thead>\n",
       "    <tr style=\"text-align: right;\">\n",
       "      <th></th>\n",
       "      <th>ALAND</th>\n",
       "      <th>AWATER</th>\n",
       "      <th>BLKGRPCE</th>\n",
       "      <th>COUNTYFP</th>\n",
       "      <th>FUNCSTAT</th>\n",
       "      <th>GEOID</th>\n",
       "      <th>INTPTLAT</th>\n",
       "      <th>INTPTLON</th>\n",
       "      <th>MTFCC</th>\n",
       "      <th>NAMELSAD</th>\n",
       "      <th>...</th>\n",
       "      <th>Professional_School_Degree</th>\n",
       "      <th>Doctorate</th>\n",
       "      <th>index_right</th>\n",
       "      <th>cartodb_id</th>\n",
       "      <th>descriptio</th>\n",
       "      <th>name</th>\n",
       "      <th>uni_bssid_by_housing_area</th>\n",
       "      <th>open_net</th>\n",
       "      <th>open_net_counts</th>\n",
       "      <th>non_open_net_counts</th>\n",
       "    </tr>\n",
       "  </thead>\n",
       "  <tbody>\n",
       "    <tr>\n",
       "      <th>0</th>\n",
       "      <td>114476</td>\n",
       "      <td>0</td>\n",
       "      <td>1</td>\n",
       "      <td>047</td>\n",
       "      <td>S</td>\n",
       "      <td>360470085001</td>\n",
       "      <td>+40.6766988</td>\n",
       "      <td>-074.0086120</td>\n",
       "      <td>G5030</td>\n",
       "      <td>Block Group 1</td>\n",
       "      <td>...</td>\n",
       "      <td>0</td>\n",
       "      <td>0</td>\n",
       "      <td>0</td>\n",
       "      <td>8</td>\n",
       "      <td></td>\n",
       "      <td>Public_RedHook</td>\n",
       "      <td>448</td>\n",
       "      <td>False</td>\n",
       "      <td>15.0</td>\n",
       "      <td>433.0</td>\n",
       "    </tr>\n",
       "  </tbody>\n",
       "</table>\n",
       "<p>1 rows × 77 columns</p>\n",
       "</div>"
      ],
      "text/plain": [
       "    ALAND  AWATER BLKGRPCE COUNTYFP FUNCSTAT         GEOID     INTPTLAT  \\\n",
       "0  114476       0        1      047        S  360470085001  +40.6766988   \n",
       "\n",
       "       INTPTLON  MTFCC       NAMELSAD         ...          \\\n",
       "0  -074.0086120  G5030  Block Group 1         ...           \n",
       "\n",
       "  Professional_School_Degree Doctorate index_right  cartodb_id descriptio  \\\n",
       "0                          0         0           0           8              \n",
       "\n",
       "             name  uni_bssid_by_housing_area  open_net open_net_counts  \\\n",
       "0  Public_RedHook                        448     False            15.0   \n",
       "\n",
       "  non_open_net_counts  \n",
       "0               433.0  \n",
       "\n",
       "[1 rows x 77 columns]"
      ]
     },
     "execution_count": 1953,
     "metadata": {},
     "output_type": "execute_result"
    }
   ],
   "source": [
    "housing_gdf_final.head(1)"
   ]
  },
  {
   "cell_type": "code",
   "execution_count": 1954,
   "metadata": {
    "collapsed": false
   },
   "outputs": [],
   "source": [
    "housing_wifi_counts_normalized = open_vs_non_.merge(area_populations, on=\"name\", how=\"inner\")"
   ]
  },
  {
   "cell_type": "code",
   "execution_count": 1955,
   "metadata": {
    "collapsed": false
   },
   "outputs": [
    {
     "data": {
      "text/html": [
       "<div>\n",
       "<table border=\"1\" class=\"dataframe\">\n",
       "  <thead>\n",
       "    <tr style=\"text-align: right;\">\n",
       "      <th></th>\n",
       "      <th>open_net_counts</th>\n",
       "      <th>non_open_net_counts</th>\n",
       "      <th>name</th>\n",
       "      <th>Population</th>\n",
       "    </tr>\n",
       "  </thead>\n",
       "  <tbody>\n",
       "    <tr>\n",
       "      <th>0</th>\n",
       "      <td>129.0</td>\n",
       "      <td>2043.0</td>\n",
       "      <td>Non_Public_Chelsea</td>\n",
       "      <td>1723</td>\n",
       "    </tr>\n",
       "    <tr>\n",
       "      <th>1</th>\n",
       "      <td>32.0</td>\n",
       "      <td>1033.0</td>\n",
       "      <td>Non_Public_Gowanus</td>\n",
       "      <td>848</td>\n",
       "    </tr>\n",
       "    <tr>\n",
       "      <th>2</th>\n",
       "      <td>29.0</td>\n",
       "      <td>838.0</td>\n",
       "      <td>Non_Public_RedHook</td>\n",
       "      <td>761</td>\n",
       "    </tr>\n",
       "    <tr>\n",
       "      <th>3</th>\n",
       "      <td>30.0</td>\n",
       "      <td>1485.0</td>\n",
       "      <td>Non_Public_Tompkins</td>\n",
       "      <td>1091</td>\n",
       "    </tr>\n",
       "    <tr>\n",
       "      <th>4</th>\n",
       "      <td>100.0</td>\n",
       "      <td>3566.0</td>\n",
       "      <td>Non_Public_Whitman</td>\n",
       "      <td>780</td>\n",
       "    </tr>\n",
       "    <tr>\n",
       "      <th>5</th>\n",
       "      <td>259.0</td>\n",
       "      <td>5515.0</td>\n",
       "      <td>Public_Chelsea</td>\n",
       "      <td>1546</td>\n",
       "    </tr>\n",
       "    <tr>\n",
       "      <th>6</th>\n",
       "      <td>14.0</td>\n",
       "      <td>1614.0</td>\n",
       "      <td>Public_Gowanus</td>\n",
       "      <td>3221</td>\n",
       "    </tr>\n",
       "    <tr>\n",
       "      <th>7</th>\n",
       "      <td>15.0</td>\n",
       "      <td>433.0</td>\n",
       "      <td>Public_RedHook</td>\n",
       "      <td>7278</td>\n",
       "    </tr>\n",
       "    <tr>\n",
       "      <th>8</th>\n",
       "      <td>37.0</td>\n",
       "      <td>2198.0</td>\n",
       "      <td>Public_Tompkins</td>\n",
       "      <td>3595</td>\n",
       "    </tr>\n",
       "    <tr>\n",
       "      <th>9</th>\n",
       "      <td>42.0</td>\n",
       "      <td>670.0</td>\n",
       "      <td>Public_Whitman</td>\n",
       "      <td>617</td>\n",
       "    </tr>\n",
       "  </tbody>\n",
       "</table>\n",
       "</div>"
      ],
      "text/plain": [
       "   open_net_counts  non_open_net_counts                 name  Population\n",
       "0            129.0               2043.0   Non_Public_Chelsea        1723\n",
       "1             32.0               1033.0   Non_Public_Gowanus         848\n",
       "2             29.0                838.0   Non_Public_RedHook         761\n",
       "3             30.0               1485.0  Non_Public_Tompkins        1091\n",
       "4            100.0               3566.0   Non_Public_Whitman         780\n",
       "5            259.0               5515.0       Public_Chelsea        1546\n",
       "6             14.0               1614.0       Public_Gowanus        3221\n",
       "7             15.0                433.0       Public_RedHook        7278\n",
       "8             37.0               2198.0      Public_Tompkins        3595\n",
       "9             42.0                670.0       Public_Whitman         617"
      ]
     },
     "execution_count": 1955,
     "metadata": {},
     "output_type": "execute_result"
    }
   ],
   "source": [
    "housing_wifi_counts_normalized"
   ]
  },
  {
   "cell_type": "code",
   "execution_count": 1956,
   "metadata": {
    "collapsed": true
   },
   "outputs": [],
   "source": [
    "housing_wifi_counts_normalized[\"norm_open_counts\"] = list(map(lambda x,y: x/y,\\\n",
    "                                                              housing_wifi_counts_normalized.open_net_counts,\\\n",
    "                                                              housing_wifi_counts_normalized.Population))\n",
    "housing_wifi_counts_normalized[\"norm_non_open_counts\"] = list(map(lambda x,y: x/y, housing_wifi_counts_normalized.non_open_net_counts,\\\n",
    "                                                                 housing_wifi_counts_normalized.Population))"
   ]
  },
  {
   "cell_type": "code",
   "execution_count": 1957,
   "metadata": {
    "collapsed": false
   },
   "outputs": [
    {
     "data": {
      "text/html": [
       "<div>\n",
       "<table border=\"1\" class=\"dataframe\">\n",
       "  <thead>\n",
       "    <tr style=\"text-align: right;\">\n",
       "      <th></th>\n",
       "      <th>open_net_counts</th>\n",
       "      <th>non_open_net_counts</th>\n",
       "      <th>name</th>\n",
       "      <th>Population</th>\n",
       "      <th>norm_open_counts</th>\n",
       "      <th>norm_non_open_counts</th>\n",
       "    </tr>\n",
       "  </thead>\n",
       "  <tbody>\n",
       "    <tr>\n",
       "      <th>0</th>\n",
       "      <td>129.0</td>\n",
       "      <td>2043.0</td>\n",
       "      <td>Non_Public_Chelsea</td>\n",
       "      <td>1723</td>\n",
       "      <td>0.074869</td>\n",
       "      <td>1.185723</td>\n",
       "    </tr>\n",
       "    <tr>\n",
       "      <th>1</th>\n",
       "      <td>32.0</td>\n",
       "      <td>1033.0</td>\n",
       "      <td>Non_Public_Gowanus</td>\n",
       "      <td>848</td>\n",
       "      <td>0.037736</td>\n",
       "      <td>1.218160</td>\n",
       "    </tr>\n",
       "    <tr>\n",
       "      <th>2</th>\n",
       "      <td>29.0</td>\n",
       "      <td>838.0</td>\n",
       "      <td>Non_Public_RedHook</td>\n",
       "      <td>761</td>\n",
       "      <td>0.038108</td>\n",
       "      <td>1.101183</td>\n",
       "    </tr>\n",
       "    <tr>\n",
       "      <th>3</th>\n",
       "      <td>30.0</td>\n",
       "      <td>1485.0</td>\n",
       "      <td>Non_Public_Tompkins</td>\n",
       "      <td>1091</td>\n",
       "      <td>0.027498</td>\n",
       "      <td>1.361137</td>\n",
       "    </tr>\n",
       "    <tr>\n",
       "      <th>4</th>\n",
       "      <td>100.0</td>\n",
       "      <td>3566.0</td>\n",
       "      <td>Non_Public_Whitman</td>\n",
       "      <td>780</td>\n",
       "      <td>0.128205</td>\n",
       "      <td>4.571795</td>\n",
       "    </tr>\n",
       "    <tr>\n",
       "      <th>5</th>\n",
       "      <td>259.0</td>\n",
       "      <td>5515.0</td>\n",
       "      <td>Public_Chelsea</td>\n",
       "      <td>1546</td>\n",
       "      <td>0.167529</td>\n",
       "      <td>3.567270</td>\n",
       "    </tr>\n",
       "    <tr>\n",
       "      <th>6</th>\n",
       "      <td>14.0</td>\n",
       "      <td>1614.0</td>\n",
       "      <td>Public_Gowanus</td>\n",
       "      <td>3221</td>\n",
       "      <td>0.004346</td>\n",
       "      <td>0.501087</td>\n",
       "    </tr>\n",
       "    <tr>\n",
       "      <th>7</th>\n",
       "      <td>15.0</td>\n",
       "      <td>433.0</td>\n",
       "      <td>Public_RedHook</td>\n",
       "      <td>7278</td>\n",
       "      <td>0.002061</td>\n",
       "      <td>0.059494</td>\n",
       "    </tr>\n",
       "    <tr>\n",
       "      <th>8</th>\n",
       "      <td>37.0</td>\n",
       "      <td>2198.0</td>\n",
       "      <td>Public_Tompkins</td>\n",
       "      <td>3595</td>\n",
       "      <td>0.010292</td>\n",
       "      <td>0.611405</td>\n",
       "    </tr>\n",
       "    <tr>\n",
       "      <th>9</th>\n",
       "      <td>42.0</td>\n",
       "      <td>670.0</td>\n",
       "      <td>Public_Whitman</td>\n",
       "      <td>617</td>\n",
       "      <td>0.068071</td>\n",
       "      <td>1.085900</td>\n",
       "    </tr>\n",
       "  </tbody>\n",
       "</table>\n",
       "</div>"
      ],
      "text/plain": [
       "   open_net_counts  non_open_net_counts                 name  Population  \\\n",
       "0            129.0               2043.0   Non_Public_Chelsea        1723   \n",
       "1             32.0               1033.0   Non_Public_Gowanus         848   \n",
       "2             29.0                838.0   Non_Public_RedHook         761   \n",
       "3             30.0               1485.0  Non_Public_Tompkins        1091   \n",
       "4            100.0               3566.0   Non_Public_Whitman         780   \n",
       "5            259.0               5515.0       Public_Chelsea        1546   \n",
       "6             14.0               1614.0       Public_Gowanus        3221   \n",
       "7             15.0                433.0       Public_RedHook        7278   \n",
       "8             37.0               2198.0      Public_Tompkins        3595   \n",
       "9             42.0                670.0       Public_Whitman         617   \n",
       "\n",
       "   norm_open_counts  norm_non_open_counts  \n",
       "0          0.074869              1.185723  \n",
       "1          0.037736              1.218160  \n",
       "2          0.038108              1.101183  \n",
       "3          0.027498              1.361137  \n",
       "4          0.128205              4.571795  \n",
       "5          0.167529              3.567270  \n",
       "6          0.004346              0.501087  \n",
       "7          0.002061              0.059494  \n",
       "8          0.010292              0.611405  \n",
       "9          0.068071              1.085900  "
      ]
     },
     "execution_count": 1957,
     "metadata": {},
     "output_type": "execute_result"
    }
   ],
   "source": [
    "housing_wifi_counts_normalized"
   ]
  },
  {
   "cell_type": "code",
   "execution_count": 1958,
   "metadata": {
    "collapsed": true
   },
   "outputs": [],
   "source": [
    "bar_plot = housing_wifi_counts_normalized[[\"name\",\"norm_open_counts\",\"norm_non_open_counts\"]]"
   ]
  },
  {
   "cell_type": "code",
   "execution_count": 1959,
   "metadata": {
    "collapsed": false
   },
   "outputs": [
    {
     "data": {
      "text/html": [
       "<div>\n",
       "<table border=\"1\" class=\"dataframe\">\n",
       "  <thead>\n",
       "    <tr style=\"text-align: right;\">\n",
       "      <th></th>\n",
       "      <th>name</th>\n",
       "      <th>norm_open_counts</th>\n",
       "      <th>norm_non_open_counts</th>\n",
       "    </tr>\n",
       "  </thead>\n",
       "  <tbody>\n",
       "    <tr>\n",
       "      <th>0</th>\n",
       "      <td>Non_Public_Chelsea</td>\n",
       "      <td>0.074869</td>\n",
       "      <td>1.185723</td>\n",
       "    </tr>\n",
       "    <tr>\n",
       "      <th>1</th>\n",
       "      <td>Non_Public_Gowanus</td>\n",
       "      <td>0.037736</td>\n",
       "      <td>1.218160</td>\n",
       "    </tr>\n",
       "    <tr>\n",
       "      <th>2</th>\n",
       "      <td>Non_Public_RedHook</td>\n",
       "      <td>0.038108</td>\n",
       "      <td>1.101183</td>\n",
       "    </tr>\n",
       "    <tr>\n",
       "      <th>3</th>\n",
       "      <td>Non_Public_Tompkins</td>\n",
       "      <td>0.027498</td>\n",
       "      <td>1.361137</td>\n",
       "    </tr>\n",
       "    <tr>\n",
       "      <th>4</th>\n",
       "      <td>Non_Public_Whitman</td>\n",
       "      <td>0.128205</td>\n",
       "      <td>4.571795</td>\n",
       "    </tr>\n",
       "    <tr>\n",
       "      <th>5</th>\n",
       "      <td>Public_Chelsea</td>\n",
       "      <td>0.167529</td>\n",
       "      <td>3.567270</td>\n",
       "    </tr>\n",
       "    <tr>\n",
       "      <th>6</th>\n",
       "      <td>Public_Gowanus</td>\n",
       "      <td>0.004346</td>\n",
       "      <td>0.501087</td>\n",
       "    </tr>\n",
       "    <tr>\n",
       "      <th>7</th>\n",
       "      <td>Public_RedHook</td>\n",
       "      <td>0.002061</td>\n",
       "      <td>0.059494</td>\n",
       "    </tr>\n",
       "    <tr>\n",
       "      <th>8</th>\n",
       "      <td>Public_Tompkins</td>\n",
       "      <td>0.010292</td>\n",
       "      <td>0.611405</td>\n",
       "    </tr>\n",
       "    <tr>\n",
       "      <th>9</th>\n",
       "      <td>Public_Whitman</td>\n",
       "      <td>0.068071</td>\n",
       "      <td>1.085900</td>\n",
       "    </tr>\n",
       "  </tbody>\n",
       "</table>\n",
       "</div>"
      ],
      "text/plain": [
       "                  name  norm_open_counts  norm_non_open_counts\n",
       "0   Non_Public_Chelsea          0.074869              1.185723\n",
       "1   Non_Public_Gowanus          0.037736              1.218160\n",
       "2   Non_Public_RedHook          0.038108              1.101183\n",
       "3  Non_Public_Tompkins          0.027498              1.361137\n",
       "4   Non_Public_Whitman          0.128205              4.571795\n",
       "5       Public_Chelsea          0.167529              3.567270\n",
       "6       Public_Gowanus          0.004346              0.501087\n",
       "7       Public_RedHook          0.002061              0.059494\n",
       "8      Public_Tompkins          0.010292              0.611405\n",
       "9       Public_Whitman          0.068071              1.085900"
      ]
     },
     "execution_count": 1959,
     "metadata": {},
     "output_type": "execute_result"
    }
   ],
   "source": [
    "bar_plot"
   ]
  },
  {
   "cell_type": "code",
   "execution_count": 1965,
   "metadata": {
    "collapsed": false
   },
   "outputs": [],
   "source": [
    "bar_plot.index = [\"Non_Public_Chelsea\",\"Non_Public_Gowanus\",\"Non_Public_RedHook\",\"Non_Public_Tompkins\",\\\n",
    "                  \"Non_Public_Whitman\",\"Public_Chelsea\",\"Public_Gowanus\",\"Public_RedHook\",\"Public_Tompkins\",\\\n",
    "                  \"Public_Whitman\"]"
   ]
  },
  {
   "cell_type": "code",
   "execution_count": 1966,
   "metadata": {
    "collapsed": false
   },
   "outputs": [
    {
     "data": {
      "image/png": "[encoded data removed]",
      "text/plain": [
       "<matplotlib.figure.Figure at 0x3744db7f0>"
      ]
     },
     "metadata": {},
     "output_type": "display_data"
    }
   ],
   "source": [
    "ax = bar_plot.plot(kind='bar', title =\"Open Networks in Public vs. Non-public Residential Areas\", \\\n",
    "                   figsize=(15, 7), legend=True, fontsize=15)\n",
    "ax.set_title(\"Open Networks in Public vs. Non-public Residential Areas\",fontsize=22)\n",
    "ax.set_xlabel(\"Residential Area\", fontsize=18)\n",
    "ax.set_ylabel(\"Log Normalized Network Counts (bssid/population)\", fontsize=18)\n",
    "ax.set_yscale(\"log\")"
   ]
  },
  {
   "cell_type": "code",
   "execution_count": 1968,
   "metadata": {
    "collapsed": false
   },
   "outputs": [
    {
     "data": {
      "text/html": [
       "<div>\n",
       "<table border=\"1\" class=\"dataframe\">\n",
       "  <thead>\n",
       "    <tr style=\"text-align: right;\">\n",
       "      <th></th>\n",
       "      <th>name</th>\n",
       "      <th>norm_open_counts</th>\n",
       "      <th>norm_non_open_counts</th>\n",
       "    </tr>\n",
       "  </thead>\n",
       "  <tbody>\n",
       "    <tr>\n",
       "      <th>Non_Public_Chelsea</th>\n",
       "      <td>Non_Public_Chelsea</td>\n",
       "      <td>0.074869</td>\n",
       "      <td>1.185723</td>\n",
       "    </tr>\n",
       "    <tr>\n",
       "      <th>Non_Public_Gowanus</th>\n",
       "      <td>Non_Public_Gowanus</td>\n",
       "      <td>0.037736</td>\n",
       "      <td>1.218160</td>\n",
       "    </tr>\n",
       "    <tr>\n",
       "      <th>Non_Public_RedHook</th>\n",
       "      <td>Non_Public_RedHook</td>\n",
       "      <td>0.038108</td>\n",
       "      <td>1.101183</td>\n",
       "    </tr>\n",
       "    <tr>\n",
       "      <th>Non_Public_Tompkins</th>\n",
       "      <td>Non_Public_Tompkins</td>\n",
       "      <td>0.027498</td>\n",
       "      <td>1.361137</td>\n",
       "    </tr>\n",
       "    <tr>\n",
       "      <th>Non_Public_Whitman</th>\n",
       "      <td>Non_Public_Whitman</td>\n",
       "      <td>0.128205</td>\n",
       "      <td>4.571795</td>\n",
       "    </tr>\n",
       "    <tr>\n",
       "      <th>Public_Chelsea</th>\n",
       "      <td>Public_Chelsea</td>\n",
       "      <td>0.167529</td>\n",
       "      <td>3.567270</td>\n",
       "    </tr>\n",
       "    <tr>\n",
       "      <th>Public_Gowanus</th>\n",
       "      <td>Public_Gowanus</td>\n",
       "      <td>0.004346</td>\n",
       "      <td>0.501087</td>\n",
       "    </tr>\n",
       "    <tr>\n",
       "      <th>Public_RedHook</th>\n",
       "      <td>Public_RedHook</td>\n",
       "      <td>0.002061</td>\n",
       "      <td>0.059494</td>\n",
       "    </tr>\n",
       "    <tr>\n",
       "      <th>Public_Tompkins</th>\n",
       "      <td>Public_Tompkins</td>\n",
       "      <td>0.010292</td>\n",
       "      <td>0.611405</td>\n",
       "    </tr>\n",
       "    <tr>\n",
       "      <th>Public_Whitman</th>\n",
       "      <td>Public_Whitman</td>\n",
       "      <td>0.068071</td>\n",
       "      <td>1.085900</td>\n",
       "    </tr>\n",
       "  </tbody>\n",
       "</table>\n",
       "</div>"
      ],
      "text/plain": [
       "                                    name  norm_open_counts  \\\n",
       "Non_Public_Chelsea    Non_Public_Chelsea          0.074869   \n",
       "Non_Public_Gowanus    Non_Public_Gowanus          0.037736   \n",
       "Non_Public_RedHook    Non_Public_RedHook          0.038108   \n",
       "Non_Public_Tompkins  Non_Public_Tompkins          0.027498   \n",
       "Non_Public_Whitman    Non_Public_Whitman          0.128205   \n",
       "Public_Chelsea            Public_Chelsea          0.167529   \n",
       "Public_Gowanus            Public_Gowanus          0.004346   \n",
       "Public_RedHook            Public_RedHook          0.002061   \n",
       "Public_Tompkins          Public_Tompkins          0.010292   \n",
       "Public_Whitman            Public_Whitman          0.068071   \n",
       "\n",
       "                     norm_non_open_counts  \n",
       "Non_Public_Chelsea               1.185723  \n",
       "Non_Public_Gowanus               1.218160  \n",
       "Non_Public_RedHook               1.101183  \n",
       "Non_Public_Tompkins              1.361137  \n",
       "Non_Public_Whitman               4.571795  \n",
       "Public_Chelsea                   3.567270  \n",
       "Public_Gowanus                   0.501087  \n",
       "Public_RedHook                   0.059494  \n",
       "Public_Tompkins                  0.611405  \n",
       "Public_Whitman                   1.085900  "
      ]
     },
     "execution_count": 1968,
     "metadata": {},
     "output_type": "execute_result"
    }
   ],
   "source": [
    "bar_plot"
   ]
  },
  {
   "cell_type": "code",
   "execution_count": 1969,
   "metadata": {
    "collapsed": false
   },
   "outputs": [],
   "source": [
    "#contingency_table_Chelsea = bar_plot[bar_blot.index.str.contains(\"Chelsea\",\"Chelsea_None\")][[\"norm_open_counts\",\"norm_non_open_counts\"]]"
   ]
  },
  {
   "cell_type": "code",
   "execution_count": 1970,
   "metadata": {
    "collapsed": false
   },
   "outputs": [],
   "source": [
    "#contingency_table_Chelsea"
   ]
  },
  {
   "cell_type": "code",
   "execution_count": 1971,
   "metadata": {
    "collapsed": false
   },
   "outputs": [],
   "source": [
    "#from scipy.stats import chisquare"
   ]
  },
  {
   "cell_type": "code",
   "execution_count": 1972,
   "metadata": {
    "collapsed": false
   },
   "outputs": [],
   "source": [
    "#obs = np.array([[0.104140,3.033635],[0.232414,2.323579]])"
   ]
  },
  {
   "cell_type": "code",
   "execution_count": 1973,
   "metadata": {
    "collapsed": false
   },
   "outputs": [],
   "source": [
    "#obs"
   ]
  },
  {
   "cell_type": "code",
   "execution_count": 1974,
   "metadata": {
    "collapsed": false
   },
   "outputs": [],
   "source": [
    "#chisquare(obs)"
   ]
  },
  {
   "cell_type": "code",
   "execution_count": 1975,
   "metadata": {
    "collapsed": false
   },
   "outputs": [],
   "source": [
    "#obs"
   ]
  },
  {
   "cell_type": "code",
   "execution_count": 1976,
   "metadata": {
    "collapsed": false
   },
   "outputs": [],
   "source": [
    "#chisquare(obs)"
   ]
  },
  {
   "cell_type": "code",
   "execution_count": 1977,
   "metadata": {
    "collapsed": true
   },
   "outputs": [],
   "source": [
    "#area_MHI = housing_gdf.groupby([\"name\"])[\"MHI\"].unique()"
   ]
  },
  {
   "cell_type": "code",
   "execution_count": 1978,
   "metadata": {
    "collapsed": false
   },
   "outputs": [],
   "source": [
    "#housing_gdf.groupby([\"name\", \"GEOID\"])[\"MHI\"].unique()"
   ]
  },
  {
   "cell_type": "code",
   "execution_count": 1979,
   "metadata": {
    "collapsed": false
   },
   "outputs": [],
   "source": [
    "#area_MHI"
   ]
  },
  {
   "cell_type": "code",
   "execution_count": 1980,
   "metadata": {
    "collapsed": true
   },
   "outputs": [],
   "source": [
    "#area_MHI = pd.DataFrame(area_MHI)"
   ]
  },
  {
   "cell_type": "code",
   "execution_count": 1981,
   "metadata": {
    "collapsed": false
   },
   "outputs": [],
   "source": [
    "#area_MHI"
   ]
  },
  {
   "cell_type": "code",
   "execution_count": 1982,
   "metadata": {
    "collapsed": false
   },
   "outputs": [],
   "source": [
    "#area_MHI[\"MHI\"] = list(map(lambda x: x[:].sum(), list(area_MHI.MHI)))"
   ]
  },
  {
   "cell_type": "code",
   "execution_count": 1983,
   "metadata": {
    "collapsed": false
   },
   "outputs": [],
   "source": [
    "#area_MHI.MHI[2].sum()"
   ]
  },
  {
   "cell_type": "code",
   "execution_count": 1984,
   "metadata": {
    "collapsed": false
   },
   "outputs": [],
   "source": [
    "#area_MHI[\"name\"] = area_MHI.index"
   ]
  },
  {
   "cell_type": "code",
   "execution_count": 1985,
   "metadata": {
    "collapsed": false
   },
   "outputs": [],
   "source": [
    "#scatter_plot = bar_plot.merge(area_MHI, on=\"name\")"
   ]
  },
  {
   "cell_type": "code",
   "execution_count": 1387,
   "metadata": {
    "collapsed": false
   },
   "outputs": [],
   "source": [
    "#scatter_plot.index = scatter_plot.name"
   ]
  },
  {
   "cell_type": "code",
   "execution_count": 1987,
   "metadata": {
    "collapsed": false
   },
   "outputs": [],
   "source": [
    "#scatter_plot"
   ]
  },
  {
   "cell_type": "code",
   "execution_count": 1375,
   "metadata": {
    "collapsed": false
   },
   "outputs": [],
   "source": [
    "#scatter_plot[\"mih_v_norm_open_counts\"] = zip(scatter_plot.norm_open_counts,scatter_plot.MHI)\n",
    "#scatter_plot[\"mih_v_norm_non_open_counts\"] = zip(scatter_plot.norm_non_open_counts,scatter_plot.MHI)"
   ]
  },
  {
   "cell_type": "code",
   "execution_count": null,
   "metadata": {
    "collapsed": true
   },
   "outputs": [],
   "source": [
    "housing_gdf_.groupby([\"GEOID\",\"open_net\"])[]"
   ]
  },
  {
   "cell_type": "code",
   "execution_count": null,
   "metadata": {
    "collapsed": true
   },
   "outputs": [],
   "source": []
  },
  {
   "cell_type": "code",
   "execution_count": 2015,
   "metadata": {
    "collapsed": false
   },
   "outputs": [
    {
     "data": {
      "text/plain": [
       "GEOID\n",
       "360470029011     102.0\n",
       "360470029012     168.0\n",
       "360470033001     373.0\n",
       "360470043004      76.0\n",
       "360470065001      16.0\n",
       "360470065002       4.0\n",
       "360470065003       8.0\n",
       "360470065004      10.0\n",
       "360470065005      20.0\n",
       "360470069003     558.0\n",
       "360470069004     164.0\n",
       "360470071003     121.0\n",
       "360470085001      60.0\n",
       "360470127003     399.0\n",
       "360470181001     529.0\n",
       "360470181002     382.0\n",
       "360470181003     356.0\n",
       "360470259021      40.0\n",
       "360470261001       6.0\n",
       "360470261002      24.0\n",
       "360470261003      18.0\n",
       "360470261004      30.0\n",
       "360470261005      12.0\n",
       "360470281001      26.0\n",
       "360470283001      21.0\n",
       "360470285021      27.0\n",
       "360470287003       1.0\n",
       "360470289004      10.0\n",
       "360610083003    5035.0\n",
       "360610089003    1638.0\n",
       "360610091002    2278.0\n",
       "360610091003    1184.0\n",
       "360610097002    4956.0\n",
       "Name: open_net, dtype: float64"
      ]
     },
     "execution_count": 2015,
     "metadata": {},
     "output_type": "execute_result"
    }
   ],
   "source": [
    "housing_gdf_.groupby(housing_gdf_.GEOID)[\"open_net\"].sum()"
   ]
  },
  {
   "cell_type": "code",
   "execution_count": 2016,
   "metadata": {
    "collapsed": true
   },
   "outputs": [],
   "source": [
    "open_counts = pd.DataFrame(housing_gdf_.groupby([\"GEOID\"])[\"open_net\"].sum())"
   ]
  },
  {
   "cell_type": "code",
   "execution_count": 2017,
   "metadata": {
    "collapsed": false
   },
   "outputs": [
    {
     "data": {
      "text/plain": [
       "GEOID         bssid            \n",
       "360470029011  00:06:66:23:72:ee      0.0\n",
       "              00:0c:42:3a:bb:44      0.0\n",
       "              00:19:9d:ff:74:7f      0.0\n",
       "              00:22:6b:7d:be:1a      0.0\n",
       "              00:24:01:6c:5e:e9      0.0\n",
       "              00:ac:e0:96:d7:45      0.0\n",
       "              00:ac:e0:9f:4a:20      0.0\n",
       "              00:ac:e0:9f:4a:25      0.0\n",
       "              00:ac:e0:a4:f9:60      0.0\n",
       "              00:ac:e0:a4:f9:65      0.0\n",
       "              04:a1:51:da:17:59      0.0\n",
       "              04:a1:51:da:17:5a      0.0\n",
       "              08:02:8e:ce:5f:a5      0.0\n",
       "              08:3e:0c:d8:30:b5      0.0\n",
       "              08:3e:0c:d9:28:70      0.0\n",
       "              08:3e:0c:d9:28:75      0.0\n",
       "              08:3e:0c:da:7f:f0      0.0\n",
       "              08:3e:0c:da:7f:f5      0.0\n",
       "              08:3e:0c:db:18:e0      0.0\n",
       "              08:3e:0c:db:18:e5      0.0\n",
       "              08:3e:8e:90:07:4f      0.0\n",
       "              08:86:3b:30:2e:60      0.0\n",
       "              08:86:3b:78:c5:e8      0.0\n",
       "              08:95:2a:cd:cb:94      0.0\n",
       "              08:95:2a:ec:94:a5      0.0\n",
       "              0a:47:c9:35:6e:58      0.0\n",
       "              0c:f8:93:bc:27:a0      0.0\n",
       "              10:0d:7f:d1:9b:70      0.0\n",
       "              10:0d:7f:d1:bf:3f      0.0\n",
       "              10:78:5b:17:3d:b1      0.0\n",
       "                                   ...  \n",
       "360610097002  f8:e7:1e:55:dd:08      0.0\n",
       "              f8:e7:1e:55:dd:0c      0.0\n",
       "              f8:e7:1e:6c:81:a8      0.0\n",
       "              f8:e7:1e:6c:81:ac      0.0\n",
       "              f8:e7:1e:95:dd:08      0.0\n",
       "              f8:e7:1e:95:dd:0c      0.0\n",
       "              f8:e7:1e:ac:81:a8    391.0\n",
       "              f8:e7:1e:ac:81:ac    382.0\n",
       "              f8:e7:1e:ec:81:a8      0.0\n",
       "              f8:e7:1e:ec:81:ac      0.0\n",
       "              fa:8f:ca:3b:fc:b1      0.0\n",
       "              fa:8f:ca:50:4b:41      0.0\n",
       "              fa:8f:ca:52:1f:d8      0.0\n",
       "              fa:8f:ca:8d:cb:ae      0.0\n",
       "              fa:8f:ca:8e:0e:fc      0.0\n",
       "              fc:15:b4:6f:92:0b      0.0\n",
       "              fc:52:8d:0b:13:74      0.0\n",
       "              fc:52:8d:0b:13:75      0.0\n",
       "              fc:52:8d:0c:b1:08      0.0\n",
       "              fc:52:8d:42:e3:63      0.0\n",
       "              fc:52:8d:42:e3:64      0.0\n",
       "              fc:52:8d:43:52:8d      0.0\n",
       "              fc:52:8d:43:52:8e      0.0\n",
       "              fc:52:8d:4f:6c:6d      0.0\n",
       "              fc:52:8d:4f:6c:6e      0.0\n",
       "              fc:52:8d:58:ec:6b      0.0\n",
       "              fc:52:8d:ff:6c:39      0.0\n",
       "              fc:52:8d:ff:6c:3a      0.0\n",
       "              fe:1e:df:fc:cd:f3     34.0\n",
       "              fe:a6:67:db:16:0a      0.0\n",
       "Name: open_net, dtype: float64"
      ]
     },
     "execution_count": 2017,
     "metadata": {},
     "output_type": "execute_result"
    }
   ],
   "source": [
    "housing_gdf_.groupby([\"GEOID\",\"bssid\"])[\"open_net\"].sum()"
   ]
  },
  {
   "cell_type": "code",
   "execution_count": 2018,
   "metadata": {
    "collapsed": true
   },
   "outputs": [],
   "source": [
    "open_counts_by_bssid = pd.DataFrame(housing_gdf_.groupby([\"GEOID\",\"bssid\"])[\"open_net\"].sum())"
   ]
  },
  {
   "cell_type": "code",
   "execution_count": 2019,
   "metadata": {
    "collapsed": false
   },
   "outputs": [
    {
     "data": {
      "text/html": [
       "<div>\n",
       "<table border=\"1\" class=\"dataframe\">\n",
       "  <thead>\n",
       "    <tr style=\"text-align: right;\">\n",
       "      <th></th>\n",
       "      <th></th>\n",
       "      <th>open_net</th>\n",
       "    </tr>\n",
       "    <tr>\n",
       "      <th>GEOID</th>\n",
       "      <th>bssid</th>\n",
       "      <th></th>\n",
       "    </tr>\n",
       "  </thead>\n",
       "  <tbody>\n",
       "    <tr>\n",
       "      <th rowspan=\"30\" valign=\"top\">360470029011</th>\n",
       "      <th>00:06:66:23:72:ee</th>\n",
       "      <td>0.0</td>\n",
       "    </tr>\n",
       "    <tr>\n",
       "      <th>00:0c:42:3a:bb:44</th>\n",
       "      <td>0.0</td>\n",
       "    </tr>\n",
       "    <tr>\n",
       "      <th>00:19:9d:ff:74:7f</th>\n",
       "      <td>0.0</td>\n",
       "    </tr>\n",
       "    <tr>\n",
       "      <th>00:22:6b:7d:be:1a</th>\n",
       "      <td>0.0</td>\n",
       "    </tr>\n",
       "    <tr>\n",
       "      <th>00:24:01:6c:5e:e9</th>\n",
       "      <td>0.0</td>\n",
       "    </tr>\n",
       "    <tr>\n",
       "      <th>00:ac:e0:96:d7:45</th>\n",
       "      <td>0.0</td>\n",
       "    </tr>\n",
       "    <tr>\n",
       "      <th>00:ac:e0:9f:4a:20</th>\n",
       "      <td>0.0</td>\n",
       "    </tr>\n",
       "    <tr>\n",
       "      <th>00:ac:e0:9f:4a:25</th>\n",
       "      <td>0.0</td>\n",
       "    </tr>\n",
       "    <tr>\n",
       "      <th>00:ac:e0:a4:f9:60</th>\n",
       "      <td>0.0</td>\n",
       "    </tr>\n",
       "    <tr>\n",
       "      <th>00:ac:e0:a4:f9:65</th>\n",
       "      <td>0.0</td>\n",
       "    </tr>\n",
       "    <tr>\n",
       "      <th>04:a1:51:da:17:59</th>\n",
       "      <td>0.0</td>\n",
       "    </tr>\n",
       "    <tr>\n",
       "      <th>04:a1:51:da:17:5a</th>\n",
       "      <td>0.0</td>\n",
       "    </tr>\n",
       "    <tr>\n",
       "      <th>08:02:8e:ce:5f:a5</th>\n",
       "      <td>0.0</td>\n",
       "    </tr>\n",
       "    <tr>\n",
       "      <th>08:3e:0c:d8:30:b5</th>\n",
       "      <td>0.0</td>\n",
       "    </tr>\n",
       "    <tr>\n",
       "      <th>08:3e:0c:d9:28:70</th>\n",
       "      <td>0.0</td>\n",
       "    </tr>\n",
       "    <tr>\n",
       "      <th>08:3e:0c:d9:28:75</th>\n",
       "      <td>0.0</td>\n",
       "    </tr>\n",
       "    <tr>\n",
       "      <th>08:3e:0c:da:7f:f0</th>\n",
       "      <td>0.0</td>\n",
       "    </tr>\n",
       "    <tr>\n",
       "      <th>08:3e:0c:da:7f:f5</th>\n",
       "      <td>0.0</td>\n",
       "    </tr>\n",
       "    <tr>\n",
       "      <th>08:3e:0c:db:18:e0</th>\n",
       "      <td>0.0</td>\n",
       "    </tr>\n",
       "    <tr>\n",
       "      <th>08:3e:0c:db:18:e5</th>\n",
       "      <td>0.0</td>\n",
       "    </tr>\n",
       "    <tr>\n",
       "      <th>08:3e:8e:90:07:4f</th>\n",
       "      <td>0.0</td>\n",
       "    </tr>\n",
       "    <tr>\n",
       "      <th>08:86:3b:30:2e:60</th>\n",
       "      <td>0.0</td>\n",
       "    </tr>\n",
       "    <tr>\n",
       "      <th>08:86:3b:78:c5:e8</th>\n",
       "      <td>0.0</td>\n",
       "    </tr>\n",
       "    <tr>\n",
       "      <th>08:95:2a:cd:cb:94</th>\n",
       "      <td>0.0</td>\n",
       "    </tr>\n",
       "    <tr>\n",
       "      <th>08:95:2a:ec:94:a5</th>\n",
       "      <td>0.0</td>\n",
       "    </tr>\n",
       "    <tr>\n",
       "      <th>0a:47:c9:35:6e:58</th>\n",
       "      <td>0.0</td>\n",
       "    </tr>\n",
       "    <tr>\n",
       "      <th>0c:f8:93:bc:27:a0</th>\n",
       "      <td>0.0</td>\n",
       "    </tr>\n",
       "    <tr>\n",
       "      <th>10:0d:7f:d1:9b:70</th>\n",
       "      <td>0.0</td>\n",
       "    </tr>\n",
       "    <tr>\n",
       "      <th>10:0d:7f:d1:bf:3f</th>\n",
       "      <td>0.0</td>\n",
       "    </tr>\n",
       "    <tr>\n",
       "      <th>10:78:5b:17:3d:b1</th>\n",
       "      <td>0.0</td>\n",
       "    </tr>\n",
       "    <tr>\n",
       "      <th>...</th>\n",
       "      <th>...</th>\n",
       "      <td>...</td>\n",
       "    </tr>\n",
       "    <tr>\n",
       "      <th rowspan=\"30\" valign=\"top\">360610097002</th>\n",
       "      <th>f8:e7:1e:55:dd:08</th>\n",
       "      <td>0.0</td>\n",
       "    </tr>\n",
       "    <tr>\n",
       "      <th>f8:e7:1e:55:dd:0c</th>\n",
       "      <td>0.0</td>\n",
       "    </tr>\n",
       "    <tr>\n",
       "      <th>f8:e7:1e:6c:81:a8</th>\n",
       "      <td>0.0</td>\n",
       "    </tr>\n",
       "    <tr>\n",
       "      <th>f8:e7:1e:6c:81:ac</th>\n",
       "      <td>0.0</td>\n",
       "    </tr>\n",
       "    <tr>\n",
       "      <th>f8:e7:1e:95:dd:08</th>\n",
       "      <td>0.0</td>\n",
       "    </tr>\n",
       "    <tr>\n",
       "      <th>f8:e7:1e:95:dd:0c</th>\n",
       "      <td>0.0</td>\n",
       "    </tr>\n",
       "    <tr>\n",
       "      <th>f8:e7:1e:ac:81:a8</th>\n",
       "      <td>391.0</td>\n",
       "    </tr>\n",
       "    <tr>\n",
       "      <th>f8:e7:1e:ac:81:ac</th>\n",
       "      <td>382.0</td>\n",
       "    </tr>\n",
       "    <tr>\n",
       "      <th>f8:e7:1e:ec:81:a8</th>\n",
       "      <td>0.0</td>\n",
       "    </tr>\n",
       "    <tr>\n",
       "      <th>f8:e7:1e:ec:81:ac</th>\n",
       "      <td>0.0</td>\n",
       "    </tr>\n",
       "    <tr>\n",
       "      <th>fa:8f:ca:3b:fc:b1</th>\n",
       "      <td>0.0</td>\n",
       "    </tr>\n",
       "    <tr>\n",
       "      <th>fa:8f:ca:50:4b:41</th>\n",
       "      <td>0.0</td>\n",
       "    </tr>\n",
       "    <tr>\n",
       "      <th>fa:8f:ca:52:1f:d8</th>\n",
       "      <td>0.0</td>\n",
       "    </tr>\n",
       "    <tr>\n",
       "      <th>fa:8f:ca:8d:cb:ae</th>\n",
       "      <td>0.0</td>\n",
       "    </tr>\n",
       "    <tr>\n",
       "      <th>fa:8f:ca:8e:0e:fc</th>\n",
       "      <td>0.0</td>\n",
       "    </tr>\n",
       "    <tr>\n",
       "      <th>fc:15:b4:6f:92:0b</th>\n",
       "      <td>0.0</td>\n",
       "    </tr>\n",
       "    <tr>\n",
       "      <th>fc:52:8d:0b:13:74</th>\n",
       "      <td>0.0</td>\n",
       "    </tr>\n",
       "    <tr>\n",
       "      <th>fc:52:8d:0b:13:75</th>\n",
       "      <td>0.0</td>\n",
       "    </tr>\n",
       "    <tr>\n",
       "      <th>fc:52:8d:0c:b1:08</th>\n",
       "      <td>0.0</td>\n",
       "    </tr>\n",
       "    <tr>\n",
       "      <th>fc:52:8d:42:e3:63</th>\n",
       "      <td>0.0</td>\n",
       "    </tr>\n",
       "    <tr>\n",
       "      <th>fc:52:8d:42:e3:64</th>\n",
       "      <td>0.0</td>\n",
       "    </tr>\n",
       "    <tr>\n",
       "      <th>fc:52:8d:43:52:8d</th>\n",
       "      <td>0.0</td>\n",
       "    </tr>\n",
       "    <tr>\n",
       "      <th>fc:52:8d:43:52:8e</th>\n",
       "      <td>0.0</td>\n",
       "    </tr>\n",
       "    <tr>\n",
       "      <th>fc:52:8d:4f:6c:6d</th>\n",
       "      <td>0.0</td>\n",
       "    </tr>\n",
       "    <tr>\n",
       "      <th>fc:52:8d:4f:6c:6e</th>\n",
       "      <td>0.0</td>\n",
       "    </tr>\n",
       "    <tr>\n",
       "      <th>fc:52:8d:58:ec:6b</th>\n",
       "      <td>0.0</td>\n",
       "    </tr>\n",
       "    <tr>\n",
       "      <th>fc:52:8d:ff:6c:39</th>\n",
       "      <td>0.0</td>\n",
       "    </tr>\n",
       "    <tr>\n",
       "      <th>fc:52:8d:ff:6c:3a</th>\n",
       "      <td>0.0</td>\n",
       "    </tr>\n",
       "    <tr>\n",
       "      <th>fe:1e:df:fc:cd:f3</th>\n",
       "      <td>34.0</td>\n",
       "    </tr>\n",
       "    <tr>\n",
       "      <th>fe:a6:67:db:16:0a</th>\n",
       "      <td>0.0</td>\n",
       "    </tr>\n",
       "  </tbody>\n",
       "</table>\n",
       "<p>23170 rows × 1 columns</p>\n",
       "</div>"
      ],
      "text/plain": [
       "                                open_net\n",
       "GEOID        bssid                      \n",
       "360470029011 00:06:66:23:72:ee       0.0\n",
       "             00:0c:42:3a:bb:44       0.0\n",
       "             00:19:9d:ff:74:7f       0.0\n",
       "             00:22:6b:7d:be:1a       0.0\n",
       "             00:24:01:6c:5e:e9       0.0\n",
       "             00:ac:e0:96:d7:45       0.0\n",
       "             00:ac:e0:9f:4a:20       0.0\n",
       "             00:ac:e0:9f:4a:25       0.0\n",
       "             00:ac:e0:a4:f9:60       0.0\n",
       "             00:ac:e0:a4:f9:65       0.0\n",
       "             04:a1:51:da:17:59       0.0\n",
       "             04:a1:51:da:17:5a       0.0\n",
       "             08:02:8e:ce:5f:a5       0.0\n",
       "             08:3e:0c:d8:30:b5       0.0\n",
       "             08:3e:0c:d9:28:70       0.0\n",
       "             08:3e:0c:d9:28:75       0.0\n",
       "             08:3e:0c:da:7f:f0       0.0\n",
       "             08:3e:0c:da:7f:f5       0.0\n",
       "             08:3e:0c:db:18:e0       0.0\n",
       "             08:3e:0c:db:18:e5       0.0\n",
       "             08:3e:8e:90:07:4f       0.0\n",
       "             08:86:3b:30:2e:60       0.0\n",
       "             08:86:3b:78:c5:e8       0.0\n",
       "             08:95:2a:cd:cb:94       0.0\n",
       "             08:95:2a:ec:94:a5       0.0\n",
       "             0a:47:c9:35:6e:58       0.0\n",
       "             0c:f8:93:bc:27:a0       0.0\n",
       "             10:0d:7f:d1:9b:70       0.0\n",
       "             10:0d:7f:d1:bf:3f       0.0\n",
       "             10:78:5b:17:3d:b1       0.0\n",
       "...                                  ...\n",
       "360610097002 f8:e7:1e:55:dd:08       0.0\n",
       "             f8:e7:1e:55:dd:0c       0.0\n",
       "             f8:e7:1e:6c:81:a8       0.0\n",
       "             f8:e7:1e:6c:81:ac       0.0\n",
       "             f8:e7:1e:95:dd:08       0.0\n",
       "             f8:e7:1e:95:dd:0c       0.0\n",
       "             f8:e7:1e:ac:81:a8     391.0\n",
       "             f8:e7:1e:ac:81:ac     382.0\n",
       "             f8:e7:1e:ec:81:a8       0.0\n",
       "             f8:e7:1e:ec:81:ac       0.0\n",
       "             fa:8f:ca:3b:fc:b1       0.0\n",
       "             fa:8f:ca:50:4b:41       0.0\n",
       "             fa:8f:ca:52:1f:d8       0.0\n",
       "             fa:8f:ca:8d:cb:ae       0.0\n",
       "             fa:8f:ca:8e:0e:fc       0.0\n",
       "             fc:15:b4:6f:92:0b       0.0\n",
       "             fc:52:8d:0b:13:74       0.0\n",
       "             fc:52:8d:0b:13:75       0.0\n",
       "             fc:52:8d:0c:b1:08       0.0\n",
       "             fc:52:8d:42:e3:63       0.0\n",
       "             fc:52:8d:42:e3:64       0.0\n",
       "             fc:52:8d:43:52:8d       0.0\n",
       "             fc:52:8d:43:52:8e       0.0\n",
       "             fc:52:8d:4f:6c:6d       0.0\n",
       "             fc:52:8d:4f:6c:6e       0.0\n",
       "             fc:52:8d:58:ec:6b       0.0\n",
       "             fc:52:8d:ff:6c:39       0.0\n",
       "             fc:52:8d:ff:6c:3a       0.0\n",
       "             fe:1e:df:fc:cd:f3      34.0\n",
       "             fe:a6:67:db:16:0a       0.0\n",
       "\n",
       "[23170 rows x 1 columns]"
      ]
     },
     "execution_count": 2019,
     "metadata": {},
     "output_type": "execute_result"
    }
   ],
   "source": [
    "open_counts_by_bssid"
   ]
  },
  {
   "cell_type": "code",
   "execution_count": 2020,
   "metadata": {
    "collapsed": true
   },
   "outputs": [],
   "source": [
    "open_counts_by_bssid[\"open_net_counts\"] = list(map(lambda x: x > 0, open_counts_by_bssid.open_net))\n",
    "open_counts_by_bssid[\"non_open_net_counts\"] = list(map(lambda x: x == 0, open_counts_by_bssid.open_net))"
   ]
  },
  {
   "cell_type": "code",
   "execution_count": 2021,
   "metadata": {
    "collapsed": true
   },
   "outputs": [],
   "source": [
    "open_counts_by_bssid[\"GEOID\"] = list(map(lambda x: list(x),open_counts_by_bssid.index))\n",
    "open_counts_by_bssid[\"GEOID\"] = list(map(lambda x: x[0][:], open_counts_by_bssid[\"GEOID\"]))"
   ]
  },
  {
   "cell_type": "code",
   "execution_count": 2023,
   "metadata": {
    "collapsed": true
   },
   "outputs": [],
   "source": [
    "open_counts_by_bssid_ = pd.DataFrame(open_counts_by_bssid.groupby(open_counts_by_bssid.GEOID)[[\"open_net_counts\",\"non_open_net_counts\"]].sum())"
   ]
  },
  {
   "cell_type": "code",
   "execution_count": 2027,
   "metadata": {
    "collapsed": false
   },
   "outputs": [
    {
     "data": {
      "text/html": [
       "<div>\n",
       "<table border=\"1\" class=\"dataframe\">\n",
       "  <thead>\n",
       "    <tr style=\"text-align: right;\">\n",
       "      <th></th>\n",
       "      <th>open_net_counts</th>\n",
       "      <th>non_open_net_counts</th>\n",
       "      <th>GEOID</th>\n",
       "    </tr>\n",
       "    <tr>\n",
       "      <th>GEOID</th>\n",
       "      <th></th>\n",
       "      <th></th>\n",
       "      <th></th>\n",
       "    </tr>\n",
       "  </thead>\n",
       "  <tbody>\n",
       "    <tr>\n",
       "      <th>360470029011</th>\n",
       "      <td>23.0</td>\n",
       "      <td>367.0</td>\n",
       "      <td>360470029011</td>\n",
       "    </tr>\n",
       "    <tr>\n",
       "      <th>360470029012</th>\n",
       "      <td>28.0</td>\n",
       "      <td>383.0</td>\n",
       "      <td>360470029012</td>\n",
       "    </tr>\n",
       "    <tr>\n",
       "      <th>360470033001</th>\n",
       "      <td>31.0</td>\n",
       "      <td>1525.0</td>\n",
       "      <td>360470033001</td>\n",
       "    </tr>\n",
       "    <tr>\n",
       "      <th>360470043004</th>\n",
       "      <td>9.0</td>\n",
       "      <td>116.0</td>\n",
       "      <td>360470043004</td>\n",
       "    </tr>\n",
       "    <tr>\n",
       "      <th>360470065001</th>\n",
       "      <td>9.0</td>\n",
       "      <td>247.0</td>\n",
       "      <td>360470065001</td>\n",
       "    </tr>\n",
       "  </tbody>\n",
       "</table>\n",
       "</div>"
      ],
      "text/plain": [
       "              open_net_counts  non_open_net_counts         GEOID\n",
       "GEOID                                                           \n",
       "360470029011             23.0                367.0  360470029011\n",
       "360470029012             28.0                383.0  360470029012\n",
       "360470033001             31.0               1525.0  360470033001\n",
       "360470043004              9.0                116.0  360470043004\n",
       "360470065001              9.0                247.0  360470065001"
      ]
     },
     "execution_count": 2027,
     "metadata": {},
     "output_type": "execute_result"
    }
   ],
   "source": [
    "open_counts_by_bssid_.head()"
   ]
  },
  {
   "cell_type": "code",
   "execution_count": 2026,
   "metadata": {
    "collapsed": true
   },
   "outputs": [],
   "source": [
    "open_counts_by_bssid_[\"GEOID\"] = open_counts_by_bssid_.index"
   ]
  },
  {
   "cell_type": "code",
   "execution_count": 2028,
   "metadata": {
    "collapsed": true
   },
   "outputs": [],
   "source": [
    "housing_bg_final = housing_gdf_.merge(open_counts_by_bssid_, on=\"GEOID\", how=\"inner\")"
   ]
  },
  {
   "cell_type": "code",
   "execution_count": 2032,
   "metadata": {
    "collapsed": false
   },
   "outputs": [
    {
     "data": {
      "text/html": [
       "<div>\n",
       "<table border=\"1\" class=\"dataframe\">\n",
       "  <thead>\n",
       "    <tr style=\"text-align: right;\">\n",
       "      <th></th>\n",
       "      <th>ALAND</th>\n",
       "      <th>AWATER</th>\n",
       "      <th>BLKGRPCE</th>\n",
       "      <th>COUNTYFP</th>\n",
       "      <th>FUNCSTAT</th>\n",
       "      <th>GEOID</th>\n",
       "      <th>INTPTLAT</th>\n",
       "      <th>INTPTLON</th>\n",
       "      <th>MTFCC</th>\n",
       "      <th>NAMELSAD</th>\n",
       "      <th>...</th>\n",
       "      <th>index_right</th>\n",
       "      <th>cartodb_id</th>\n",
       "      <th>descriptio</th>\n",
       "      <th>name</th>\n",
       "      <th>uni_bssid_by_housing_area</th>\n",
       "      <th>open_net</th>\n",
       "      <th>open_net_counts</th>\n",
       "      <th>non_open_net_counts</th>\n",
       "      <th>norm_open_counts</th>\n",
       "      <th>norm_non_open_counts</th>\n",
       "    </tr>\n",
       "  </thead>\n",
       "  <tbody>\n",
       "    <tr>\n",
       "      <th>0</th>\n",
       "      <td>114476</td>\n",
       "      <td>0</td>\n",
       "      <td>1</td>\n",
       "      <td>047</td>\n",
       "      <td>S</td>\n",
       "      <td>360470085001</td>\n",
       "      <td>+40.6766988</td>\n",
       "      <td>-074.0086120</td>\n",
       "      <td>G5030</td>\n",
       "      <td>Block Group 1</td>\n",
       "      <td>...</td>\n",
       "      <td>0</td>\n",
       "      <td>8</td>\n",
       "      <td></td>\n",
       "      <td>Public_RedHook</td>\n",
       "      <td>448</td>\n",
       "      <td>False</td>\n",
       "      <td>15.0</td>\n",
       "      <td>433.0</td>\n",
       "      <td>0.002061</td>\n",
       "      <td>0.059494</td>\n",
       "    </tr>\n",
       "    <tr>\n",
       "      <th>1</th>\n",
       "      <td>114476</td>\n",
       "      <td>0</td>\n",
       "      <td>1</td>\n",
       "      <td>047</td>\n",
       "      <td>S</td>\n",
       "      <td>360470085001</td>\n",
       "      <td>+40.6766988</td>\n",
       "      <td>-074.0086120</td>\n",
       "      <td>G5030</td>\n",
       "      <td>Block Group 1</td>\n",
       "      <td>...</td>\n",
       "      <td>0</td>\n",
       "      <td>8</td>\n",
       "      <td></td>\n",
       "      <td>Public_RedHook</td>\n",
       "      <td>448</td>\n",
       "      <td>False</td>\n",
       "      <td>15.0</td>\n",
       "      <td>433.0</td>\n",
       "      <td>0.002061</td>\n",
       "      <td>0.059494</td>\n",
       "    </tr>\n",
       "    <tr>\n",
       "      <th>2</th>\n",
       "      <td>114476</td>\n",
       "      <td>0</td>\n",
       "      <td>1</td>\n",
       "      <td>047</td>\n",
       "      <td>S</td>\n",
       "      <td>360470085001</td>\n",
       "      <td>+40.6766988</td>\n",
       "      <td>-074.0086120</td>\n",
       "      <td>G5030</td>\n",
       "      <td>Block Group 1</td>\n",
       "      <td>...</td>\n",
       "      <td>0</td>\n",
       "      <td>8</td>\n",
       "      <td></td>\n",
       "      <td>Public_RedHook</td>\n",
       "      <td>448</td>\n",
       "      <td>False</td>\n",
       "      <td>15.0</td>\n",
       "      <td>433.0</td>\n",
       "      <td>0.002061</td>\n",
       "      <td>0.059494</td>\n",
       "    </tr>\n",
       "    <tr>\n",
       "      <th>3</th>\n",
       "      <td>114476</td>\n",
       "      <td>0</td>\n",
       "      <td>1</td>\n",
       "      <td>047</td>\n",
       "      <td>S</td>\n",
       "      <td>360470085001</td>\n",
       "      <td>+40.6766988</td>\n",
       "      <td>-074.0086120</td>\n",
       "      <td>G5030</td>\n",
       "      <td>Block Group 1</td>\n",
       "      <td>...</td>\n",
       "      <td>0</td>\n",
       "      <td>8</td>\n",
       "      <td></td>\n",
       "      <td>Public_RedHook</td>\n",
       "      <td>448</td>\n",
       "      <td>False</td>\n",
       "      <td>15.0</td>\n",
       "      <td>433.0</td>\n",
       "      <td>0.002061</td>\n",
       "      <td>0.059494</td>\n",
       "    </tr>\n",
       "    <tr>\n",
       "      <th>4</th>\n",
       "      <td>114476</td>\n",
       "      <td>0</td>\n",
       "      <td>1</td>\n",
       "      <td>047</td>\n",
       "      <td>S</td>\n",
       "      <td>360470085001</td>\n",
       "      <td>+40.6766988</td>\n",
       "      <td>-074.0086120</td>\n",
       "      <td>G5030</td>\n",
       "      <td>Block Group 1</td>\n",
       "      <td>...</td>\n",
       "      <td>0</td>\n",
       "      <td>8</td>\n",
       "      <td></td>\n",
       "      <td>Public_RedHook</td>\n",
       "      <td>448</td>\n",
       "      <td>False</td>\n",
       "      <td>15.0</td>\n",
       "      <td>433.0</td>\n",
       "      <td>0.002061</td>\n",
       "      <td>0.059494</td>\n",
       "    </tr>\n",
       "  </tbody>\n",
       "</table>\n",
       "<p>5 rows × 79 columns</p>\n",
       "</div>"
      ],
      "text/plain": [
       "    ALAND  AWATER BLKGRPCE COUNTYFP FUNCSTAT         GEOID     INTPTLAT  \\\n",
       "0  114476       0        1      047        S  360470085001  +40.6766988   \n",
       "1  114476       0        1      047        S  360470085001  +40.6766988   \n",
       "2  114476       0        1      047        S  360470085001  +40.6766988   \n",
       "3  114476       0        1      047        S  360470085001  +40.6766988   \n",
       "4  114476       0        1      047        S  360470085001  +40.6766988   \n",
       "\n",
       "       INTPTLON  MTFCC       NAMELSAD         ...          index_right  \\\n",
       "0  -074.0086120  G5030  Block Group 1         ...                    0   \n",
       "1  -074.0086120  G5030  Block Group 1         ...                    0   \n",
       "2  -074.0086120  G5030  Block Group 1         ...                    0   \n",
       "3  -074.0086120  G5030  Block Group 1         ...                    0   \n",
       "4  -074.0086120  G5030  Block Group 1         ...                    0   \n",
       "\n",
       "  cartodb_id descriptio            name uni_bssid_by_housing_area  open_net  \\\n",
       "0          8             Public_RedHook                       448     False   \n",
       "1          8             Public_RedHook                       448     False   \n",
       "2          8             Public_RedHook                       448     False   \n",
       "3          8             Public_RedHook                       448     False   \n",
       "4          8             Public_RedHook                       448     False   \n",
       "\n",
       "   open_net_counts  non_open_net_counts norm_open_counts norm_non_open_counts  \n",
       "0             15.0                433.0         0.002061             0.059494  \n",
       "1             15.0                433.0         0.002061             0.059494  \n",
       "2             15.0                433.0         0.002061             0.059494  \n",
       "3             15.0                433.0         0.002061             0.059494  \n",
       "4             15.0                433.0         0.002061             0.059494  \n",
       "\n",
       "[5 rows x 79 columns]"
      ]
     },
     "execution_count": 2032,
     "metadata": {},
     "output_type": "execute_result"
    }
   ],
   "source": [
    "housing_bg_final.head()"
   ]
  },
  {
   "cell_type": "code",
   "execution_count": 2030,
   "metadata": {
    "collapsed": false
   },
   "outputs": [
    {
     "data": {
      "text/plain": [
       "Index(['ALAND', 'AWATER', 'BLKGRPCE', 'COUNTYFP', 'FUNCSTAT', 'GEOID',\n",
       "       'INTPTLAT', 'INTPTLON', 'MTFCC', 'NAMELSAD', 'STATEFP', 'TRACTCE',\n",
       "       'geometry', 'acc', 'bssid', 'lat', 'level', 'lng', 'ssid', 'time',\n",
       "       'uni_bssid_count', 'Geo_NAME_x', 'Geo_QName_x', 'Geo_AREALAND_x',\n",
       "       'Geo_AREAWATR_x', 'Geo_SUMLEV_x', 'Geo_GEOCOMP_x', 'Geo_REGION_x',\n",
       "       'Geo_DIVISION_x', 'Geo_STATE_x', 'Geo_COUNTY_x', 'Geo_TRACT_x',\n",
       "       'Geo_BLKGRP_x', 'MHI', 'Geo_NAME_y', 'Geo_QName_y', 'Geo_AREALAND_y',\n",
       "       'Geo_AREAWATR_y', 'Geo_SUMLEV_y', 'Geo_GEOCOMP_y', 'Geo_REGION_y',\n",
       "       'Geo_DIVISION_y', 'Geo_STATE_y', 'Geo_COUNTY_y', 'Geo_TRACT_y',\n",
       "       'Geo_BLKGRP_y', 'SE_T003_003', 'Population', 'Pop_Density', 'Geo_NAME',\n",
       "       'Geo_QName', 'Geo_AREALAND', 'Geo_AREAWATR', 'Geo_SUMLEV',\n",
       "       'Geo_GEOCOMP', 'Geo_REGION', 'Geo_DIVISION', 'Geo_STATE', 'Geo_COUNTY',\n",
       "       'Geo_TRACT', 'Geo_BLKGRP', 'Pop_over_25', 'Less_than_HS', 'High_School',\n",
       "       'Some_College', 'Bachelors', 'Masters', 'Professional_School_Degree',\n",
       "       'Doctorate', 'index_right', 'cartodb_id', 'descriptio', 'name',\n",
       "       'uni_bssid_by_housing_area', 'open_net', 'open_net_counts',\n",
       "       'non_open_net_counts'],\n",
       "      dtype='object')"
      ]
     },
     "execution_count": 2030,
     "metadata": {},
     "output_type": "execute_result"
    }
   ],
   "source": [
    "housing_bg_final.columns"
   ]
  },
  {
   "cell_type": "code",
   "execution_count": 2031,
   "metadata": {
    "collapsed": true
   },
   "outputs": [],
   "source": [
    "housing_bg_final[\"norm_open_counts\"] = list(map(lambda x,y: x/y,\\\n",
    "                                                              housing_bg_final.open_net_counts,\\\n",
    "                                                              housing_bg_final.Population))\n",
    "housing_bg_final[\"norm_non_open_counts\"] = list(map(lambda x,y: x/y, housing_bg_final.non_open_net_counts,\\\n",
    "                                                                 housing_bg_final.Population))"
   ]
  },
  {
   "cell_type": "code",
   "execution_count": 2033,
   "metadata": {
    "collapsed": true
   },
   "outputs": [],
   "source": [
    "bar_plot_bg = housing_bg_final[[\"GEOID\",\"norm_open_counts\",\"norm_non_open_counts\"]]"
   ]
  },
  {
   "cell_type": "code",
   "execution_count": 2037,
   "metadata": {
    "collapsed": false
   },
   "outputs": [],
   "source": [
    "bar_plot_bg = bar_plot_bg.drop_duplicates(subset=\"GEOID\", keep='first', inplace=False)"
   ]
  },
  {
   "cell_type": "code",
   "execution_count": 2041,
   "metadata": {
    "collapsed": false
   },
   "outputs": [],
   "source": [
    "bar_plot_bg.index = bar_plot_bg.GEOID"
   ]
  },
  {
   "cell_type": "code",
   "execution_count": 2042,
   "metadata": {
    "collapsed": false
   },
   "outputs": [
    {
     "data": {
      "image/png": "[encoded data removed]",
      "text/plain": [
       "<matplotlib.figure.Figure at 0x372f16ac8>"
      ]
     },
     "metadata": {},
     "output_type": "display_data"
    }
   ],
   "source": [
    "ax = bar_plot_bg.plot(kind='bar', figsize=(15, 7), legend=True, fontsize=15)\n",
    "ax.set_title(\"Open Networks vs. Non-open Networks by Census Block Group\",fontsize=22)\n",
    "ax.set_xlabel(\"Census Block Group\", fontsize=18)\n",
    "ax.set_ylabel(\"Log Normalized Network Counts (bssid/population)\", fontsize=18)\n",
    "ax.set_yscale(\"log\")"
   ]
  },
  {
   "cell_type": "code",
   "execution_count": null,
   "metadata": {
    "collapsed": true
   },
   "outputs": [],
   "source": []
  },
  {
   "cell_type": "code",
   "execution_count": 2047,
   "metadata": {
    "collapsed": false
   },
   "outputs": [
    {
     "data": {
      "text/plain": [
       "Index(['ALAND', 'AWATER', 'BLKGRPCE', 'COUNTYFP', 'FUNCSTAT', 'GEOID',\n",
       "       'INTPTLAT', 'INTPTLON', 'MTFCC', 'NAMELSAD', 'STATEFP', 'TRACTCE',\n",
       "       'geometry', 'acc', 'bssid', 'lat', 'level', 'lng', 'ssid', 'time',\n",
       "       'uni_bssid_count', 'Geo_NAME_x', 'Geo_QName_x', 'Geo_AREALAND_x',\n",
       "       'Geo_AREAWATR_x', 'Geo_SUMLEV_x', 'Geo_GEOCOMP_x', 'Geo_REGION_x',\n",
       "       'Geo_DIVISION_x', 'Geo_STATE_x', 'Geo_COUNTY_x', 'Geo_TRACT_x',\n",
       "       'Geo_BLKGRP_x', 'MHI', 'Geo_NAME_y', 'Geo_QName_y', 'Geo_AREALAND_y',\n",
       "       'Geo_AREAWATR_y', 'Geo_SUMLEV_y', 'Geo_GEOCOMP_y', 'Geo_REGION_y',\n",
       "       'Geo_DIVISION_y', 'Geo_STATE_y', 'Geo_COUNTY_y', 'Geo_TRACT_y',\n",
       "       'Geo_BLKGRP_y', 'SE_T003_003', 'Population', 'Pop_Density', 'Geo_NAME',\n",
       "       'Geo_QName', 'Geo_AREALAND', 'Geo_AREAWATR', 'Geo_SUMLEV',\n",
       "       'Geo_GEOCOMP', 'Geo_REGION', 'Geo_DIVISION', 'Geo_STATE', 'Geo_COUNTY',\n",
       "       'Geo_TRACT', 'Geo_BLKGRP', 'Pop_over_25', 'Less_than_HS', 'High_School',\n",
       "       'Some_College', 'Bachelors', 'Masters', 'Professional_School_Degree',\n",
       "       'Doctorate', 'index_right', 'cartodb_id', 'descriptio', 'name',\n",
       "       'uni_bssid_by_housing_area', 'open_net', 'open_net_counts',\n",
       "       'non_open_net_counts', 'norm_open_counts', 'norm_non_open_counts'],\n",
       "      dtype='object')"
      ]
     },
     "execution_count": 2047,
     "metadata": {},
     "output_type": "execute_result"
    }
   ],
   "source": [
    "housing_bg_final.columns"
   ]
  },
  {
   "cell_type": "code",
   "execution_count": null,
   "metadata": {
    "collapsed": true
   },
   "outputs": [],
   "source": []
  },
  {
   "cell_type": "code",
   "execution_count": 2059,
   "metadata": {
    "collapsed": true
   },
   "outputs": [],
   "source": [
    "housing_scatter_plot = housing_bg_final[[\"name\",\"GEOID\",\"geometry\",\"uni_bssid_count\",\"MHI\",\"Population\",\\\n",
    "                                     \"Pop_Density\",\"Geo_TRACT\",\"Geo_BLKGRP\",\"Pop_over_25\",\\\n",
    "                                     \"Less_than_HS\",\"High_School\",\"Some_College\",\"Bachelors\",\\\n",
    "                                     \"Masters\",\"Professional_School_Degree\",\"Doctorate\",\\\n",
    "                                     \"norm_open_counts\",\"norm_non_open_counts\"]]"
   ]
  },
  {
   "cell_type": "code",
   "execution_count": 2060,
   "metadata": {
    "collapsed": false,
    "scrolled": false
   },
   "outputs": [],
   "source": [
    "housing_scatter_plot = housing_scatter_plot.drop_duplicates(subset=\"GEOID\", keep='first', inplace=False)"
   ]
  },
  {
   "cell_type": "code",
   "execution_count": 2061,
   "metadata": {
    "collapsed": false
   },
   "outputs": [
    {
     "data": {
      "text/plain": [
       "Index(['name', 'GEOID', 'geometry', 'uni_bssid_count', 'MHI', 'Population',\n",
       "       'Pop_Density', 'Geo_TRACT', 'Geo_BLKGRP', 'Pop_over_25', 'Less_than_HS',\n",
       "       'High_School', 'Some_College', 'Bachelors', 'Masters',\n",
       "       'Professional_School_Degree', 'Doctorate', 'norm_open_counts',\n",
       "       'norm_non_open_counts'],\n",
       "      dtype='object')"
      ]
     },
     "execution_count": 2061,
     "metadata": {},
     "output_type": "execute_result"
    }
   ],
   "source": [
    "housing_scatter_plot.columns"
   ]
  },
  {
   "cell_type": "code",
   "execution_count": 2063,
   "metadata": {
    "collapsed": false,
    "scrolled": true
   },
   "outputs": [
    {
     "data": {
      "text/plain": [
       "(33, 19)"
      ]
     },
     "execution_count": 2063,
     "metadata": {},
     "output_type": "execute_result"
    }
   ],
   "source": [
    "housing_scatter_plot.shape"
   ]
  },
  {
   "cell_type": "code",
   "execution_count": 2064,
   "metadata": {
    "collapsed": false
   },
   "outputs": [],
   "source": [
    "scatter_plot = housing_scatter_plot[[\"name\",\"GEOID\",\"MHI\",\"norm_open_counts\",\"norm_non_open_counts\"]]"
   ]
  },
  {
   "cell_type": "code",
   "execution_count": 2090,
   "metadata": {
    "collapsed": true
   },
   "outputs": [],
   "source": [
    "def public(x):\n",
    "    if \"Non\" in str(x):\n",
    "        return False\n",
    "    else:\n",
    "        return True"
   ]
  },
  {
   "cell_type": "code",
   "execution_count": 2096,
   "metadata": {
    "collapsed": false
   },
   "outputs": [
    {
     "name": "stderr",
     "output_type": "stream",
     "text": [
      "/Applications/anaconda/lib/python3.6/site-packages/ipykernel/__main__.py:1: SettingWithCopyWarning: \n",
      "A value is trying to be set on a copy of a slice from a DataFrame.\n",
      "Try using .loc[row_indexer,col_indexer] = value instead\n",
      "\n",
      "See the caveats in the documentation: http://pandas.pydata.org/pandas-docs/stable/indexing.html#indexing-view-versus-copy\n",
      "  if __name__ == '__main__':\n",
      "/Applications/anaconda/lib/python3.6/site-packages/ipykernel/__main__.py:2: SettingWithCopyWarning: \n",
      "A value is trying to be set on a copy of a slice from a DataFrame.\n",
      "Try using .loc[row_indexer,col_indexer] = value instead\n",
      "\n",
      "See the caveats in the documentation: http://pandas.pydata.org/pandas-docs/stable/indexing.html#indexing-view-versus-copy\n",
      "  from ipykernel import kernelapp as app\n"
     ]
    }
   ],
   "source": [
    "scatter_plot[\"Public\"] = list(map(lambda x: public(x), scatter_plot.name))\n",
    "scatter_plot[\"Public_cat\"] = list(map(lambda x: \"public\" if x == True else \"non-public\", scatter_plot.Public))"
   ]
  },
  {
   "cell_type": "code",
   "execution_count": 2097,
   "metadata": {
    "collapsed": false
   },
   "outputs": [
    {
     "data": {
      "text/html": [
       "<div>\n",
       "<table border=\"1\" class=\"dataframe\">\n",
       "  <thead>\n",
       "    <tr style=\"text-align: right;\">\n",
       "      <th></th>\n",
       "      <th>name</th>\n",
       "      <th>GEOID</th>\n",
       "      <th>MHI</th>\n",
       "      <th>norm_open_counts</th>\n",
       "      <th>norm_non_open_counts</th>\n",
       "      <th>Public</th>\n",
       "      <th>Public_cat</th>\n",
       "    </tr>\n",
       "  </thead>\n",
       "  <tbody>\n",
       "    <tr>\n",
       "      <th>0</th>\n",
       "      <td>Public_RedHook</td>\n",
       "      <td>360470085001</td>\n",
       "      <td>10372</td>\n",
       "      <td>0.002061</td>\n",
       "      <td>0.059494</td>\n",
       "      <td>True</td>\n",
       "      <td>public</td>\n",
       "    </tr>\n",
       "    <tr>\n",
       "      <th>1416</th>\n",
       "      <td>Non_Public_RedHook</td>\n",
       "      <td>360470065002</td>\n",
       "      <td>63889</td>\n",
       "      <td>0.002628</td>\n",
       "      <td>0.206307</td>\n",
       "      <td>False</td>\n",
       "      <td>non-public</td>\n",
       "    </tr>\n",
       "    <tr>\n",
       "      <th>1651</th>\n",
       "      <td>Non_Public_RedHook</td>\n",
       "      <td>360470065003</td>\n",
       "      <td>66181</td>\n",
       "      <td>0.008230</td>\n",
       "      <td>0.286694</td>\n",
       "      <td>False</td>\n",
       "      <td>non-public</td>\n",
       "    </tr>\n",
       "    <tr>\n",
       "      <th>1986</th>\n",
       "      <td>Non_Public_RedHook</td>\n",
       "      <td>360470065001</td>\n",
       "      <td>68750</td>\n",
       "      <td>0.013006</td>\n",
       "      <td>0.356936</td>\n",
       "      <td>False</td>\n",
       "      <td>non-public</td>\n",
       "    </tr>\n",
       "    <tr>\n",
       "      <th>2447</th>\n",
       "      <td>Non_Public_RedHook</td>\n",
       "      <td>360470065004</td>\n",
       "      <td>71875</td>\n",
       "      <td>0.011200</td>\n",
       "      <td>0.304000</td>\n",
       "      <td>False</td>\n",
       "      <td>non-public</td>\n",
       "    </tr>\n",
       "  </tbody>\n",
       "</table>\n",
       "</div>"
      ],
      "text/plain": [
       "                    name         GEOID    MHI  norm_open_counts  \\\n",
       "0         Public_RedHook  360470085001  10372          0.002061   \n",
       "1416  Non_Public_RedHook  360470065002  63889          0.002628   \n",
       "1651  Non_Public_RedHook  360470065003  66181          0.008230   \n",
       "1986  Non_Public_RedHook  360470065001  68750          0.013006   \n",
       "2447  Non_Public_RedHook  360470065004  71875          0.011200   \n",
       "\n",
       "      norm_non_open_counts Public  Public_cat  \n",
       "0                 0.059494   True      public  \n",
       "1416              0.206307  False  non-public  \n",
       "1651              0.286694  False  non-public  \n",
       "1986              0.356936  False  non-public  \n",
       "2447              0.304000  False  non-public  "
      ]
     },
     "execution_count": 2097,
     "metadata": {},
     "output_type": "execute_result"
    }
   ],
   "source": [
    "scatter_plot.head()"
   ]
  },
  {
   "cell_type": "markdown",
   "metadata": {},
   "source": [
    "### scatter plots"
   ]
  },
  {
   "cell_type": "code",
   "execution_count": 2099,
   "metadata": {
    "collapsed": false
   },
   "outputs": [
    {
     "data": {
      "text/plain": [
       "<matplotlib.text.Text at 0x38ab792e8>"
      ]
     },
     "execution_count": 2099,
     "metadata": {},
     "output_type": "execute_result"
    },
    {
     "data": {
      "image/png": "[encoded data removed]",
      "text/plain": [
       "<matplotlib.figure.Figure at 0x372fb5908>"
      ]
     },
     "metadata": {},
     "output_type": "display_data"
    }
   ],
   "source": [
    "ax = scatter_plot.plot(kind='scatter', figsize=(15, 10), legend=True, fontsize=15,\\\n",
    "                       x='norm_open_counts', y='MHI', s=100)\n",
    "ax.set_title(\"Median Household Income vs. Normalized Open Networks\",fontsize=22)\n",
    "ax.set_xlabel(\"Normalized Open Network Counts (bssid/population)\", fontsize=18)\n",
    "ax.set_ylabel(\"Median Household Income (USD)\", fontsize=18)\n",
    "#ax.set_yscale(\"log\")"
   ]
  },
  {
   "cell_type": "code",
   "execution_count": 2100,
   "metadata": {
    "collapsed": false
   },
   "outputs": [
    {
     "data": {
      "text/plain": [
       "<matplotlib.text.Text at 0x38adbf780>"
      ]
     },
     "execution_count": 2100,
     "metadata": {},
     "output_type": "execute_result"
    },
    {
     "data": {
      "image/png": "[encoded data removed]",
      "text/plain": [
       "<matplotlib.figure.Figure at 0x38ab54860>"
      ]
     },
     "metadata": {},
     "output_type": "display_data"
    }
   ],
   "source": [
    "ax = scatter_plot.plot(kind='scatter', figsize=(15, 10), legend=True, fontsize=15,\\\n",
    "                       x='norm_non_open_counts', y='MHI', s=100)\n",
    "ax.set_title(\"Median Household Income vs. Normalized Non-open Networks\",fontsize=22)\n",
    "ax.set_xlabel(\"Normalized Open Network Counts (bssid/population)\", fontsize=18)\n",
    "ax.set_ylabel(\"Median Household Income (USD)\", fontsize=18)\n",
    "#ax.set_yscale(\"log\")"
   ]
  },
  {
   "cell_type": "code",
   "execution_count": 2103,
   "metadata": {
    "collapsed": false
   },
   "outputs": [
    {
     "data": {
      "text/plain": [
       "<matplotlib.legend.Legend at 0x372ed7550>"
      ]
     },
     "execution_count": 2103,
     "metadata": {},
     "output_type": "execute_result"
    },
    {
     "data": {
      "image/png": "[encoded data removed]",
      "text/plain": [
       "<matplotlib.figure.Figure at 0x372ed7c18>"
      ]
     },
     "metadata": {},
     "output_type": "display_data"
    }
   ],
   "source": [
    "ax = scatter_plot.plot(kind='scatter', figsize=(15, 10), legend=True, fontsize=15,\\\n",
    "                       x='norm_open_counts', y='MHI', s=100, color='DarkBlue',\\\n",
    "                       label='Open Networks')\n",
    "\n",
    "scatter_plot.plot(kind='scatter', figsize=(15, 10), legend=True, fontsize=15,\\\n",
    "                  x='norm_non_open_counts', y='MHI', s=100,\\\n",
    "                  color='DarkGreen', label='Non-open Networks', ax=ax)\n",
    "ax.set_title(\"Median Household Income vs. Normalized Networks \",fontsize=22)\n",
    "ax.set_xlabel(\"Normalized Network Counts (bssid/population)\", fontsize=18)\n",
    "ax.set_ylabel(\"Median Household Income (USD)\", fontsize=18)\n",
    "ax.legend()"
   ]
  },
  {
   "cell_type": "code",
   "execution_count": null,
   "metadata": {
    "collapsed": true
   },
   "outputs": [],
   "source": []
  },
  {
   "cell_type": "code",
   "execution_count": 2104,
   "metadata": {
    "collapsed": true
   },
   "outputs": [],
   "source": [
    "import statsmodels.api as sm"
   ]
  },
  {
   "cell_type": "code",
   "execution_count": 2105,
   "metadata": {
    "collapsed": false
   },
   "outputs": [
    {
     "data": {
      "text/plain": [
       "Index(['name', 'GEOID', 'MHI', 'norm_open_counts', 'norm_non_open_counts',\n",
       "       'Public', 'Public_cat'],\n",
       "      dtype='object')"
      ]
     },
     "execution_count": 2105,
     "metadata": {},
     "output_type": "execute_result"
    }
   ],
   "source": [
    "scatter_plot.columns"
   ]
  },
  {
   "cell_type": "code",
   "execution_count": 2106,
   "metadata": {
    "collapsed": false
   },
   "outputs": [
    {
     "name": "stdout",
     "output_type": "stream",
     "text": [
      "count       33.000000\n",
      "mean     32732.424242\n",
      "std      23229.770313\n",
      "min       8561.000000\n",
      "25%      13210.000000\n",
      "50%      18167.000000\n",
      "75%      51793.000000\n",
      "max      71875.000000\n",
      "Name: MHI, dtype: float64\n",
      "[ 27708.51710712  27848.4544217   29230.84616789  30409.17223223\n",
      "  29963.59065222  32394.75629979  38397.82154073  28740.90747136\n",
      "  27582.99566544  29520.51831788  55290.84701432  34207.14032304\n",
      "  37187.576245    27878.47190471  30157.61281409  30822.75776511\n",
      "  28883.45738652  29163.50902398  28945.85123513  30229.66638324\n",
      "  32284.56360662  27954.9738074   28129.18836286  28553.26461851\n",
      "  28286.97519227  27389.04060765  28742.16368025  39945.75605216\n",
      "  42909.80375893  37006.80487238  36746.08508203  47060.55907786\n",
      "  40596.35130959]\n"
     ]
    },
    {
     "data": {
      "text/html": [
       "<table class=\"simpletable\">\n",
       "<caption>OLS Regression Results</caption>\n",
       "<tr>\n",
       "  <th>Dep. Variable:</th>           <td>MHI</td>       <th>  R-squared:         </th> <td>   0.078</td>\n",
       "</tr>\n",
       "<tr>\n",
       "  <th>Model:</th>                   <td>OLS</td>       <th>  Adj. R-squared:    </th> <td>   0.049</td>\n",
       "</tr>\n",
       "<tr>\n",
       "  <th>Method:</th>             <td>Least Squares</td>  <th>  F-statistic:       </th> <td>   2.640</td>\n",
       "</tr>\n",
       "<tr>\n",
       "  <th>Date:</th>             <td>Fri, 21 Jul 2017</td> <th>  Prob (F-statistic):</th>  <td> 0.114</td> \n",
       "</tr>\n",
       "<tr>\n",
       "  <th>Time:</th>                 <td>02:00:12</td>     <th>  Log-Likelihood:    </th> <td> -376.72</td>\n",
       "</tr>\n",
       "<tr>\n",
       "  <th>No. Observations:</th>      <td>    33</td>      <th>  AIC:               </th> <td>   757.4</td>\n",
       "</tr>\n",
       "<tr>\n",
       "  <th>Df Residuals:</th>          <td>    31</td>      <th>  BIC:               </th> <td>   760.4</td>\n",
       "</tr>\n",
       "<tr>\n",
       "  <th>Df Model:</th>              <td>     1</td>      <th>                     </th>     <td> </td>   \n",
       "</tr>\n",
       "<tr>\n",
       "  <th>Covariance Type:</th>      <td>nonrobust</td>    <th>                     </th>     <td> </td>   \n",
       "</tr>\n",
       "</table>\n",
       "<table class=\"simpletable\">\n",
       "<tr>\n",
       "          <td></td>            <th>coef</th>     <th>std err</th>      <th>t</th>      <th>P>|t|</th> <th>[95.0% Conf. Int.]</th> \n",
       "</tr>\n",
       "<tr>\n",
       "  <th>const</th>            <td>  2.72e+04</td> <td> 5210.291</td> <td>    5.220</td> <td> 0.000</td> <td> 1.66e+04  3.78e+04</td>\n",
       "</tr>\n",
       "<tr>\n",
       "  <th>norm_open_counts</th> <td> 2.468e+05</td> <td> 1.52e+05</td> <td>    1.625</td> <td> 0.114</td> <td> -6.3e+04  5.56e+05</td>\n",
       "</tr>\n",
       "</table>\n",
       "<table class=\"simpletable\">\n",
       "<tr>\n",
       "  <th>Omnibus:</th>       <td> 4.031</td> <th>  Durbin-Watson:     </th> <td>   0.871</td>\n",
       "</tr>\n",
       "<tr>\n",
       "  <th>Prob(Omnibus):</th> <td> 0.133</td> <th>  Jarque-Bera (JB):  </th> <td>   2.274</td>\n",
       "</tr>\n",
       "<tr>\n",
       "  <th>Skew:</th>          <td> 0.402</td> <th>  Prob(JB):          </th> <td>   0.321</td>\n",
       "</tr>\n",
       "<tr>\n",
       "  <th>Kurtosis:</th>      <td> 1.997</td> <th>  Cond. No.          </th> <td>    38.5</td>\n",
       "</tr>\n",
       "</table>"
      ],
      "text/plain": [
       "<class 'statsmodels.iolib.summary.Summary'>\n",
       "\"\"\"\n",
       "                            OLS Regression Results                            \n",
       "==============================================================================\n",
       "Dep. Variable:                    MHI   R-squared:                       0.078\n",
       "Model:                            OLS   Adj. R-squared:                  0.049\n",
       "Method:                 Least Squares   F-statistic:                     2.640\n",
       "Date:                Fri, 21 Jul 2017   Prob (F-statistic):              0.114\n",
       "Time:                        02:00:12   Log-Likelihood:                -376.72\n",
       "No. Observations:                  33   AIC:                             757.4\n",
       "Df Residuals:                      31   BIC:                             760.4\n",
       "Df Model:                           1                                         \n",
       "Covariance Type:            nonrobust                                         \n",
       "====================================================================================\n",
       "                       coef    std err          t      P>|t|      [95.0% Conf. Int.]\n",
       "------------------------------------------------------------------------------------\n",
       "const              2.72e+04   5210.291      5.220      0.000      1.66e+04  3.78e+04\n",
       "norm_open_counts  2.468e+05   1.52e+05      1.625      0.114      -6.3e+04  5.56e+05\n",
       "==============================================================================\n",
       "Omnibus:                        4.031   Durbin-Watson:                   0.871\n",
       "Prob(Omnibus):                  0.133   Jarque-Bera (JB):                2.274\n",
       "Skew:                           0.402   Prob(JB):                        0.321\n",
       "Kurtosis:                       1.997   Cond. No.                         38.5\n",
       "==============================================================================\n",
       "\n",
       "Warnings:\n",
       "[1] Standard Errors assume that the covariance matrix of the errors is correctly specified.\n",
       "\"\"\""
      ]
     },
     "execution_count": 2106,
     "metadata": {},
     "output_type": "execute_result"
    }
   ],
   "source": [
    "# Open Networks\n",
    "X = scatter_plot.norm_open_counts\n",
    "y = scatter_plot.MHI\n",
    "\n",
    "print(y.describe())\n",
    "\n",
    "X = sm.add_constant(X)\n",
    "model1 = sm.OLS(y, X).fit()\n",
    "\n",
    "predictions1 = model1.predict(X)\n",
    "print(predictions1)\n",
    "\n",
    "model1.summary()"
   ]
  },
  {
   "cell_type": "code",
   "execution_count": 2107,
   "metadata": {
    "collapsed": false
   },
   "outputs": [
    {
     "name": "stdout",
     "output_type": "stream",
     "text": [
      "count       33.000000\n",
      "mean     32732.424242\n",
      "std      23229.770313\n",
      "min       8561.000000\n",
      "25%      13210.000000\n",
      "50%      18167.000000\n",
      "75%      51793.000000\n",
      "max      71875.000000\n",
      "Name: MHI, dtype: float64\n",
      "[ 25875.73182281  27565.5158234   28490.74652793  29299.21879953\n",
      "  28689.93328779  30743.92085689  32335.59886425  26337.87935638\n",
      "  28353.38086506  34042.77807276  43892.46668326  37268.82216284\n",
      "  42108.48795947  28461.38382149  35557.63439111  32607.53306815\n",
      "  30239.10676696  29007.199704    28923.49457505  27012.42876678\n",
      "  34259.26261038  27214.37869389  28315.66311915  28031.58336091\n",
      "  27817.4223997   25993.56224606  29133.05909593  35244.47177701\n",
      "  34704.52264212  47694.02472253  41153.50696869  49979.06143856\n",
      "  43816.21874916]\n"
     ]
    },
    {
     "data": {
      "text/html": [
       "<table class=\"simpletable\">\n",
       "<caption>OLS Regression Results</caption>\n",
       "<tr>\n",
       "  <th>Dep. Variable:</th>           <td>MHI</td>       <th>  R-squared:         </th> <td>   0.081</td>\n",
       "</tr>\n",
       "<tr>\n",
       "  <th>Model:</th>                   <td>OLS</td>       <th>  Adj. R-squared:    </th> <td>   0.051</td>\n",
       "</tr>\n",
       "<tr>\n",
       "  <th>Method:</th>             <td>Least Squares</td>  <th>  F-statistic:       </th> <td>   2.723</td>\n",
       "</tr>\n",
       "<tr>\n",
       "  <th>Date:</th>             <td>Fri, 21 Jul 2017</td> <th>  Prob (F-statistic):</th>  <td> 0.109</td> \n",
       "</tr>\n",
       "<tr>\n",
       "  <th>Time:</th>                 <td>02:00:17</td>     <th>  Log-Likelihood:    </th> <td> -376.68</td>\n",
       "</tr>\n",
       "<tr>\n",
       "  <th>No. Observations:</th>      <td>    33</td>      <th>  AIC:               </th> <td>   757.4</td>\n",
       "</tr>\n",
       "<tr>\n",
       "  <th>Df Residuals:</th>          <td>    31</td>      <th>  BIC:               </th> <td>   760.4</td>\n",
       "</tr>\n",
       "<tr>\n",
       "  <th>Df Model:</th>              <td>     1</td>      <th>                     </th>     <td> </td>   \n",
       "</tr>\n",
       "<tr>\n",
       "  <th>Covariance Type:</th>      <td>nonrobust</td>    <th>                     </th>     <td> </td>   \n",
       "</tr>\n",
       "</table>\n",
       "<table class=\"simpletable\">\n",
       "<tr>\n",
       "            <td></td>              <th>coef</th>     <th>std err</th>      <th>t</th>      <th>P>|t|</th> <th>[95.0% Conf. Int.]</th> \n",
       "</tr>\n",
       "<tr>\n",
       "  <th>const</th>                <td> 2.519e+04</td> <td> 6033.243</td> <td>    4.175</td> <td> 0.000</td> <td> 1.29e+04  3.75e+04</td>\n",
       "</tr>\n",
       "<tr>\n",
       "  <th>norm_non_open_counts</th> <td> 1.151e+04</td> <td> 6974.490</td> <td>    1.650</td> <td> 0.109</td> <td>-2714.806  2.57e+04</td>\n",
       "</tr>\n",
       "</table>\n",
       "<table class=\"simpletable\">\n",
       "<tr>\n",
       "  <th>Omnibus:</th>       <td> 5.316</td> <th>  Durbin-Watson:     </th> <td>   0.812</td>\n",
       "</tr>\n",
       "<tr>\n",
       "  <th>Prob(Omnibus):</th> <td> 0.070</td> <th>  Jarque-Bera (JB):  </th> <td>   3.336</td>\n",
       "</tr>\n",
       "<tr>\n",
       "  <th>Skew:</th>          <td> 0.594</td> <th>  Prob(JB):          </th> <td>   0.189</td>\n",
       "</tr>\n",
       "<tr>\n",
       "  <th>Kurtosis:</th>      <td> 1.993</td> <th>  Cond. No.          </th> <td>    2.73</td>\n",
       "</tr>\n",
       "</table>"
      ],
      "text/plain": [
       "<class 'statsmodels.iolib.summary.Summary'>\n",
       "\"\"\"\n",
       "                            OLS Regression Results                            \n",
       "==============================================================================\n",
       "Dep. Variable:                    MHI   R-squared:                       0.081\n",
       "Model:                            OLS   Adj. R-squared:                  0.051\n",
       "Method:                 Least Squares   F-statistic:                     2.723\n",
       "Date:                Fri, 21 Jul 2017   Prob (F-statistic):              0.109\n",
       "Time:                        02:00:17   Log-Likelihood:                -376.68\n",
       "No. Observations:                  33   AIC:                             757.4\n",
       "Df Residuals:                      31   BIC:                             760.4\n",
       "Df Model:                           1                                         \n",
       "Covariance Type:            nonrobust                                         \n",
       "========================================================================================\n",
       "                           coef    std err          t      P>|t|      [95.0% Conf. Int.]\n",
       "----------------------------------------------------------------------------------------\n",
       "const                 2.519e+04   6033.243      4.175      0.000      1.29e+04  3.75e+04\n",
       "norm_non_open_counts  1.151e+04   6974.490      1.650      0.109     -2714.806  2.57e+04\n",
       "==============================================================================\n",
       "Omnibus:                        5.316   Durbin-Watson:                   0.812\n",
       "Prob(Omnibus):                  0.070   Jarque-Bera (JB):                3.336\n",
       "Skew:                           0.594   Prob(JB):                        0.189\n",
       "Kurtosis:                       1.993   Cond. No.                         2.73\n",
       "==============================================================================\n",
       "\n",
       "Warnings:\n",
       "[1] Standard Errors assume that the covariance matrix of the errors is correctly specified.\n",
       "\"\"\""
      ]
     },
     "execution_count": 2107,
     "metadata": {},
     "output_type": "execute_result"
    }
   ],
   "source": [
    "# Non-Open Networks\n",
    "X2 = scatter_plot.norm_non_open_counts\n",
    "y = scatter_plot.MHI\n",
    "\n",
    "print(y.describe())\n",
    "\n",
    "X2 = sm.add_constant(X2)\n",
    "model2 = sm.OLS(y, X2).fit()\n",
    "\n",
    "predictions2 = model2.predict(X2)\n",
    "print(predictions2)\n",
    "\n",
    "model2.summary()"
   ]
  },
  {
   "cell_type": "code",
   "execution_count": 2108,
   "metadata": {
    "collapsed": false,
    "scrolled": true
   },
   "outputs": [
    {
     "data": {
      "text/html": [
       "<div>\n",
       "<table border=\"1\" class=\"dataframe\">\n",
       "  <thead>\n",
       "    <tr style=\"text-align: right;\">\n",
       "      <th></th>\n",
       "      <th>name</th>\n",
       "      <th>GEOID</th>\n",
       "      <th>MHI</th>\n",
       "      <th>norm_open_counts</th>\n",
       "      <th>norm_non_open_counts</th>\n",
       "      <th>Public</th>\n",
       "      <th>Public_cat</th>\n",
       "    </tr>\n",
       "  </thead>\n",
       "  <tbody>\n",
       "    <tr>\n",
       "      <th>0</th>\n",
       "      <td>Public_RedHook</td>\n",
       "      <td>360470085001</td>\n",
       "      <td>10372</td>\n",
       "      <td>0.002061</td>\n",
       "      <td>0.059494</td>\n",
       "      <td>True</td>\n",
       "      <td>public</td>\n",
       "    </tr>\n",
       "    <tr>\n",
       "      <th>1416</th>\n",
       "      <td>Non_Public_RedHook</td>\n",
       "      <td>360470065002</td>\n",
       "      <td>63889</td>\n",
       "      <td>0.002628</td>\n",
       "      <td>0.206307</td>\n",
       "      <td>False</td>\n",
       "      <td>non-public</td>\n",
       "    </tr>\n",
       "    <tr>\n",
       "      <th>1651</th>\n",
       "      <td>Non_Public_RedHook</td>\n",
       "      <td>360470065003</td>\n",
       "      <td>66181</td>\n",
       "      <td>0.008230</td>\n",
       "      <td>0.286694</td>\n",
       "      <td>False</td>\n",
       "      <td>non-public</td>\n",
       "    </tr>\n",
       "    <tr>\n",
       "      <th>1986</th>\n",
       "      <td>Non_Public_RedHook</td>\n",
       "      <td>360470065001</td>\n",
       "      <td>68750</td>\n",
       "      <td>0.013006</td>\n",
       "      <td>0.356936</td>\n",
       "      <td>False</td>\n",
       "      <td>non-public</td>\n",
       "    </tr>\n",
       "    <tr>\n",
       "      <th>2447</th>\n",
       "      <td>Non_Public_RedHook</td>\n",
       "      <td>360470065004</td>\n",
       "      <td>71875</td>\n",
       "      <td>0.011200</td>\n",
       "      <td>0.304000</td>\n",
       "      <td>False</td>\n",
       "      <td>non-public</td>\n",
       "    </tr>\n",
       "    <tr>\n",
       "      <th>2844</th>\n",
       "      <td>Non_Public_RedHook</td>\n",
       "      <td>360470065005</td>\n",
       "      <td>47260</td>\n",
       "      <td>0.021053</td>\n",
       "      <td>0.482456</td>\n",
       "      <td>False</td>\n",
       "      <td>non-public</td>\n",
       "    </tr>\n",
       "    <tr>\n",
       "      <th>3431</th>\n",
       "      <td>Public_Whitman</td>\n",
       "      <td>360470029012</td>\n",
       "      <td>14091</td>\n",
       "      <td>0.045381</td>\n",
       "      <td>0.620746</td>\n",
       "      <td>True</td>\n",
       "      <td>public</td>\n",
       "    </tr>\n",
       "    <tr>\n",
       "      <th>4870</th>\n",
       "      <td>Public_Whitman</td>\n",
       "      <td>360470029011</td>\n",
       "      <td>11185</td>\n",
       "      <td>0.006245</td>\n",
       "      <td>0.099647</td>\n",
       "      <td>True</td>\n",
       "      <td>public</td>\n",
       "    </tr>\n",
       "    <tr>\n",
       "      <th>6320</th>\n",
       "      <td>Public_Gowanus</td>\n",
       "      <td>360470071003</td>\n",
       "      <td>13202</td>\n",
       "      <td>0.001552</td>\n",
       "      <td>0.274759</td>\n",
       "      <td>True</td>\n",
       "      <td>public</td>\n",
       "    </tr>\n",
       "    <tr>\n",
       "      <th>22628</th>\n",
       "      <td>Public_Gowanus</td>\n",
       "      <td>360470127003</td>\n",
       "      <td>15868</td>\n",
       "      <td>0.009404</td>\n",
       "      <td>0.769070</td>\n",
       "      <td>True</td>\n",
       "      <td>public</td>\n",
       "    </tr>\n",
       "    <tr>\n",
       "      <th>50090</th>\n",
       "      <td>Public_Chelsea</td>\n",
       "      <td>360610083003</td>\n",
       "      <td>13210</td>\n",
       "      <td>0.113842</td>\n",
       "      <td>1.624838</td>\n",
       "      <td>True</td>\n",
       "      <td>public</td>\n",
       "    </tr>\n",
       "    <tr>\n",
       "      <th>142909</th>\n",
       "      <td>Public_Chelsea</td>\n",
       "      <td>360610089003</td>\n",
       "      <td>39788</td>\n",
       "      <td>0.028398</td>\n",
       "      <td>1.049358</td>\n",
       "      <td>True</td>\n",
       "      <td>public</td>\n",
       "    </tr>\n",
       "    <tr>\n",
       "      <th>202405</th>\n",
       "      <td>Public_Chelsea</td>\n",
       "      <td>360610097002</td>\n",
       "      <td>13889</td>\n",
       "      <td>0.040476</td>\n",
       "      <td>1.469841</td>\n",
       "      <td>True</td>\n",
       "      <td>public</td>\n",
       "    </tr>\n",
       "    <tr>\n",
       "      <th>291249</th>\n",
       "      <td>Non_Public_Tompkins</td>\n",
       "      <td>360470261001</td>\n",
       "      <td>14426</td>\n",
       "      <td>0.002750</td>\n",
       "      <td>0.284143</td>\n",
       "      <td>False</td>\n",
       "      <td>non-public</td>\n",
       "    </tr>\n",
       "    <tr>\n",
       "      <th>291964</th>\n",
       "      <td>Non_Public_Tompkins</td>\n",
       "      <td>360470261005</td>\n",
       "      <td>8561</td>\n",
       "      <td>0.011986</td>\n",
       "      <td>0.900685</td>\n",
       "      <td>False</td>\n",
       "      <td>non-public</td>\n",
       "    </tr>\n",
       "    <tr>\n",
       "      <th>292938</th>\n",
       "      <td>Non_Public_Tompkins</td>\n",
       "      <td>360470261002</td>\n",
       "      <td>18814</td>\n",
       "      <td>0.014682</td>\n",
       "      <td>0.644372</td>\n",
       "      <td>False</td>\n",
       "      <td>non-public</td>\n",
       "    </tr>\n",
       "    <tr>\n",
       "      <th>293598</th>\n",
       "      <td>Non_Public_Tompkins</td>\n",
       "      <td>360470261004</td>\n",
       "      <td>17083</td>\n",
       "      <td>0.006823</td>\n",
       "      <td>0.438596</td>\n",
       "      <td>False</td>\n",
       "      <td>non-public</td>\n",
       "    </tr>\n",
       "    <tr>\n",
       "      <th>295014</th>\n",
       "      <td>Non_Public_Tompkins</td>\n",
       "      <td>360470261003</td>\n",
       "      <td>18167</td>\n",
       "      <td>0.007958</td>\n",
       "      <td>0.331565</td>\n",
       "      <td>False</td>\n",
       "      <td>non-public</td>\n",
       "    </tr>\n",
       "    <tr>\n",
       "      <th>295852</th>\n",
       "      <td>Non_Public_Gowanus</td>\n",
       "      <td>360470069004</td>\n",
       "      <td>51793</td>\n",
       "      <td>0.007075</td>\n",
       "      <td>0.324292</td>\n",
       "      <td>False</td>\n",
       "      <td>non-public</td>\n",
       "    </tr>\n",
       "    <tr>\n",
       "      <th>302172</th>\n",
       "      <td>Non_Public_Gowanus</td>\n",
       "      <td>360470043004</td>\n",
       "      <td>47125</td>\n",
       "      <td>0.012278</td>\n",
       "      <td>0.158254</td>\n",
       "      <td>False</td>\n",
       "      <td>non-public</td>\n",
       "    </tr>\n",
       "    <tr>\n",
       "      <th>303096</th>\n",
       "      <td>Non_Public_Gowanus</td>\n",
       "      <td>360470069003</td>\n",
       "      <td>49444</td>\n",
       "      <td>0.020606</td>\n",
       "      <td>0.787879</td>\n",
       "      <td>False</td>\n",
       "      <td>non-public</td>\n",
       "    </tr>\n",
       "    <tr>\n",
       "      <th>332024</th>\n",
       "      <td>Public_Tompkins</td>\n",
       "      <td>360470259021</td>\n",
       "      <td>13218</td>\n",
       "      <td>0.003060</td>\n",
       "      <td>0.175800</td>\n",
       "      <td>True</td>\n",
       "      <td>public</td>\n",
       "    </tr>\n",
       "    <tr>\n",
       "      <th>334304</th>\n",
       "      <td>Public_Tompkins</td>\n",
       "      <td>360470285021</td>\n",
       "      <td>11859</td>\n",
       "      <td>0.003766</td>\n",
       "      <td>0.271482</td>\n",
       "      <td>True</td>\n",
       "      <td>public</td>\n",
       "    </tr>\n",
       "    <tr>\n",
       "      <th>337002</th>\n",
       "      <td>Public_Tompkins</td>\n",
       "      <td>360470283001</td>\n",
       "      <td>13043</td>\n",
       "      <td>0.005484</td>\n",
       "      <td>0.246801</td>\n",
       "      <td>True</td>\n",
       "      <td>public</td>\n",
       "    </tr>\n",
       "    <tr>\n",
       "      <th>337988</th>\n",
       "      <td>Public_Tompkins</td>\n",
       "      <td>360470289004</td>\n",
       "      <td>13229</td>\n",
       "      <td>0.004405</td>\n",
       "      <td>0.228194</td>\n",
       "      <td>True</td>\n",
       "      <td>public</td>\n",
       "    </tr>\n",
       "    <tr>\n",
       "      <th>338701</th>\n",
       "      <td>Public_Tompkins</td>\n",
       "      <td>360470287003</td>\n",
       "      <td>9563</td>\n",
       "      <td>0.000766</td>\n",
       "      <td>0.069732</td>\n",
       "      <td>True</td>\n",
       "      <td>public</td>\n",
       "    </tr>\n",
       "    <tr>\n",
       "      <th>338793</th>\n",
       "      <td>Public_Tompkins</td>\n",
       "      <td>360470281001</td>\n",
       "      <td>9934</td>\n",
       "      <td>0.006250</td>\n",
       "      <td>0.342500</td>\n",
       "      <td>True</td>\n",
       "      <td>public</td>\n",
       "    </tr>\n",
       "    <tr>\n",
       "      <th>341334</th>\n",
       "      <td>Non_Public_Chelsea</td>\n",
       "      <td>360610091002</td>\n",
       "      <td>43071</td>\n",
       "      <td>0.051654</td>\n",
       "      <td>0.873476</td>\n",
       "      <td>False</td>\n",
       "      <td>non-public</td>\n",
       "    </tr>\n",
       "    <tr>\n",
       "      <th>383900</th>\n",
       "      <td>Non_Public_Chelsea</td>\n",
       "      <td>360610091003</td>\n",
       "      <td>70741</td>\n",
       "      <td>0.063666</td>\n",
       "      <td>0.826564</td>\n",
       "      <td>False</td>\n",
       "      <td>non-public</td>\n",
       "    </tr>\n",
       "    <tr>\n",
       "      <th>396031</th>\n",
       "      <td>Non_Public_Whitman</td>\n",
       "      <td>360470033001</td>\n",
       "      <td>52500</td>\n",
       "      <td>0.039744</td>\n",
       "      <td>1.955128</td>\n",
       "      <td>False</td>\n",
       "      <td>non-public</td>\n",
       "    </tr>\n",
       "    <tr>\n",
       "      <th>414101</th>\n",
       "      <td>Non_Public_Whitman</td>\n",
       "      <td>360470181003</td>\n",
       "      <td>34489</td>\n",
       "      <td>0.038687</td>\n",
       "      <td>1.386870</td>\n",
       "      <td>False</td>\n",
       "      <td>non-public</td>\n",
       "    </tr>\n",
       "    <tr>\n",
       "      <th>428160</th>\n",
       "      <td>Non_Public_Whitman</td>\n",
       "      <td>360470181002</td>\n",
       "      <td>71779</td>\n",
       "      <td>0.080488</td>\n",
       "      <td>2.153659</td>\n",
       "      <td>False</td>\n",
       "      <td>non-public</td>\n",
       "    </tr>\n",
       "    <tr>\n",
       "      <th>437026</th>\n",
       "      <td>Non_Public_Whitman</td>\n",
       "      <td>360470181001</td>\n",
       "      <td>61771</td>\n",
       "      <td>0.054291</td>\n",
       "      <td>1.618214</td>\n",
       "      <td>False</td>\n",
       "      <td>non-public</td>\n",
       "    </tr>\n",
       "  </tbody>\n",
       "</table>\n",
       "</div>"
      ],
      "text/plain": [
       "                       name         GEOID    MHI  norm_open_counts  \\\n",
       "0            Public_RedHook  360470085001  10372          0.002061   \n",
       "1416     Non_Public_RedHook  360470065002  63889          0.002628   \n",
       "1651     Non_Public_RedHook  360470065003  66181          0.008230   \n",
       "1986     Non_Public_RedHook  360470065001  68750          0.013006   \n",
       "2447     Non_Public_RedHook  360470065004  71875          0.011200   \n",
       "2844     Non_Public_RedHook  360470065005  47260          0.021053   \n",
       "3431         Public_Whitman  360470029012  14091          0.045381   \n",
       "4870         Public_Whitman  360470029011  11185          0.006245   \n",
       "6320         Public_Gowanus  360470071003  13202          0.001552   \n",
       "22628        Public_Gowanus  360470127003  15868          0.009404   \n",
       "50090        Public_Chelsea  360610083003  13210          0.113842   \n",
       "142909       Public_Chelsea  360610089003  39788          0.028398   \n",
       "202405       Public_Chelsea  360610097002  13889          0.040476   \n",
       "291249  Non_Public_Tompkins  360470261001  14426          0.002750   \n",
       "291964  Non_Public_Tompkins  360470261005   8561          0.011986   \n",
       "292938  Non_Public_Tompkins  360470261002  18814          0.014682   \n",
       "293598  Non_Public_Tompkins  360470261004  17083          0.006823   \n",
       "295014  Non_Public_Tompkins  360470261003  18167          0.007958   \n",
       "295852   Non_Public_Gowanus  360470069004  51793          0.007075   \n",
       "302172   Non_Public_Gowanus  360470043004  47125          0.012278   \n",
       "303096   Non_Public_Gowanus  360470069003  49444          0.020606   \n",
       "332024      Public_Tompkins  360470259021  13218          0.003060   \n",
       "334304      Public_Tompkins  360470285021  11859          0.003766   \n",
       "337002      Public_Tompkins  360470283001  13043          0.005484   \n",
       "337988      Public_Tompkins  360470289004  13229          0.004405   \n",
       "338701      Public_Tompkins  360470287003   9563          0.000766   \n",
       "338793      Public_Tompkins  360470281001   9934          0.006250   \n",
       "341334   Non_Public_Chelsea  360610091002  43071          0.051654   \n",
       "383900   Non_Public_Chelsea  360610091003  70741          0.063666   \n",
       "396031   Non_Public_Whitman  360470033001  52500          0.039744   \n",
       "414101   Non_Public_Whitman  360470181003  34489          0.038687   \n",
       "428160   Non_Public_Whitman  360470181002  71779          0.080488   \n",
       "437026   Non_Public_Whitman  360470181001  61771          0.054291   \n",
       "\n",
       "        norm_non_open_counts Public  Public_cat  \n",
       "0                   0.059494   True      public  \n",
       "1416                0.206307  False  non-public  \n",
       "1651                0.286694  False  non-public  \n",
       "1986                0.356936  False  non-public  \n",
       "2447                0.304000  False  non-public  \n",
       "2844                0.482456  False  non-public  \n",
       "3431                0.620746   True      public  \n",
       "4870                0.099647   True      public  \n",
       "6320                0.274759   True      public  \n",
       "22628               0.769070   True      public  \n",
       "50090               1.624838   True      public  \n",
       "142909              1.049358   True      public  \n",
       "202405              1.469841   True      public  \n",
       "291249              0.284143  False  non-public  \n",
       "291964              0.900685  False  non-public  \n",
       "292938              0.644372  False  non-public  \n",
       "293598              0.438596  False  non-public  \n",
       "295014              0.331565  False  non-public  \n",
       "295852              0.324292  False  non-public  \n",
       "302172              0.158254  False  non-public  \n",
       "303096              0.787879  False  non-public  \n",
       "332024              0.175800   True      public  \n",
       "334304              0.271482   True      public  \n",
       "337002              0.246801   True      public  \n",
       "337988              0.228194   True      public  \n",
       "338701              0.069732   True      public  \n",
       "338793              0.342500   True      public  \n",
       "341334              0.873476  False  non-public  \n",
       "383900              0.826564  False  non-public  \n",
       "396031              1.955128  False  non-public  \n",
       "414101              1.386870  False  non-public  \n",
       "428160              2.153659  False  non-public  \n",
       "437026              1.618214  False  non-public  "
      ]
     },
     "execution_count": 2108,
     "metadata": {},
     "output_type": "execute_result"
    }
   ],
   "source": [
    "scatter_plot"
   ]
  },
  {
   "cell_type": "code",
   "execution_count": 2109,
   "metadata": {
    "collapsed": false
   },
   "outputs": [
    {
     "name": "stderr",
     "output_type": "stream",
     "text": [
      "/Applications/anaconda/lib/python3.6/site-packages/ipykernel/__main__.py:1: SettingWithCopyWarning: \n",
      "A value is trying to be set on a copy of a slice from a DataFrame.\n",
      "Try using .loc[row_indexer,col_indexer] = value instead\n",
      "\n",
      "See the caveats in the documentation: http://pandas.pydata.org/pandas-docs/stable/indexing.html#indexing-view-versus-copy\n",
      "  if __name__ == '__main__':\n",
      "/Applications/anaconda/lib/python3.6/site-packages/ipykernel/__main__.py:2: SettingWithCopyWarning: \n",
      "A value is trying to be set on a copy of a slice from a DataFrame.\n",
      "Try using .loc[row_indexer,col_indexer] = value instead\n",
      "\n",
      "See the caveats in the documentation: http://pandas.pydata.org/pandas-docs/stable/indexing.html#indexing-view-versus-copy\n",
      "  from ipykernel import kernelapp as app\n"
     ]
    }
   ],
   "source": [
    "scatter_plot[\"predictions_open\"] = predictions1\n",
    "scatter_plot[\"predictions_non_open\"] = predictions2"
   ]
  },
  {
   "cell_type": "code",
   "execution_count": 2115,
   "metadata": {
    "collapsed": false
   },
   "outputs": [
    {
     "data": {
      "text/html": [
       "<div>\n",
       "<table border=\"1\" class=\"dataframe\">\n",
       "  <thead>\n",
       "    <tr style=\"text-align: right;\">\n",
       "      <th></th>\n",
       "      <th>name</th>\n",
       "      <th>GEOID</th>\n",
       "      <th>MHI</th>\n",
       "      <th>norm_open_counts</th>\n",
       "      <th>norm_non_open_counts</th>\n",
       "      <th>Public</th>\n",
       "      <th>Public_cat</th>\n",
       "      <th>predictions_open</th>\n",
       "      <th>predictions_non_open</th>\n",
       "    </tr>\n",
       "  </thead>\n",
       "  <tbody>\n",
       "    <tr>\n",
       "      <th>0</th>\n",
       "      <td>Public_RedHook</td>\n",
       "      <td>360470085001</td>\n",
       "      <td>10372</td>\n",
       "      <td>0.002061</td>\n",
       "      <td>0.059494</td>\n",
       "      <td>True</td>\n",
       "      <td>public</td>\n",
       "      <td>27708.517107</td>\n",
       "      <td>25875.731823</td>\n",
       "    </tr>\n",
       "    <tr>\n",
       "      <th>1416</th>\n",
       "      <td>Non_Public_RedHook</td>\n",
       "      <td>360470065002</td>\n",
       "      <td>63889</td>\n",
       "      <td>0.002628</td>\n",
       "      <td>0.206307</td>\n",
       "      <td>False</td>\n",
       "      <td>non-public</td>\n",
       "      <td>27848.454422</td>\n",
       "      <td>27565.515823</td>\n",
       "    </tr>\n",
       "    <tr>\n",
       "      <th>1651</th>\n",
       "      <td>Non_Public_RedHook</td>\n",
       "      <td>360470065003</td>\n",
       "      <td>66181</td>\n",
       "      <td>0.008230</td>\n",
       "      <td>0.286694</td>\n",
       "      <td>False</td>\n",
       "      <td>non-public</td>\n",
       "      <td>29230.846168</td>\n",
       "      <td>28490.746528</td>\n",
       "    </tr>\n",
       "    <tr>\n",
       "      <th>1986</th>\n",
       "      <td>Non_Public_RedHook</td>\n",
       "      <td>360470065001</td>\n",
       "      <td>68750</td>\n",
       "      <td>0.013006</td>\n",
       "      <td>0.356936</td>\n",
       "      <td>False</td>\n",
       "      <td>non-public</td>\n",
       "      <td>30409.172232</td>\n",
       "      <td>29299.218800</td>\n",
       "    </tr>\n",
       "    <tr>\n",
       "      <th>2447</th>\n",
       "      <td>Non_Public_RedHook</td>\n",
       "      <td>360470065004</td>\n",
       "      <td>71875</td>\n",
       "      <td>0.011200</td>\n",
       "      <td>0.304000</td>\n",
       "      <td>False</td>\n",
       "      <td>non-public</td>\n",
       "      <td>29963.590652</td>\n",
       "      <td>28689.933288</td>\n",
       "    </tr>\n",
       "  </tbody>\n",
       "</table>\n",
       "</div>"
      ],
      "text/plain": [
       "                    name         GEOID    MHI  norm_open_counts  \\\n",
       "0         Public_RedHook  360470085001  10372          0.002061   \n",
       "1416  Non_Public_RedHook  360470065002  63889          0.002628   \n",
       "1651  Non_Public_RedHook  360470065003  66181          0.008230   \n",
       "1986  Non_Public_RedHook  360470065001  68750          0.013006   \n",
       "2447  Non_Public_RedHook  360470065004  71875          0.011200   \n",
       "\n",
       "      norm_non_open_counts Public  Public_cat  predictions_open  \\\n",
       "0                 0.059494   True      public      27708.517107   \n",
       "1416              0.206307  False  non-public      27848.454422   \n",
       "1651              0.286694  False  non-public      29230.846168   \n",
       "1986              0.356936  False  non-public      30409.172232   \n",
       "2447              0.304000  False  non-public      29963.590652   \n",
       "\n",
       "      predictions_non_open  \n",
       "0             25875.731823  \n",
       "1416          27565.515823  \n",
       "1651          28490.746528  \n",
       "1986          29299.218800  \n",
       "2447          28689.933288  "
      ]
     },
     "execution_count": 2115,
     "metadata": {},
     "output_type": "execute_result"
    }
   ],
   "source": [
    "scatter_plot.head()"
   ]
  },
  {
   "cell_type": "code",
   "execution_count": 2113,
   "metadata": {
    "collapsed": false
   },
   "outputs": [
    {
     "data": {
      "text/html": [
       "<div>\n",
       "<table border=\"1\" class=\"dataframe\">\n",
       "  <thead>\n",
       "    <tr style=\"text-align: right;\">\n",
       "      <th></th>\n",
       "      <th>const</th>\n",
       "      <th>norm_non_open_counts</th>\n",
       "    </tr>\n",
       "  </thead>\n",
       "  <tbody>\n",
       "    <tr>\n",
       "      <th>0</th>\n",
       "      <td>1.0</td>\n",
       "      <td>0.059494</td>\n",
       "    </tr>\n",
       "    <tr>\n",
       "      <th>1416</th>\n",
       "      <td>1.0</td>\n",
       "      <td>0.206307</td>\n",
       "    </tr>\n",
       "    <tr>\n",
       "      <th>1651</th>\n",
       "      <td>1.0</td>\n",
       "      <td>0.286694</td>\n",
       "    </tr>\n",
       "    <tr>\n",
       "      <th>1986</th>\n",
       "      <td>1.0</td>\n",
       "      <td>0.356936</td>\n",
       "    </tr>\n",
       "    <tr>\n",
       "      <th>2447</th>\n",
       "      <td>1.0</td>\n",
       "      <td>0.304000</td>\n",
       "    </tr>\n",
       "  </tbody>\n",
       "</table>\n",
       "</div>"
      ],
      "text/plain": [
       "      const  norm_non_open_counts\n",
       "0       1.0              0.059494\n",
       "1416    1.0              0.206307\n",
       "1651    1.0              0.286694\n",
       "1986    1.0              0.356936\n",
       "2447    1.0              0.304000"
      ]
     },
     "execution_count": 2113,
     "metadata": {},
     "output_type": "execute_result"
    }
   ],
   "source": [
    "X2.head()"
   ]
  },
  {
   "cell_type": "code",
   "execution_count": 2132,
   "metadata": {
    "collapsed": false,
    "scrolled": true
   },
   "outputs": [
    {
     "data": {
      "image/png": "[encoded data removed]",
      "text/plain": [
       "<matplotlib.figure.Figure at 0x19340dc50>"
      ]
     },
     "metadata": {},
     "output_type": "display_data"
    }
   ],
   "source": [
    "ax1 = plt.subplot(1,2,1)\n",
    "\n",
    "scatter_plot[scatter_plot.Public_cat == \"public\"].plot(kind='scatter', title =\"Open Networks in Public vs. Non-public Residential Areas\", \\\n",
    "                   figsize=(15, 4), legend=True, fontsize=15, x='norm_open_counts', \\\n",
    "                  y='MHI', s=40, color='DarkBlue',\\\n",
    "                      label='public', ax=ax1, marker=\"o\")\n",
    "scatter_plot[scatter_plot.Public_cat == \"non-public\"].plot(kind='scatter', title =\"Open Networks in Public vs. Non-public Residential Areas\", \\\n",
    "                   figsize=(15, 4), legend=True, fontsize=15, x='norm_open_counts', \\\n",
    "                  y='MHI', s=40, color='DarkGreen',\\\n",
    "                      label='non public', ax=ax1, marker=\"s\")\n",
    "plt.plot(X.norm_open_counts, predictions1, color=\"red\", linestyle='--', dashes=(.3, 4))\n",
    "\n",
    "ax1.set_title(\"Normalized Open Networks vs. Median Household Income\",fontsize=18)\n",
    "ax1.set_xlabel(\"Normalized Open Network Counts (bssid/population)\\n\\nR-sq: {:.2}, ρ: {}\".format(model1.rsquared,\"na\"),\\\n",
    "               fontsize=13)\n",
    "ax1.set_ylabel(\"Median Household Income (USD)\", fontsize=13)\n",
    "\n",
    "\n",
    "ax2 = plt.subplot(1,2,2)\n",
    "\n",
    "scatter_plot[scatter_plot.Public_cat == \"public\"].plot(kind='scatter', title =\"Non-Open Networks in Public vs. Non-public Residential Areas\", \\\n",
    "                   figsize=(15, 4), legend=True, fontsize=15, x='norm_non_open_counts', y='MHI', s=40,\\\n",
    "                       color='DarkBlue', label='public', ax=ax2, marker=\"o\")\n",
    "scatter_plot[scatter_plot.Public_cat == \"non-public\"].plot(kind='scatter', title =\"Non-Open Networks in Public vs. Non-public Residential Areas\", \\\n",
    "                   figsize=(15, 4), legend=True, fontsize=15, x='norm_non_open_counts', y='MHI', s=40,\\\n",
    "                       color='DarkGreen', label='non public', ax=ax2, marker=\"s\")\n",
    "plt.plot(X2.norm_non_open_counts, predictions2, color=\"red\", linestyle='--', dashes=(.3, 4))\n",
    "\n",
    "ax2.set_title(\"Normalized Non-open Networks vs. Median Household Income\",fontsize=18)\n",
    "ax2.set_xlabel(\"Normalized Network Counts (bssid/population)\\n\\nR-sq: {:.2}, ρ: {}\".format(model2.rsquared,\"na\"), fontsize=13)\n",
    "ax2.set_ylabel(\"Median Household Income (USD)\", fontsize=13)\n",
    "plt.tight_layout()"
   ]
  },
  {
   "cell_type": "code",
   "execution_count": 2152,
   "metadata": {
    "collapsed": false
   },
   "outputs": [
    {
     "data": {
      "text/plain": [
       "<matplotlib.text.Text at 0x193816320>"
      ]
     },
     "execution_count": 2152,
     "metadata": {},
     "output_type": "execute_result"
    },
    {
     "data": {
      "image/png": "[encoded data removed]",
      "text/plain": [
       "<matplotlib.figure.Figure at 0x193812be0>"
      ]
     },
     "metadata": {},
     "output_type": "display_data"
    }
   ],
   "source": [
    "ax1 = plt.subplot()\n",
    "\n",
    "scatter_plot[scatter_plot.Public_cat == \"public\"].plot(kind='scatter', title =\"Open Networks in Public vs. Non-public Residential Areas\", \\\n",
    "                   figsize=(15, 8), legend=True, fontsize=15, x='norm_open_counts', \\\n",
    "                  y='MHI', s=80, color='DarkBlue',\\\n",
    "                      label='public', ax=ax1, marker=\"o\")\n",
    "scatter_plot[scatter_plot.Public_cat == \"non-public\"].plot(kind='scatter', title =\"Open Networks in Public vs. Non-public Residential Areas\", \\\n",
    "                   figsize=(15, 8), legend=True, fontsize=15, x='norm_open_counts', \\\n",
    "                  y='MHI', s=80, color='DarkGreen',\\\n",
    "                      label='non public', ax=ax1, marker=\"s\")\n",
    "plt.plot(X.norm_open_counts, predictions1, color=\"red\", linestyle='--', dashes=(.3, 4))\n",
    "\n",
    "ax1.set_title(\"Normalized Open Networks vs. Median Household Income\",fontsize=22)\n",
    "ax1.set_xlabel(\"Normalized Open Network Counts (bssid/population)\\n\\nR-sq: {:.2}, ρ: {}\".format(model1.rsquared,\"na\"),\\\n",
    "               fontsize=22)\n",
    "ax1.set_ylabel(\"Median Household Income (USD)\", fontsize=22)"
   ]
  },
  {
   "cell_type": "code",
   "execution_count": 2151,
   "metadata": {
    "collapsed": false
   },
   "outputs": [
    {
     "data": {
      "text/plain": [
       "<matplotlib.text.Text at 0x1937cdb00>"
      ]
     },
     "execution_count": 2151,
     "metadata": {},
     "output_type": "execute_result"
    },
    {
     "data": {
      "image/png": "[encoded data removed]",
      "text/plain": [
       "<matplotlib.figure.Figure at 0x1aac10e48>"
      ]
     },
     "metadata": {},
     "output_type": "display_data"
    }
   ],
   "source": [
    "ax2 = plt.subplot()\n",
    "\n",
    "scatter_plot[scatter_plot.Public_cat == \"public\"].plot(kind='scatter', title =\"Non-Open Networks in Public vs. Non-public Residential Areas\", \\\n",
    "                   figsize=(15, 8), legend=True, fontsize=15, x='norm_non_open_counts', y='MHI', s=80,\\\n",
    "                       color='DarkBlue', label='public', ax=ax2, marker=\"o\")\n",
    "scatter_plot[scatter_plot.Public_cat == \"non-public\"].plot(kind='scatter', title =\"Non-Open Networks in Public vs. Non-public Residential Areas\", \\\n",
    "                   figsize=(15, 8), legend=True, fontsize=15, x='norm_non_open_counts', y='MHI', s=80,\\\n",
    "                       color='DarkGreen', label='non public', ax=ax2, marker=\"s\")\n",
    "plt.plot(X2.norm_non_open_counts, predictions2, color=\"red\", linestyle='--', dashes=(.3, 4))\n",
    "\n",
    "ax2.set_title(\"Normalized Non-open Networks vs. Median Household Income\",fontsize=22)\n",
    "ax2.set_xlabel(\"Normalized Network Counts (bssid/population)\\n\\nR-sq: {:.2}, ρ: {}\".format(model2.rsquared,\"na\"), fontsize=22)\n",
    "ax2.set_ylabel(\"Median Household Income (USD)\", fontsize=22)"
   ]
  },
  {
   "cell_type": "code",
   "execution_count": null,
   "metadata": {
    "collapsed": true
   },
   "outputs": [],
   "source": []
  },
  {
   "cell_type": "code",
   "execution_count": null,
   "metadata": {
    "collapsed": true
   },
   "outputs": [],
   "source": []
  },
  {
   "cell_type": "markdown",
   "metadata": {},
   "source": [
    "# Poisson Regression"
   ]
  },
  {
   "cell_type": "code",
   "execution_count": 1456,
   "metadata": {
    "collapsed": false
   },
   "outputs": [
    {
     "data": {
      "text/html": [
       "<div>\n",
       "<table border=\"1\" class=\"dataframe\">\n",
       "  <thead>\n",
       "    <tr style=\"text-align: right;\">\n",
       "      <th></th>\n",
       "      <th>open_net_counts</th>\n",
       "      <th>non_open_net_counts</th>\n",
       "      <th>name</th>\n",
       "      <th>Population</th>\n",
       "      <th>norm_open_counts</th>\n",
       "      <th>norm_non_open_counts</th>\n",
       "    </tr>\n",
       "  </thead>\n",
       "  <tbody>\n",
       "    <tr>\n",
       "      <th>0</th>\n",
       "      <td>161.0</td>\n",
       "      <td>4690.0</td>\n",
       "      <td>Chelsea</td>\n",
       "      <td>1546</td>\n",
       "      <td>0.104140</td>\n",
       "      <td>3.033635</td>\n",
       "    </tr>\n",
       "    <tr>\n",
       "      <th>1</th>\n",
       "      <td>413.0</td>\n",
       "      <td>4129.0</td>\n",
       "      <td>Chelsea_None</td>\n",
       "      <td>1777</td>\n",
       "      <td>0.232414</td>\n",
       "      <td>2.323579</td>\n",
       "    </tr>\n",
       "    <tr>\n",
       "      <th>2</th>\n",
       "      <td>14.0</td>\n",
       "      <td>1614.0</td>\n",
       "      <td>Gowanus</td>\n",
       "      <td>957</td>\n",
       "      <td>0.014629</td>\n",
       "      <td>1.686520</td>\n",
       "    </tr>\n",
       "    <tr>\n",
       "      <th>3</th>\n",
       "      <td>17.0</td>\n",
       "      <td>650.0</td>\n",
       "      <td>Gowanus_None</td>\n",
       "      <td>825</td>\n",
       "      <td>0.020606</td>\n",
       "      <td>0.787879</td>\n",
       "    </tr>\n",
       "    <tr>\n",
       "      <th>4</th>\n",
       "      <td>42.0</td>\n",
       "      <td>670.0</td>\n",
       "      <td>Ingersoll</td>\n",
       "      <td>3683</td>\n",
       "      <td>0.011404</td>\n",
       "      <td>0.181917</td>\n",
       "    </tr>\n",
       "    <tr>\n",
       "      <th>5</th>\n",
       "      <td>111.0</td>\n",
       "      <td>3107.0</td>\n",
       "      <td>Ingersoll_None</td>\n",
       "      <td>780</td>\n",
       "      <td>0.142308</td>\n",
       "      <td>3.983333</td>\n",
       "    </tr>\n",
       "    <tr>\n",
       "      <th>6</th>\n",
       "      <td>14.0</td>\n",
       "      <td>299.0</td>\n",
       "      <td>RedHook</td>\n",
       "      <td>7278</td>\n",
       "      <td>0.001924</td>\n",
       "      <td>0.041083</td>\n",
       "    </tr>\n",
       "    <tr>\n",
       "      <th>7</th>\n",
       "      <td>38.0</td>\n",
       "      <td>2298.0</td>\n",
       "      <td>Tompkins</td>\n",
       "      <td>3595</td>\n",
       "      <td>0.010570</td>\n",
       "      <td>0.639221</td>\n",
       "    </tr>\n",
       "    <tr>\n",
       "      <th>8</th>\n",
       "      <td>30.0</td>\n",
       "      <td>1485.0</td>\n",
       "      <td>Tompkins_None</td>\n",
       "      <td>584</td>\n",
       "      <td>0.051370</td>\n",
       "      <td>2.542808</td>\n",
       "    </tr>\n",
       "  </tbody>\n",
       "</table>\n",
       "</div>"
      ],
      "text/plain": [
       "   open_net_counts  non_open_net_counts            name  Population  \\\n",
       "0            161.0               4690.0         Chelsea        1546   \n",
       "1            413.0               4129.0    Chelsea_None        1777   \n",
       "2             14.0               1614.0         Gowanus         957   \n",
       "3             17.0                650.0    Gowanus_None         825   \n",
       "4             42.0                670.0       Ingersoll        3683   \n",
       "5            111.0               3107.0  Ingersoll_None         780   \n",
       "6             14.0                299.0         RedHook        7278   \n",
       "7             38.0               2298.0        Tompkins        3595   \n",
       "8             30.0               1485.0   Tompkins_None         584   \n",
       "\n",
       "   norm_open_counts  norm_non_open_counts  \n",
       "0          0.104140              3.033635  \n",
       "1          0.232414              2.323579  \n",
       "2          0.014629              1.686520  \n",
       "3          0.020606              0.787879  \n",
       "4          0.011404              0.181917  \n",
       "5          0.142308              3.983333  \n",
       "6          0.001924              0.041083  \n",
       "7          0.010570              0.639221  \n",
       "8          0.051370              2.542808  "
      ]
     },
     "execution_count": 1456,
     "metadata": {},
     "output_type": "execute_result"
    }
   ],
   "source": [
    "housing_wifi_counts_normalized"
   ]
  },
  {
   "cell_type": "code",
   "execution_count": null,
   "metadata": {
    "collapsed": true
   },
   "outputs": [],
   "source": []
  },
  {
   "cell_type": "code",
   "execution_count": 1457,
   "metadata": {
    "collapsed": false
   },
   "outputs": [
    {
     "data": {
      "text/html": [
       "<div>\n",
       "<table border=\"1\" class=\"dataframe\">\n",
       "  <thead>\n",
       "    <tr style=\"text-align: right;\">\n",
       "      <th></th>\n",
       "      <th>name</th>\n",
       "      <th>norm_open_counts</th>\n",
       "      <th>norm_non_open_counts</th>\n",
       "      <th>MHI</th>\n",
       "    </tr>\n",
       "    <tr>\n",
       "      <th>name</th>\n",
       "      <th></th>\n",
       "      <th></th>\n",
       "      <th></th>\n",
       "      <th></th>\n",
       "    </tr>\n",
       "  </thead>\n",
       "  <tbody>\n",
       "    <tr>\n",
       "      <th>Chelsea</th>\n",
       "      <td>Chelsea</td>\n",
       "      <td>0.104140</td>\n",
       "      <td>3.033635</td>\n",
       "      <td>221383</td>\n",
       "    </tr>\n",
       "    <tr>\n",
       "      <th>Chelsea_None</th>\n",
       "      <td>Chelsea_None</td>\n",
       "      <td>0.232414</td>\n",
       "      <td>2.323579</td>\n",
       "      <td>221729</td>\n",
       "    </tr>\n",
       "    <tr>\n",
       "      <th>Gowanus</th>\n",
       "      <td>Gowanus</td>\n",
       "      <td>0.014629</td>\n",
       "      <td>1.686520</td>\n",
       "      <td>29070</td>\n",
       "    </tr>\n",
       "    <tr>\n",
       "      <th>Gowanus_None</th>\n",
       "      <td>Gowanus_None</td>\n",
       "      <td>0.020606</td>\n",
       "      <td>0.787879</td>\n",
       "      <td>49444</td>\n",
       "    </tr>\n",
       "    <tr>\n",
       "      <th>Ingersoll</th>\n",
       "      <td>Ingersoll</td>\n",
       "      <td>0.011404</td>\n",
       "      <td>0.181917</td>\n",
       "      <td>25276</td>\n",
       "    </tr>\n",
       "    <tr>\n",
       "      <th>Ingersoll_None</th>\n",
       "      <td>Ingersoll_None</td>\n",
       "      <td>0.142308</td>\n",
       "      <td>3.983333</td>\n",
       "      <td>374253</td>\n",
       "    </tr>\n",
       "    <tr>\n",
       "      <th>RedHook</th>\n",
       "      <td>RedHook</td>\n",
       "      <td>0.001924</td>\n",
       "      <td>0.041083</td>\n",
       "      <td>10372</td>\n",
       "    </tr>\n",
       "    <tr>\n",
       "      <th>Tompkins</th>\n",
       "      <td>Tompkins</td>\n",
       "      <td>0.010570</td>\n",
       "      <td>0.639221</td>\n",
       "      <td>85194</td>\n",
       "    </tr>\n",
       "    <tr>\n",
       "      <th>Tompkins_None</th>\n",
       "      <td>Tompkins_None</td>\n",
       "      <td>0.051370</td>\n",
       "      <td>2.542808</td>\n",
       "      <td>77051</td>\n",
       "    </tr>\n",
       "  </tbody>\n",
       "</table>\n",
       "</div>"
      ],
      "text/plain": [
       "                          name  norm_open_counts  norm_non_open_counts     MHI\n",
       "name                                                                          \n",
       "Chelsea                Chelsea          0.104140              3.033635  221383\n",
       "Chelsea_None      Chelsea_None          0.232414              2.323579  221729\n",
       "Gowanus                Gowanus          0.014629              1.686520   29070\n",
       "Gowanus_None      Gowanus_None          0.020606              0.787879   49444\n",
       "Ingersoll            Ingersoll          0.011404              0.181917   25276\n",
       "Ingersoll_None  Ingersoll_None          0.142308              3.983333  374253\n",
       "RedHook                RedHook          0.001924              0.041083   10372\n",
       "Tompkins              Tompkins          0.010570              0.639221   85194\n",
       "Tompkins_None    Tompkins_None          0.051370              2.542808   77051"
      ]
     },
     "execution_count": 1457,
     "metadata": {},
     "output_type": "execute_result"
    }
   ],
   "source": [
    "scatter_plot"
   ]
  },
  {
   "cell_type": "code",
   "execution_count": 1468,
   "metadata": {
    "collapsed": false
   },
   "outputs": [],
   "source": [
    "final_data = housing_wifi_counts_normalized.merge(scatter_plot, on=\"name\")"
   ]
  },
  {
   "cell_type": "code",
   "execution_count": 1469,
   "metadata": {
    "collapsed": false
   },
   "outputs": [],
   "source": [
    "final_data[\"norm_open_counts\"] = final_data.norm_open_counts_x\n",
    "final_data[\"norm_non_open_counts\"] = final_data.norm_non_open_counts_x\n",
    "del final_data[\"norm_open_counts_x\"]\n",
    "del final_data[\"norm_non_open_counts_x\"]\n",
    "del final_data[\"norm_open_counts_y\"]\n",
    "del final_data[\"norm_non_open_counts_y\"]"
   ]
  },
  {
   "cell_type": "code",
   "execution_count": 1470,
   "metadata": {
    "collapsed": false
   },
   "outputs": [
    {
     "data": {
      "text/html": [
       "<div>\n",
       "<table border=\"1\" class=\"dataframe\">\n",
       "  <thead>\n",
       "    <tr style=\"text-align: right;\">\n",
       "      <th></th>\n",
       "      <th>open_net_counts</th>\n",
       "      <th>non_open_net_counts</th>\n",
       "      <th>name</th>\n",
       "      <th>Population</th>\n",
       "      <th>MHI</th>\n",
       "      <th>norm_open_counts</th>\n",
       "      <th>norm_non_open_counts</th>\n",
       "    </tr>\n",
       "  </thead>\n",
       "  <tbody>\n",
       "    <tr>\n",
       "      <th>0</th>\n",
       "      <td>161.0</td>\n",
       "      <td>4690.0</td>\n",
       "      <td>Chelsea</td>\n",
       "      <td>1546</td>\n",
       "      <td>221383</td>\n",
       "      <td>0.104140</td>\n",
       "      <td>3.033635</td>\n",
       "    </tr>\n",
       "    <tr>\n",
       "      <th>1</th>\n",
       "      <td>413.0</td>\n",
       "      <td>4129.0</td>\n",
       "      <td>Chelsea_None</td>\n",
       "      <td>1777</td>\n",
       "      <td>221729</td>\n",
       "      <td>0.232414</td>\n",
       "      <td>2.323579</td>\n",
       "    </tr>\n",
       "    <tr>\n",
       "      <th>2</th>\n",
       "      <td>14.0</td>\n",
       "      <td>1614.0</td>\n",
       "      <td>Gowanus</td>\n",
       "      <td>957</td>\n",
       "      <td>29070</td>\n",
       "      <td>0.014629</td>\n",
       "      <td>1.686520</td>\n",
       "    </tr>\n",
       "    <tr>\n",
       "      <th>3</th>\n",
       "      <td>17.0</td>\n",
       "      <td>650.0</td>\n",
       "      <td>Gowanus_None</td>\n",
       "      <td>825</td>\n",
       "      <td>49444</td>\n",
       "      <td>0.020606</td>\n",
       "      <td>0.787879</td>\n",
       "    </tr>\n",
       "    <tr>\n",
       "      <th>4</th>\n",
       "      <td>42.0</td>\n",
       "      <td>670.0</td>\n",
       "      <td>Ingersoll</td>\n",
       "      <td>3683</td>\n",
       "      <td>25276</td>\n",
       "      <td>0.011404</td>\n",
       "      <td>0.181917</td>\n",
       "    </tr>\n",
       "    <tr>\n",
       "      <th>5</th>\n",
       "      <td>111.0</td>\n",
       "      <td>3107.0</td>\n",
       "      <td>Ingersoll_None</td>\n",
       "      <td>780</td>\n",
       "      <td>374253</td>\n",
       "      <td>0.142308</td>\n",
       "      <td>3.983333</td>\n",
       "    </tr>\n",
       "    <tr>\n",
       "      <th>6</th>\n",
       "      <td>14.0</td>\n",
       "      <td>299.0</td>\n",
       "      <td>RedHook</td>\n",
       "      <td>7278</td>\n",
       "      <td>10372</td>\n",
       "      <td>0.001924</td>\n",
       "      <td>0.041083</td>\n",
       "    </tr>\n",
       "    <tr>\n",
       "      <th>7</th>\n",
       "      <td>38.0</td>\n",
       "      <td>2298.0</td>\n",
       "      <td>Tompkins</td>\n",
       "      <td>3595</td>\n",
       "      <td>85194</td>\n",
       "      <td>0.010570</td>\n",
       "      <td>0.639221</td>\n",
       "    </tr>\n",
       "    <tr>\n",
       "      <th>8</th>\n",
       "      <td>30.0</td>\n",
       "      <td>1485.0</td>\n",
       "      <td>Tompkins_None</td>\n",
       "      <td>584</td>\n",
       "      <td>77051</td>\n",
       "      <td>0.051370</td>\n",
       "      <td>2.542808</td>\n",
       "    </tr>\n",
       "  </tbody>\n",
       "</table>\n",
       "</div>"
      ],
      "text/plain": [
       "   open_net_counts  non_open_net_counts            name  Population     MHI  \\\n",
       "0            161.0               4690.0         Chelsea        1546  221383   \n",
       "1            413.0               4129.0    Chelsea_None        1777  221729   \n",
       "2             14.0               1614.0         Gowanus         957   29070   \n",
       "3             17.0                650.0    Gowanus_None         825   49444   \n",
       "4             42.0                670.0       Ingersoll        3683   25276   \n",
       "5            111.0               3107.0  Ingersoll_None         780  374253   \n",
       "6             14.0                299.0         RedHook        7278   10372   \n",
       "7             38.0               2298.0        Tompkins        3595   85194   \n",
       "8             30.0               1485.0   Tompkins_None         584   77051   \n",
       "\n",
       "   norm_open_counts  norm_non_open_counts  \n",
       "0          0.104140              3.033635  \n",
       "1          0.232414              2.323579  \n",
       "2          0.014629              1.686520  \n",
       "3          0.020606              0.787879  \n",
       "4          0.011404              0.181917  \n",
       "5          0.142308              3.983333  \n",
       "6          0.001924              0.041083  \n",
       "7          0.010570              0.639221  \n",
       "8          0.051370              2.542808  "
      ]
     },
     "execution_count": 1470,
     "metadata": {},
     "output_type": "execute_result"
    }
   ],
   "source": [
    "final_data"
   ]
  },
  {
   "cell_type": "code",
   "execution_count": 1482,
   "metadata": {
    "collapsed": false
   },
   "outputs": [
    {
     "data": {
      "text/html": [
       "<div>\n",
       "<table border=\"1\" class=\"dataframe\">\n",
       "  <thead>\n",
       "    <tr style=\"text-align: right;\">\n",
       "      <th></th>\n",
       "      <th>Chelsea</th>\n",
       "      <th>Chelsea_None</th>\n",
       "      <th>Gowanus</th>\n",
       "      <th>Gowanus_None</th>\n",
       "      <th>Ingersoll</th>\n",
       "      <th>Ingersoll_None</th>\n",
       "      <th>RedHook</th>\n",
       "      <th>Tompkins</th>\n",
       "      <th>Tompkins_None</th>\n",
       "      <th>name</th>\n",
       "    </tr>\n",
       "  </thead>\n",
       "  <tbody>\n",
       "    <tr>\n",
       "      <th>0</th>\n",
       "      <td>1.0</td>\n",
       "      <td>0.0</td>\n",
       "      <td>0.0</td>\n",
       "      <td>0.0</td>\n",
       "      <td>0.0</td>\n",
       "      <td>0.0</td>\n",
       "      <td>0.0</td>\n",
       "      <td>0.0</td>\n",
       "      <td>0.0</td>\n",
       "      <td>Chelsea</td>\n",
       "    </tr>\n",
       "    <tr>\n",
       "      <th>1</th>\n",
       "      <td>0.0</td>\n",
       "      <td>1.0</td>\n",
       "      <td>0.0</td>\n",
       "      <td>0.0</td>\n",
       "      <td>0.0</td>\n",
       "      <td>0.0</td>\n",
       "      <td>0.0</td>\n",
       "      <td>0.0</td>\n",
       "      <td>0.0</td>\n",
       "      <td>Chelsea_None</td>\n",
       "    </tr>\n",
       "    <tr>\n",
       "      <th>2</th>\n",
       "      <td>0.0</td>\n",
       "      <td>0.0</td>\n",
       "      <td>1.0</td>\n",
       "      <td>0.0</td>\n",
       "      <td>0.0</td>\n",
       "      <td>0.0</td>\n",
       "      <td>0.0</td>\n",
       "      <td>0.0</td>\n",
       "      <td>0.0</td>\n",
       "      <td>Gowanus</td>\n",
       "    </tr>\n",
       "    <tr>\n",
       "      <th>3</th>\n",
       "      <td>0.0</td>\n",
       "      <td>0.0</td>\n",
       "      <td>0.0</td>\n",
       "      <td>1.0</td>\n",
       "      <td>0.0</td>\n",
       "      <td>0.0</td>\n",
       "      <td>0.0</td>\n",
       "      <td>0.0</td>\n",
       "      <td>0.0</td>\n",
       "      <td>Gowanus_None</td>\n",
       "    </tr>\n",
       "    <tr>\n",
       "      <th>4</th>\n",
       "      <td>0.0</td>\n",
       "      <td>0.0</td>\n",
       "      <td>0.0</td>\n",
       "      <td>0.0</td>\n",
       "      <td>1.0</td>\n",
       "      <td>0.0</td>\n",
       "      <td>0.0</td>\n",
       "      <td>0.0</td>\n",
       "      <td>0.0</td>\n",
       "      <td>Ingersoll</td>\n",
       "    </tr>\n",
       "    <tr>\n",
       "      <th>5</th>\n",
       "      <td>0.0</td>\n",
       "      <td>0.0</td>\n",
       "      <td>0.0</td>\n",
       "      <td>0.0</td>\n",
       "      <td>0.0</td>\n",
       "      <td>1.0</td>\n",
       "      <td>0.0</td>\n",
       "      <td>0.0</td>\n",
       "      <td>0.0</td>\n",
       "      <td>Ingersoll_None</td>\n",
       "    </tr>\n",
       "    <tr>\n",
       "      <th>6</th>\n",
       "      <td>0.0</td>\n",
       "      <td>0.0</td>\n",
       "      <td>0.0</td>\n",
       "      <td>0.0</td>\n",
       "      <td>0.0</td>\n",
       "      <td>0.0</td>\n",
       "      <td>1.0</td>\n",
       "      <td>0.0</td>\n",
       "      <td>0.0</td>\n",
       "      <td>RedHook</td>\n",
       "    </tr>\n",
       "    <tr>\n",
       "      <th>7</th>\n",
       "      <td>0.0</td>\n",
       "      <td>0.0</td>\n",
       "      <td>0.0</td>\n",
       "      <td>0.0</td>\n",
       "      <td>0.0</td>\n",
       "      <td>0.0</td>\n",
       "      <td>0.0</td>\n",
       "      <td>1.0</td>\n",
       "      <td>0.0</td>\n",
       "      <td>Tompkins</td>\n",
       "    </tr>\n",
       "    <tr>\n",
       "      <th>8</th>\n",
       "      <td>0.0</td>\n",
       "      <td>0.0</td>\n",
       "      <td>0.0</td>\n",
       "      <td>0.0</td>\n",
       "      <td>0.0</td>\n",
       "      <td>0.0</td>\n",
       "      <td>0.0</td>\n",
       "      <td>0.0</td>\n",
       "      <td>1.0</td>\n",
       "      <td>Tompkins_None</td>\n",
       "    </tr>\n",
       "  </tbody>\n",
       "</table>\n",
       "</div>"
      ],
      "text/plain": [
       "   Chelsea  Chelsea_None  Gowanus  Gowanus_None  Ingersoll  Ingersoll_None  \\\n",
       "0      1.0           0.0      0.0           0.0        0.0             0.0   \n",
       "1      0.0           1.0      0.0           0.0        0.0             0.0   \n",
       "2      0.0           0.0      1.0           0.0        0.0             0.0   \n",
       "3      0.0           0.0      0.0           1.0        0.0             0.0   \n",
       "4      0.0           0.0      0.0           0.0        1.0             0.0   \n",
       "5      0.0           0.0      0.0           0.0        0.0             1.0   \n",
       "6      0.0           0.0      0.0           0.0        0.0             0.0   \n",
       "7      0.0           0.0      0.0           0.0        0.0             0.0   \n",
       "8      0.0           0.0      0.0           0.0        0.0             0.0   \n",
       "\n",
       "   RedHook  Tompkins  Tompkins_None            name  \n",
       "0      0.0       0.0            0.0         Chelsea  \n",
       "1      0.0       0.0            0.0    Chelsea_None  \n",
       "2      0.0       0.0            0.0         Gowanus  \n",
       "3      0.0       0.0            0.0    Gowanus_None  \n",
       "4      0.0       0.0            0.0       Ingersoll  \n",
       "5      0.0       0.0            0.0  Ingersoll_None  \n",
       "6      1.0       0.0            0.0         RedHook  \n",
       "7      0.0       1.0            0.0        Tompkins  \n",
       "8      0.0       0.0            1.0   Tompkins_None  "
      ]
     },
     "execution_count": 1482,
     "metadata": {},
     "output_type": "execute_result"
    }
   ],
   "source": [
    "#dummies = pd.get_dummies(df['Category'])\n",
    "area_dummies = pd.get_dummies(final_data['name'])\n",
    "area_dummies[\"name\"] = final_data.name\n",
    "area_dummies"
   ]
  },
  {
   "cell_type": "code",
   "execution_count": 1484,
   "metadata": {
    "collapsed": false
   },
   "outputs": [],
   "source": [
    "final_data = final_data.merge(area_dummies, on=\"name\")"
   ]
  },
  {
   "cell_type": "code",
   "execution_count": 1508,
   "metadata": {
    "collapsed": false
   },
   "outputs": [],
   "source": [
    "# 1 = public housing, 0 = non public housing\n",
    "final_data[\"Public\"] = [1.,0.,1.,0.,1.,0.,1.,1.,0.]\n",
    "final_data[\"Public_cat\"] = [\"public\",\"non_public\",\"public\",\"non_public\",\\\n",
    "                            \"public\",\"non_public\",\"public\",\"public\",\"non_public\"]"
   ]
  },
  {
   "cell_type": "code",
   "execution_count": 1509,
   "metadata": {
    "collapsed": false
   },
   "outputs": [
    {
     "data": {
      "text/html": [
       "<div>\n",
       "<table border=\"1\" class=\"dataframe\">\n",
       "  <thead>\n",
       "    <tr style=\"text-align: right;\">\n",
       "      <th></th>\n",
       "      <th>open_net_counts</th>\n",
       "      <th>non_open_net_counts</th>\n",
       "      <th>name</th>\n",
       "      <th>Population</th>\n",
       "      <th>MHI</th>\n",
       "      <th>norm_open_counts</th>\n",
       "      <th>norm_non_open_counts</th>\n",
       "      <th>Chelsea</th>\n",
       "      <th>Chelsea_None</th>\n",
       "      <th>Gowanus</th>\n",
       "      <th>Gowanus_None</th>\n",
       "      <th>Ingersoll</th>\n",
       "      <th>Ingersoll_None</th>\n",
       "      <th>RedHook</th>\n",
       "      <th>Tompkins</th>\n",
       "      <th>Tompkins_None</th>\n",
       "      <th>Public</th>\n",
       "      <th>Public_cat</th>\n",
       "    </tr>\n",
       "  </thead>\n",
       "  <tbody>\n",
       "    <tr>\n",
       "      <th>0</th>\n",
       "      <td>161.0</td>\n",
       "      <td>4690.0</td>\n",
       "      <td>Chelsea</td>\n",
       "      <td>1546</td>\n",
       "      <td>221383</td>\n",
       "      <td>0.104140</td>\n",
       "      <td>3.033635</td>\n",
       "      <td>1.0</td>\n",
       "      <td>0.0</td>\n",
       "      <td>0.0</td>\n",
       "      <td>0.0</td>\n",
       "      <td>0.0</td>\n",
       "      <td>0.0</td>\n",
       "      <td>0.0</td>\n",
       "      <td>0.0</td>\n",
       "      <td>0.0</td>\n",
       "      <td>1.0</td>\n",
       "      <td>public</td>\n",
       "    </tr>\n",
       "    <tr>\n",
       "      <th>1</th>\n",
       "      <td>413.0</td>\n",
       "      <td>4129.0</td>\n",
       "      <td>Chelsea_None</td>\n",
       "      <td>1777</td>\n",
       "      <td>221729</td>\n",
       "      <td>0.232414</td>\n",
       "      <td>2.323579</td>\n",
       "      <td>0.0</td>\n",
       "      <td>1.0</td>\n",
       "      <td>0.0</td>\n",
       "      <td>0.0</td>\n",
       "      <td>0.0</td>\n",
       "      <td>0.0</td>\n",
       "      <td>0.0</td>\n",
       "      <td>0.0</td>\n",
       "      <td>0.0</td>\n",
       "      <td>0.0</td>\n",
       "      <td>non_public</td>\n",
       "    </tr>\n",
       "    <tr>\n",
       "      <th>2</th>\n",
       "      <td>14.0</td>\n",
       "      <td>1614.0</td>\n",
       "      <td>Gowanus</td>\n",
       "      <td>957</td>\n",
       "      <td>29070</td>\n",
       "      <td>0.014629</td>\n",
       "      <td>1.686520</td>\n",
       "      <td>0.0</td>\n",
       "      <td>0.0</td>\n",
       "      <td>1.0</td>\n",
       "      <td>0.0</td>\n",
       "      <td>0.0</td>\n",
       "      <td>0.0</td>\n",
       "      <td>0.0</td>\n",
       "      <td>0.0</td>\n",
       "      <td>0.0</td>\n",
       "      <td>1.0</td>\n",
       "      <td>public</td>\n",
       "    </tr>\n",
       "    <tr>\n",
       "      <th>3</th>\n",
       "      <td>17.0</td>\n",
       "      <td>650.0</td>\n",
       "      <td>Gowanus_None</td>\n",
       "      <td>825</td>\n",
       "      <td>49444</td>\n",
       "      <td>0.020606</td>\n",
       "      <td>0.787879</td>\n",
       "      <td>0.0</td>\n",
       "      <td>0.0</td>\n",
       "      <td>0.0</td>\n",
       "      <td>1.0</td>\n",
       "      <td>0.0</td>\n",
       "      <td>0.0</td>\n",
       "      <td>0.0</td>\n",
       "      <td>0.0</td>\n",
       "      <td>0.0</td>\n",
       "      <td>0.0</td>\n",
       "      <td>non_public</td>\n",
       "    </tr>\n",
       "    <tr>\n",
       "      <th>4</th>\n",
       "      <td>42.0</td>\n",
       "      <td>670.0</td>\n",
       "      <td>Ingersoll</td>\n",
       "      <td>3683</td>\n",
       "      <td>25276</td>\n",
       "      <td>0.011404</td>\n",
       "      <td>0.181917</td>\n",
       "      <td>0.0</td>\n",
       "      <td>0.0</td>\n",
       "      <td>0.0</td>\n",
       "      <td>0.0</td>\n",
       "      <td>1.0</td>\n",
       "      <td>0.0</td>\n",
       "      <td>0.0</td>\n",
       "      <td>0.0</td>\n",
       "      <td>0.0</td>\n",
       "      <td>1.0</td>\n",
       "      <td>public</td>\n",
       "    </tr>\n",
       "    <tr>\n",
       "      <th>5</th>\n",
       "      <td>111.0</td>\n",
       "      <td>3107.0</td>\n",
       "      <td>Ingersoll_None</td>\n",
       "      <td>780</td>\n",
       "      <td>374253</td>\n",
       "      <td>0.142308</td>\n",
       "      <td>3.983333</td>\n",
       "      <td>0.0</td>\n",
       "      <td>0.0</td>\n",
       "      <td>0.0</td>\n",
       "      <td>0.0</td>\n",
       "      <td>0.0</td>\n",
       "      <td>1.0</td>\n",
       "      <td>0.0</td>\n",
       "      <td>0.0</td>\n",
       "      <td>0.0</td>\n",
       "      <td>0.0</td>\n",
       "      <td>non_public</td>\n",
       "    </tr>\n",
       "    <tr>\n",
       "      <th>6</th>\n",
       "      <td>14.0</td>\n",
       "      <td>299.0</td>\n",
       "      <td>RedHook</td>\n",
       "      <td>7278</td>\n",
       "      <td>10372</td>\n",
       "      <td>0.001924</td>\n",
       "      <td>0.041083</td>\n",
       "      <td>0.0</td>\n",
       "      <td>0.0</td>\n",
       "      <td>0.0</td>\n",
       "      <td>0.0</td>\n",
       "      <td>0.0</td>\n",
       "      <td>0.0</td>\n",
       "      <td>1.0</td>\n",
       "      <td>0.0</td>\n",
       "      <td>0.0</td>\n",
       "      <td>1.0</td>\n",
       "      <td>public</td>\n",
       "    </tr>\n",
       "    <tr>\n",
       "      <th>7</th>\n",
       "      <td>38.0</td>\n",
       "      <td>2298.0</td>\n",
       "      <td>Tompkins</td>\n",
       "      <td>3595</td>\n",
       "      <td>85194</td>\n",
       "      <td>0.010570</td>\n",
       "      <td>0.639221</td>\n",
       "      <td>0.0</td>\n",
       "      <td>0.0</td>\n",
       "      <td>0.0</td>\n",
       "      <td>0.0</td>\n",
       "      <td>0.0</td>\n",
       "      <td>0.0</td>\n",
       "      <td>0.0</td>\n",
       "      <td>1.0</td>\n",
       "      <td>0.0</td>\n",
       "      <td>1.0</td>\n",
       "      <td>public</td>\n",
       "    </tr>\n",
       "    <tr>\n",
       "      <th>8</th>\n",
       "      <td>30.0</td>\n",
       "      <td>1485.0</td>\n",
       "      <td>Tompkins_None</td>\n",
       "      <td>584</td>\n",
       "      <td>77051</td>\n",
       "      <td>0.051370</td>\n",
       "      <td>2.542808</td>\n",
       "      <td>0.0</td>\n",
       "      <td>0.0</td>\n",
       "      <td>0.0</td>\n",
       "      <td>0.0</td>\n",
       "      <td>0.0</td>\n",
       "      <td>0.0</td>\n",
       "      <td>0.0</td>\n",
       "      <td>0.0</td>\n",
       "      <td>1.0</td>\n",
       "      <td>0.0</td>\n",
       "      <td>non_public</td>\n",
       "    </tr>\n",
       "  </tbody>\n",
       "</table>\n",
       "</div>"
      ],
      "text/plain": [
       "   open_net_counts  non_open_net_counts            name  Population     MHI  \\\n",
       "0            161.0               4690.0         Chelsea        1546  221383   \n",
       "1            413.0               4129.0    Chelsea_None        1777  221729   \n",
       "2             14.0               1614.0         Gowanus         957   29070   \n",
       "3             17.0                650.0    Gowanus_None         825   49444   \n",
       "4             42.0                670.0       Ingersoll        3683   25276   \n",
       "5            111.0               3107.0  Ingersoll_None         780  374253   \n",
       "6             14.0                299.0         RedHook        7278   10372   \n",
       "7             38.0               2298.0        Tompkins        3595   85194   \n",
       "8             30.0               1485.0   Tompkins_None         584   77051   \n",
       "\n",
       "   norm_open_counts  norm_non_open_counts  Chelsea  Chelsea_None  Gowanus  \\\n",
       "0          0.104140              3.033635      1.0           0.0      0.0   \n",
       "1          0.232414              2.323579      0.0           1.0      0.0   \n",
       "2          0.014629              1.686520      0.0           0.0      1.0   \n",
       "3          0.020606              0.787879      0.0           0.0      0.0   \n",
       "4          0.011404              0.181917      0.0           0.0      0.0   \n",
       "5          0.142308              3.983333      0.0           0.0      0.0   \n",
       "6          0.001924              0.041083      0.0           0.0      0.0   \n",
       "7          0.010570              0.639221      0.0           0.0      0.0   \n",
       "8          0.051370              2.542808      0.0           0.0      0.0   \n",
       "\n",
       "   Gowanus_None  Ingersoll  Ingersoll_None  RedHook  Tompkins  Tompkins_None  \\\n",
       "0           0.0        0.0             0.0      0.0       0.0            0.0   \n",
       "1           0.0        0.0             0.0      0.0       0.0            0.0   \n",
       "2           0.0        0.0             0.0      0.0       0.0            0.0   \n",
       "3           1.0        0.0             0.0      0.0       0.0            0.0   \n",
       "4           0.0        1.0             0.0      0.0       0.0            0.0   \n",
       "5           0.0        0.0             1.0      0.0       0.0            0.0   \n",
       "6           0.0        0.0             0.0      1.0       0.0            0.0   \n",
       "7           0.0        0.0             0.0      0.0       1.0            0.0   \n",
       "8           0.0        0.0             0.0      0.0       0.0            1.0   \n",
       "\n",
       "   Public  Public_cat  \n",
       "0     1.0      public  \n",
       "1     0.0  non_public  \n",
       "2     1.0      public  \n",
       "3     0.0  non_public  \n",
       "4     1.0      public  \n",
       "5     0.0  non_public  \n",
       "6     1.0      public  \n",
       "7     1.0      public  \n",
       "8     0.0  non_public  "
      ]
     },
     "execution_count": 1509,
     "metadata": {},
     "output_type": "execute_result"
    }
   ],
   "source": [
    "final_data"
   ]
  },
  {
   "cell_type": "code",
   "execution_count": 1522,
   "metadata": {
    "collapsed": false
   },
   "outputs": [],
   "source": [
    "Data = final_data[[\"Public\", \"Public_cat\",\"name\",\"Population\",\"open_net_counts\",\"non_open_net_counts\",\"MHI\",\\\n",
    "                  \"Chelsea\",\"Chelsea_None\",\"Gowanus\",\"Gowanus_None\",\"Ingersoll\",\"Ingersoll_None\",\\\n",
    "                   \"RedHook\",\"Tompkins\",\"Tompkins_None\", \"norm_open_counts\", \"norm_non_open_counts\"]]"
   ]
  },
  {
   "cell_type": "code",
   "execution_count": 1523,
   "metadata": {
    "collapsed": false
   },
   "outputs": [
    {
     "data": {
      "text/html": [
       "<div>\n",
       "<table border=\"1\" class=\"dataframe\">\n",
       "  <thead>\n",
       "    <tr style=\"text-align: right;\">\n",
       "      <th></th>\n",
       "      <th>Public</th>\n",
       "      <th>Public_cat</th>\n",
       "      <th>name</th>\n",
       "      <th>Population</th>\n",
       "      <th>open_net_counts</th>\n",
       "      <th>non_open_net_counts</th>\n",
       "      <th>MHI</th>\n",
       "      <th>Chelsea</th>\n",
       "      <th>Chelsea_None</th>\n",
       "      <th>Gowanus</th>\n",
       "      <th>Gowanus_None</th>\n",
       "      <th>Ingersoll</th>\n",
       "      <th>Ingersoll_None</th>\n",
       "      <th>RedHook</th>\n",
       "      <th>Tompkins</th>\n",
       "      <th>Tompkins_None</th>\n",
       "      <th>norm_open_counts</th>\n",
       "      <th>norm_non_open_counts</th>\n",
       "    </tr>\n",
       "  </thead>\n",
       "  <tbody>\n",
       "    <tr>\n",
       "      <th>0</th>\n",
       "      <td>1.0</td>\n",
       "      <td>public</td>\n",
       "      <td>Chelsea</td>\n",
       "      <td>1546</td>\n",
       "      <td>161.0</td>\n",
       "      <td>4690.0</td>\n",
       "      <td>221383</td>\n",
       "      <td>1.0</td>\n",
       "      <td>0.0</td>\n",
       "      <td>0.0</td>\n",
       "      <td>0.0</td>\n",
       "      <td>0.0</td>\n",
       "      <td>0.0</td>\n",
       "      <td>0.0</td>\n",
       "      <td>0.0</td>\n",
       "      <td>0.0</td>\n",
       "      <td>0.104140</td>\n",
       "      <td>3.033635</td>\n",
       "    </tr>\n",
       "    <tr>\n",
       "      <th>1</th>\n",
       "      <td>0.0</td>\n",
       "      <td>non_public</td>\n",
       "      <td>Chelsea_None</td>\n",
       "      <td>1777</td>\n",
       "      <td>413.0</td>\n",
       "      <td>4129.0</td>\n",
       "      <td>221729</td>\n",
       "      <td>0.0</td>\n",
       "      <td>1.0</td>\n",
       "      <td>0.0</td>\n",
       "      <td>0.0</td>\n",
       "      <td>0.0</td>\n",
       "      <td>0.0</td>\n",
       "      <td>0.0</td>\n",
       "      <td>0.0</td>\n",
       "      <td>0.0</td>\n",
       "      <td>0.232414</td>\n",
       "      <td>2.323579</td>\n",
       "    </tr>\n",
       "    <tr>\n",
       "      <th>2</th>\n",
       "      <td>1.0</td>\n",
       "      <td>public</td>\n",
       "      <td>Gowanus</td>\n",
       "      <td>957</td>\n",
       "      <td>14.0</td>\n",
       "      <td>1614.0</td>\n",
       "      <td>29070</td>\n",
       "      <td>0.0</td>\n",
       "      <td>0.0</td>\n",
       "      <td>1.0</td>\n",
       "      <td>0.0</td>\n",
       "      <td>0.0</td>\n",
       "      <td>0.0</td>\n",
       "      <td>0.0</td>\n",
       "      <td>0.0</td>\n",
       "      <td>0.0</td>\n",
       "      <td>0.014629</td>\n",
       "      <td>1.686520</td>\n",
       "    </tr>\n",
       "    <tr>\n",
       "      <th>3</th>\n",
       "      <td>0.0</td>\n",
       "      <td>non_public</td>\n",
       "      <td>Gowanus_None</td>\n",
       "      <td>825</td>\n",
       "      <td>17.0</td>\n",
       "      <td>650.0</td>\n",
       "      <td>49444</td>\n",
       "      <td>0.0</td>\n",
       "      <td>0.0</td>\n",
       "      <td>0.0</td>\n",
       "      <td>1.0</td>\n",
       "      <td>0.0</td>\n",
       "      <td>0.0</td>\n",
       "      <td>0.0</td>\n",
       "      <td>0.0</td>\n",
       "      <td>0.0</td>\n",
       "      <td>0.020606</td>\n",
       "      <td>0.787879</td>\n",
       "    </tr>\n",
       "    <tr>\n",
       "      <th>4</th>\n",
       "      <td>1.0</td>\n",
       "      <td>public</td>\n",
       "      <td>Ingersoll</td>\n",
       "      <td>3683</td>\n",
       "      <td>42.0</td>\n",
       "      <td>670.0</td>\n",
       "      <td>25276</td>\n",
       "      <td>0.0</td>\n",
       "      <td>0.0</td>\n",
       "      <td>0.0</td>\n",
       "      <td>0.0</td>\n",
       "      <td>1.0</td>\n",
       "      <td>0.0</td>\n",
       "      <td>0.0</td>\n",
       "      <td>0.0</td>\n",
       "      <td>0.0</td>\n",
       "      <td>0.011404</td>\n",
       "      <td>0.181917</td>\n",
       "    </tr>\n",
       "    <tr>\n",
       "      <th>5</th>\n",
       "      <td>0.0</td>\n",
       "      <td>non_public</td>\n",
       "      <td>Ingersoll_None</td>\n",
       "      <td>780</td>\n",
       "      <td>111.0</td>\n",
       "      <td>3107.0</td>\n",
       "      <td>374253</td>\n",
       "      <td>0.0</td>\n",
       "      <td>0.0</td>\n",
       "      <td>0.0</td>\n",
       "      <td>0.0</td>\n",
       "      <td>0.0</td>\n",
       "      <td>1.0</td>\n",
       "      <td>0.0</td>\n",
       "      <td>0.0</td>\n",
       "      <td>0.0</td>\n",
       "      <td>0.142308</td>\n",
       "      <td>3.983333</td>\n",
       "    </tr>\n",
       "    <tr>\n",
       "      <th>6</th>\n",
       "      <td>1.0</td>\n",
       "      <td>public</td>\n",
       "      <td>RedHook</td>\n",
       "      <td>7278</td>\n",
       "      <td>14.0</td>\n",
       "      <td>299.0</td>\n",
       "      <td>10372</td>\n",
       "      <td>0.0</td>\n",
       "      <td>0.0</td>\n",
       "      <td>0.0</td>\n",
       "      <td>0.0</td>\n",
       "      <td>0.0</td>\n",
       "      <td>0.0</td>\n",
       "      <td>1.0</td>\n",
       "      <td>0.0</td>\n",
       "      <td>0.0</td>\n",
       "      <td>0.001924</td>\n",
       "      <td>0.041083</td>\n",
       "    </tr>\n",
       "    <tr>\n",
       "      <th>7</th>\n",
       "      <td>1.0</td>\n",
       "      <td>public</td>\n",
       "      <td>Tompkins</td>\n",
       "      <td>3595</td>\n",
       "      <td>38.0</td>\n",
       "      <td>2298.0</td>\n",
       "      <td>85194</td>\n",
       "      <td>0.0</td>\n",
       "      <td>0.0</td>\n",
       "      <td>0.0</td>\n",
       "      <td>0.0</td>\n",
       "      <td>0.0</td>\n",
       "      <td>0.0</td>\n",
       "      <td>0.0</td>\n",
       "      <td>1.0</td>\n",
       "      <td>0.0</td>\n",
       "      <td>0.010570</td>\n",
       "      <td>0.639221</td>\n",
       "    </tr>\n",
       "    <tr>\n",
       "      <th>8</th>\n",
       "      <td>0.0</td>\n",
       "      <td>non_public</td>\n",
       "      <td>Tompkins_None</td>\n",
       "      <td>584</td>\n",
       "      <td>30.0</td>\n",
       "      <td>1485.0</td>\n",
       "      <td>77051</td>\n",
       "      <td>0.0</td>\n",
       "      <td>0.0</td>\n",
       "      <td>0.0</td>\n",
       "      <td>0.0</td>\n",
       "      <td>0.0</td>\n",
       "      <td>0.0</td>\n",
       "      <td>0.0</td>\n",
       "      <td>0.0</td>\n",
       "      <td>1.0</td>\n",
       "      <td>0.051370</td>\n",
       "      <td>2.542808</td>\n",
       "    </tr>\n",
       "  </tbody>\n",
       "</table>\n",
       "</div>"
      ],
      "text/plain": [
       "   Public  Public_cat            name  Population  open_net_counts  \\\n",
       "0     1.0      public         Chelsea        1546            161.0   \n",
       "1     0.0  non_public    Chelsea_None        1777            413.0   \n",
       "2     1.0      public         Gowanus         957             14.0   \n",
       "3     0.0  non_public    Gowanus_None         825             17.0   \n",
       "4     1.0      public       Ingersoll        3683             42.0   \n",
       "5     0.0  non_public  Ingersoll_None         780            111.0   \n",
       "6     1.0      public         RedHook        7278             14.0   \n",
       "7     1.0      public        Tompkins        3595             38.0   \n",
       "8     0.0  non_public   Tompkins_None         584             30.0   \n",
       "\n",
       "   non_open_net_counts     MHI  Chelsea  Chelsea_None  Gowanus  Gowanus_None  \\\n",
       "0               4690.0  221383      1.0           0.0      0.0           0.0   \n",
       "1               4129.0  221729      0.0           1.0      0.0           0.0   \n",
       "2               1614.0   29070      0.0           0.0      1.0           0.0   \n",
       "3                650.0   49444      0.0           0.0      0.0           1.0   \n",
       "4                670.0   25276      0.0           0.0      0.0           0.0   \n",
       "5               3107.0  374253      0.0           0.0      0.0           0.0   \n",
       "6                299.0   10372      0.0           0.0      0.0           0.0   \n",
       "7               2298.0   85194      0.0           0.0      0.0           0.0   \n",
       "8               1485.0   77051      0.0           0.0      0.0           0.0   \n",
       "\n",
       "   Ingersoll  Ingersoll_None  RedHook  Tompkins  Tompkins_None  \\\n",
       "0        0.0             0.0      0.0       0.0            0.0   \n",
       "1        0.0             0.0      0.0       0.0            0.0   \n",
       "2        0.0             0.0      0.0       0.0            0.0   \n",
       "3        0.0             0.0      0.0       0.0            0.0   \n",
       "4        1.0             0.0      0.0       0.0            0.0   \n",
       "5        0.0             1.0      0.0       0.0            0.0   \n",
       "6        0.0             0.0      1.0       0.0            0.0   \n",
       "7        0.0             0.0      0.0       1.0            0.0   \n",
       "8        0.0             0.0      0.0       0.0            1.0   \n",
       "\n",
       "   norm_open_counts  norm_non_open_counts  \n",
       "0          0.104140              3.033635  \n",
       "1          0.232414              2.323579  \n",
       "2          0.014629              1.686520  \n",
       "3          0.020606              0.787879  \n",
       "4          0.011404              0.181917  \n",
       "5          0.142308              3.983333  \n",
       "6          0.001924              0.041083  \n",
       "7          0.010570              0.639221  \n",
       "8          0.051370              2.542808  "
      ]
     },
     "execution_count": 1523,
     "metadata": {},
     "output_type": "execute_result"
    }
   ],
   "source": [
    "# should I add population density and household desity???????\n",
    "Data"
   ]
  },
  {
   "cell_type": "code",
   "execution_count": 1520,
   "metadata": {
    "collapsed": false
   },
   "outputs": [
    {
     "data": {
      "text/plain": [
       "Index(['open_net_counts', 'non_open_net_counts', 'name', 'Population', 'MHI',\n",
       "       'norm_open_counts', 'norm_non_open_counts', 'Chelsea', 'Chelsea_None',\n",
       "       'Gowanus', 'Gowanus_None', 'Ingersoll', 'Ingersoll_None', 'RedHook',\n",
       "       'Tompkins', 'Tompkins_None', 'Public', 'Public_cat'],\n",
       "      dtype='object')"
      ]
     },
     "execution_count": 1520,
     "metadata": {},
     "output_type": "execute_result"
    }
   ],
   "source": [
    "final_data.columns"
   ]
  },
  {
   "cell_type": "code",
   "execution_count": 1525,
   "metadata": {
    "collapsed": false
   },
   "outputs": [
    {
     "data": {
      "text/plain": [
       "Index(['Public', 'Public_cat', 'name', 'Population', 'open_net_counts',\n",
       "       'non_open_net_counts', 'MHI', 'Chelsea', 'Chelsea_None', 'Gowanus',\n",
       "       'Gowanus_None', 'Ingersoll', 'Ingersoll_None', 'RedHook', 'Tompkins',\n",
       "       'Tompkins_None', 'norm_open_counts', 'norm_non_open_counts'],\n",
       "      dtype='object')"
      ]
     },
     "execution_count": 1525,
     "metadata": {},
     "output_type": "execute_result"
    }
   ],
   "source": [
    "Data.columns\n"
   ]
  },
  {
   "cell_type": "code",
   "execution_count": null,
   "metadata": {
    "collapsed": true
   },
   "outputs": [],
   "source": []
  },
  {
   "cell_type": "code",
   "execution_count": null,
   "metadata": {
    "collapsed": true
   },
   "outputs": [],
   "source": [
    "#poisson model and negetive binomial model\n",
    "#not needed to normalize by pop"
   ]
  },
  {
   "cell_type": "code",
   "execution_count": 1493,
   "metadata": {
    "collapsed": true
   },
   "outputs": [],
   "source": [
    "import numpy as np\n",
    "import pandas as pd\n",
    "from statsmodels.genmod.generalized_estimating_equations import GEE\n",
    "from statsmodels.genmod.cov_struct import (Exchangeable,\n",
    "    Independence,Autoregressive)\n",
    "from statsmodels.genmod.families import Poisson"
   ]
  },
  {
   "cell_type": "code",
   "execution_count": 1542,
   "metadata": {
    "collapsed": false
   },
   "outputs": [
    {
     "name": "stdout",
     "output_type": "stream",
     "text": [
      "                               GEE Regression Results                              \n",
      "===================================================================================\n",
      "Dep. Variable:                      Public   No. Observations:                    9\n",
      "Model:                                 GEE   No. clusters:                        9\n",
      "Method:                        Generalized   Min. cluster size:                   1\n",
      "                      Estimating Equations   Max. cluster size:                   1\n",
      "Family:                            Poisson   Mean cluster size:                 1.0\n",
      "Dependence structure:         Independence   Num. iterations:                    29\n",
      "Date:                     Wed, 19 Jul 2017   Scale:                          -0.000\n",
      "Covariance type:                    robust   Time:                         13:07:44\n",
      "=======================================================================================\n",
      "                          coef    std err          z      P>|z|      [95.0% Conf. Int.]\n",
      "---------------------------------------------------------------------------------------\n",
      "Intercept               4.8381        nan        nan        nan           nan       nan\n",
      "Population             -0.0007        nan        nan        nan           nan       nan\n",
      "open_net_counts         0.1363        nan        nan        nan           nan       nan\n",
      "non_open_net_counts    -0.0048        nan        nan        nan           nan       nan\n",
      "MHI                 -8.982e-06        nan        nan        nan           nan       nan\n",
      "Chelsea                -1.3163   2.08e-05  -6.32e+04      0.000        -1.316    -1.316\n",
      "Chelsea_None          -67.1687      1.000    -67.169      0.000       -69.129   -65.209\n",
      "Gowanus                 1.8993        nan        nan        nan           nan       nan\n",
      "Gowanus_None          -32.0186      1.000    -32.019      0.000       -33.979   -30.059\n",
      "Ingersoll              -4.4950   7.12e-06  -6.32e+05      0.000        -4.495    -4.495\n",
      "Ingersoll_None        -30.2278      1.000    -30.228      0.000       -32.188   -28.268\n",
      "Tompkins                4.2889        nan        nan        nan           nan       nan\n",
      "Tompkins_None         -29.7335      1.000    -29.734      0.000       -31.693   -27.774\n",
      "==============================================================================\n",
      "Skew:                         -0.2236   Kurtosis:                      -1.9500\n",
      "Centered skew:                 0.0000   Centered kurtosis:             -3.0000\n",
      "==============================================================================\n"
     ]
    }
   ],
   "source": [
    "# left Redhook out for comperison\n",
    "# raw counts\n",
    "fam = Poisson()\n",
    "ind = Independence()\n",
    "model1 = GEE.from_formula(\"Public ~ Population + open_net_counts + non_open_net_counts \\\n",
    "                            + MHI + Chelsea + Chelsea_None + Gowanus + Gowanus_None \\\n",
    "                            + Ingersoll + Ingersoll_None + Tompkins \\\n",
    "                            + Tompkins_None\", \"name\", data=Data, cov_struct=ind, family=fam)\n",
    "result1 = model1.fit()\n",
    "print(result1.summary())"
   ]
  },
  {
   "cell_type": "code",
   "execution_count": 1543,
   "metadata": {
    "collapsed": false
   },
   "outputs": [
    {
     "data": {
      "text/plain": [
       "array([  1.00000000e+00,   2.54366565e-13,   1.00000000e+00,\n",
       "         2.54366565e-13,   1.00000000e+00,   2.54366565e-13,\n",
       "         1.00000000e+00,   1.00000000e+00,   2.54366565e-13])"
      ]
     },
     "execution_count": 1543,
     "metadata": {},
     "output_type": "execute_result"
    }
   ],
   "source": [
    "result1.predict()"
   ]
  },
  {
   "cell_type": "code",
   "execution_count": 1545,
   "metadata": {
    "collapsed": false
   },
   "outputs": [
    {
     "name": "stdout",
     "output_type": "stream",
     "text": [
      "                               GEE Regression Results                              \n",
      "===================================================================================\n",
      "Dep. Variable:                      Public   No. Observations:                    9\n",
      "Model:                                 GEE   No. clusters:                        9\n",
      "Method:                        Generalized   Min. cluster size:                   1\n",
      "                      Estimating Equations   Max. cluster size:                   1\n",
      "Family:                            Poisson   Mean cluster size:                 1.0\n",
      "Dependence structure:         Independence   Num. iterations:                    29\n",
      "Date:                     Wed, 19 Jul 2017   Scale:                          -0.000\n",
      "Covariance type:                    robust   Time:                         13:07:59\n",
      "========================================================================================\n",
      "                           coef    std err          z      P>|z|      [95.0% Conf. Int.]\n",
      "----------------------------------------------------------------------------------------\n",
      "Intercept               -0.0429    1.9e-06  -2.25e+04      0.000        -0.043    -0.043\n",
      "norm_open_counts        -3.0967        nan        nan        nan           nan       nan\n",
      "norm_non_open_counts     0.2568        nan        nan        nan           nan       nan\n",
      "MHI                   3.691e-06   4.38e-10   8428.778      0.000      3.69e-06  3.69e-06\n",
      "Chelsea                 -1.2308        nan        nan        nan           nan       nan\n",
      "Chelsea_None           -29.6525      1.000    -29.653      0.000       -31.613   -27.693\n",
      "Gowanus                 -0.4522   4.53e-05  -9978.460      0.000        -0.452    -0.452\n",
      "Gowanus_None           -29.2781      1.000    -29.278      0.000       -31.238   -27.318\n",
      "Ingersoll               -0.0618        nan        nan        nan           nan       nan\n",
      "Ingersoll_None         -30.9208      1.000    -30.921      0.000       -32.881   -28.961\n",
      "Tompkins                -0.4030    2.8e-05  -1.44e+04      0.000        -0.403    -0.403\n",
      "Tompkins_None          -29.7354      1.000    -29.735      0.000       -31.695   -27.775\n",
      "==============================================================================\n",
      "Skew:                         -0.2236   Kurtosis:                      -1.9500\n",
      "Centered skew:                 0.0000   Centered kurtosis:             -3.0000\n",
      "==============================================================================\n"
     ]
    }
   ],
   "source": [
    "# left Redhook out for comperison\n",
    "# normalized counts\n",
    "fam = Poisson()\n",
    "ind = Independence()\n",
    "model2 = GEE.from_formula(\"Public ~ norm_open_counts + norm_non_open_counts \\\n",
    "                            + MHI + Chelsea + Chelsea_None + Gowanus + Gowanus_None \\\n",
    "                            + Ingersoll + Ingersoll_None + Tompkins \\\n",
    "                            + Tompkins_None\", \"name\", data=Data, cov_struct=ind, family=fam)\n",
    "result2 = model2.fit()\n",
    "print(result2.summary())"
   ]
  },
  {
   "cell_type": "code",
   "execution_count": 1546,
   "metadata": {
    "collapsed": false
   },
   "outputs": [
    {
     "data": {
      "text/plain": [
       "array([  1.00000000e+00,   2.54366565e-13,   1.00000000e+00,\n",
       "         2.54366565e-13,   1.00000000e+00,   2.54366565e-13,\n",
       "         1.00000000e+00,   1.00000000e+00,   2.54366565e-13])"
      ]
     },
     "execution_count": 1546,
     "metadata": {},
     "output_type": "execute_result"
    }
   ],
   "source": [
    "result2.predict()"
   ]
  },
  {
   "cell_type": "code",
   "execution_count": 1532,
   "metadata": {
    "collapsed": false
   },
   "outputs": [
    {
     "data": {
      "text/plain": [
       "0    1.0\n",
       "1    0.0\n",
       "2    1.0\n",
       "3    0.0\n",
       "4    1.0\n",
       "5    0.0\n",
       "6    1.0\n",
       "7    1.0\n",
       "8    0.0\n",
       "Name: Public, dtype: float64"
      ]
     },
     "execution_count": 1532,
     "metadata": {},
     "output_type": "execute_result"
    }
   ],
   "source": [
    "Data.Public"
   ]
  },
  {
   "cell_type": "code",
   "execution_count": 1536,
   "metadata": {
    "collapsed": false
   },
   "outputs": [
    {
     "name": "stdout",
     "output_type": "stream",
     "text": [
      "0.9999999999999999\n",
      "2.543665647376923e-13\n",
      "1.0\n",
      "2.5436656473769137e-13\n",
      "1.0\n",
      "2.543665647376923e-13\n",
      "1.0\n",
      "1.0\n",
      "2.5436656473769137e-13\n"
     ]
    }
   ],
   "source": [
    "for i in result1.predict():\n",
    "    print(float(i))"
   ]
  },
  {
   "cell_type": "code",
   "execution_count": 1537,
   "metadata": {
    "collapsed": false
   },
   "outputs": [
    {
     "name": "stdout",
     "output_type": "stream",
     "text": [
      "0\n",
      "0\n",
      "1\n",
      "0\n",
      "1\n",
      "0\n",
      "1\n",
      "1\n",
      "0\n"
     ]
    }
   ],
   "source": [
    "for i in result1.predict():\n",
    "    print(int(i))"
   ]
  },
  {
   "cell_type": "code",
   "execution_count": 1547,
   "metadata": {
    "collapsed": false
   },
   "outputs": [
    {
     "name": "stdout",
     "output_type": "stream",
     "text": [
      "0.9999999999999999\n",
      "2.543665647376923e-13\n",
      "1.0\n",
      "2.5436656473769137e-13\n",
      "1.0\n",
      "2.543665647376923e-13\n",
      "1.0\n",
      "1.0\n",
      "2.5436656473769137e-13\n"
     ]
    }
   ],
   "source": [
    "for i in result2.predict():\n",
    "    print(float(i))"
   ]
  },
  {
   "cell_type": "code",
   "execution_count": 1548,
   "metadata": {
    "collapsed": false
   },
   "outputs": [
    {
     "name": "stdout",
     "output_type": "stream",
     "text": [
      "0\n",
      "0\n",
      "1\n",
      "0\n",
      "1\n",
      "0\n",
      "1\n",
      "1\n",
      "0\n"
     ]
    }
   ],
   "source": [
    "for i in result2.predict():\n",
    "    print(int(i))"
   ]
  },
  {
   "cell_type": "code",
   "execution_count": null,
   "metadata": {
    "collapsed": true
   },
   "outputs": [],
   "source": []
  },
  {
   "cell_type": "code",
   "execution_count": null,
   "metadata": {
    "collapsed": true
   },
   "outputs": [],
   "source": []
  },
  {
   "cell_type": "markdown",
   "metadata": {},
   "source": [
    "# T-test"
   ]
  },
  {
   "cell_type": "code",
   "execution_count": 2148,
   "metadata": {
    "collapsed": false
   },
   "outputs": [
    {
     "data": {
      "text/html": [
       "<div>\n",
       "<table border=\"1\" class=\"dataframe\">\n",
       "  <thead>\n",
       "    <tr style=\"text-align: right;\">\n",
       "      <th></th>\n",
       "      <th>name</th>\n",
       "      <th>GEOID</th>\n",
       "      <th>MHI</th>\n",
       "      <th>norm_open_counts</th>\n",
       "      <th>norm_non_open_counts</th>\n",
       "      <th>Public</th>\n",
       "      <th>Public_cat</th>\n",
       "      <th>predictions_open</th>\n",
       "      <th>predictions_non_open</th>\n",
       "    </tr>\n",
       "  </thead>\n",
       "  <tbody>\n",
       "    <tr>\n",
       "      <th>0</th>\n",
       "      <td>Public_RedHook</td>\n",
       "      <td>360470085001</td>\n",
       "      <td>10372</td>\n",
       "      <td>0.002061</td>\n",
       "      <td>0.059494</td>\n",
       "      <td>True</td>\n",
       "      <td>public</td>\n",
       "      <td>27708.517107</td>\n",
       "      <td>25875.731823</td>\n",
       "    </tr>\n",
       "  </tbody>\n",
       "</table>\n",
       "</div>"
      ],
      "text/plain": [
       "             name         GEOID    MHI  norm_open_counts  \\\n",
       "0  Public_RedHook  360470085001  10372          0.002061   \n",
       "\n",
       "   norm_non_open_counts Public Public_cat  predictions_open  \\\n",
       "0              0.059494   True     public      27708.517107   \n",
       "\n",
       "   predictions_non_open  \n",
       "0          25875.731823  "
      ]
     },
     "execution_count": 2148,
     "metadata": {},
     "output_type": "execute_result"
    }
   ],
   "source": [
    "scatter_plot.head(1)"
   ]
  },
  {
   "cell_type": "code",
   "execution_count": 2153,
   "metadata": {
    "collapsed": true
   },
   "outputs": [],
   "source": [
    "public = scatter_plot[scatter_plot.Public == True]\n",
    "private = scatter_plot[scatter_plot.Public == False]"
   ]
  },
  {
   "cell_type": "code",
   "execution_count": 2154,
   "metadata": {
    "collapsed": false
   },
   "outputs": [
    {
     "data": {
      "text/html": [
       "<div>\n",
       "<table border=\"1\" class=\"dataframe\">\n",
       "  <thead>\n",
       "    <tr style=\"text-align: right;\">\n",
       "      <th></th>\n",
       "      <th>name</th>\n",
       "      <th>GEOID</th>\n",
       "      <th>MHI</th>\n",
       "      <th>norm_open_counts</th>\n",
       "      <th>norm_non_open_counts</th>\n",
       "      <th>Public</th>\n",
       "      <th>Public_cat</th>\n",
       "      <th>predictions_open</th>\n",
       "      <th>predictions_non_open</th>\n",
       "    </tr>\n",
       "  </thead>\n",
       "  <tbody>\n",
       "    <tr>\n",
       "      <th>0</th>\n",
       "      <td>Public_RedHook</td>\n",
       "      <td>360470085001</td>\n",
       "      <td>10372</td>\n",
       "      <td>0.002061</td>\n",
       "      <td>0.059494</td>\n",
       "      <td>True</td>\n",
       "      <td>public</td>\n",
       "      <td>27708.517107</td>\n",
       "      <td>25875.731823</td>\n",
       "    </tr>\n",
       "    <tr>\n",
       "      <th>3431</th>\n",
       "      <td>Public_Whitman</td>\n",
       "      <td>360470029012</td>\n",
       "      <td>14091</td>\n",
       "      <td>0.045381</td>\n",
       "      <td>0.620746</td>\n",
       "      <td>True</td>\n",
       "      <td>public</td>\n",
       "      <td>38397.821541</td>\n",
       "      <td>32335.598864</td>\n",
       "    </tr>\n",
       "    <tr>\n",
       "      <th>4870</th>\n",
       "      <td>Public_Whitman</td>\n",
       "      <td>360470029011</td>\n",
       "      <td>11185</td>\n",
       "      <td>0.006245</td>\n",
       "      <td>0.099647</td>\n",
       "      <td>True</td>\n",
       "      <td>public</td>\n",
       "      <td>28740.907471</td>\n",
       "      <td>26337.879356</td>\n",
       "    </tr>\n",
       "    <tr>\n",
       "      <th>6320</th>\n",
       "      <td>Public_Gowanus</td>\n",
       "      <td>360470071003</td>\n",
       "      <td>13202</td>\n",
       "      <td>0.001552</td>\n",
       "      <td>0.274759</td>\n",
       "      <td>True</td>\n",
       "      <td>public</td>\n",
       "      <td>27582.995665</td>\n",
       "      <td>28353.380865</td>\n",
       "    </tr>\n",
       "    <tr>\n",
       "      <th>22628</th>\n",
       "      <td>Public_Gowanus</td>\n",
       "      <td>360470127003</td>\n",
       "      <td>15868</td>\n",
       "      <td>0.009404</td>\n",
       "      <td>0.769070</td>\n",
       "      <td>True</td>\n",
       "      <td>public</td>\n",
       "      <td>29520.518318</td>\n",
       "      <td>34042.778073</td>\n",
       "    </tr>\n",
       "    <tr>\n",
       "      <th>50090</th>\n",
       "      <td>Public_Chelsea</td>\n",
       "      <td>360610083003</td>\n",
       "      <td>13210</td>\n",
       "      <td>0.113842</td>\n",
       "      <td>1.624838</td>\n",
       "      <td>True</td>\n",
       "      <td>public</td>\n",
       "      <td>55290.847014</td>\n",
       "      <td>43892.466683</td>\n",
       "    </tr>\n",
       "    <tr>\n",
       "      <th>142909</th>\n",
       "      <td>Public_Chelsea</td>\n",
       "      <td>360610089003</td>\n",
       "      <td>39788</td>\n",
       "      <td>0.028398</td>\n",
       "      <td>1.049358</td>\n",
       "      <td>True</td>\n",
       "      <td>public</td>\n",
       "      <td>34207.140323</td>\n",
       "      <td>37268.822163</td>\n",
       "    </tr>\n",
       "    <tr>\n",
       "      <th>202405</th>\n",
       "      <td>Public_Chelsea</td>\n",
       "      <td>360610097002</td>\n",
       "      <td>13889</td>\n",
       "      <td>0.040476</td>\n",
       "      <td>1.469841</td>\n",
       "      <td>True</td>\n",
       "      <td>public</td>\n",
       "      <td>37187.576245</td>\n",
       "      <td>42108.487959</td>\n",
       "    </tr>\n",
       "    <tr>\n",
       "      <th>332024</th>\n",
       "      <td>Public_Tompkins</td>\n",
       "      <td>360470259021</td>\n",
       "      <td>13218</td>\n",
       "      <td>0.003060</td>\n",
       "      <td>0.175800</td>\n",
       "      <td>True</td>\n",
       "      <td>public</td>\n",
       "      <td>27954.973807</td>\n",
       "      <td>27214.378694</td>\n",
       "    </tr>\n",
       "    <tr>\n",
       "      <th>334304</th>\n",
       "      <td>Public_Tompkins</td>\n",
       "      <td>360470285021</td>\n",
       "      <td>11859</td>\n",
       "      <td>0.003766</td>\n",
       "      <td>0.271482</td>\n",
       "      <td>True</td>\n",
       "      <td>public</td>\n",
       "      <td>28129.188363</td>\n",
       "      <td>28315.663119</td>\n",
       "    </tr>\n",
       "    <tr>\n",
       "      <th>337002</th>\n",
       "      <td>Public_Tompkins</td>\n",
       "      <td>360470283001</td>\n",
       "      <td>13043</td>\n",
       "      <td>0.005484</td>\n",
       "      <td>0.246801</td>\n",
       "      <td>True</td>\n",
       "      <td>public</td>\n",
       "      <td>28553.264619</td>\n",
       "      <td>28031.583361</td>\n",
       "    </tr>\n",
       "    <tr>\n",
       "      <th>337988</th>\n",
       "      <td>Public_Tompkins</td>\n",
       "      <td>360470289004</td>\n",
       "      <td>13229</td>\n",
       "      <td>0.004405</td>\n",
       "      <td>0.228194</td>\n",
       "      <td>True</td>\n",
       "      <td>public</td>\n",
       "      <td>28286.975192</td>\n",
       "      <td>27817.422400</td>\n",
       "    </tr>\n",
       "    <tr>\n",
       "      <th>338701</th>\n",
       "      <td>Public_Tompkins</td>\n",
       "      <td>360470287003</td>\n",
       "      <td>9563</td>\n",
       "      <td>0.000766</td>\n",
       "      <td>0.069732</td>\n",
       "      <td>True</td>\n",
       "      <td>public</td>\n",
       "      <td>27389.040608</td>\n",
       "      <td>25993.562246</td>\n",
       "    </tr>\n",
       "    <tr>\n",
       "      <th>338793</th>\n",
       "      <td>Public_Tompkins</td>\n",
       "      <td>360470281001</td>\n",
       "      <td>9934</td>\n",
       "      <td>0.006250</td>\n",
       "      <td>0.342500</td>\n",
       "      <td>True</td>\n",
       "      <td>public</td>\n",
       "      <td>28742.163680</td>\n",
       "      <td>29133.059096</td>\n",
       "    </tr>\n",
       "  </tbody>\n",
       "</table>\n",
       "</div>"
      ],
      "text/plain": [
       "                   name         GEOID    MHI  norm_open_counts  \\\n",
       "0        Public_RedHook  360470085001  10372          0.002061   \n",
       "3431     Public_Whitman  360470029012  14091          0.045381   \n",
       "4870     Public_Whitman  360470029011  11185          0.006245   \n",
       "6320     Public_Gowanus  360470071003  13202          0.001552   \n",
       "22628    Public_Gowanus  360470127003  15868          0.009404   \n",
       "50090    Public_Chelsea  360610083003  13210          0.113842   \n",
       "142909   Public_Chelsea  360610089003  39788          0.028398   \n",
       "202405   Public_Chelsea  360610097002  13889          0.040476   \n",
       "332024  Public_Tompkins  360470259021  13218          0.003060   \n",
       "334304  Public_Tompkins  360470285021  11859          0.003766   \n",
       "337002  Public_Tompkins  360470283001  13043          0.005484   \n",
       "337988  Public_Tompkins  360470289004  13229          0.004405   \n",
       "338701  Public_Tompkins  360470287003   9563          0.000766   \n",
       "338793  Public_Tompkins  360470281001   9934          0.006250   \n",
       "\n",
       "        norm_non_open_counts Public Public_cat  predictions_open  \\\n",
       "0                   0.059494   True     public      27708.517107   \n",
       "3431                0.620746   True     public      38397.821541   \n",
       "4870                0.099647   True     public      28740.907471   \n",
       "6320                0.274759   True     public      27582.995665   \n",
       "22628               0.769070   True     public      29520.518318   \n",
       "50090               1.624838   True     public      55290.847014   \n",
       "142909              1.049358   True     public      34207.140323   \n",
       "202405              1.469841   True     public      37187.576245   \n",
       "332024              0.175800   True     public      27954.973807   \n",
       "334304              0.271482   True     public      28129.188363   \n",
       "337002              0.246801   True     public      28553.264619   \n",
       "337988              0.228194   True     public      28286.975192   \n",
       "338701              0.069732   True     public      27389.040608   \n",
       "338793              0.342500   True     public      28742.163680   \n",
       "\n",
       "        predictions_non_open  \n",
       "0               25875.731823  \n",
       "3431            32335.598864  \n",
       "4870            26337.879356  \n",
       "6320            28353.380865  \n",
       "22628           34042.778073  \n",
       "50090           43892.466683  \n",
       "142909          37268.822163  \n",
       "202405          42108.487959  \n",
       "332024          27214.378694  \n",
       "334304          28315.663119  \n",
       "337002          28031.583361  \n",
       "337988          27817.422400  \n",
       "338701          25993.562246  \n",
       "338793          29133.059096  "
      ]
     },
     "execution_count": 2154,
     "metadata": {},
     "output_type": "execute_result"
    }
   ],
   "source": [
    "public"
   ]
  },
  {
   "cell_type": "code",
   "execution_count": 2155,
   "metadata": {
    "collapsed": false
   },
   "outputs": [
    {
     "data": {
      "text/html": [
       "<div>\n",
       "<table border=\"1\" class=\"dataframe\">\n",
       "  <thead>\n",
       "    <tr style=\"text-align: right;\">\n",
       "      <th></th>\n",
       "      <th>name</th>\n",
       "      <th>GEOID</th>\n",
       "      <th>MHI</th>\n",
       "      <th>norm_open_counts</th>\n",
       "      <th>norm_non_open_counts</th>\n",
       "      <th>Public</th>\n",
       "      <th>Public_cat</th>\n",
       "      <th>predictions_open</th>\n",
       "      <th>predictions_non_open</th>\n",
       "    </tr>\n",
       "  </thead>\n",
       "  <tbody>\n",
       "    <tr>\n",
       "      <th>1416</th>\n",
       "      <td>Non_Public_RedHook</td>\n",
       "      <td>360470065002</td>\n",
       "      <td>63889</td>\n",
       "      <td>0.002628</td>\n",
       "      <td>0.206307</td>\n",
       "      <td>False</td>\n",
       "      <td>non-public</td>\n",
       "      <td>27848.454422</td>\n",
       "      <td>27565.515823</td>\n",
       "    </tr>\n",
       "    <tr>\n",
       "      <th>1651</th>\n",
       "      <td>Non_Public_RedHook</td>\n",
       "      <td>360470065003</td>\n",
       "      <td>66181</td>\n",
       "      <td>0.008230</td>\n",
       "      <td>0.286694</td>\n",
       "      <td>False</td>\n",
       "      <td>non-public</td>\n",
       "      <td>29230.846168</td>\n",
       "      <td>28490.746528</td>\n",
       "    </tr>\n",
       "    <tr>\n",
       "      <th>1986</th>\n",
       "      <td>Non_Public_RedHook</td>\n",
       "      <td>360470065001</td>\n",
       "      <td>68750</td>\n",
       "      <td>0.013006</td>\n",
       "      <td>0.356936</td>\n",
       "      <td>False</td>\n",
       "      <td>non-public</td>\n",
       "      <td>30409.172232</td>\n",
       "      <td>29299.218800</td>\n",
       "    </tr>\n",
       "    <tr>\n",
       "      <th>2447</th>\n",
       "      <td>Non_Public_RedHook</td>\n",
       "      <td>360470065004</td>\n",
       "      <td>71875</td>\n",
       "      <td>0.011200</td>\n",
       "      <td>0.304000</td>\n",
       "      <td>False</td>\n",
       "      <td>non-public</td>\n",
       "      <td>29963.590652</td>\n",
       "      <td>28689.933288</td>\n",
       "    </tr>\n",
       "    <tr>\n",
       "      <th>2844</th>\n",
       "      <td>Non_Public_RedHook</td>\n",
       "      <td>360470065005</td>\n",
       "      <td>47260</td>\n",
       "      <td>0.021053</td>\n",
       "      <td>0.482456</td>\n",
       "      <td>False</td>\n",
       "      <td>non-public</td>\n",
       "      <td>32394.756300</td>\n",
       "      <td>30743.920857</td>\n",
       "    </tr>\n",
       "    <tr>\n",
       "      <th>291249</th>\n",
       "      <td>Non_Public_Tompkins</td>\n",
       "      <td>360470261001</td>\n",
       "      <td>14426</td>\n",
       "      <td>0.002750</td>\n",
       "      <td>0.284143</td>\n",
       "      <td>False</td>\n",
       "      <td>non-public</td>\n",
       "      <td>27878.471905</td>\n",
       "      <td>28461.383821</td>\n",
       "    </tr>\n",
       "    <tr>\n",
       "      <th>291964</th>\n",
       "      <td>Non_Public_Tompkins</td>\n",
       "      <td>360470261005</td>\n",
       "      <td>8561</td>\n",
       "      <td>0.011986</td>\n",
       "      <td>0.900685</td>\n",
       "      <td>False</td>\n",
       "      <td>non-public</td>\n",
       "      <td>30157.612814</td>\n",
       "      <td>35557.634391</td>\n",
       "    </tr>\n",
       "    <tr>\n",
       "      <th>292938</th>\n",
       "      <td>Non_Public_Tompkins</td>\n",
       "      <td>360470261002</td>\n",
       "      <td>18814</td>\n",
       "      <td>0.014682</td>\n",
       "      <td>0.644372</td>\n",
       "      <td>False</td>\n",
       "      <td>non-public</td>\n",
       "      <td>30822.757765</td>\n",
       "      <td>32607.533068</td>\n",
       "    </tr>\n",
       "    <tr>\n",
       "      <th>293598</th>\n",
       "      <td>Non_Public_Tompkins</td>\n",
       "      <td>360470261004</td>\n",
       "      <td>17083</td>\n",
       "      <td>0.006823</td>\n",
       "      <td>0.438596</td>\n",
       "      <td>False</td>\n",
       "      <td>non-public</td>\n",
       "      <td>28883.457387</td>\n",
       "      <td>30239.106767</td>\n",
       "    </tr>\n",
       "    <tr>\n",
       "      <th>295014</th>\n",
       "      <td>Non_Public_Tompkins</td>\n",
       "      <td>360470261003</td>\n",
       "      <td>18167</td>\n",
       "      <td>0.007958</td>\n",
       "      <td>0.331565</td>\n",
       "      <td>False</td>\n",
       "      <td>non-public</td>\n",
       "      <td>29163.509024</td>\n",
       "      <td>29007.199704</td>\n",
       "    </tr>\n",
       "    <tr>\n",
       "      <th>295852</th>\n",
       "      <td>Non_Public_Gowanus</td>\n",
       "      <td>360470069004</td>\n",
       "      <td>51793</td>\n",
       "      <td>0.007075</td>\n",
       "      <td>0.324292</td>\n",
       "      <td>False</td>\n",
       "      <td>non-public</td>\n",
       "      <td>28945.851235</td>\n",
       "      <td>28923.494575</td>\n",
       "    </tr>\n",
       "    <tr>\n",
       "      <th>302172</th>\n",
       "      <td>Non_Public_Gowanus</td>\n",
       "      <td>360470043004</td>\n",
       "      <td>47125</td>\n",
       "      <td>0.012278</td>\n",
       "      <td>0.158254</td>\n",
       "      <td>False</td>\n",
       "      <td>non-public</td>\n",
       "      <td>30229.666383</td>\n",
       "      <td>27012.428767</td>\n",
       "    </tr>\n",
       "    <tr>\n",
       "      <th>303096</th>\n",
       "      <td>Non_Public_Gowanus</td>\n",
       "      <td>360470069003</td>\n",
       "      <td>49444</td>\n",
       "      <td>0.020606</td>\n",
       "      <td>0.787879</td>\n",
       "      <td>False</td>\n",
       "      <td>non-public</td>\n",
       "      <td>32284.563607</td>\n",
       "      <td>34259.262610</td>\n",
       "    </tr>\n",
       "    <tr>\n",
       "      <th>341334</th>\n",
       "      <td>Non_Public_Chelsea</td>\n",
       "      <td>360610091002</td>\n",
       "      <td>43071</td>\n",
       "      <td>0.051654</td>\n",
       "      <td>0.873476</td>\n",
       "      <td>False</td>\n",
       "      <td>non-public</td>\n",
       "      <td>39945.756052</td>\n",
       "      <td>35244.471777</td>\n",
       "    </tr>\n",
       "    <tr>\n",
       "      <th>383900</th>\n",
       "      <td>Non_Public_Chelsea</td>\n",
       "      <td>360610091003</td>\n",
       "      <td>70741</td>\n",
       "      <td>0.063666</td>\n",
       "      <td>0.826564</td>\n",
       "      <td>False</td>\n",
       "      <td>non-public</td>\n",
       "      <td>42909.803759</td>\n",
       "      <td>34704.522642</td>\n",
       "    </tr>\n",
       "    <tr>\n",
       "      <th>396031</th>\n",
       "      <td>Non_Public_Whitman</td>\n",
       "      <td>360470033001</td>\n",
       "      <td>52500</td>\n",
       "      <td>0.039744</td>\n",
       "      <td>1.955128</td>\n",
       "      <td>False</td>\n",
       "      <td>non-public</td>\n",
       "      <td>37006.804872</td>\n",
       "      <td>47694.024723</td>\n",
       "    </tr>\n",
       "    <tr>\n",
       "      <th>414101</th>\n",
       "      <td>Non_Public_Whitman</td>\n",
       "      <td>360470181003</td>\n",
       "      <td>34489</td>\n",
       "      <td>0.038687</td>\n",
       "      <td>1.386870</td>\n",
       "      <td>False</td>\n",
       "      <td>non-public</td>\n",
       "      <td>36746.085082</td>\n",
       "      <td>41153.506969</td>\n",
       "    </tr>\n",
       "    <tr>\n",
       "      <th>428160</th>\n",
       "      <td>Non_Public_Whitman</td>\n",
       "      <td>360470181002</td>\n",
       "      <td>71779</td>\n",
       "      <td>0.080488</td>\n",
       "      <td>2.153659</td>\n",
       "      <td>False</td>\n",
       "      <td>non-public</td>\n",
       "      <td>47060.559078</td>\n",
       "      <td>49979.061439</td>\n",
       "    </tr>\n",
       "    <tr>\n",
       "      <th>437026</th>\n",
       "      <td>Non_Public_Whitman</td>\n",
       "      <td>360470181001</td>\n",
       "      <td>61771</td>\n",
       "      <td>0.054291</td>\n",
       "      <td>1.618214</td>\n",
       "      <td>False</td>\n",
       "      <td>non-public</td>\n",
       "      <td>40596.351310</td>\n",
       "      <td>43816.218749</td>\n",
       "    </tr>\n",
       "  </tbody>\n",
       "</table>\n",
       "</div>"
      ],
      "text/plain": [
       "                       name         GEOID    MHI  norm_open_counts  \\\n",
       "1416     Non_Public_RedHook  360470065002  63889          0.002628   \n",
       "1651     Non_Public_RedHook  360470065003  66181          0.008230   \n",
       "1986     Non_Public_RedHook  360470065001  68750          0.013006   \n",
       "2447     Non_Public_RedHook  360470065004  71875          0.011200   \n",
       "2844     Non_Public_RedHook  360470065005  47260          0.021053   \n",
       "291249  Non_Public_Tompkins  360470261001  14426          0.002750   \n",
       "291964  Non_Public_Tompkins  360470261005   8561          0.011986   \n",
       "292938  Non_Public_Tompkins  360470261002  18814          0.014682   \n",
       "293598  Non_Public_Tompkins  360470261004  17083          0.006823   \n",
       "295014  Non_Public_Tompkins  360470261003  18167          0.007958   \n",
       "295852   Non_Public_Gowanus  360470069004  51793          0.007075   \n",
       "302172   Non_Public_Gowanus  360470043004  47125          0.012278   \n",
       "303096   Non_Public_Gowanus  360470069003  49444          0.020606   \n",
       "341334   Non_Public_Chelsea  360610091002  43071          0.051654   \n",
       "383900   Non_Public_Chelsea  360610091003  70741          0.063666   \n",
       "396031   Non_Public_Whitman  360470033001  52500          0.039744   \n",
       "414101   Non_Public_Whitman  360470181003  34489          0.038687   \n",
       "428160   Non_Public_Whitman  360470181002  71779          0.080488   \n",
       "437026   Non_Public_Whitman  360470181001  61771          0.054291   \n",
       "\n",
       "        norm_non_open_counts Public  Public_cat  predictions_open  \\\n",
       "1416                0.206307  False  non-public      27848.454422   \n",
       "1651                0.286694  False  non-public      29230.846168   \n",
       "1986                0.356936  False  non-public      30409.172232   \n",
       "2447                0.304000  False  non-public      29963.590652   \n",
       "2844                0.482456  False  non-public      32394.756300   \n",
       "291249              0.284143  False  non-public      27878.471905   \n",
       "291964              0.900685  False  non-public      30157.612814   \n",
       "292938              0.644372  False  non-public      30822.757765   \n",
       "293598              0.438596  False  non-public      28883.457387   \n",
       "295014              0.331565  False  non-public      29163.509024   \n",
       "295852              0.324292  False  non-public      28945.851235   \n",
       "302172              0.158254  False  non-public      30229.666383   \n",
       "303096              0.787879  False  non-public      32284.563607   \n",
       "341334              0.873476  False  non-public      39945.756052   \n",
       "383900              0.826564  False  non-public      42909.803759   \n",
       "396031              1.955128  False  non-public      37006.804872   \n",
       "414101              1.386870  False  non-public      36746.085082   \n",
       "428160              2.153659  False  non-public      47060.559078   \n",
       "437026              1.618214  False  non-public      40596.351310   \n",
       "\n",
       "        predictions_non_open  \n",
       "1416            27565.515823  \n",
       "1651            28490.746528  \n",
       "1986            29299.218800  \n",
       "2447            28689.933288  \n",
       "2844            30743.920857  \n",
       "291249          28461.383821  \n",
       "291964          35557.634391  \n",
       "292938          32607.533068  \n",
       "293598          30239.106767  \n",
       "295014          29007.199704  \n",
       "295852          28923.494575  \n",
       "302172          27012.428767  \n",
       "303096          34259.262610  \n",
       "341334          35244.471777  \n",
       "383900          34704.522642  \n",
       "396031          47694.024723  \n",
       "414101          41153.506969  \n",
       "428160          49979.061439  \n",
       "437026          43816.218749  "
      ]
     },
     "execution_count": 2155,
     "metadata": {},
     "output_type": "execute_result"
    }
   ],
   "source": [
    "private"
   ]
  },
  {
   "cell_type": "code",
   "execution_count": 2156,
   "metadata": {
    "collapsed": true
   },
   "outputs": [],
   "source": [
    "# t-test (4)\n",
    "from scipy import stats"
   ]
  },
  {
   "cell_type": "code",
   "execution_count": 2157,
   "metadata": {
    "collapsed": false
   },
   "outputs": [
    {
     "data": {
      "text/plain": [
       "Ttest_indResult(statistic=-0.56552155251903402, pvalue=0.57578974906277824)"
      ]
     },
     "execution_count": 2157,
     "metadata": {},
     "output_type": "execute_result"
    }
   ],
   "source": [
    "# open networks\n",
    "stats.ttest_ind(public.norm_open_counts,private.norm_open_counts, equal_var=True)"
   ]
  },
  {
   "cell_type": "code",
   "execution_count": 2158,
   "metadata": {
    "collapsed": false
   },
   "outputs": [
    {
     "data": {
      "text/plain": [
       "Ttest_indResult(statistic=-1.1548970680533088, pvalue=0.25695757022801258)"
      ]
     },
     "execution_count": 2158,
     "metadata": {},
     "output_type": "execute_result"
    }
   ],
   "source": [
    "# non open networks\n",
    "stats.ttest_ind(public.norm_non_open_counts,private.norm_non_open_counts, equal_var=True)"
   ]
  },
  {
   "cell_type": "code",
   "execution_count": null,
   "metadata": {
    "collapsed": true
   },
   "outputs": [],
   "source": []
  }
 ],
 "metadata": {
  "kernelspec": {
   "display_name": "Python 3",
   "language": "python",
   "name": "python3"
  },
  "language_info": {
   "codemirror_mode": {
    "name": "ipython",
    "version": 3
   },
   "file_extension": ".py",
   "mimetype": "text/x-python",
   "name": "python",
   "nbconvert_exporter": "python",
   "pygments_lexer": "ipython3",
   "version": "3.6.0"
  }
 },
 "nbformat": 4,
 "nbformat_minor": 2
}
