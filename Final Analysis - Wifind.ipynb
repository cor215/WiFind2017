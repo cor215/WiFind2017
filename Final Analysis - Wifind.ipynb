{
 "cells": [
  {
   "cell_type": "markdown",
   "metadata": {},
   "source": [
    "# Wifind Data - Final Analysis \n",
    "\n",
    "## Author_: Chritstian Rosado"
   ]
  },
  {
   "cell_type": "code",
   "execution_count": 5,
   "metadata": {
    "collapsed": false
   },
   "outputs": [
    {
     "name": "stdout",
     "output_type": "stream",
     "text": [
      "Populating the interactive namespace from numpy and matplotlib\n"
     ]
    }
   ],
   "source": [
    "# importing packages \n",
    "from __future__  import print_function, division\n",
    "import pylab as pl\n",
    "import pandas as pd\n",
    "import numpy as np\n",
    "import matplotlib.pyplot as plt\n",
    "from fiona.crs import from_epsg\n",
    "import shapely as shp\n",
    "import seaborn \n",
    "import os\n",
    "import geopandas as gpd\n",
    "%pylab inline"
   ]
  },
  {
   "cell_type": "code",
   "execution_count": 6,
   "metadata": {
    "collapsed": false
   },
   "outputs": [
    {
     "name": "stdout",
     "output_type": "stream",
     "text": [
      "http://wifindproject.com/wifipulling/?columns=lat%7Clng%7Cssid%7Cbssid%7Cacc%7Ctime%7Clevel&startdate=06/01/2017&enddate=07/17/2017&timeformat=1\n"
     ]
    }
   ],
   "source": [
    "# important all data\n",
    "startdate = \"06/01/2017\"\n",
    "enddate = \"07/17/2017\"\n",
    "link = 'http://wifindproject.com/wifipulling/?columns=lat%7Clng%7Cssid%7Cbssid%7Cacc%7Ctime%7Clevel\\\n",
    "&startdate={0}&enddate={1}&timeformat=1'.format(startdate,enddate)\n",
    "print(link)"
   ]
  },
  {
   "cell_type": "code",
   "execution_count": 7,
   "metadata": {
    "collapsed": true
   },
   "outputs": [],
   "source": [
    "# loading raw data for analysis \n",
    "data = pd.read_json(link, dtype={\"lng\":float, \"lat\":float})"
   ]
  },
  {
   "cell_type": "code",
   "execution_count": 8,
   "metadata": {
    "collapsed": true
   },
   "outputs": [],
   "source": [
    "# filtering errant scans \n",
    "wifi_data = data.drop(data[data.acc > 50].index)"
   ]
  },
  {
   "cell_type": "code",
   "execution_count": 9,
   "metadata": {
    "collapsed": false
   },
   "outputs": [
    {
     "data": {
      "text/html": [
       "<div>\n",
       "<table border=\"1\" class=\"dataframe\">\n",
       "  <thead>\n",
       "    <tr style=\"text-align: right;\">\n",
       "      <th></th>\n",
       "      <th>acc</th>\n",
       "      <th>bssid</th>\n",
       "      <th>lat</th>\n",
       "      <th>level</th>\n",
       "      <th>lng</th>\n",
       "      <th>ssid</th>\n",
       "      <th>time</th>\n",
       "    </tr>\n",
       "  </thead>\n",
       "  <tbody>\n",
       "    <tr>\n",
       "      <th>0</th>\n",
       "      <td>19.929</td>\n",
       "      <td>fc:0a:81:c0:b4:b2</td>\n",
       "      <td>40.710426</td>\n",
       "      <td>-54.0</td>\n",
       "      <td>-74.011387</td>\n",
       "      <td></td>\n",
       "      <td>06-12-2017 15:51:03</td>\n",
       "    </tr>\n",
       "  </tbody>\n",
       "</table>\n",
       "</div>"
      ],
      "text/plain": [
       "      acc              bssid        lat  level        lng ssid  \\\n",
       "0  19.929  fc:0a:81:c0:b4:b2  40.710426  -54.0 -74.011387        \n",
       "\n",
       "                  time  \n",
       "0  06-12-2017 15:51:03  "
      ]
     },
     "execution_count": 9,
     "metadata": {},
     "output_type": "execute_result"
    }
   ],
   "source": [
    "wifi_data.head(1)"
   ]
  },
  {
   "cell_type": "code",
   "execution_count": 10,
   "metadata": {
    "collapsed": false
   },
   "outputs": [
    {
     "data": {
      "text/plain": [
       "(985106, 7)"
      ]
     },
     "execution_count": 10,
     "metadata": {},
     "output_type": "execute_result"
    }
   ],
   "source": [
    "data.shape"
   ]
  },
  {
   "cell_type": "code",
   "execution_count": 11,
   "metadata": {
    "collapsed": false
   },
   "outputs": [
    {
     "data": {
      "text/plain": [
       "(940155, 7)"
      ]
     },
     "execution_count": 11,
     "metadata": {},
     "output_type": "execute_result"
    }
   ],
   "source": [
    "wifi_data.shape"
   ]
  },
  {
   "cell_type": "code",
   "execution_count": 12,
   "metadata": {
    "collapsed": false
   },
   "outputs": [
    {
     "name": "stdout",
     "output_type": "stream",
     "text": [
      "number of errant records removed: 44951\n"
     ]
    }
   ],
   "source": [
    "# errant resords removed\n",
    "errant_records = data.shape[0] - wifi_data.shape[0]\n",
    "print(\"number of errant records removed:\", errant_records)"
   ]
  },
  {
   "cell_type": "code",
   "execution_count": 13,
   "metadata": {
    "collapsed": false
   },
   "outputs": [
    {
     "data": {
      "text/html": [
       "<div>\n",
       "<table border=\"1\" class=\"dataframe\">\n",
       "  <thead>\n",
       "    <tr style=\"text-align: right;\">\n",
       "      <th></th>\n",
       "      <th>acc</th>\n",
       "      <th>level</th>\n",
       "    </tr>\n",
       "  </thead>\n",
       "  <tbody>\n",
       "    <tr>\n",
       "      <th>count</th>\n",
       "      <td>940155.000000</td>\n",
       "      <td>940155.000000</td>\n",
       "    </tr>\n",
       "    <tr>\n",
       "      <th>mean</th>\n",
       "      <td>14.579580</td>\n",
       "      <td>-77.529315</td>\n",
       "    </tr>\n",
       "    <tr>\n",
       "      <th>std</th>\n",
       "      <td>8.622587</td>\n",
       "      <td>10.022806</td>\n",
       "    </tr>\n",
       "    <tr>\n",
       "      <th>min</th>\n",
       "      <td>3.000000</td>\n",
       "      <td>-99.000000</td>\n",
       "    </tr>\n",
       "    <tr>\n",
       "      <th>25%</th>\n",
       "      <td>9.102000</td>\n",
       "      <td>-86.000000</td>\n",
       "    </tr>\n",
       "    <tr>\n",
       "      <th>50%</th>\n",
       "      <td>12.136000</td>\n",
       "      <td>-79.000000</td>\n",
       "    </tr>\n",
       "    <tr>\n",
       "      <th>75%</th>\n",
       "      <td>19.721000</td>\n",
       "      <td>-70.000000</td>\n",
       "    </tr>\n",
       "    <tr>\n",
       "      <th>max</th>\n",
       "      <td>50.000000</td>\n",
       "      <td>-10.000000</td>\n",
       "    </tr>\n",
       "  </tbody>\n",
       "</table>\n",
       "</div>"
      ],
      "text/plain": [
       "                 acc          level\n",
       "count  940155.000000  940155.000000\n",
       "mean       14.579580     -77.529315\n",
       "std         8.622587      10.022806\n",
       "min         3.000000     -99.000000\n",
       "25%         9.102000     -86.000000\n",
       "50%        12.136000     -79.000000\n",
       "75%        19.721000     -70.000000\n",
       "max        50.000000     -10.000000"
      ]
     },
     "execution_count": 13,
     "metadata": {},
     "output_type": "execute_result"
    }
   ],
   "source": [
    "wifi_data[[\"acc\", \"level\"]].describe()"
   ]
  },
  {
   "cell_type": "code",
   "execution_count": 14,
   "metadata": {
    "collapsed": true
   },
   "outputs": [],
   "source": [
    "# generating points for wifi data\n",
    "def points(p):\n",
    "    point = shp.geometry.Point(p)\n",
    "    return point\n",
    "\n",
    "wifi_data[\"geometry\"] = list(map(lambda x: points(x), zip(wifi_data.lng, wifi_data.lat)))"
   ]
  },
  {
   "cell_type": "code",
   "execution_count": 15,
   "metadata": {
    "collapsed": false
   },
   "outputs": [
    {
     "data": {
      "text/html": [
       "<div>\n",
       "<table border=\"1\" class=\"dataframe\">\n",
       "  <thead>\n",
       "    <tr style=\"text-align: right;\">\n",
       "      <th></th>\n",
       "      <th>acc</th>\n",
       "      <th>bssid</th>\n",
       "      <th>lat</th>\n",
       "      <th>level</th>\n",
       "      <th>lng</th>\n",
       "      <th>ssid</th>\n",
       "      <th>time</th>\n",
       "      <th>geometry</th>\n",
       "    </tr>\n",
       "  </thead>\n",
       "  <tbody>\n",
       "    <tr>\n",
       "      <th>0</th>\n",
       "      <td>19.929</td>\n",
       "      <td>fc:0a:81:c0:b4:b2</td>\n",
       "      <td>40.710426</td>\n",
       "      <td>-54.0</td>\n",
       "      <td>-74.011387</td>\n",
       "      <td></td>\n",
       "      <td>06-12-2017 15:51:03</td>\n",
       "      <td>POINT (-74.01138659999999 40.7104258)</td>\n",
       "    </tr>\n",
       "  </tbody>\n",
       "</table>\n",
       "</div>"
      ],
      "text/plain": [
       "      acc              bssid        lat  level        lng ssid  \\\n",
       "0  19.929  fc:0a:81:c0:b4:b2  40.710426  -54.0 -74.011387        \n",
       "\n",
       "                  time                               geometry  \n",
       "0  06-12-2017 15:51:03  POINT (-74.01138659999999 40.7104258)  "
      ]
     },
     "execution_count": 15,
     "metadata": {},
     "output_type": "execute_result"
    }
   ],
   "source": [
    "wifi_data.head(1)"
   ]
  },
  {
   "cell_type": "code",
   "execution_count": 118,
   "metadata": {
    "collapsed": false
   },
   "outputs": [
    {
     "data": {
      "text/plain": [
       "(940155, 8)"
      ]
     },
     "execution_count": 118,
     "metadata": {},
     "output_type": "execute_result"
    }
   ],
   "source": [
    "wifi_data.shape"
   ]
  },
  {
   "cell_type": "code",
   "execution_count": 16,
   "metadata": {
    "collapsed": false
   },
   "outputs": [],
   "source": [
    "# loading wifi data into geopandas\n",
    "wifi_shape = gpd.GeoDataFrame(wifi_data)"
   ]
  },
  {
   "cell_type": "code",
   "execution_count": 107,
   "metadata": {
    "collapsed": true
   },
   "outputs": [],
   "source": [
    "# loading housing projects shapes into geopandas\n",
    "#housing_shape = gpd.GeoDataFrame.from_file(\"../Downloads/data/shape/Export_Output.shp\")\n",
    "housing_shape = gpd.GeoDataFrame.from_file(\"../Downloads/data/tl_2013_36_bg/tl_2013_36_bg.shp\")"
   ]
  },
  {
   "cell_type": "code",
   "execution_count": 108,
   "metadata": {
    "collapsed": false
   },
   "outputs": [
    {
     "data": {
      "text/plain": [
       "(15463, 13)"
      ]
     },
     "execution_count": 108,
     "metadata": {},
     "output_type": "execute_result"
    }
   ],
   "source": [
    "housing_shape.shape"
   ]
  },
  {
   "cell_type": "code",
   "execution_count": 112,
   "metadata": {
    "collapsed": false
   },
   "outputs": [
    {
     "data": {
      "text/plain": [
       "<matplotlib.axes._subplots.AxesSubplot at 0x1891b9b70>"
      ]
     },
     "execution_count": 112,
     "metadata": {},
     "output_type": "execute_result"
    },
    {
     "data": {
      "image/png": "[encoded data removed]",
      "text/plain": [
       "<matplotlib.figure.Figure at 0x189ec7f28>"
      ]
     },
     "metadata": {},
     "output_type": "display_data"
    }
   ],
   "source": [
    "housing_shape.plot()"
   ]
  },
  {
   "cell_type": "code",
   "execution_count": 113,
   "metadata": {
    "collapsed": false
   },
   "outputs": [],
   "source": [
    "# epsg=4326: lat/on | 26918: NAD83/UTM zone 18N | epsg=2263 is US feet\n",
    "wifi_shape.crs = from_epsg(4326)\n",
    "housing_shape.crs = from_epsg(4326)"
   ]
  },
  {
   "cell_type": "code",
   "execution_count": 114,
   "metadata": {
    "collapsed": false
   },
   "outputs": [],
   "source": [
    "# merging wifi data with housing shapes - blocks\n",
    "housing_wifi = gpd.sjoin(wifi_shape, housing_shape, how=\"inner\", op='intersects') #geo merger"
   ]
  },
  {
   "cell_type": "code",
   "execution_count": 119,
   "metadata": {
    "collapsed": false
   },
   "outputs": [
    {
     "data": {
      "text/html": [
       "<div>\n",
       "<table border=\"1\" class=\"dataframe\">\n",
       "  <thead>\n",
       "    <tr style=\"text-align: right;\">\n",
       "      <th></th>\n",
       "      <th>acc</th>\n",
       "      <th>bssid</th>\n",
       "      <th>lat</th>\n",
       "      <th>level</th>\n",
       "      <th>lng</th>\n",
       "      <th>ssid</th>\n",
       "      <th>time</th>\n",
       "      <th>geometry</th>\n",
       "      <th>index_right</th>\n",
       "      <th>ALAND</th>\n",
       "      <th>...</th>\n",
       "      <th>BLKGRPCE</th>\n",
       "      <th>COUNTYFP</th>\n",
       "      <th>FUNCSTAT</th>\n",
       "      <th>GEOID</th>\n",
       "      <th>INTPTLAT</th>\n",
       "      <th>INTPTLON</th>\n",
       "      <th>MTFCC</th>\n",
       "      <th>NAMELSAD</th>\n",
       "      <th>STATEFP</th>\n",
       "      <th>TRACTCE</th>\n",
       "    </tr>\n",
       "  </thead>\n",
       "  <tbody>\n",
       "    <tr>\n",
       "      <th>982314</th>\n",
       "      <td>23.763</td>\n",
       "      <td>12:3e:5d:c4:6a:02</td>\n",
       "      <td>40.693374</td>\n",
       "      <td>-92.0</td>\n",
       "      <td>-73.943112</td>\n",
       "      <td>optimumwifi</td>\n",
       "      <td>07-16-2017 13:37:02</td>\n",
       "      <td>POINT (-73.9431117 40.6933738)</td>\n",
       "      <td>10384</td>\n",
       "      <td>39886</td>\n",
       "      <td>...</td>\n",
       "      <td>1</td>\n",
       "      <td>047</td>\n",
       "      <td>S</td>\n",
       "      <td>360470261001</td>\n",
       "      <td>+40.6936609</td>\n",
       "      <td>-073.9445151</td>\n",
       "      <td>G5030</td>\n",
       "      <td>Block Group 1</td>\n",
       "      <td>36</td>\n",
       "      <td>026100</td>\n",
       "    </tr>\n",
       "  </tbody>\n",
       "</table>\n",
       "<p>1 rows × 21 columns</p>\n",
       "</div>"
      ],
      "text/plain": [
       "           acc              bssid        lat  level        lng         ssid  \\\n",
       "982314  23.763  12:3e:5d:c4:6a:02  40.693374  -92.0 -73.943112  optimumwifi   \n",
       "\n",
       "                       time                        geometry  index_right  \\\n",
       "982314  07-16-2017 13:37:02  POINT (-73.9431117 40.6933738)        10384   \n",
       "\n",
       "        ALAND   ...    BLKGRPCE COUNTYFP FUNCSTAT         GEOID     INTPTLAT  \\\n",
       "982314  39886   ...           1      047        S  360470261001  +40.6936609   \n",
       "\n",
       "            INTPTLON  MTFCC       NAMELSAD STATEFP TRACTCE  \n",
       "982314  -073.9445151  G5030  Block Group 1      36  026100  \n",
       "\n",
       "[1 rows x 21 columns]"
      ]
     },
     "execution_count": 119,
     "metadata": {},
     "output_type": "execute_result"
    }
   ],
   "source": [
    "housing_wifi.tail(1)"
   ]
  },
  {
   "cell_type": "code",
   "execution_count": 116,
   "metadata": {
    "collapsed": false
   },
   "outputs": [
    {
     "data": {
      "text/plain": [
       "(935847, 21)"
      ]
     },
     "execution_count": 116,
     "metadata": {},
     "output_type": "execute_result"
    }
   ],
   "source": [
    "housing_wifi.shape"
   ]
  },
  {
   "cell_type": "code",
   "execution_count": 120,
   "metadata": {
    "collapsed": false
   },
   "outputs": [],
   "source": [
    "housing_wifi_ = gpd.sjoin(housing_shape, wifi_shape, how=\"inner\", op='intersects') #geo merger"
   ]
  },
  {
   "cell_type": "code",
   "execution_count": 121,
   "metadata": {
    "collapsed": false
   },
   "outputs": [
    {
     "data": {
      "text/plain": [
       "(15463, 13)"
      ]
     },
     "execution_count": 121,
     "metadata": {},
     "output_type": "execute_result"
    }
   ],
   "source": [
    "housing_shape.shape"
   ]
  },
  {
   "cell_type": "code",
   "execution_count": 122,
   "metadata": {
    "collapsed": false
   },
   "outputs": [
    {
     "data": {
      "text/html": [
       "<div>\n",
       "<table border=\"1\" class=\"dataframe\">\n",
       "  <thead>\n",
       "    <tr style=\"text-align: right;\">\n",
       "      <th></th>\n",
       "      <th>ALAND</th>\n",
       "      <th>AWATER</th>\n",
       "      <th>BLKGRPCE</th>\n",
       "      <th>COUNTYFP</th>\n",
       "      <th>FUNCSTAT</th>\n",
       "      <th>GEOID</th>\n",
       "      <th>INTPTLAT</th>\n",
       "      <th>INTPTLON</th>\n",
       "      <th>MTFCC</th>\n",
       "      <th>NAMELSAD</th>\n",
       "      <th>...</th>\n",
       "      <th>TRACTCE</th>\n",
       "      <th>geometry</th>\n",
       "      <th>index_right</th>\n",
       "      <th>acc</th>\n",
       "      <th>bssid</th>\n",
       "      <th>lat</th>\n",
       "      <th>level</th>\n",
       "      <th>lng</th>\n",
       "      <th>ssid</th>\n",
       "      <th>time</th>\n",
       "    </tr>\n",
       "  </thead>\n",
       "  <tbody>\n",
       "    <tr>\n",
       "      <th>1942</th>\n",
       "      <td>89832</td>\n",
       "      <td>0</td>\n",
       "      <td>1</td>\n",
       "      <td>061</td>\n",
       "      <td>S</td>\n",
       "      <td>360610015011</td>\n",
       "      <td>+40.7107881</td>\n",
       "      <td>-074.0060113</td>\n",
       "      <td>G5030</td>\n",
       "      <td>Block Group 1</td>\n",
       "      <td>...</td>\n",
       "      <td>001501</td>\n",
       "      <td>POLYGON ((-74.00861399999999 40.711372, -74.00...</td>\n",
       "      <td>881088</td>\n",
       "      <td>50.0</td>\n",
       "      <td>fc:0a:81:b5:ee:c2</td>\n",
       "      <td>40.710642</td>\n",
       "      <td>-77.0</td>\n",
       "      <td>-74.008483</td>\n",
       "      <td></td>\n",
       "      <td>07-10-2017 19:47:26</td>\n",
       "    </tr>\n",
       "  </tbody>\n",
       "</table>\n",
       "<p>1 rows × 21 columns</p>\n",
       "</div>"
      ],
      "text/plain": [
       "      ALAND  AWATER BLKGRPCE COUNTYFP FUNCSTAT         GEOID     INTPTLAT  \\\n",
       "1942  89832       0        1      061        S  360610015011  +40.7107881   \n",
       "\n",
       "          INTPTLON  MTFCC       NAMELSAD         ...          TRACTCE  \\\n",
       "1942  -074.0060113  G5030  Block Group 1         ...           001501   \n",
       "\n",
       "                                               geometry index_right   acc  \\\n",
       "1942  POLYGON ((-74.00861399999999 40.711372, -74.00...      881088  50.0   \n",
       "\n",
       "                  bssid        lat  level        lng  ssid  \\\n",
       "1942  fc:0a:81:b5:ee:c2  40.710642  -77.0 -74.008483         \n",
       "\n",
       "                     time  \n",
       "1942  07-10-2017 19:47:26  \n",
       "\n",
       "[1 rows x 21 columns]"
      ]
     },
     "execution_count": 122,
     "metadata": {},
     "output_type": "execute_result"
    }
   ],
   "source": [
    "housing_wifi_.head(1)"
   ]
  },
  {
   "cell_type": "code",
   "execution_count": 123,
   "metadata": {
    "collapsed": false
   },
   "outputs": [
    {
     "data": {
      "text/plain": [
       "(935847, 21)"
      ]
     },
     "execution_count": 123,
     "metadata": {},
     "output_type": "execute_result"
    }
   ],
   "source": [
    "housing_wifi_.shape"
   ]
  },
  {
   "cell_type": "code",
   "execution_count": 125,
   "metadata": {
    "collapsed": false
   },
   "outputs": [],
   "source": [
    "uni_bssid = housing_wifi_.groupby(housing_wifi_.GEOID)['bssid'].nunique()"
   ]
  },
  {
   "cell_type": "code",
   "execution_count": 126,
   "metadata": {
    "collapsed": true
   },
   "outputs": [],
   "source": [
    "uni_bssid = pd.DataFrame(uni_bssid)"
   ]
  },
  {
   "cell_type": "code",
   "execution_count": 127,
   "metadata": {
    "collapsed": true
   },
   "outputs": [],
   "source": [
    "uni_bssid[\"GEOID\"] = uni_bssid.index\n",
    "uni_bssid[\"uni_bssid_count\"] = uni_bssid.bssid"
   ]
  },
  {
   "cell_type": "code",
   "execution_count": 128,
   "metadata": {
    "collapsed": false
   },
   "outputs": [
    {
     "data": {
      "text/html": [
       "<div>\n",
       "<table border=\"1\" class=\"dataframe\">\n",
       "  <thead>\n",
       "    <tr style=\"text-align: right;\">\n",
       "      <th></th>\n",
       "      <th>bssid</th>\n",
       "      <th>GEOID</th>\n",
       "      <th>uni_bssid_count</th>\n",
       "    </tr>\n",
       "    <tr>\n",
       "      <th>GEOID</th>\n",
       "      <th></th>\n",
       "      <th></th>\n",
       "      <th></th>\n",
       "    </tr>\n",
       "  </thead>\n",
       "  <tbody>\n",
       "    <tr>\n",
       "      <th>360470001004</th>\n",
       "      <td>9</td>\n",
       "      <td>360470001004</td>\n",
       "      <td>9</td>\n",
       "    </tr>\n",
       "    <tr>\n",
       "      <th>360470003014</th>\n",
       "      <td>306</td>\n",
       "      <td>360470003014</td>\n",
       "      <td>306</td>\n",
       "    </tr>\n",
       "    <tr>\n",
       "      <th>360470005013</th>\n",
       "      <td>251</td>\n",
       "      <td>360470005013</td>\n",
       "      <td>251</td>\n",
       "    </tr>\n",
       "    <tr>\n",
       "      <th>360470005022</th>\n",
       "      <td>214</td>\n",
       "      <td>360470005022</td>\n",
       "      <td>214</td>\n",
       "    </tr>\n",
       "    <tr>\n",
       "      <th>360470007001</th>\n",
       "      <td>562</td>\n",
       "      <td>360470007001</td>\n",
       "      <td>562</td>\n",
       "    </tr>\n",
       "  </tbody>\n",
       "</table>\n",
       "</div>"
      ],
      "text/plain": [
       "              bssid         GEOID  uni_bssid_count\n",
       "GEOID                                             \n",
       "360470001004      9  360470001004                9\n",
       "360470003014    306  360470003014              306\n",
       "360470005013    251  360470005013              251\n",
       "360470005022    214  360470005022              214\n",
       "360470007001    562  360470007001              562"
      ]
     },
     "execution_count": 128,
     "metadata": {},
     "output_type": "execute_result"
    }
   ],
   "source": [
    "uni_bssid.head()"
   ]
  },
  {
   "cell_type": "code",
   "execution_count": 129,
   "metadata": {
    "collapsed": true
   },
   "outputs": [],
   "source": [
    "del uni_bssid[\"bssid\"]"
   ]
  },
  {
   "cell_type": "code",
   "execution_count": 1099,
   "metadata": {
    "collapsed": false
   },
   "outputs": [],
   "source": [
    "# merge unique bssid with main data frame\n",
    "housing_wifi__uni = housing_wifi_.merge(uni_bssid, on=\"GEOID\", how=\"inner\")"
   ]
  },
  {
   "cell_type": "code",
   "execution_count": 1100,
   "metadata": {
    "collapsed": false
   },
   "outputs": [
    {
     "data": {
      "text/html": [
       "<div>\n",
       "<table border=\"1\" class=\"dataframe\">\n",
       "  <thead>\n",
       "    <tr style=\"text-align: right;\">\n",
       "      <th></th>\n",
       "      <th>ALAND</th>\n",
       "      <th>AWATER</th>\n",
       "      <th>BLKGRPCE</th>\n",
       "      <th>COUNTYFP</th>\n",
       "      <th>FUNCSTAT</th>\n",
       "      <th>GEOID</th>\n",
       "      <th>INTPTLAT</th>\n",
       "      <th>INTPTLON</th>\n",
       "      <th>MTFCC</th>\n",
       "      <th>NAMELSAD</th>\n",
       "      <th>...</th>\n",
       "      <th>geometry</th>\n",
       "      <th>index_right</th>\n",
       "      <th>acc</th>\n",
       "      <th>bssid</th>\n",
       "      <th>lat</th>\n",
       "      <th>level</th>\n",
       "      <th>lng</th>\n",
       "      <th>ssid</th>\n",
       "      <th>time</th>\n",
       "      <th>uni_bssid_count</th>\n",
       "    </tr>\n",
       "  </thead>\n",
       "  <tbody>\n",
       "    <tr>\n",
       "      <th>0</th>\n",
       "      <td>89832</td>\n",
       "      <td>0</td>\n",
       "      <td>1</td>\n",
       "      <td>061</td>\n",
       "      <td>S</td>\n",
       "      <td>360610015011</td>\n",
       "      <td>+40.7107881</td>\n",
       "      <td>-074.0060113</td>\n",
       "      <td>G5030</td>\n",
       "      <td>Block Group 1</td>\n",
       "      <td>...</td>\n",
       "      <td>POLYGON ((-74.00861399999999 40.711372, -74.00...</td>\n",
       "      <td>881088</td>\n",
       "      <td>50.0</td>\n",
       "      <td>fc:0a:81:b5:ee:c2</td>\n",
       "      <td>40.710642</td>\n",
       "      <td>-77.0</td>\n",
       "      <td>-74.008483</td>\n",
       "      <td></td>\n",
       "      <td>07-10-2017 19:47:26</td>\n",
       "      <td>24</td>\n",
       "    </tr>\n",
       "  </tbody>\n",
       "</table>\n",
       "<p>1 rows × 22 columns</p>\n",
       "</div>"
      ],
      "text/plain": [
       "   ALAND  AWATER BLKGRPCE COUNTYFP FUNCSTAT         GEOID     INTPTLAT  \\\n",
       "0  89832       0        1      061        S  360610015011  +40.7107881   \n",
       "\n",
       "       INTPTLON  MTFCC       NAMELSAD       ...        \\\n",
       "0  -074.0060113  G5030  Block Group 1       ...         \n",
       "\n",
       "                                            geometry index_right   acc  \\\n",
       "0  POLYGON ((-74.00861399999999 40.711372, -74.00...      881088  50.0   \n",
       "\n",
       "               bssid        lat level        lng  ssid                 time  \\\n",
       "0  fc:0a:81:b5:ee:c2  40.710642 -77.0 -74.008483        07-10-2017 19:47:26   \n",
       "\n",
       "  uni_bssid_count  \n",
       "0              24  \n",
       "\n",
       "[1 rows x 22 columns]"
      ]
     },
     "execution_count": 1100,
     "metadata": {},
     "output_type": "execute_result"
    }
   ],
   "source": [
    "housing_wifi__uni.head(1)"
   ]
  },
  {
   "cell_type": "code",
   "execution_count": 1101,
   "metadata": {
    "collapsed": false
   },
   "outputs": [
    {
     "data": {
      "text/plain": [
       "(935847, 22)"
      ]
     },
     "execution_count": 1101,
     "metadata": {},
     "output_type": "execute_result"
    }
   ],
   "source": [
    "housing_wifi__uni.shape"
   ]
  },
  {
   "cell_type": "code",
   "execution_count": 1102,
   "metadata": {
    "collapsed": false
   },
   "outputs": [
    {
     "data": {
      "text/plain": [
       "<matplotlib.axes._subplots.AxesSubplot at 0x1b31e5b00>"
      ]
     },
     "execution_count": 1102,
     "metadata": {},
     "output_type": "execute_result"
    },
    {
     "data": {
      "image/png": "[encoded data removed]",
      "text/plain": [
       "<matplotlib.figure.Figure at 0x1b31e2f60>"
      ]
     },
     "metadata": {},
     "output_type": "display_data"
    }
   ],
   "source": [
    "housing_wifi__uni[::100000].plot()"
   ]
  },
  {
   "cell_type": "code",
   "execution_count": null,
   "metadata": {
    "collapsed": true
   },
   "outputs": [],
   "source": []
  },
  {
   "cell_type": "code",
   "execution_count": null,
   "metadata": {
    "collapsed": true
   },
   "outputs": [],
   "source": [
    "# Merge Population and median household income Data for blocks groups"
   ]
  },
  {
   "cell_type": "code",
   "execution_count": null,
   "metadata": {
    "collapsed": true
   },
   "outputs": [],
   "source": [
    "# Then group population, median household income, and unique_bssid wifi counts of blocks by targeted areas (10)"
   ]
  },
  {
   "cell_type": "code",
   "execution_count": null,
   "metadata": {
    "collapsed": true
   },
   "outputs": [],
   "source": [
    "# Then create a contigency table"
   ]
  },
  {
   "cell_type": "code",
   "execution_count": null,
   "metadata": {
    "collapsed": true
   },
   "outputs": [],
   "source": [
    "# genrate bar chart, chisquare test, and plot median household income vs. bssid/population"
   ]
  },
  {
   "cell_type": "markdown",
   "metadata": {},
   "source": [
    "# Loading Demographic Data - Population, MHI, and Education (if possible)"
   ]
  },
  {
   "cell_type": "markdown",
   "metadata": {},
   "source": [
    "# Income"
   ]
  },
  {
   "cell_type": "code",
   "execution_count": 1042,
   "metadata": {
    "collapsed": true
   },
   "outputs": [],
   "source": [
    "# aggregate income group blocks by area (10)"
   ]
  },
  {
   "cell_type": "code",
   "execution_count": 1103,
   "metadata": {
    "collapsed": true
   },
   "outputs": [],
   "source": [
    "census_block_group_income = pd.read_csv(\"../Downloads/data/census_block_group_income.csv\", converters={\"Geo_FIPS\":str})"
   ]
  },
  {
   "cell_type": "code",
   "execution_count": 1104,
   "metadata": {
    "collapsed": true
   },
   "outputs": [],
   "source": [
    "census_block_group_income[\"GEOID\"] = census_block_group_income.Geo_FIPS\n",
    "del census_block_group_income[\"Geo_FIPS\"]\n",
    "census_block_group_income[\"MHI\"] = census_block_group_income.SE_T093_001\n",
    "del census_block_group_income[\"SE_T093_001\"]"
   ]
  },
  {
   "cell_type": "code",
   "execution_count": 1105,
   "metadata": {
    "collapsed": false
   },
   "outputs": [
    {
     "data": {
      "text/html": [
       "<div>\n",
       "<table border=\"1\" class=\"dataframe\">\n",
       "  <thead>\n",
       "    <tr style=\"text-align: right;\">\n",
       "      <th></th>\n",
       "      <th>Geo_NAME</th>\n",
       "      <th>Geo_QName</th>\n",
       "      <th>Geo_AREALAND</th>\n",
       "      <th>Geo_AREAWATR</th>\n",
       "      <th>Geo_SUMLEV</th>\n",
       "      <th>Geo_GEOCOMP</th>\n",
       "      <th>Geo_REGION</th>\n",
       "      <th>Geo_DIVISION</th>\n",
       "      <th>Geo_STATE</th>\n",
       "      <th>Geo_COUNTY</th>\n",
       "      <th>Geo_TRACT</th>\n",
       "      <th>Geo_BLKGRP</th>\n",
       "      <th>GEOID</th>\n",
       "      <th>MHI</th>\n",
       "    </tr>\n",
       "  </thead>\n",
       "  <tbody>\n",
       "    <tr>\n",
       "      <th>0</th>\n",
       "      <td>Block Group 1</td>\n",
       "      <td>Block Group 1, Census Tract 1, Albany County, ...</td>\n",
       "      <td>2005713</td>\n",
       "      <td>235376</td>\n",
       "      <td>150</td>\n",
       "      <td>0</td>\n",
       "      <td>1</td>\n",
       "      <td>2</td>\n",
       "      <td>36</td>\n",
       "      <td>1</td>\n",
       "      <td>100</td>\n",
       "      <td>1</td>\n",
       "      <td>360010001001</td>\n",
       "      <td>24615</td>\n",
       "    </tr>\n",
       "  </tbody>\n",
       "</table>\n",
       "</div>"
      ],
      "text/plain": [
       "        Geo_NAME                                          Geo_QName  \\\n",
       "0  Block Group 1  Block Group 1, Census Tract 1, Albany County, ...   \n",
       "\n",
       "   Geo_AREALAND  Geo_AREAWATR  Geo_SUMLEV  Geo_GEOCOMP  Geo_REGION  \\\n",
       "0       2005713        235376         150            0           1   \n",
       "\n",
       "   Geo_DIVISION  Geo_STATE  Geo_COUNTY  Geo_TRACT  Geo_BLKGRP         GEOID  \\\n",
       "0             2         36           1        100           1  360010001001   \n",
       "\n",
       "     MHI  \n",
       "0  24615  "
      ]
     },
     "execution_count": 1105,
     "metadata": {},
     "output_type": "execute_result"
    }
   ],
   "source": [
    "census_block_group_income.head(1)"
   ]
  },
  {
   "cell_type": "code",
   "execution_count": 1106,
   "metadata": {
    "collapsed": false
   },
   "outputs": [
    {
     "data": {
      "text/plain": [
       "(15079, 14)"
      ]
     },
     "execution_count": 1106,
     "metadata": {},
     "output_type": "execute_result"
    }
   ],
   "source": [
    "census_block_group_income.shape"
   ]
  },
  {
   "cell_type": "code",
   "execution_count": 1107,
   "metadata": {
    "collapsed": true
   },
   "outputs": [],
   "source": [
    "#census_block_group_income[\"block_group\"], census_block_group_income[\"census_tract\"], \\\n",
    "#census_block_group_income[\"county\"], census_block_group_income[\"state\"] = \\\n",
    "#census_block_group_income.Geo_QName.str.split(',').str"
   ]
  },
  {
   "cell_type": "code",
   "execution_count": 1108,
   "metadata": {
    "collapsed": true
   },
   "outputs": [],
   "source": [
    "#census_block_group_income[\"block_group\"] = census_block_group_income[\"block_group\"].str.split(' ').str[2]\n",
    "#census_block_group_income[\"block_group\"] = "
   ]
  },
  {
   "cell_type": "code",
   "execution_count": 1109,
   "metadata": {
    "collapsed": false
   },
   "outputs": [],
   "source": [
    "#census_block_group_income[\"census_tract\"] = census_block_group_income[\"census_tract\"].str.split(' ').str[3]\n",
    "#census_block_group_income[\"census_tract\"] ="
   ]
  },
  {
   "cell_type": "code",
   "execution_count": 1110,
   "metadata": {
    "collapsed": false
   },
   "outputs": [],
   "source": [
    "#census_block_group_income[census_block_group_income.county.str.contains(\"Richmond County\")]"
   ]
  },
  {
   "cell_type": "code",
   "execution_count": 1111,
   "metadata": {
    "collapsed": false
   },
   "outputs": [
    {
     "data": {
      "text/plain": [
       "dtype('O')"
      ]
     },
     "execution_count": 1111,
     "metadata": {},
     "output_type": "execute_result"
    }
   ],
   "source": [
    "housing_wifi__uni.GEOID.dtype"
   ]
  },
  {
   "cell_type": "code",
   "execution_count": 1112,
   "metadata": {
    "collapsed": false
   },
   "outputs": [
    {
     "data": {
      "text/plain": [
       "dtype('O')"
      ]
     },
     "execution_count": 1112,
     "metadata": {},
     "output_type": "execute_result"
    }
   ],
   "source": [
    "census_block_group_income.GEOID.dtype"
   ]
  },
  {
   "cell_type": "code",
   "execution_count": 1113,
   "metadata": {
    "collapsed": false
   },
   "outputs": [],
   "source": [
    "housing_wifi_uni_by_bl_group = housing_wifi__uni.merge(census_block_group_income, on=\"GEOID\", how=\"inner\")"
   ]
  },
  {
   "cell_type": "code",
   "execution_count": 1114,
   "metadata": {
    "collapsed": false
   },
   "outputs": [
    {
     "data": {
      "text/plain": [
       "(785479, 35)"
      ]
     },
     "execution_count": 1114,
     "metadata": {},
     "output_type": "execute_result"
    }
   ],
   "source": [
    "housing_wifi_uni_by_bl_group.shape"
   ]
  },
  {
   "cell_type": "code",
   "execution_count": 1115,
   "metadata": {
    "collapsed": false
   },
   "outputs": [
    {
     "data": {
      "text/html": [
       "<div>\n",
       "<table border=\"1\" class=\"dataframe\">\n",
       "  <thead>\n",
       "    <tr style=\"text-align: right;\">\n",
       "      <th></th>\n",
       "      <th>ALAND</th>\n",
       "      <th>AWATER</th>\n",
       "      <th>BLKGRPCE</th>\n",
       "      <th>COUNTYFP</th>\n",
       "      <th>FUNCSTAT</th>\n",
       "      <th>GEOID</th>\n",
       "      <th>INTPTLAT</th>\n",
       "      <th>INTPTLON</th>\n",
       "      <th>MTFCC</th>\n",
       "      <th>NAMELSAD</th>\n",
       "      <th>...</th>\n",
       "      <th>Geo_AREAWATR</th>\n",
       "      <th>Geo_SUMLEV</th>\n",
       "      <th>Geo_GEOCOMP</th>\n",
       "      <th>Geo_REGION</th>\n",
       "      <th>Geo_DIVISION</th>\n",
       "      <th>Geo_STATE</th>\n",
       "      <th>Geo_COUNTY</th>\n",
       "      <th>Geo_TRACT</th>\n",
       "      <th>Geo_BLKGRP</th>\n",
       "      <th>MHI</th>\n",
       "    </tr>\n",
       "  </thead>\n",
       "  <tbody>\n",
       "    <tr>\n",
       "      <th>0</th>\n",
       "      <td>89832</td>\n",
       "      <td>0</td>\n",
       "      <td>1</td>\n",
       "      <td>061</td>\n",
       "      <td>S</td>\n",
       "      <td>360610015011</td>\n",
       "      <td>+40.7107881</td>\n",
       "      <td>-074.0060113</td>\n",
       "      <td>G5030</td>\n",
       "      <td>Block Group 1</td>\n",
       "      <td>...</td>\n",
       "      <td>0</td>\n",
       "      <td>150</td>\n",
       "      <td>0</td>\n",
       "      <td>1</td>\n",
       "      <td>2</td>\n",
       "      <td>36</td>\n",
       "      <td>61</td>\n",
       "      <td>1501</td>\n",
       "      <td>1</td>\n",
       "      <td>37232</td>\n",
       "    </tr>\n",
       "    <tr>\n",
       "      <th>1</th>\n",
       "      <td>89832</td>\n",
       "      <td>0</td>\n",
       "      <td>1</td>\n",
       "      <td>061</td>\n",
       "      <td>S</td>\n",
       "      <td>360610015011</td>\n",
       "      <td>+40.7107881</td>\n",
       "      <td>-074.0060113</td>\n",
       "      <td>G5030</td>\n",
       "      <td>Block Group 1</td>\n",
       "      <td>...</td>\n",
       "      <td>0</td>\n",
       "      <td>150</td>\n",
       "      <td>0</td>\n",
       "      <td>1</td>\n",
       "      <td>2</td>\n",
       "      <td>36</td>\n",
       "      <td>61</td>\n",
       "      <td>1501</td>\n",
       "      <td>1</td>\n",
       "      <td>37232</td>\n",
       "    </tr>\n",
       "    <tr>\n",
       "      <th>2</th>\n",
       "      <td>89832</td>\n",
       "      <td>0</td>\n",
       "      <td>1</td>\n",
       "      <td>061</td>\n",
       "      <td>S</td>\n",
       "      <td>360610015011</td>\n",
       "      <td>+40.7107881</td>\n",
       "      <td>-074.0060113</td>\n",
       "      <td>G5030</td>\n",
       "      <td>Block Group 1</td>\n",
       "      <td>...</td>\n",
       "      <td>0</td>\n",
       "      <td>150</td>\n",
       "      <td>0</td>\n",
       "      <td>1</td>\n",
       "      <td>2</td>\n",
       "      <td>36</td>\n",
       "      <td>61</td>\n",
       "      <td>1501</td>\n",
       "      <td>1</td>\n",
       "      <td>37232</td>\n",
       "    </tr>\n",
       "    <tr>\n",
       "      <th>3</th>\n",
       "      <td>89832</td>\n",
       "      <td>0</td>\n",
       "      <td>1</td>\n",
       "      <td>061</td>\n",
       "      <td>S</td>\n",
       "      <td>360610015011</td>\n",
       "      <td>+40.7107881</td>\n",
       "      <td>-074.0060113</td>\n",
       "      <td>G5030</td>\n",
       "      <td>Block Group 1</td>\n",
       "      <td>...</td>\n",
       "      <td>0</td>\n",
       "      <td>150</td>\n",
       "      <td>0</td>\n",
       "      <td>1</td>\n",
       "      <td>2</td>\n",
       "      <td>36</td>\n",
       "      <td>61</td>\n",
       "      <td>1501</td>\n",
       "      <td>1</td>\n",
       "      <td>37232</td>\n",
       "    </tr>\n",
       "    <tr>\n",
       "      <th>4</th>\n",
       "      <td>89832</td>\n",
       "      <td>0</td>\n",
       "      <td>1</td>\n",
       "      <td>061</td>\n",
       "      <td>S</td>\n",
       "      <td>360610015011</td>\n",
       "      <td>+40.7107881</td>\n",
       "      <td>-074.0060113</td>\n",
       "      <td>G5030</td>\n",
       "      <td>Block Group 1</td>\n",
       "      <td>...</td>\n",
       "      <td>0</td>\n",
       "      <td>150</td>\n",
       "      <td>0</td>\n",
       "      <td>1</td>\n",
       "      <td>2</td>\n",
       "      <td>36</td>\n",
       "      <td>61</td>\n",
       "      <td>1501</td>\n",
       "      <td>1</td>\n",
       "      <td>37232</td>\n",
       "    </tr>\n",
       "  </tbody>\n",
       "</table>\n",
       "<p>5 rows × 35 columns</p>\n",
       "</div>"
      ],
      "text/plain": [
       "   ALAND  AWATER BLKGRPCE COUNTYFP FUNCSTAT         GEOID     INTPTLAT  \\\n",
       "0  89832       0        1      061        S  360610015011  +40.7107881   \n",
       "1  89832       0        1      061        S  360610015011  +40.7107881   \n",
       "2  89832       0        1      061        S  360610015011  +40.7107881   \n",
       "3  89832       0        1      061        S  360610015011  +40.7107881   \n",
       "4  89832       0        1      061        S  360610015011  +40.7107881   \n",
       "\n",
       "       INTPTLON  MTFCC       NAMELSAD  ...   Geo_AREAWATR Geo_SUMLEV  \\\n",
       "0  -074.0060113  G5030  Block Group 1  ...              0        150   \n",
       "1  -074.0060113  G5030  Block Group 1  ...              0        150   \n",
       "2  -074.0060113  G5030  Block Group 1  ...              0        150   \n",
       "3  -074.0060113  G5030  Block Group 1  ...              0        150   \n",
       "4  -074.0060113  G5030  Block Group 1  ...              0        150   \n",
       "\n",
       "  Geo_GEOCOMP  Geo_REGION  Geo_DIVISION Geo_STATE  Geo_COUNTY  Geo_TRACT  \\\n",
       "0           0           1             2        36          61       1501   \n",
       "1           0           1             2        36          61       1501   \n",
       "2           0           1             2        36          61       1501   \n",
       "3           0           1             2        36          61       1501   \n",
       "4           0           1             2        36          61       1501   \n",
       "\n",
       "   Geo_BLKGRP    MHI  \n",
       "0           1  37232  \n",
       "1           1  37232  \n",
       "2           1  37232  \n",
       "3           1  37232  \n",
       "4           1  37232  \n",
       "\n",
       "[5 rows x 35 columns]"
      ]
     },
     "execution_count": 1115,
     "metadata": {},
     "output_type": "execute_result"
    }
   ],
   "source": [
    "housing_wifi_uni_by_bl_group.head()"
   ]
  },
  {
   "cell_type": "code",
   "execution_count": 1116,
   "metadata": {
    "collapsed": false
   },
   "outputs": [
    {
     "data": {
      "text/plain": [
       "Index(['ALAND', 'AWATER', 'BLKGRPCE', 'COUNTYFP', 'FUNCSTAT', 'GEOID',\n",
       "       'INTPTLAT', 'INTPTLON', 'MTFCC', 'NAMELSAD', 'STATEFP', 'TRACTCE',\n",
       "       'geometry', 'index_right', 'acc', 'bssid', 'lat', 'level', 'lng',\n",
       "       'ssid', 'time', 'uni_bssid_count', 'Geo_NAME', 'Geo_QName',\n",
       "       'Geo_AREALAND', 'Geo_AREAWATR', 'Geo_SUMLEV', 'Geo_GEOCOMP',\n",
       "       'Geo_REGION', 'Geo_DIVISION', 'Geo_STATE', 'Geo_COUNTY', 'Geo_TRACT',\n",
       "       'Geo_BLKGRP', 'MHI'],\n",
       "      dtype='object')"
      ]
     },
     "execution_count": 1116,
     "metadata": {},
     "output_type": "execute_result"
    }
   ],
   "source": [
    "housing_wifi_uni_by_bl_group.columns"
   ]
  },
  {
   "cell_type": "code",
   "execution_count": 1117,
   "metadata": {
    "collapsed": false
   },
   "outputs": [
    {
     "data": {
      "text/plain": [
       "<matplotlib.axes._subplots.AxesSubplot at 0x1b31e7da0>"
      ]
     },
     "execution_count": 1117,
     "metadata": {},
     "output_type": "execute_result"
    },
    {
     "data": {
      "image/png": "[encoded data removed]",
      "text/plain": [
       "<matplotlib.figure.Figure at 0x19c368a58>"
      ]
     },
     "metadata": {},
     "output_type": "display_data"
    }
   ],
   "source": [
    "housing_wifi_uni_by_bl_group[::1000].plot()"
   ]
  },
  {
   "cell_type": "markdown",
   "metadata": {},
   "source": [
    "# Population"
   ]
  },
  {
   "cell_type": "code",
   "execution_count": 1057,
   "metadata": {
    "collapsed": true
   },
   "outputs": [],
   "source": [
    "# aggregate population group blocks by area (10)"
   ]
  },
  {
   "cell_type": "code",
   "execution_count": 1118,
   "metadata": {
    "collapsed": true
   },
   "outputs": [],
   "source": [
    "# Loading population data by block group\n",
    "census_block_group_pop = pd.read_csv(\"../Downloads/data/census_block_group_pop.csv\", converters={\"Geo_FIPS\":str})"
   ]
  },
  {
   "cell_type": "code",
   "execution_count": 1119,
   "metadata": {
    "collapsed": false
   },
   "outputs": [],
   "source": [
    "census_block_group_pop[\"GEOID\"] = census_block_group_pop.Geo_FIPS\n",
    "del census_block_group_pop[\"Geo_FIPS\"]\n",
    "census_block_group_pop[\"Population\"] = census_block_group_pop.SE_T003_002\n",
    "del census_block_group_pop[\"SE_T003_002\"]\n",
    "census_block_group_pop[\"Pop_Density\"] = census_block_group_pop.SE_T003_001\n",
    "del census_block_group_pop[\"SE_T003_001\"]"
   ]
  },
  {
   "cell_type": "code",
   "execution_count": 1120,
   "metadata": {
    "collapsed": false
   },
   "outputs": [
    {
     "data": {
      "text/html": [
       "<div>\n",
       "<table border=\"1\" class=\"dataframe\">\n",
       "  <thead>\n",
       "    <tr style=\"text-align: right;\">\n",
       "      <th></th>\n",
       "      <th>Geo_NAME</th>\n",
       "      <th>Geo_QName</th>\n",
       "      <th>Geo_AREALAND</th>\n",
       "      <th>Geo_AREAWATR</th>\n",
       "      <th>Geo_SUMLEV</th>\n",
       "      <th>Geo_GEOCOMP</th>\n",
       "      <th>Geo_REGION</th>\n",
       "      <th>Geo_DIVISION</th>\n",
       "      <th>Geo_STATE</th>\n",
       "      <th>Geo_COUNTY</th>\n",
       "      <th>Geo_TRACT</th>\n",
       "      <th>Geo_BLKGRP</th>\n",
       "      <th>SE_T003_003</th>\n",
       "      <th>GEOID</th>\n",
       "      <th>Population</th>\n",
       "      <th>Pop_Density</th>\n",
       "    </tr>\n",
       "  </thead>\n",
       "  <tbody>\n",
       "    <tr>\n",
       "      <th>0</th>\n",
       "      <td>Block Group 1</td>\n",
       "      <td>Block Group 1, Census Tract 1, Albany County, ...</td>\n",
       "      <td>2005713</td>\n",
       "      <td>235376</td>\n",
       "      <td>150</td>\n",
       "      <td>0</td>\n",
       "      <td>1</td>\n",
       "      <td>2</td>\n",
       "      <td>36</td>\n",
       "      <td>1</td>\n",
       "      <td>100</td>\n",
       "      <td>1</td>\n",
       "      <td>0.77441</td>\n",
       "      <td>360010001001</td>\n",
       "      <td>1031</td>\n",
       "      <td>1331.336</td>\n",
       "    </tr>\n",
       "  </tbody>\n",
       "</table>\n",
       "</div>"
      ],
      "text/plain": [
       "        Geo_NAME                                          Geo_QName  \\\n",
       "0  Block Group 1  Block Group 1, Census Tract 1, Albany County, ...   \n",
       "\n",
       "   Geo_AREALAND  Geo_AREAWATR  Geo_SUMLEV  Geo_GEOCOMP  Geo_REGION  \\\n",
       "0       2005713        235376         150            0           1   \n",
       "\n",
       "   Geo_DIVISION  Geo_STATE  Geo_COUNTY  Geo_TRACT  Geo_BLKGRP  SE_T003_003  \\\n",
       "0             2         36           1        100           1      0.77441   \n",
       "\n",
       "          GEOID  Population  Pop_Density  \n",
       "0  360010001001        1031     1331.336  "
      ]
     },
     "execution_count": 1120,
     "metadata": {},
     "output_type": "execute_result"
    }
   ],
   "source": [
    "census_block_group_pop.head(1)"
   ]
  },
  {
   "cell_type": "code",
   "execution_count": 1121,
   "metadata": {
    "collapsed": false
   },
   "outputs": [
    {
     "data": {
      "text/plain": [
       "dtype('O')"
      ]
     },
     "execution_count": 1121,
     "metadata": {},
     "output_type": "execute_result"
    }
   ],
   "source": [
    "housing_wifi_uni_by_bl_group.GEOID.dtype"
   ]
  },
  {
   "cell_type": "code",
   "execution_count": 1122,
   "metadata": {
    "collapsed": false
   },
   "outputs": [
    {
     "data": {
      "text/plain": [
       "dtype('O')"
      ]
     },
     "execution_count": 1122,
     "metadata": {},
     "output_type": "execute_result"
    }
   ],
   "source": [
    "census_block_group_pop.GEOID.dtype"
   ]
  },
  {
   "cell_type": "code",
   "execution_count": 1123,
   "metadata": {
    "collapsed": true
   },
   "outputs": [],
   "source": [
    "housing_wifi_uni_by_bl_group_ = housing_wifi_uni_by_bl_group.merge(census_block_group_pop, on=\"GEOID\", how=\"inner\")"
   ]
  },
  {
   "cell_type": "code",
   "execution_count": 1124,
   "metadata": {
    "collapsed": false
   },
   "outputs": [
    {
     "data": {
      "text/plain": [
       "(785479, 50)"
      ]
     },
     "execution_count": 1124,
     "metadata": {},
     "output_type": "execute_result"
    }
   ],
   "source": [
    "housing_wifi_uni_by_bl_group_.shape"
   ]
  },
  {
   "cell_type": "code",
   "execution_count": 1125,
   "metadata": {
    "collapsed": false
   },
   "outputs": [
    {
     "data": {
      "text/html": [
       "<div>\n",
       "<table border=\"1\" class=\"dataframe\">\n",
       "  <thead>\n",
       "    <tr style=\"text-align: right;\">\n",
       "      <th></th>\n",
       "      <th>ALAND</th>\n",
       "      <th>AWATER</th>\n",
       "      <th>BLKGRPCE</th>\n",
       "      <th>COUNTYFP</th>\n",
       "      <th>FUNCSTAT</th>\n",
       "      <th>GEOID</th>\n",
       "      <th>INTPTLAT</th>\n",
       "      <th>INTPTLON</th>\n",
       "      <th>MTFCC</th>\n",
       "      <th>NAMELSAD</th>\n",
       "      <th>...</th>\n",
       "      <th>Geo_GEOCOMP_y</th>\n",
       "      <th>Geo_REGION_y</th>\n",
       "      <th>Geo_DIVISION_y</th>\n",
       "      <th>Geo_STATE_y</th>\n",
       "      <th>Geo_COUNTY_y</th>\n",
       "      <th>Geo_TRACT_y</th>\n",
       "      <th>Geo_BLKGRP_y</th>\n",
       "      <th>SE_T003_003</th>\n",
       "      <th>Population</th>\n",
       "      <th>Pop_Density</th>\n",
       "    </tr>\n",
       "  </thead>\n",
       "  <tbody>\n",
       "    <tr>\n",
       "      <th>0</th>\n",
       "      <td>89832</td>\n",
       "      <td>0</td>\n",
       "      <td>1</td>\n",
       "      <td>061</td>\n",
       "      <td>S</td>\n",
       "      <td>360610015011</td>\n",
       "      <td>+40.7107881</td>\n",
       "      <td>-074.0060113</td>\n",
       "      <td>G5030</td>\n",
       "      <td>Block Group 1</td>\n",
       "      <td>...</td>\n",
       "      <td>0</td>\n",
       "      <td>1</td>\n",
       "      <td>2</td>\n",
       "      <td>36</td>\n",
       "      <td>61</td>\n",
       "      <td>1501</td>\n",
       "      <td>1</td>\n",
       "      <td>0.040587</td>\n",
       "      <td>3552</td>\n",
       "      <td>87515.58</td>\n",
       "    </tr>\n",
       "  </tbody>\n",
       "</table>\n",
       "<p>1 rows × 50 columns</p>\n",
       "</div>"
      ],
      "text/plain": [
       "   ALAND  AWATER BLKGRPCE COUNTYFP FUNCSTAT         GEOID     INTPTLAT  \\\n",
       "0  89832       0        1      061        S  360610015011  +40.7107881   \n",
       "\n",
       "       INTPTLON  MTFCC       NAMELSAD     ...     Geo_GEOCOMP_y Geo_REGION_y  \\\n",
       "0  -074.0060113  G5030  Block Group 1     ...                 0            1   \n",
       "\n",
       "  Geo_DIVISION_y  Geo_STATE_y  Geo_COUNTY_y Geo_TRACT_y  Geo_BLKGRP_y  \\\n",
       "0              2           36            61        1501             1   \n",
       "\n",
       "   SE_T003_003  Population Pop_Density  \n",
       "0     0.040587        3552    87515.58  \n",
       "\n",
       "[1 rows x 50 columns]"
      ]
     },
     "execution_count": 1125,
     "metadata": {},
     "output_type": "execute_result"
    }
   ],
   "source": [
    "housing_wifi_uni_by_bl_group_.head(1)"
   ]
  },
  {
   "cell_type": "code",
   "execution_count": 1126,
   "metadata": {
    "collapsed": false
   },
   "outputs": [
    {
     "data": {
      "text/plain": [
       "Index(['ALAND', 'AWATER', 'BLKGRPCE', 'COUNTYFP', 'FUNCSTAT', 'GEOID',\n",
       "       'INTPTLAT', 'INTPTLON', 'MTFCC', 'NAMELSAD', 'STATEFP', 'TRACTCE',\n",
       "       'geometry', 'index_right', 'acc', 'bssid', 'lat', 'level', 'lng',\n",
       "       'ssid', 'time', 'uni_bssid_count', 'Geo_NAME_x', 'Geo_QName_x',\n",
       "       'Geo_AREALAND_x', 'Geo_AREAWATR_x', 'Geo_SUMLEV_x', 'Geo_GEOCOMP_x',\n",
       "       'Geo_REGION_x', 'Geo_DIVISION_x', 'Geo_STATE_x', 'Geo_COUNTY_x',\n",
       "       'Geo_TRACT_x', 'Geo_BLKGRP_x', 'MHI', 'Geo_NAME_y', 'Geo_QName_y',\n",
       "       'Geo_AREALAND_y', 'Geo_AREAWATR_y', 'Geo_SUMLEV_y', 'Geo_GEOCOMP_y',\n",
       "       'Geo_REGION_y', 'Geo_DIVISION_y', 'Geo_STATE_y', 'Geo_COUNTY_y',\n",
       "       'Geo_TRACT_y', 'Geo_BLKGRP_y', 'SE_T003_003', 'Population',\n",
       "       'Pop_Density'],\n",
       "      dtype='object')"
      ]
     },
     "execution_count": 1126,
     "metadata": {},
     "output_type": "execute_result"
    }
   ],
   "source": [
    "housing_wifi_uni_by_bl_group_.columns"
   ]
  },
  {
   "cell_type": "code",
   "execution_count": 1127,
   "metadata": {
    "collapsed": false
   },
   "outputs": [
    {
     "data": {
      "text/plain": [
       "<matplotlib.axes._subplots.AxesSubplot at 0x1b3b4c9b0>"
      ]
     },
     "execution_count": 1127,
     "metadata": {},
     "output_type": "execute_result"
    },
    {
     "data": {
      "image/png": "[encoded data removed]",
      "text/plain": [
       "<matplotlib.figure.Figure at 0x1b3b50dd8>"
      ]
     },
     "metadata": {},
     "output_type": "display_data"
    }
   ],
   "source": [
    "housing_wifi_uni_by_bl_group_[::1000].plot()"
   ]
  },
  {
   "cell_type": "markdown",
   "metadata": {},
   "source": [
    "# Education"
   ]
  },
  {
   "cell_type": "code",
   "execution_count": 1128,
   "metadata": {
    "collapsed": true
   },
   "outputs": [],
   "source": [
    "# aggregate education group blocks by area (10)"
   ]
  },
  {
   "cell_type": "code",
   "execution_count": 1129,
   "metadata": {
    "collapsed": true
   },
   "outputs": [],
   "source": [
    "# Loading education data by block group\n",
    "census_block_group_edu = pd.read_csv(\"../Downloads/data/education_attainment.csv\", converters={\"Geo_FIPS\":str})"
   ]
  },
  {
   "cell_type": "code",
   "execution_count": 1130,
   "metadata": {
    "collapsed": true
   },
   "outputs": [],
   "source": [
    "census_block_group_edu[\"GEOID\"] = census_block_group_edu.Geo_FIPS\n",
    "del census_block_group_edu[\"Geo_FIPS\"]\n",
    "census_block_group_edu[\"Pop_over_25\"] = census_block_group_edu.SE_T040_001\n",
    "del census_block_group_edu[\"SE_T040_001\"]\n",
    "census_block_group_edu[\"Less_than_HS\"] = census_block_group_edu.SE_T040_002\n",
    "del census_block_group_edu[\"SE_T040_002\"]\n",
    "census_block_group_edu[\"High_School\"] = census_block_group_edu.SE_T040_003\n",
    "del census_block_group_edu[\"SE_T040_003\"]\n",
    "census_block_group_edu[\"Some_College\"] = census_block_group_edu.SE_T040_004\n",
    "del census_block_group_edu[\"SE_T040_004\"]\n",
    "census_block_group_edu[\"Bachelors\"] = census_block_group_edu.SE_T040_005\n",
    "del census_block_group_edu[\"SE_T040_005\"]\n",
    "census_block_group_edu[\"Masters\"] = census_block_group_edu.SE_T040_006\n",
    "del census_block_group_edu[\"SE_T040_006\"]\n",
    "census_block_group_edu[\"Professional_School_Degree\"] = census_block_group_edu.SE_T040_007\n",
    "del census_block_group_edu[\"SE_T040_007\"]\n",
    "census_block_group_edu[\"Doctorate\"] = census_block_group_edu.SE_T040_008\n",
    "del census_block_group_edu[\"SE_T040_008\"]"
   ]
  },
  {
   "cell_type": "code",
   "execution_count": 1131,
   "metadata": {
    "collapsed": false
   },
   "outputs": [
    {
     "data": {
      "text/html": [
       "<div>\n",
       "<table border=\"1\" class=\"dataframe\">\n",
       "  <thead>\n",
       "    <tr style=\"text-align: right;\">\n",
       "      <th></th>\n",
       "      <th>Geo_NAME</th>\n",
       "      <th>Geo_QName</th>\n",
       "      <th>Geo_AREALAND</th>\n",
       "      <th>Geo_AREAWATR</th>\n",
       "      <th>Geo_SUMLEV</th>\n",
       "      <th>Geo_GEOCOMP</th>\n",
       "      <th>Geo_REGION</th>\n",
       "      <th>Geo_DIVISION</th>\n",
       "      <th>Geo_STATE</th>\n",
       "      <th>Geo_COUNTY</th>\n",
       "      <th>...</th>\n",
       "      <th>Geo_BLKGRP</th>\n",
       "      <th>GEOID</th>\n",
       "      <th>Pop_over_25</th>\n",
       "      <th>Less_than_HS</th>\n",
       "      <th>High_School</th>\n",
       "      <th>Some_College</th>\n",
       "      <th>Bachelors</th>\n",
       "      <th>Masters</th>\n",
       "      <th>Professional_School_Degree</th>\n",
       "      <th>Doctorate</th>\n",
       "    </tr>\n",
       "  </thead>\n",
       "  <tbody>\n",
       "    <tr>\n",
       "      <th>0</th>\n",
       "      <td>Block Group 1</td>\n",
       "      <td>Block Group 1, Census Tract 1, Albany County, ...</td>\n",
       "      <td>2005713</td>\n",
       "      <td>235376</td>\n",
       "      <td>150</td>\n",
       "      <td>0</td>\n",
       "      <td>1</td>\n",
       "      <td>2</td>\n",
       "      <td>36</td>\n",
       "      <td>1</td>\n",
       "      <td>...</td>\n",
       "      <td>1</td>\n",
       "      <td>360010001001</td>\n",
       "      <td>685</td>\n",
       "      <td>198</td>\n",
       "      <td>181</td>\n",
       "      <td>222</td>\n",
       "      <td>62</td>\n",
       "      <td>15</td>\n",
       "      <td>7</td>\n",
       "      <td>0</td>\n",
       "    </tr>\n",
       "  </tbody>\n",
       "</table>\n",
       "<p>1 rows × 21 columns</p>\n",
       "</div>"
      ],
      "text/plain": [
       "        Geo_NAME                                          Geo_QName  \\\n",
       "0  Block Group 1  Block Group 1, Census Tract 1, Albany County, ...   \n",
       "\n",
       "   Geo_AREALAND  Geo_AREAWATR  Geo_SUMLEV  Geo_GEOCOMP  Geo_REGION  \\\n",
       "0       2005713        235376         150            0           1   \n",
       "\n",
       "   Geo_DIVISION  Geo_STATE  Geo_COUNTY    ...      Geo_BLKGRP         GEOID  \\\n",
       "0             2         36           1    ...               1  360010001001   \n",
       "\n",
       "  Pop_over_25  Less_than_HS  High_School  Some_College  Bachelors  Masters  \\\n",
       "0         685           198          181           222         62       15   \n",
       "\n",
       "   Professional_School_Degree  Doctorate  \n",
       "0                           7          0  \n",
       "\n",
       "[1 rows x 21 columns]"
      ]
     },
     "execution_count": 1131,
     "metadata": {},
     "output_type": "execute_result"
    }
   ],
   "source": [
    "census_block_group_edu.head(1)"
   ]
  },
  {
   "cell_type": "code",
   "execution_count": 1132,
   "metadata": {
    "collapsed": false
   },
   "outputs": [
    {
     "data": {
      "text/plain": [
       "dtype('O')"
      ]
     },
     "execution_count": 1132,
     "metadata": {},
     "output_type": "execute_result"
    }
   ],
   "source": [
    "housing_wifi_uni_by_bl_group_.GEOID.dtype"
   ]
  },
  {
   "cell_type": "code",
   "execution_count": 1133,
   "metadata": {
    "collapsed": false
   },
   "outputs": [
    {
     "data": {
      "text/plain": [
       "dtype('O')"
      ]
     },
     "execution_count": 1133,
     "metadata": {},
     "output_type": "execute_result"
    }
   ],
   "source": [
    "census_block_group_edu.GEOID.dtype"
   ]
  },
  {
   "cell_type": "code",
   "execution_count": 1134,
   "metadata": {
    "collapsed": true
   },
   "outputs": [],
   "source": [
    "housing_wifi_uni_by_bl_group__ = housing_wifi_uni_by_bl_group_.merge(census_block_group_edu, on=\"GEOID\", how=\"inner\")"
   ]
  },
  {
   "cell_type": "code",
   "execution_count": 1135,
   "metadata": {
    "collapsed": false
   },
   "outputs": [
    {
     "data": {
      "text/plain": [
       "(785479, 70)"
      ]
     },
     "execution_count": 1135,
     "metadata": {},
     "output_type": "execute_result"
    }
   ],
   "source": [
    "housing_wifi_uni_by_bl_group__.shape"
   ]
  },
  {
   "cell_type": "code",
   "execution_count": 1136,
   "metadata": {
    "collapsed": false
   },
   "outputs": [
    {
     "data": {
      "text/html": [
       "<div>\n",
       "<table border=\"1\" class=\"dataframe\">\n",
       "  <thead>\n",
       "    <tr style=\"text-align: right;\">\n",
       "      <th></th>\n",
       "      <th>ALAND</th>\n",
       "      <th>AWATER</th>\n",
       "      <th>BLKGRPCE</th>\n",
       "      <th>COUNTYFP</th>\n",
       "      <th>FUNCSTAT</th>\n",
       "      <th>GEOID</th>\n",
       "      <th>INTPTLAT</th>\n",
       "      <th>INTPTLON</th>\n",
       "      <th>MTFCC</th>\n",
       "      <th>NAMELSAD</th>\n",
       "      <th>...</th>\n",
       "      <th>Geo_TRACT</th>\n",
       "      <th>Geo_BLKGRP</th>\n",
       "      <th>Pop_over_25</th>\n",
       "      <th>Less_than_HS</th>\n",
       "      <th>High_School</th>\n",
       "      <th>Some_College</th>\n",
       "      <th>Bachelors</th>\n",
       "      <th>Masters</th>\n",
       "      <th>Professional_School_Degree</th>\n",
       "      <th>Doctorate</th>\n",
       "    </tr>\n",
       "  </thead>\n",
       "  <tbody>\n",
       "    <tr>\n",
       "      <th>0</th>\n",
       "      <td>89832</td>\n",
       "      <td>0</td>\n",
       "      <td>1</td>\n",
       "      <td>061</td>\n",
       "      <td>S</td>\n",
       "      <td>360610015011</td>\n",
       "      <td>+40.7107881</td>\n",
       "      <td>-074.0060113</td>\n",
       "      <td>G5030</td>\n",
       "      <td>Block Group 1</td>\n",
       "      <td>...</td>\n",
       "      <td>1501</td>\n",
       "      <td>1</td>\n",
       "      <td>3032</td>\n",
       "      <td>408</td>\n",
       "      <td>709</td>\n",
       "      <td>730</td>\n",
       "      <td>830</td>\n",
       "      <td>238</td>\n",
       "      <td>97</td>\n",
       "      <td>20</td>\n",
       "    </tr>\n",
       "  </tbody>\n",
       "</table>\n",
       "<p>1 rows × 70 columns</p>\n",
       "</div>"
      ],
      "text/plain": [
       "   ALAND  AWATER BLKGRPCE COUNTYFP FUNCSTAT         GEOID     INTPTLAT  \\\n",
       "0  89832       0        1      061        S  360610015011  +40.7107881   \n",
       "\n",
       "       INTPTLON  MTFCC       NAMELSAD    ...    Geo_TRACT Geo_BLKGRP  \\\n",
       "0  -074.0060113  G5030  Block Group 1    ...         1501          1   \n",
       "\n",
       "  Pop_over_25  Less_than_HS  High_School Some_College  Bachelors  Masters  \\\n",
       "0        3032           408          709          730        830      238   \n",
       "\n",
       "   Professional_School_Degree Doctorate  \n",
       "0                          97        20  \n",
       "\n",
       "[1 rows x 70 columns]"
      ]
     },
     "execution_count": 1136,
     "metadata": {},
     "output_type": "execute_result"
    }
   ],
   "source": [
    "housing_wifi_uni_by_bl_group__.head(1)"
   ]
  },
  {
   "cell_type": "code",
   "execution_count": 1137,
   "metadata": {
    "collapsed": false
   },
   "outputs": [
    {
     "data": {
      "text/plain": [
       "Index(['ALAND', 'AWATER', 'BLKGRPCE', 'COUNTYFP', 'FUNCSTAT', 'GEOID',\n",
       "       'INTPTLAT', 'INTPTLON', 'MTFCC', 'NAMELSAD', 'STATEFP', 'TRACTCE',\n",
       "       'geometry', 'index_right', 'acc', 'bssid', 'lat', 'level', 'lng',\n",
       "       'ssid', 'time', 'uni_bssid_count', 'Geo_NAME_x', 'Geo_QName_x',\n",
       "       'Geo_AREALAND_x', 'Geo_AREAWATR_x', 'Geo_SUMLEV_x', 'Geo_GEOCOMP_x',\n",
       "       'Geo_REGION_x', 'Geo_DIVISION_x', 'Geo_STATE_x', 'Geo_COUNTY_x',\n",
       "       'Geo_TRACT_x', 'Geo_BLKGRP_x', 'MHI', 'Geo_NAME_y', 'Geo_QName_y',\n",
       "       'Geo_AREALAND_y', 'Geo_AREAWATR_y', 'Geo_SUMLEV_y', 'Geo_GEOCOMP_y',\n",
       "       'Geo_REGION_y', 'Geo_DIVISION_y', 'Geo_STATE_y', 'Geo_COUNTY_y',\n",
       "       'Geo_TRACT_y', 'Geo_BLKGRP_y', 'SE_T003_003', 'Population',\n",
       "       'Pop_Density', 'Geo_NAME', 'Geo_QName', 'Geo_AREALAND', 'Geo_AREAWATR',\n",
       "       'Geo_SUMLEV', 'Geo_GEOCOMP', 'Geo_REGION', 'Geo_DIVISION', 'Geo_STATE',\n",
       "       'Geo_COUNTY', 'Geo_TRACT', 'Geo_BLKGRP', 'Pop_over_25', 'Less_than_HS',\n",
       "       'High_School', 'Some_College', 'Bachelors', 'Masters',\n",
       "       'Professional_School_Degree', 'Doctorate'],\n",
       "      dtype='object')"
      ]
     },
     "execution_count": 1137,
     "metadata": {},
     "output_type": "execute_result"
    }
   ],
   "source": [
    "housing_wifi_uni_by_bl_group__.columns"
   ]
  },
  {
   "cell_type": "code",
   "execution_count": 1138,
   "metadata": {
    "collapsed": true
   },
   "outputs": [],
   "source": [
    "del housing_wifi_uni_by_bl_group__[\"index_right\"]"
   ]
  },
  {
   "cell_type": "code",
   "execution_count": 1078,
   "metadata": {
    "collapsed": false
   },
   "outputs": [
    {
     "data": {
      "text/plain": [
       "<matplotlib.axes._subplots.AxesSubplot at 0x1990d42b0>"
      ]
     },
     "execution_count": 1078,
     "metadata": {},
     "output_type": "execute_result"
    },
    {
     "data": {
      "image/png": "[encoded data removed]",
      "text/plain": [
       "<matplotlib.figure.Figure at 0x199240748>"
      ]
     },
     "metadata": {},
     "output_type": "display_data"
    }
   ],
   "source": [
    "housing_wifi_uni_by_bl_group__[::1000].plot()"
   ]
  },
  {
   "cell_type": "markdown",
   "metadata": {},
   "source": [
    "# Loading 10 Areas"
   ]
  },
  {
   "cell_type": "code",
   "execution_count": 1139,
   "metadata": {
    "collapsed": true
   },
   "outputs": [],
   "source": [
    "# loading housing projects areas shapes into geopandas (10)\n",
    "housing_areas_shape = gpd.GeoDataFrame.from_file(\"../Downloads/data/NewPolygons/Export_Output_4.shp\")"
   ]
  },
  {
   "cell_type": "code",
   "execution_count": 1140,
   "metadata": {
    "collapsed": false
   },
   "outputs": [
    {
     "data": {
      "text/html": [
       "<div>\n",
       "<table border=\"1\" class=\"dataframe\">\n",
       "  <thead>\n",
       "    <tr style=\"text-align: right;\">\n",
       "      <th></th>\n",
       "      <th>cartodb_id</th>\n",
       "      <th>geometry</th>\n",
       "      <th>name</th>\n",
       "      <th>objectid</th>\n",
       "      <th>shape_area</th>\n",
       "      <th>shape_leng</th>\n",
       "    </tr>\n",
       "  </thead>\n",
       "  <tbody>\n",
       "    <tr>\n",
       "      <th>0</th>\n",
       "      <td>1</td>\n",
       "      <td>POLYGON ((-73.99072057899997 40.68258755100004...</td>\n",
       "      <td>Gowanus</td>\n",
       "      <td>13</td>\n",
       "      <td>0.000022</td>\n",
       "      <td>0.026828</td>\n",
       "    </tr>\n",
       "  </tbody>\n",
       "</table>\n",
       "</div>"
      ],
      "text/plain": [
       "   cartodb_id                                           geometry     name  \\\n",
       "0           1  POLYGON ((-73.99072057899997 40.68258755100004...  Gowanus   \n",
       "\n",
       "   objectid  shape_area  shape_leng  \n",
       "0        13    0.000022    0.026828  "
      ]
     },
     "execution_count": 1140,
     "metadata": {},
     "output_type": "execute_result"
    }
   ],
   "source": [
    "housing_areas_shape.head(1)"
   ]
  },
  {
   "cell_type": "code",
   "execution_count": 1141,
   "metadata": {
    "collapsed": false
   },
   "outputs": [
    {
     "data": {
      "text/plain": [
       "<matplotlib.axes._subplots.AxesSubplot at 0x1b4507358>"
      ]
     },
     "execution_count": 1141,
     "metadata": {},
     "output_type": "execute_result"
    },
    {
     "data": {
      "image/png": "[encoded data removed]",
      "text/plain": [
       "<matplotlib.figure.Figure at 0x1b450d470>"
      ]
     },
     "metadata": {},
     "output_type": "display_data"
    }
   ],
   "source": [
    "housing_areas_shape.plot()"
   ]
  },
  {
   "cell_type": "code",
   "execution_count": 1142,
   "metadata": {
    "collapsed": false
   },
   "outputs": [],
   "source": [
    "housing_areas_shape.crs = from_epsg(4326)"
   ]
  },
  {
   "cell_type": "code",
   "execution_count": 1143,
   "metadata": {
    "collapsed": false
   },
   "outputs": [],
   "source": [
    "housing_gdf = gpd.sjoin(housing_wifi_uni_by_bl_group__, housing_areas_shape, how=\"inner\", op='within')"
   ]
  },
  {
   "cell_type": "code",
   "execution_count": 1144,
   "metadata": {
    "collapsed": false
   },
   "outputs": [
    {
     "data": {
      "text/plain": [
       "(422365, 75)"
      ]
     },
     "execution_count": 1144,
     "metadata": {},
     "output_type": "execute_result"
    }
   ],
   "source": [
    "# 422365\n",
    "housing_gdf.shape"
   ]
  },
  {
   "cell_type": "code",
   "execution_count": 1145,
   "metadata": {
    "collapsed": false
   },
   "outputs": [
    {
     "data": {
      "text/plain": [
       "(422365, 75)"
      ]
     },
     "execution_count": 1145,
     "metadata": {},
     "output_type": "execute_result"
    }
   ],
   "source": [
    "housing_gdf.shape"
   ]
  },
  {
   "cell_type": "code",
   "execution_count": 1146,
   "metadata": {
    "collapsed": false
   },
   "outputs": [
    {
     "data": {
      "text/plain": [
       "<matplotlib.axes._subplots.AxesSubplot at 0x1b45752e8>"
      ]
     },
     "execution_count": 1146,
     "metadata": {},
     "output_type": "execute_result"
    },
    {
     "data": {
      "image/png": "[encoded data removed]",
      "text/plain": [
       "<matplotlib.figure.Figure at 0x1afe7d160>"
      ]
     },
     "metadata": {},
     "output_type": "display_data"
    }
   ],
   "source": [
    "housing_gdf[::100].plot()"
   ]
  },
  {
   "cell_type": "code",
   "execution_count": 1148,
   "metadata": {
    "collapsed": false
   },
   "outputs": [
    {
     "data": {
      "text/plain": [
       "Index(['ALAND', 'AWATER', 'BLKGRPCE', 'COUNTYFP', 'FUNCSTAT', 'GEOID',\n",
       "       'INTPTLAT', 'INTPTLON', 'MTFCC', 'NAMELSAD', 'STATEFP', 'TRACTCE',\n",
       "       'geometry', 'acc', 'bssid', 'lat', 'level', 'lng', 'ssid', 'time',\n",
       "       'uni_bssid_count', 'Geo_NAME_x', 'Geo_QName_x', 'Geo_AREALAND_x',\n",
       "       'Geo_AREAWATR_x', 'Geo_SUMLEV_x', 'Geo_GEOCOMP_x', 'Geo_REGION_x',\n",
       "       'Geo_DIVISION_x', 'Geo_STATE_x', 'Geo_COUNTY_x', 'Geo_TRACT_x',\n",
       "       'Geo_BLKGRP_x', 'MHI', 'Geo_NAME_y', 'Geo_QName_y', 'Geo_AREALAND_y',\n",
       "       'Geo_AREAWATR_y', 'Geo_SUMLEV_y', 'Geo_GEOCOMP_y', 'Geo_REGION_y',\n",
       "       'Geo_DIVISION_y', 'Geo_STATE_y', 'Geo_COUNTY_y', 'Geo_TRACT_y',\n",
       "       'Geo_BLKGRP_y', 'SE_T003_003', 'Population', 'Pop_Density', 'Geo_NAME',\n",
       "       'Geo_QName', 'Geo_AREALAND', 'Geo_AREAWATR', 'Geo_SUMLEV',\n",
       "       'Geo_GEOCOMP', 'Geo_REGION', 'Geo_DIVISION', 'Geo_STATE', 'Geo_COUNTY',\n",
       "       'Geo_TRACT', 'Geo_BLKGRP', 'Pop_over_25', 'Less_than_HS', 'High_School',\n",
       "       'Some_College', 'Bachelors', 'Masters', 'Professional_School_Degree',\n",
       "       'Doctorate', 'index_right', 'cartodb_id', 'name', 'objectid',\n",
       "       'shape_area', 'shape_leng'],\n",
       "      dtype='object')"
      ]
     },
     "execution_count": 1148,
     "metadata": {},
     "output_type": "execute_result"
    }
   ],
   "source": [
    "housing_gdf.columns"
   ]
  },
  {
   "cell_type": "code",
   "execution_count": 1150,
   "metadata": {
    "collapsed": false
   },
   "outputs": [
    {
     "data": {
      "text/html": [
       "<div>\n",
       "<table border=\"1\" class=\"dataframe\">\n",
       "  <thead>\n",
       "    <tr style=\"text-align: right;\">\n",
       "      <th></th>\n",
       "      <th>Areas</th>\n",
       "    </tr>\n",
       "  </thead>\n",
       "  <tbody>\n",
       "    <tr>\n",
       "      <th>0</th>\n",
       "      <td>Gowanus</td>\n",
       "    </tr>\n",
       "    <tr>\n",
       "      <th>1</th>\n",
       "      <td>Tompkins</td>\n",
       "    </tr>\n",
       "    <tr>\n",
       "      <th>2</th>\n",
       "      <td>RedHook</td>\n",
       "    </tr>\n",
       "    <tr>\n",
       "      <th>3</th>\n",
       "      <td>Gowanus_None</td>\n",
       "    </tr>\n",
       "    <tr>\n",
       "      <th>4</th>\n",
       "      <td>Ingersoll</td>\n",
       "    </tr>\n",
       "    <tr>\n",
       "      <th>5</th>\n",
       "      <td>Ingersoll_None</td>\n",
       "    </tr>\n",
       "    <tr>\n",
       "      <th>6</th>\n",
       "      <td>Tompkins_None</td>\n",
       "    </tr>\n",
       "    <tr>\n",
       "      <th>7</th>\n",
       "      <td>Chelsea</td>\n",
       "    </tr>\n",
       "    <tr>\n",
       "      <th>8</th>\n",
       "      <td>Chelsea_None</td>\n",
       "    </tr>\n",
       "  </tbody>\n",
       "</table>\n",
       "</div>"
      ],
      "text/plain": [
       "            Areas\n",
       "0         Gowanus\n",
       "1        Tompkins\n",
       "2         RedHook\n",
       "3    Gowanus_None\n",
       "4       Ingersoll\n",
       "5  Ingersoll_None\n",
       "6   Tompkins_None\n",
       "7         Chelsea\n",
       "8    Chelsea_None"
      ]
     },
     "execution_count": 1150,
     "metadata": {},
     "output_type": "execute_result"
    }
   ],
   "source": [
    "pd.DataFrame(housing_gdf.name.unique(), columns=[\"Areas\"])"
   ]
  },
  {
   "cell_type": "code",
   "execution_count": 1151,
   "metadata": {
    "collapsed": false
   },
   "outputs": [
    {
     "data": {
      "text/html": [
       "<div>\n",
       "<table border=\"1\" class=\"dataframe\">\n",
       "  <thead>\n",
       "    <tr style=\"text-align: right;\">\n",
       "      <th></th>\n",
       "      <th>ALAND</th>\n",
       "      <th>AWATER</th>\n",
       "      <th>BLKGRPCE</th>\n",
       "      <th>COUNTYFP</th>\n",
       "      <th>FUNCSTAT</th>\n",
       "      <th>GEOID</th>\n",
       "      <th>INTPTLAT</th>\n",
       "      <th>INTPTLON</th>\n",
       "      <th>MTFCC</th>\n",
       "      <th>NAMELSAD</th>\n",
       "      <th>...</th>\n",
       "      <th>Bachelors</th>\n",
       "      <th>Masters</th>\n",
       "      <th>Professional_School_Degree</th>\n",
       "      <th>Doctorate</th>\n",
       "      <th>index_right</th>\n",
       "      <th>cartodb_id</th>\n",
       "      <th>name</th>\n",
       "      <th>objectid</th>\n",
       "      <th>shape_area</th>\n",
       "      <th>shape_leng</th>\n",
       "    </tr>\n",
       "  </thead>\n",
       "  <tbody>\n",
       "    <tr>\n",
       "      <th>756673</th>\n",
       "      <td>29157</td>\n",
       "      <td>0</td>\n",
       "      <td>3</td>\n",
       "      <td>047</td>\n",
       "      <td>S</td>\n",
       "      <td>360470127003</td>\n",
       "      <td>+40.6825320</td>\n",
       "      <td>-073.9838257</td>\n",
       "      <td>G5030</td>\n",
       "      <td>Block Group 3</td>\n",
       "      <td>...</td>\n",
       "      <td>45</td>\n",
       "      <td>21</td>\n",
       "      <td>0</td>\n",
       "      <td>0</td>\n",
       "      <td>0</td>\n",
       "      <td>1</td>\n",
       "      <td>Gowanus</td>\n",
       "      <td>13</td>\n",
       "      <td>0.000022</td>\n",
       "      <td>0.026828</td>\n",
       "    </tr>\n",
       "    <tr>\n",
       "      <th>756674</th>\n",
       "      <td>29157</td>\n",
       "      <td>0</td>\n",
       "      <td>3</td>\n",
       "      <td>047</td>\n",
       "      <td>S</td>\n",
       "      <td>360470127003</td>\n",
       "      <td>+40.6825320</td>\n",
       "      <td>-073.9838257</td>\n",
       "      <td>G5030</td>\n",
       "      <td>Block Group 3</td>\n",
       "      <td>...</td>\n",
       "      <td>45</td>\n",
       "      <td>21</td>\n",
       "      <td>0</td>\n",
       "      <td>0</td>\n",
       "      <td>0</td>\n",
       "      <td>1</td>\n",
       "      <td>Gowanus</td>\n",
       "      <td>13</td>\n",
       "      <td>0.000022</td>\n",
       "      <td>0.026828</td>\n",
       "    </tr>\n",
       "    <tr>\n",
       "      <th>756675</th>\n",
       "      <td>29157</td>\n",
       "      <td>0</td>\n",
       "      <td>3</td>\n",
       "      <td>047</td>\n",
       "      <td>S</td>\n",
       "      <td>360470127003</td>\n",
       "      <td>+40.6825320</td>\n",
       "      <td>-073.9838257</td>\n",
       "      <td>G5030</td>\n",
       "      <td>Block Group 3</td>\n",
       "      <td>...</td>\n",
       "      <td>45</td>\n",
       "      <td>21</td>\n",
       "      <td>0</td>\n",
       "      <td>0</td>\n",
       "      <td>0</td>\n",
       "      <td>1</td>\n",
       "      <td>Gowanus</td>\n",
       "      <td>13</td>\n",
       "      <td>0.000022</td>\n",
       "      <td>0.026828</td>\n",
       "    </tr>\n",
       "    <tr>\n",
       "      <th>756676</th>\n",
       "      <td>29157</td>\n",
       "      <td>0</td>\n",
       "      <td>3</td>\n",
       "      <td>047</td>\n",
       "      <td>S</td>\n",
       "      <td>360470127003</td>\n",
       "      <td>+40.6825320</td>\n",
       "      <td>-073.9838257</td>\n",
       "      <td>G5030</td>\n",
       "      <td>Block Group 3</td>\n",
       "      <td>...</td>\n",
       "      <td>45</td>\n",
       "      <td>21</td>\n",
       "      <td>0</td>\n",
       "      <td>0</td>\n",
       "      <td>0</td>\n",
       "      <td>1</td>\n",
       "      <td>Gowanus</td>\n",
       "      <td>13</td>\n",
       "      <td>0.000022</td>\n",
       "      <td>0.026828</td>\n",
       "    </tr>\n",
       "    <tr>\n",
       "      <th>756677</th>\n",
       "      <td>29157</td>\n",
       "      <td>0</td>\n",
       "      <td>3</td>\n",
       "      <td>047</td>\n",
       "      <td>S</td>\n",
       "      <td>360470127003</td>\n",
       "      <td>+40.6825320</td>\n",
       "      <td>-073.9838257</td>\n",
       "      <td>G5030</td>\n",
       "      <td>Block Group 3</td>\n",
       "      <td>...</td>\n",
       "      <td>45</td>\n",
       "      <td>21</td>\n",
       "      <td>0</td>\n",
       "      <td>0</td>\n",
       "      <td>0</td>\n",
       "      <td>1</td>\n",
       "      <td>Gowanus</td>\n",
       "      <td>13</td>\n",
       "      <td>0.000022</td>\n",
       "      <td>0.026828</td>\n",
       "    </tr>\n",
       "  </tbody>\n",
       "</table>\n",
       "<p>5 rows × 75 columns</p>\n",
       "</div>"
      ],
      "text/plain": [
       "        ALAND  AWATER BLKGRPCE COUNTYFP FUNCSTAT         GEOID     INTPTLAT  \\\n",
       "756673  29157       0        3      047        S  360470127003  +40.6825320   \n",
       "756674  29157       0        3      047        S  360470127003  +40.6825320   \n",
       "756675  29157       0        3      047        S  360470127003  +40.6825320   \n",
       "756676  29157       0        3      047        S  360470127003  +40.6825320   \n",
       "756677  29157       0        3      047        S  360470127003  +40.6825320   \n",
       "\n",
       "            INTPTLON  MTFCC       NAMELSAD    ...     Bachelors Masters  \\\n",
       "756673  -073.9838257  G5030  Block Group 3    ...            45      21   \n",
       "756674  -073.9838257  G5030  Block Group 3    ...            45      21   \n",
       "756675  -073.9838257  G5030  Block Group 3    ...            45      21   \n",
       "756676  -073.9838257  G5030  Block Group 3    ...            45      21   \n",
       "756677  -073.9838257  G5030  Block Group 3    ...            45      21   \n",
       "\n",
       "       Professional_School_Degree  Doctorate index_right  cartodb_id     name  \\\n",
       "756673                          0          0           0           1  Gowanus   \n",
       "756674                          0          0           0           1  Gowanus   \n",
       "756675                          0          0           0           1  Gowanus   \n",
       "756676                          0          0           0           1  Gowanus   \n",
       "756677                          0          0           0           1  Gowanus   \n",
       "\n",
       "        objectid shape_area shape_leng  \n",
       "756673        13   0.000022   0.026828  \n",
       "756674        13   0.000022   0.026828  \n",
       "756675        13   0.000022   0.026828  \n",
       "756676        13   0.000022   0.026828  \n",
       "756677        13   0.000022   0.026828  \n",
       "\n",
       "[5 rows x 75 columns]"
      ]
     },
     "execution_count": 1151,
     "metadata": {},
     "output_type": "execute_result"
    }
   ],
   "source": [
    "housing_gdf.head()"
   ]
  },
  {
   "cell_type": "code",
   "execution_count": 1236,
   "metadata": {
    "collapsed": false
   },
   "outputs": [],
   "source": [
    "area_populations = housing_gdf.groupby([\"name\"])[\"Population\"].unique()"
   ]
  },
  {
   "cell_type": "code",
   "execution_count": 1237,
   "metadata": {
    "collapsed": false
   },
   "outputs": [],
   "source": [
    "area_populations = pd.DataFrame(area_populations)"
   ]
  },
  {
   "cell_type": "code",
   "execution_count": 1238,
   "metadata": {
    "collapsed": false
   },
   "outputs": [
    {
     "data": {
      "text/html": [
       "<div>\n",
       "<table border=\"1\" class=\"dataframe\">\n",
       "  <thead>\n",
       "    <tr style=\"text-align: right;\">\n",
       "      <th></th>\n",
       "      <th>Population</th>\n",
       "    </tr>\n",
       "    <tr>\n",
       "      <th>name</th>\n",
       "      <th></th>\n",
       "    </tr>\n",
       "  </thead>\n",
       "  <tbody>\n",
       "    <tr>\n",
       "      <th>Chelsea</th>\n",
       "      <td>[1546, 785, 1260, 2642, 2970, 1479]</td>\n",
       "    </tr>\n",
       "    <tr>\n",
       "      <th>Chelsea_None</th>\n",
       "      <td>[1777, 1723, 911, 1860]</td>\n",
       "    </tr>\n",
       "    <tr>\n",
       "      <th>Gowanus</th>\n",
       "      <td>[957, 3221]</td>\n",
       "    </tr>\n",
       "    <tr>\n",
       "      <th>Gowanus_None</th>\n",
       "      <td>[825]</td>\n",
       "    </tr>\n",
       "    <tr>\n",
       "      <th>Ingersoll</th>\n",
       "      <td>[3683, 617]</td>\n",
       "    </tr>\n",
       "    <tr>\n",
       "      <th>Ingersoll_None</th>\n",
       "      <td>[780, 853, 410, 571, 1568, 818, 914, 726]</td>\n",
       "    </tr>\n",
       "    <tr>\n",
       "      <th>RedHook</th>\n",
       "      <td>[7278]</td>\n",
       "    </tr>\n",
       "    <tr>\n",
       "      <th>Tompkins</th>\n",
       "      <td>[3595, 1107, 1135, 1305, 1600, 2921, 1641]</td>\n",
       "    </tr>\n",
       "    <tr>\n",
       "      <th>Tompkins_None</th>\n",
       "      <td>[584, 1091, 613, 1026, 1131]</td>\n",
       "    </tr>\n",
       "  </tbody>\n",
       "</table>\n",
       "</div>"
      ],
      "text/plain": [
       "                                                Population\n",
       "name                                                      \n",
       "Chelsea                [1546, 785, 1260, 2642, 2970, 1479]\n",
       "Chelsea_None                       [1777, 1723, 911, 1860]\n",
       "Gowanus                                        [957, 3221]\n",
       "Gowanus_None                                         [825]\n",
       "Ingersoll                                      [3683, 617]\n",
       "Ingersoll_None   [780, 853, 410, 571, 1568, 818, 914, 726]\n",
       "RedHook                                             [7278]\n",
       "Tompkins        [3595, 1107, 1135, 1305, 1600, 2921, 1641]\n",
       "Tompkins_None                 [584, 1091, 613, 1026, 1131]"
      ]
     },
     "execution_count": 1238,
     "metadata": {},
     "output_type": "execute_result"
    }
   ],
   "source": [
    "area_populations"
   ]
  },
  {
   "cell_type": "code",
   "execution_count": 1239,
   "metadata": {
    "collapsed": false
   },
   "outputs": [],
   "source": [
    "area_populations[\"Population\"] = list(map(lambda x: x[0].sum(),area_populations.Population))"
   ]
  },
  {
   "cell_type": "code",
   "execution_count": 1240,
   "metadata": {
    "collapsed": false
   },
   "outputs": [
    {
     "data": {
      "text/html": [
       "<div>\n",
       "<table border=\"1\" class=\"dataframe\">\n",
       "  <thead>\n",
       "    <tr style=\"text-align: right;\">\n",
       "      <th></th>\n",
       "      <th>Population</th>\n",
       "    </tr>\n",
       "    <tr>\n",
       "      <th>name</th>\n",
       "      <th></th>\n",
       "    </tr>\n",
       "  </thead>\n",
       "  <tbody>\n",
       "    <tr>\n",
       "      <th>Chelsea</th>\n",
       "      <td>1546</td>\n",
       "    </tr>\n",
       "    <tr>\n",
       "      <th>Chelsea_None</th>\n",
       "      <td>1777</td>\n",
       "    </tr>\n",
       "    <tr>\n",
       "      <th>Gowanus</th>\n",
       "      <td>957</td>\n",
       "    </tr>\n",
       "    <tr>\n",
       "      <th>Gowanus_None</th>\n",
       "      <td>825</td>\n",
       "    </tr>\n",
       "    <tr>\n",
       "      <th>Ingersoll</th>\n",
       "      <td>3683</td>\n",
       "    </tr>\n",
       "    <tr>\n",
       "      <th>Ingersoll_None</th>\n",
       "      <td>780</td>\n",
       "    </tr>\n",
       "    <tr>\n",
       "      <th>RedHook</th>\n",
       "      <td>7278</td>\n",
       "    </tr>\n",
       "    <tr>\n",
       "      <th>Tompkins</th>\n",
       "      <td>3595</td>\n",
       "    </tr>\n",
       "    <tr>\n",
       "      <th>Tompkins_None</th>\n",
       "      <td>584</td>\n",
       "    </tr>\n",
       "  </tbody>\n",
       "</table>\n",
       "</div>"
      ],
      "text/plain": [
       "                Population\n",
       "name                      \n",
       "Chelsea               1546\n",
       "Chelsea_None          1777\n",
       "Gowanus                957\n",
       "Gowanus_None           825\n",
       "Ingersoll             3683\n",
       "Ingersoll_None         780\n",
       "RedHook               7278\n",
       "Tompkins              3595\n",
       "Tompkins_None          584"
      ]
     },
     "execution_count": 1240,
     "metadata": {},
     "output_type": "execute_result"
    }
   ],
   "source": [
    "area_populations"
   ]
  },
  {
   "cell_type": "code",
   "execution_count": 1252,
   "metadata": {
    "collapsed": true
   },
   "outputs": [],
   "source": [
    "area_populations[\"name\"] = area_populations.index"
   ]
  },
  {
   "cell_type": "code",
   "execution_count": null,
   "metadata": {
    "collapsed": true
   },
   "outputs": [],
   "source": []
  },
  {
   "cell_type": "code",
   "execution_count": 1211,
   "metadata": {
    "collapsed": true
   },
   "outputs": [],
   "source": [
    "#area_populations = housing_gdf.groupby([\"name\",\"GEOID\"])[\"Population\"].unique()"
   ]
  },
  {
   "cell_type": "code",
   "execution_count": 1253,
   "metadata": {
    "collapsed": false
   },
   "outputs": [
    {
     "data": {
      "text/html": [
       "<div>\n",
       "<table border=\"1\" class=\"dataframe\">\n",
       "  <thead>\n",
       "    <tr style=\"text-align: right;\">\n",
       "      <th></th>\n",
       "      <th>Population</th>\n",
       "      <th>name</th>\n",
       "    </tr>\n",
       "    <tr>\n",
       "      <th>name</th>\n",
       "      <th></th>\n",
       "      <th></th>\n",
       "    </tr>\n",
       "  </thead>\n",
       "  <tbody>\n",
       "    <tr>\n",
       "      <th>Chelsea</th>\n",
       "      <td>1546</td>\n",
       "      <td>Chelsea</td>\n",
       "    </tr>\n",
       "    <tr>\n",
       "      <th>Chelsea_None</th>\n",
       "      <td>1777</td>\n",
       "      <td>Chelsea_None</td>\n",
       "    </tr>\n",
       "    <tr>\n",
       "      <th>Gowanus</th>\n",
       "      <td>957</td>\n",
       "      <td>Gowanus</td>\n",
       "    </tr>\n",
       "    <tr>\n",
       "      <th>Gowanus_None</th>\n",
       "      <td>825</td>\n",
       "      <td>Gowanus_None</td>\n",
       "    </tr>\n",
       "    <tr>\n",
       "      <th>Ingersoll</th>\n",
       "      <td>3683</td>\n",
       "      <td>Ingersoll</td>\n",
       "    </tr>\n",
       "    <tr>\n",
       "      <th>Ingersoll_None</th>\n",
       "      <td>780</td>\n",
       "      <td>Ingersoll_None</td>\n",
       "    </tr>\n",
       "    <tr>\n",
       "      <th>RedHook</th>\n",
       "      <td>7278</td>\n",
       "      <td>RedHook</td>\n",
       "    </tr>\n",
       "    <tr>\n",
       "      <th>Tompkins</th>\n",
       "      <td>3595</td>\n",
       "      <td>Tompkins</td>\n",
       "    </tr>\n",
       "    <tr>\n",
       "      <th>Tompkins_None</th>\n",
       "      <td>584</td>\n",
       "      <td>Tompkins_None</td>\n",
       "    </tr>\n",
       "  </tbody>\n",
       "</table>\n",
       "</div>"
      ],
      "text/plain": [
       "                Population            name\n",
       "name                                      \n",
       "Chelsea               1546         Chelsea\n",
       "Chelsea_None          1777    Chelsea_None\n",
       "Gowanus                957         Gowanus\n",
       "Gowanus_None           825    Gowanus_None\n",
       "Ingersoll             3683       Ingersoll\n",
       "Ingersoll_None         780  Ingersoll_None\n",
       "RedHook               7278         RedHook\n",
       "Tompkins              3595        Tompkins\n",
       "Tompkins_None          584   Tompkins_None"
      ]
     },
     "execution_count": 1253,
     "metadata": {},
     "output_type": "execute_result"
    }
   ],
   "source": [
    "area_populations"
   ]
  },
  {
   "cell_type": "code",
   "execution_count": 1152,
   "metadata": {
    "collapsed": false
   },
   "outputs": [
    {
     "data": {
      "text/plain": [
       "Index(['ALAND', 'AWATER', 'BLKGRPCE', 'COUNTYFP', 'FUNCSTAT', 'GEOID',\n",
       "       'INTPTLAT', 'INTPTLON', 'MTFCC', 'NAMELSAD', 'STATEFP', 'TRACTCE',\n",
       "       'geometry', 'acc', 'bssid', 'lat', 'level', 'lng', 'ssid', 'time',\n",
       "       'uni_bssid_count', 'Geo_NAME_x', 'Geo_QName_x', 'Geo_AREALAND_x',\n",
       "       'Geo_AREAWATR_x', 'Geo_SUMLEV_x', 'Geo_GEOCOMP_x', 'Geo_REGION_x',\n",
       "       'Geo_DIVISION_x', 'Geo_STATE_x', 'Geo_COUNTY_x', 'Geo_TRACT_x',\n",
       "       'Geo_BLKGRP_x', 'MHI', 'Geo_NAME_y', 'Geo_QName_y', 'Geo_AREALAND_y',\n",
       "       'Geo_AREAWATR_y', 'Geo_SUMLEV_y', 'Geo_GEOCOMP_y', 'Geo_REGION_y',\n",
       "       'Geo_DIVISION_y', 'Geo_STATE_y', 'Geo_COUNTY_y', 'Geo_TRACT_y',\n",
       "       'Geo_BLKGRP_y', 'SE_T003_003', 'Population', 'Pop_Density', 'Geo_NAME',\n",
       "       'Geo_QName', 'Geo_AREALAND', 'Geo_AREAWATR', 'Geo_SUMLEV',\n",
       "       'Geo_GEOCOMP', 'Geo_REGION', 'Geo_DIVISION', 'Geo_STATE', 'Geo_COUNTY',\n",
       "       'Geo_TRACT', 'Geo_BLKGRP', 'Pop_over_25', 'Less_than_HS', 'High_School',\n",
       "       'Some_College', 'Bachelors', 'Masters', 'Professional_School_Degree',\n",
       "       'Doctorate', 'index_right', 'cartodb_id', 'name', 'objectid',\n",
       "       'shape_area', 'shape_leng'],\n",
       "      dtype='object')"
      ]
     },
     "execution_count": 1152,
     "metadata": {},
     "output_type": "execute_result"
    }
   ],
   "source": [
    "housing_gdf.columns"
   ]
  },
  {
   "cell_type": "code",
   "execution_count": 1162,
   "metadata": {
    "collapsed": false
   },
   "outputs": [],
   "source": [
    "unique_bssid = housing_gdf.groupby(housing_gdf.name)[\"bssid\"].nunique()"
   ]
  },
  {
   "cell_type": "code",
   "execution_count": 1163,
   "metadata": {
    "collapsed": true
   },
   "outputs": [],
   "source": [
    "df = pd.DataFrame(unique_bssid)"
   ]
  },
  {
   "cell_type": "code",
   "execution_count": 1164,
   "metadata": {
    "collapsed": true
   },
   "outputs": [],
   "source": [
    "df[\"name\"] = df.index"
   ]
  },
  {
   "cell_type": "code",
   "execution_count": 1165,
   "metadata": {
    "collapsed": true
   },
   "outputs": [],
   "source": [
    "df[\"uni_bssid_by_housing_area\"] = df.bssid"
   ]
  },
  {
   "cell_type": "code",
   "execution_count": 1166,
   "metadata": {
    "collapsed": true
   },
   "outputs": [],
   "source": [
    "del df[\"bssid\"]"
   ]
  },
  {
   "cell_type": "code",
   "execution_count": 1167,
   "metadata": {
    "collapsed": false
   },
   "outputs": [
    {
     "data": {
      "text/html": [
       "<div>\n",
       "<table border=\"1\" class=\"dataframe\">\n",
       "  <thead>\n",
       "    <tr style=\"text-align: right;\">\n",
       "      <th></th>\n",
       "      <th>name</th>\n",
       "      <th>uni_bssid_by_housing_area</th>\n",
       "    </tr>\n",
       "    <tr>\n",
       "      <th>name</th>\n",
       "      <th></th>\n",
       "      <th></th>\n",
       "    </tr>\n",
       "  </thead>\n",
       "  <tbody>\n",
       "    <tr>\n",
       "      <th>Chelsea</th>\n",
       "      <td>Chelsea</td>\n",
       "      <td>4851</td>\n",
       "    </tr>\n",
       "    <tr>\n",
       "      <th>Chelsea_None</th>\n",
       "      <td>Chelsea_None</td>\n",
       "      <td>4542</td>\n",
       "    </tr>\n",
       "    <tr>\n",
       "      <th>Gowanus</th>\n",
       "      <td>Gowanus</td>\n",
       "      <td>1628</td>\n",
       "    </tr>\n",
       "    <tr>\n",
       "      <th>Gowanus_None</th>\n",
       "      <td>Gowanus_None</td>\n",
       "      <td>667</td>\n",
       "    </tr>\n",
       "    <tr>\n",
       "      <th>Ingersoll</th>\n",
       "      <td>Ingersoll</td>\n",
       "      <td>712</td>\n",
       "    </tr>\n",
       "    <tr>\n",
       "      <th>Ingersoll_None</th>\n",
       "      <td>Ingersoll_None</td>\n",
       "      <td>3218</td>\n",
       "    </tr>\n",
       "    <tr>\n",
       "      <th>RedHook</th>\n",
       "      <td>RedHook</td>\n",
       "      <td>313</td>\n",
       "    </tr>\n",
       "    <tr>\n",
       "      <th>Tompkins</th>\n",
       "      <td>Tompkins</td>\n",
       "      <td>2336</td>\n",
       "    </tr>\n",
       "    <tr>\n",
       "      <th>Tompkins_None</th>\n",
       "      <td>Tompkins_None</td>\n",
       "      <td>1515</td>\n",
       "    </tr>\n",
       "  </tbody>\n",
       "</table>\n",
       "</div>"
      ],
      "text/plain": [
       "                          name  uni_bssid_by_housing_area\n",
       "name                                                     \n",
       "Chelsea                Chelsea                       4851\n",
       "Chelsea_None      Chelsea_None                       4542\n",
       "Gowanus                Gowanus                       1628\n",
       "Gowanus_None      Gowanus_None                        667\n",
       "Ingersoll            Ingersoll                        712\n",
       "Ingersoll_None  Ingersoll_None                       3218\n",
       "RedHook                RedHook                        313\n",
       "Tompkins              Tompkins                       2336\n",
       "Tompkins_None    Tompkins_None                       1515"
      ]
     },
     "execution_count": 1167,
     "metadata": {},
     "output_type": "execute_result"
    }
   ],
   "source": [
    "df"
   ]
  },
  {
   "cell_type": "code",
   "execution_count": 1168,
   "metadata": {
    "collapsed": false
   },
   "outputs": [],
   "source": [
    "housing_gdf_ = housing_gdf.merge(df, on=\"name\")"
   ]
  },
  {
   "cell_type": "code",
   "execution_count": 1169,
   "metadata": {
    "collapsed": false
   },
   "outputs": [
    {
     "data": {
      "text/plain": [
       "(422365, 76)"
      ]
     },
     "execution_count": 1169,
     "metadata": {},
     "output_type": "execute_result"
    }
   ],
   "source": [
    "housing_gdf_.shape"
   ]
  },
  {
   "cell_type": "code",
   "execution_count": 1170,
   "metadata": {
    "collapsed": false
   },
   "outputs": [
    {
     "data": {
      "text/html": [
       "<div>\n",
       "<table border=\"1\" class=\"dataframe\">\n",
       "  <thead>\n",
       "    <tr style=\"text-align: right;\">\n",
       "      <th></th>\n",
       "      <th>ALAND</th>\n",
       "      <th>AWATER</th>\n",
       "      <th>BLKGRPCE</th>\n",
       "      <th>COUNTYFP</th>\n",
       "      <th>FUNCSTAT</th>\n",
       "      <th>GEOID</th>\n",
       "      <th>INTPTLAT</th>\n",
       "      <th>INTPTLON</th>\n",
       "      <th>MTFCC</th>\n",
       "      <th>NAMELSAD</th>\n",
       "      <th>...</th>\n",
       "      <th>Masters</th>\n",
       "      <th>Professional_School_Degree</th>\n",
       "      <th>Doctorate</th>\n",
       "      <th>index_right</th>\n",
       "      <th>cartodb_id</th>\n",
       "      <th>name</th>\n",
       "      <th>objectid</th>\n",
       "      <th>shape_area</th>\n",
       "      <th>shape_leng</th>\n",
       "      <th>uni_bssid_by_housing_area</th>\n",
       "    </tr>\n",
       "  </thead>\n",
       "  <tbody>\n",
       "    <tr>\n",
       "      <th>0</th>\n",
       "      <td>29157</td>\n",
       "      <td>0</td>\n",
       "      <td>3</td>\n",
       "      <td>047</td>\n",
       "      <td>S</td>\n",
       "      <td>360470127003</td>\n",
       "      <td>+40.6825320</td>\n",
       "      <td>-073.9838257</td>\n",
       "      <td>G5030</td>\n",
       "      <td>Block Group 3</td>\n",
       "      <td>...</td>\n",
       "      <td>21</td>\n",
       "      <td>0</td>\n",
       "      <td>0</td>\n",
       "      <td>0</td>\n",
       "      <td>1</td>\n",
       "      <td>Gowanus</td>\n",
       "      <td>13</td>\n",
       "      <td>0.000022</td>\n",
       "      <td>0.026828</td>\n",
       "      <td>1628</td>\n",
       "    </tr>\n",
       "  </tbody>\n",
       "</table>\n",
       "<p>1 rows × 76 columns</p>\n",
       "</div>"
      ],
      "text/plain": [
       "   ALAND  AWATER BLKGRPCE COUNTYFP FUNCSTAT         GEOID     INTPTLAT  \\\n",
       "0  29157       0        3      047        S  360470127003  +40.6825320   \n",
       "\n",
       "       INTPTLON  MTFCC       NAMELSAD            ...            Masters  \\\n",
       "0  -073.9838257  G5030  Block Group 3            ...                 21   \n",
       "\n",
       "  Professional_School_Degree Doctorate  index_right cartodb_id     name  \\\n",
       "0                          0         0            0          1  Gowanus   \n",
       "\n",
       "   objectid  shape_area shape_leng uni_bssid_by_housing_area  \n",
       "0        13    0.000022   0.026828                      1628  \n",
       "\n",
       "[1 rows x 76 columns]"
      ]
     },
     "execution_count": 1170,
     "metadata": {},
     "output_type": "execute_result"
    }
   ],
   "source": [
    "housing_gdf_.head(1)"
   ]
  },
  {
   "cell_type": "markdown",
   "metadata": {},
   "source": [
    "# Indentifying Open Networks"
   ]
  },
  {
   "cell_type": "code",
   "execution_count": 537,
   "metadata": {
    "collapsed": false
   },
   "outputs": [],
   "source": [
    "def open_net(x):\n",
    "    x = str(x).lower()\n",
    "    free_wifi_list = [\"flatiron free wifi\",\"flatiron\",\"freewifibysurface\",\"bryantpark.org\",\"bryantpark\",\\\n",
    "                     \"downtownbrooklynwifi_fon\",\"downtownbrooklyn\",\"linknyc free wi-fi\",\"linknyc\",\"metrotech\",\\\n",
    "                     \"usp park wifi\",\"usppark\",\"red hook wifi\",\"redhook\",\"attwifi\",\"guestwifi\",\"guest\",\\\n",
    "                      \"unionsquarewifi\"]\n",
    "    for free_wifi in free_wifi_list:\n",
    "        if x in free_wifi:\n",
    "            return True\n",
    "        else:\n",
    "            return False"
   ]
  },
  {
   "cell_type": "code",
   "execution_count": 1171,
   "metadata": {
    "collapsed": true
   },
   "outputs": [],
   "source": [
    "def open_net(x):\n",
    "    x = str(x)\n",
    "    if \"flatiron free wifi\" in x.lower():\n",
    "        return True\n",
    "    else:\n",
    "        if \"flatiron\" in x.lower():\n",
    "            return True\n",
    "        else:\n",
    "            if \"freewifibysurface\" in x.lower():\n",
    "                return True\n",
    "            else:\n",
    "                if \"bryantpark.org\" in x.lower():\n",
    "                    return True\n",
    "                else:\n",
    "                    if \"bryantpark\" in x.lower():\n",
    "                        return True\n",
    "                    else:\n",
    "                        if \"downtownbrooklynwifi_fon\" in x.lower():\n",
    "                            return True\n",
    "                        else:\n",
    "                            if \"downtownbrooklyn\" in x.lower():\n",
    "                                return True\n",
    "                            else:\n",
    "                                if \"linknyc free wi-fi\" in x.lower():\n",
    "                                    return True\n",
    "                                else:\n",
    "                                    if \"linknyc\" in x.lower():\n",
    "                                        return True\n",
    "                                    else:\n",
    "                                        if \"metrotech\" in x.lower():\n",
    "                                            return True\n",
    "                                        else:\n",
    "                                            if \"usp park wifi\" in x.lower():\n",
    "                                                return True\n",
    "                                            else:\n",
    "                                                if \"usppark\" in x.lower():\n",
    "                                                    return True\n",
    "                                                else: \n",
    "                                                    if \"red hook wifi\" in x.lower():\n",
    "                                                        return True\n",
    "                                                    else:\n",
    "                                                        if \"redhook\" in x.lower():\n",
    "                                                            return True\n",
    "                                                        else:\n",
    "                                                            if \"attwifi\" in x.lower():\n",
    "                                                                return True\n",
    "                                                            else:\n",
    "                                                                if \"guestwifi\" in x.lower():\n",
    "                                                                    return True\n",
    "                                                                else:\n",
    "                                                                    if \"guest\" in x.lower():\n",
    "                                                                        return True\n",
    "                                                                    else:\n",
    "                                                                        if \"unionsquarewifi\" in x.lower():\n",
    "                                                                            return True\n",
    "                                                                        else:\n",
    "                                                                            return False"
   ]
  },
  {
   "cell_type": "code",
   "execution_count": 1172,
   "metadata": {
    "collapsed": false
   },
   "outputs": [
    {
     "data": {
      "text/plain": [
       "True"
      ]
     },
     "execution_count": 1172,
     "metadata": {},
     "output_type": "execute_result"
    }
   ],
   "source": [
    "open_net(\"guest\")"
   ]
  },
  {
   "cell_type": "code",
   "execution_count": 1173,
   "metadata": {
    "collapsed": false
   },
   "outputs": [
    {
     "data": {
      "text/html": [
       "<div>\n",
       "<table border=\"1\" class=\"dataframe\">\n",
       "  <thead>\n",
       "    <tr style=\"text-align: right;\">\n",
       "      <th></th>\n",
       "      <th>ALAND</th>\n",
       "      <th>AWATER</th>\n",
       "      <th>BLKGRPCE</th>\n",
       "      <th>COUNTYFP</th>\n",
       "      <th>FUNCSTAT</th>\n",
       "      <th>GEOID</th>\n",
       "      <th>INTPTLAT</th>\n",
       "      <th>INTPTLON</th>\n",
       "      <th>MTFCC</th>\n",
       "      <th>NAMELSAD</th>\n",
       "      <th>...</th>\n",
       "      <th>Masters</th>\n",
       "      <th>Professional_School_Degree</th>\n",
       "      <th>Doctorate</th>\n",
       "      <th>index_right</th>\n",
       "      <th>cartodb_id</th>\n",
       "      <th>name</th>\n",
       "      <th>objectid</th>\n",
       "      <th>shape_area</th>\n",
       "      <th>shape_leng</th>\n",
       "      <th>uni_bssid_by_housing_area</th>\n",
       "    </tr>\n",
       "  </thead>\n",
       "  <tbody>\n",
       "    <tr>\n",
       "      <th>0</th>\n",
       "      <td>29157</td>\n",
       "      <td>0</td>\n",
       "      <td>3</td>\n",
       "      <td>047</td>\n",
       "      <td>S</td>\n",
       "      <td>360470127003</td>\n",
       "      <td>+40.6825320</td>\n",
       "      <td>-073.9838257</td>\n",
       "      <td>G5030</td>\n",
       "      <td>Block Group 3</td>\n",
       "      <td>...</td>\n",
       "      <td>21</td>\n",
       "      <td>0</td>\n",
       "      <td>0</td>\n",
       "      <td>0</td>\n",
       "      <td>1</td>\n",
       "      <td>Gowanus</td>\n",
       "      <td>13</td>\n",
       "      <td>0.000022</td>\n",
       "      <td>0.026828</td>\n",
       "      <td>1628</td>\n",
       "    </tr>\n",
       "  </tbody>\n",
       "</table>\n",
       "<p>1 rows × 76 columns</p>\n",
       "</div>"
      ],
      "text/plain": [
       "   ALAND  AWATER BLKGRPCE COUNTYFP FUNCSTAT         GEOID     INTPTLAT  \\\n",
       "0  29157       0        3      047        S  360470127003  +40.6825320   \n",
       "\n",
       "       INTPTLON  MTFCC       NAMELSAD            ...            Masters  \\\n",
       "0  -073.9838257  G5030  Block Group 3            ...                 21   \n",
       "\n",
       "  Professional_School_Degree Doctorate  index_right cartodb_id     name  \\\n",
       "0                          0         0            0          1  Gowanus   \n",
       "\n",
       "   objectid  shape_area shape_leng uni_bssid_by_housing_area  \n",
       "0        13    0.000022   0.026828                      1628  \n",
       "\n",
       "[1 rows x 76 columns]"
      ]
     },
     "execution_count": 1173,
     "metadata": {},
     "output_type": "execute_result"
    }
   ],
   "source": [
    "housing_gdf_.head(1)"
   ]
  },
  {
   "cell_type": "code",
   "execution_count": 1175,
   "metadata": {
    "collapsed": false
   },
   "outputs": [],
   "source": [
    "#del housing_gdf_[\"open_net\"]"
   ]
  },
  {
   "cell_type": "code",
   "execution_count": 1176,
   "metadata": {
    "collapsed": false
   },
   "outputs": [],
   "source": [
    "housing_gdf_[\"open_net\"] = list(map(lambda x: open_net(x), housing_gdf_.ssid))"
   ]
  },
  {
   "cell_type": "code",
   "execution_count": 1177,
   "metadata": {
    "collapsed": false
   },
   "outputs": [
    {
     "data": {
      "text/plain": [
       "count     422365\n",
       "unique         2\n",
       "top        False\n",
       "freq      400732\n",
       "Name: open_net, dtype: object"
      ]
     },
     "execution_count": 1177,
     "metadata": {},
     "output_type": "execute_result"
    }
   ],
   "source": [
    "housing_gdf_[\"open_net\"].describe()"
   ]
  },
  {
   "cell_type": "code",
   "execution_count": 1178,
   "metadata": {
    "collapsed": false
   },
   "outputs": [
    {
     "data": {
      "text/plain": [
       "26180"
      ]
     },
     "execution_count": 1178,
     "metadata": {},
     "output_type": "execute_result"
    }
   ],
   "source": [
    "507094-480914"
   ]
  },
  {
   "cell_type": "code",
   "execution_count": 1179,
   "metadata": {
    "collapsed": false,
    "scrolled": false
   },
   "outputs": [],
   "source": [
    "networks = pd.DataFrame(housing_gdf_[\"ssid\"].unique())"
   ]
  },
  {
   "cell_type": "code",
   "execution_count": 1181,
   "metadata": {
    "collapsed": false
   },
   "outputs": [
    {
     "data": {
      "text/plain": [
       "name\n",
       "Chelsea            7435.0\n",
       "Chelsea_None      11746.0\n",
       "Gowanus             520.0\n",
       "Gowanus_None        558.0\n",
       "Ingersoll           270.0\n",
       "Ingersoll_None      789.0\n",
       "RedHook              58.0\n",
       "Tompkins            167.0\n",
       "Tompkins_None        90.0\n",
       "Name: open_net, dtype: float64"
      ]
     },
     "execution_count": 1181,
     "metadata": {},
     "output_type": "execute_result"
    }
   ],
   "source": [
    "housing_gdf_.groupby(housing_gdf_.name)[\"open_net\"].sum()"
   ]
  },
  {
   "cell_type": "code",
   "execution_count": 1182,
   "metadata": {
    "collapsed": true
   },
   "outputs": [],
   "source": [
    "open_vs_non = pd.DataFrame(housing_gdf_.groupby([\"name\"])[\"open_net\"].sum())"
   ]
  },
  {
   "cell_type": "code",
   "execution_count": 1183,
   "metadata": {
    "collapsed": false
   },
   "outputs": [],
   "source": [
    "open_vs_non = pd.DataFrame(housing_gdf_.groupby([\"name\",\"bssid\"])[\"open_net\"].sum())"
   ]
  },
  {
   "cell_type": "code",
   "execution_count": 1184,
   "metadata": {
    "collapsed": false
   },
   "outputs": [
    {
     "data": {
      "text/html": [
       "<div>\n",
       "<table border=\"1\" class=\"dataframe\">\n",
       "  <thead>\n",
       "    <tr style=\"text-align: right;\">\n",
       "      <th></th>\n",
       "      <th></th>\n",
       "      <th>open_net</th>\n",
       "    </tr>\n",
       "    <tr>\n",
       "      <th>name</th>\n",
       "      <th>bssid</th>\n",
       "      <th></th>\n",
       "    </tr>\n",
       "  </thead>\n",
       "  <tbody>\n",
       "    <tr>\n",
       "      <th rowspan=\"30\" valign=\"top\">Chelsea</th>\n",
       "      <th>00:02:6f:d9:a2:a0</th>\n",
       "      <td>0.0</td>\n",
       "    </tr>\n",
       "    <tr>\n",
       "      <th>00:03:52:8f:23:00</th>\n",
       "      <td>0.0</td>\n",
       "    </tr>\n",
       "    <tr>\n",
       "      <th>00:03:52:b5:26:10</th>\n",
       "      <td>0.0</td>\n",
       "    </tr>\n",
       "    <tr>\n",
       "      <th>00:03:52:b5:26:70</th>\n",
       "      <td>0.0</td>\n",
       "    </tr>\n",
       "    <tr>\n",
       "      <th>00:03:52:b5:30:20</th>\n",
       "      <td>0.0</td>\n",
       "    </tr>\n",
       "    <tr>\n",
       "      <th>00:06:25:9a:ac:e8</th>\n",
       "      <td>0.0</td>\n",
       "    </tr>\n",
       "    <tr>\n",
       "      <th>00:06:66:2a:66:df</th>\n",
       "      <td>0.0</td>\n",
       "    </tr>\n",
       "    <tr>\n",
       "      <th>00:0c:e6:02:85:37</th>\n",
       "      <td>0.0</td>\n",
       "    </tr>\n",
       "    <tr>\n",
       "      <th>00:0c:e6:02:8e:c8</th>\n",
       "      <td>8.0</td>\n",
       "    </tr>\n",
       "    <tr>\n",
       "      <th>00:0d:93:7f:09:da</th>\n",
       "      <td>0.0</td>\n",
       "    </tr>\n",
       "    <tr>\n",
       "      <th>00:0f:24:20:8a:d0</th>\n",
       "      <td>17.0</td>\n",
       "    </tr>\n",
       "    <tr>\n",
       "      <th>00:0f:34:8f:9d:e0</th>\n",
       "      <td>0.0</td>\n",
       "    </tr>\n",
       "    <tr>\n",
       "      <th>00:0f:34:97:35:c0</th>\n",
       "      <td>0.0</td>\n",
       "    </tr>\n",
       "    <tr>\n",
       "      <th>00:0f:8f:38:76:20</th>\n",
       "      <td>0.0</td>\n",
       "    </tr>\n",
       "    <tr>\n",
       "      <th>00:0f:f7:60:bd:20</th>\n",
       "      <td>0.0</td>\n",
       "    </tr>\n",
       "    <tr>\n",
       "      <th>00:11:24:9d:78:72</th>\n",
       "      <td>0.0</td>\n",
       "    </tr>\n",
       "    <tr>\n",
       "      <th>00:11:32:75:24:6f</th>\n",
       "      <td>0.0</td>\n",
       "    </tr>\n",
       "    <tr>\n",
       "      <th>00:11:74:d1:d0:f0</th>\n",
       "      <td>0.0</td>\n",
       "    </tr>\n",
       "    <tr>\n",
       "      <th>00:11:74:d1:d0:f1</th>\n",
       "      <td>0.0</td>\n",
       "    </tr>\n",
       "    <tr>\n",
       "      <th>00:11:74:d7:34:20</th>\n",
       "      <td>0.0</td>\n",
       "    </tr>\n",
       "    <tr>\n",
       "      <th>00:11:74:d7:34:30</th>\n",
       "      <td>0.0</td>\n",
       "    </tr>\n",
       "    <tr>\n",
       "      <th>00:14:a4:17:d6:20</th>\n",
       "      <td>0.0</td>\n",
       "    </tr>\n",
       "    <tr>\n",
       "      <th>00:14:a8:8d:95:c0</th>\n",
       "      <td>0.0</td>\n",
       "    </tr>\n",
       "    <tr>\n",
       "      <th>00:14:d1:d6:5d:10</th>\n",
       "      <td>0.0</td>\n",
       "    </tr>\n",
       "    <tr>\n",
       "      <th>00:14:f2:62:8f:50</th>\n",
       "      <td>0.0</td>\n",
       "    </tr>\n",
       "    <tr>\n",
       "      <th>00:15:6d:dc:9b:65</th>\n",
       "      <td>0.0</td>\n",
       "    </tr>\n",
       "    <tr>\n",
       "      <th>00:15:70:07:0d:f1</th>\n",
       "      <td>0.0</td>\n",
       "    </tr>\n",
       "    <tr>\n",
       "      <th>00:15:70:09:21:52</th>\n",
       "      <td>0.0</td>\n",
       "    </tr>\n",
       "    <tr>\n",
       "      <th>00:15:c6:5e:c4:30</th>\n",
       "      <td>0.0</td>\n",
       "    </tr>\n",
       "    <tr>\n",
       "      <th>00:15:ff:55:12:be</th>\n",
       "      <td>0.0</td>\n",
       "    </tr>\n",
       "    <tr>\n",
       "      <th>...</th>\n",
       "      <th>...</th>\n",
       "      <td>...</td>\n",
       "    </tr>\n",
       "    <tr>\n",
       "      <th rowspan=\"30\" valign=\"top\">Tompkins_None</th>\n",
       "      <th>fa:8f:ca:31:94:03</th>\n",
       "      <td>0.0</td>\n",
       "    </tr>\n",
       "    <tr>\n",
       "      <th>fa:e9:03:06:85:ca</th>\n",
       "      <td>0.0</td>\n",
       "    </tr>\n",
       "    <tr>\n",
       "      <th>fa:e9:03:06:af:e5</th>\n",
       "      <td>0.0</td>\n",
       "    </tr>\n",
       "    <tr>\n",
       "      <th>fa:e9:03:06:af:e6</th>\n",
       "      <td>0.0</td>\n",
       "    </tr>\n",
       "    <tr>\n",
       "      <th>fa:e9:03:07:a6:19</th>\n",
       "      <td>0.0</td>\n",
       "    </tr>\n",
       "    <tr>\n",
       "      <th>fa:e9:03:07:a6:1a</th>\n",
       "      <td>0.0</td>\n",
       "    </tr>\n",
       "    <tr>\n",
       "      <th>fa:e9:03:07:e0:03</th>\n",
       "      <td>0.0</td>\n",
       "    </tr>\n",
       "    <tr>\n",
       "      <th>fa:e9:03:07:e0:04</th>\n",
       "      <td>0.0</td>\n",
       "    </tr>\n",
       "    <tr>\n",
       "      <th>fa:e9:03:08:23:01</th>\n",
       "      <td>0.0</td>\n",
       "    </tr>\n",
       "    <tr>\n",
       "      <th>fa:e9:03:08:23:0f</th>\n",
       "      <td>0.0</td>\n",
       "    </tr>\n",
       "    <tr>\n",
       "      <th>fa:e9:03:08:34:f1</th>\n",
       "      <td>0.0</td>\n",
       "    </tr>\n",
       "    <tr>\n",
       "      <th>fa:e9:03:0b:0d:38</th>\n",
       "      <td>0.0</td>\n",
       "    </tr>\n",
       "    <tr>\n",
       "      <th>fa:e9:03:0b:0d:c3</th>\n",
       "      <td>0.0</td>\n",
       "    </tr>\n",
       "    <tr>\n",
       "      <th>fa:e9:03:0c:11:88</th>\n",
       "      <td>0.0</td>\n",
       "    </tr>\n",
       "    <tr>\n",
       "      <th>fa:e9:03:0d:8a:53</th>\n",
       "      <td>0.0</td>\n",
       "    </tr>\n",
       "    <tr>\n",
       "      <th>fa:e9:03:0d:8a:54</th>\n",
       "      <td>0.0</td>\n",
       "    </tr>\n",
       "    <tr>\n",
       "      <th>fa:e9:03:b0:04:f7</th>\n",
       "      <td>0.0</td>\n",
       "    </tr>\n",
       "    <tr>\n",
       "      <th>fa:e9:03:b0:04:f8</th>\n",
       "      <td>0.0</td>\n",
       "    </tr>\n",
       "    <tr>\n",
       "      <th>fa:e9:03:b0:99:47</th>\n",
       "      <td>0.0</td>\n",
       "    </tr>\n",
       "    <tr>\n",
       "      <th>fa:e9:03:b0:99:48</th>\n",
       "      <td>0.0</td>\n",
       "    </tr>\n",
       "    <tr>\n",
       "      <th>fa:e9:03:b1:05:ab</th>\n",
       "      <td>0.0</td>\n",
       "    </tr>\n",
       "    <tr>\n",
       "      <th>fa:e9:03:b1:05:ac</th>\n",
       "      <td>0.0</td>\n",
       "    </tr>\n",
       "    <tr>\n",
       "      <th>fa:e9:03:b2:1d:9e</th>\n",
       "      <td>0.0</td>\n",
       "    </tr>\n",
       "    <tr>\n",
       "      <th>fa:e9:03:b3:02:7b</th>\n",
       "      <td>0.0</td>\n",
       "    </tr>\n",
       "    <tr>\n",
       "      <th>fa:e9:03:b3:02:7c</th>\n",
       "      <td>0.0</td>\n",
       "    </tr>\n",
       "    <tr>\n",
       "      <th>fa:e9:03:b3:04:9e</th>\n",
       "      <td>0.0</td>\n",
       "    </tr>\n",
       "    <tr>\n",
       "      <th>fc:15:b4:3b:d0:06</th>\n",
       "      <td>0.0</td>\n",
       "    </tr>\n",
       "    <tr>\n",
       "      <th>fc:15:b4:66:a9:a8</th>\n",
       "      <td>0.0</td>\n",
       "    </tr>\n",
       "    <tr>\n",
       "      <th>fc:3f:db:23:fc:f8</th>\n",
       "      <td>0.0</td>\n",
       "    </tr>\n",
       "    <tr>\n",
       "      <th>fe:3f:db:cf:40:24</th>\n",
       "      <td>0.0</td>\n",
       "    </tr>\n",
       "  </tbody>\n",
       "</table>\n",
       "<p>19782 rows × 1 columns</p>\n",
       "</div>"
      ],
      "text/plain": [
       "                                 open_net\n",
       "name          bssid                      \n",
       "Chelsea       00:02:6f:d9:a2:a0       0.0\n",
       "              00:03:52:8f:23:00       0.0\n",
       "              00:03:52:b5:26:10       0.0\n",
       "              00:03:52:b5:26:70       0.0\n",
       "              00:03:52:b5:30:20       0.0\n",
       "              00:06:25:9a:ac:e8       0.0\n",
       "              00:06:66:2a:66:df       0.0\n",
       "              00:0c:e6:02:85:37       0.0\n",
       "              00:0c:e6:02:8e:c8       8.0\n",
       "              00:0d:93:7f:09:da       0.0\n",
       "              00:0f:24:20:8a:d0      17.0\n",
       "              00:0f:34:8f:9d:e0       0.0\n",
       "              00:0f:34:97:35:c0       0.0\n",
       "              00:0f:8f:38:76:20       0.0\n",
       "              00:0f:f7:60:bd:20       0.0\n",
       "              00:11:24:9d:78:72       0.0\n",
       "              00:11:32:75:24:6f       0.0\n",
       "              00:11:74:d1:d0:f0       0.0\n",
       "              00:11:74:d1:d0:f1       0.0\n",
       "              00:11:74:d7:34:20       0.0\n",
       "              00:11:74:d7:34:30       0.0\n",
       "              00:14:a4:17:d6:20       0.0\n",
       "              00:14:a8:8d:95:c0       0.0\n",
       "              00:14:d1:d6:5d:10       0.0\n",
       "              00:14:f2:62:8f:50       0.0\n",
       "              00:15:6d:dc:9b:65       0.0\n",
       "              00:15:70:07:0d:f1       0.0\n",
       "              00:15:70:09:21:52       0.0\n",
       "              00:15:c6:5e:c4:30       0.0\n",
       "              00:15:ff:55:12:be       0.0\n",
       "...                                   ...\n",
       "Tompkins_None fa:8f:ca:31:94:03       0.0\n",
       "              fa:e9:03:06:85:ca       0.0\n",
       "              fa:e9:03:06:af:e5       0.0\n",
       "              fa:e9:03:06:af:e6       0.0\n",
       "              fa:e9:03:07:a6:19       0.0\n",
       "              fa:e9:03:07:a6:1a       0.0\n",
       "              fa:e9:03:07:e0:03       0.0\n",
       "              fa:e9:03:07:e0:04       0.0\n",
       "              fa:e9:03:08:23:01       0.0\n",
       "              fa:e9:03:08:23:0f       0.0\n",
       "              fa:e9:03:08:34:f1       0.0\n",
       "              fa:e9:03:0b:0d:38       0.0\n",
       "              fa:e9:03:0b:0d:c3       0.0\n",
       "              fa:e9:03:0c:11:88       0.0\n",
       "              fa:e9:03:0d:8a:53       0.0\n",
       "              fa:e9:03:0d:8a:54       0.0\n",
       "              fa:e9:03:b0:04:f7       0.0\n",
       "              fa:e9:03:b0:04:f8       0.0\n",
       "              fa:e9:03:b0:99:47       0.0\n",
       "              fa:e9:03:b0:99:48       0.0\n",
       "              fa:e9:03:b1:05:ab       0.0\n",
       "              fa:e9:03:b1:05:ac       0.0\n",
       "              fa:e9:03:b2:1d:9e       0.0\n",
       "              fa:e9:03:b3:02:7b       0.0\n",
       "              fa:e9:03:b3:02:7c       0.0\n",
       "              fa:e9:03:b3:04:9e       0.0\n",
       "              fc:15:b4:3b:d0:06       0.0\n",
       "              fc:15:b4:66:a9:a8       0.0\n",
       "              fc:3f:db:23:fc:f8       0.0\n",
       "              fe:3f:db:cf:40:24       0.0\n",
       "\n",
       "[19782 rows x 1 columns]"
      ]
     },
     "execution_count": 1184,
     "metadata": {},
     "output_type": "execute_result"
    }
   ],
   "source": [
    "open_vs_non"
   ]
  },
  {
   "cell_type": "code",
   "execution_count": 1185,
   "metadata": {
    "collapsed": false
   },
   "outputs": [],
   "source": [
    "open_vs_non[\"open_net_counts\"] = list(map(lambda x: x > 0, open_vs_non.open_net))\n",
    "open_vs_non[\"non_open_net_counts\"] = list(map(lambda x: x == 0, open_vs_non.open_net))"
   ]
  },
  {
   "cell_type": "code",
   "execution_count": 1186,
   "metadata": {
    "collapsed": false
   },
   "outputs": [],
   "source": [
    "open_vs_non[\"name\"] = list(map(lambda x: list(x),open_vs_non.index))\n",
    "open_vs_non[\"name\"] = list(map(lambda x: x[0][:], open_vs_non[\"name\"]))"
   ]
  },
  {
   "cell_type": "code",
   "execution_count": 1187,
   "metadata": {
    "collapsed": false
   },
   "outputs": [
    {
     "data": {
      "text/html": [
       "<div>\n",
       "<table border=\"1\" class=\"dataframe\">\n",
       "  <thead>\n",
       "    <tr style=\"text-align: right;\">\n",
       "      <th></th>\n",
       "      <th></th>\n",
       "      <th>open_net</th>\n",
       "      <th>open_net_counts</th>\n",
       "      <th>non_open_net_counts</th>\n",
       "      <th>name</th>\n",
       "    </tr>\n",
       "    <tr>\n",
       "      <th>name</th>\n",
       "      <th>bssid</th>\n",
       "      <th></th>\n",
       "      <th></th>\n",
       "      <th></th>\n",
       "      <th></th>\n",
       "    </tr>\n",
       "  </thead>\n",
       "  <tbody>\n",
       "    <tr>\n",
       "      <th rowspan=\"30\" valign=\"top\">Chelsea</th>\n",
       "      <th>00:02:6f:d9:a2:a0</th>\n",
       "      <td>0.0</td>\n",
       "      <td>False</td>\n",
       "      <td>True</td>\n",
       "      <td>Chelsea</td>\n",
       "    </tr>\n",
       "    <tr>\n",
       "      <th>00:03:52:8f:23:00</th>\n",
       "      <td>0.0</td>\n",
       "      <td>False</td>\n",
       "      <td>True</td>\n",
       "      <td>Chelsea</td>\n",
       "    </tr>\n",
       "    <tr>\n",
       "      <th>00:03:52:b5:26:10</th>\n",
       "      <td>0.0</td>\n",
       "      <td>False</td>\n",
       "      <td>True</td>\n",
       "      <td>Chelsea</td>\n",
       "    </tr>\n",
       "    <tr>\n",
       "      <th>00:03:52:b5:26:70</th>\n",
       "      <td>0.0</td>\n",
       "      <td>False</td>\n",
       "      <td>True</td>\n",
       "      <td>Chelsea</td>\n",
       "    </tr>\n",
       "    <tr>\n",
       "      <th>00:03:52:b5:30:20</th>\n",
       "      <td>0.0</td>\n",
       "      <td>False</td>\n",
       "      <td>True</td>\n",
       "      <td>Chelsea</td>\n",
       "    </tr>\n",
       "    <tr>\n",
       "      <th>00:06:25:9a:ac:e8</th>\n",
       "      <td>0.0</td>\n",
       "      <td>False</td>\n",
       "      <td>True</td>\n",
       "      <td>Chelsea</td>\n",
       "    </tr>\n",
       "    <tr>\n",
       "      <th>00:06:66:2a:66:df</th>\n",
       "      <td>0.0</td>\n",
       "      <td>False</td>\n",
       "      <td>True</td>\n",
       "      <td>Chelsea</td>\n",
       "    </tr>\n",
       "    <tr>\n",
       "      <th>00:0c:e6:02:85:37</th>\n",
       "      <td>0.0</td>\n",
       "      <td>False</td>\n",
       "      <td>True</td>\n",
       "      <td>Chelsea</td>\n",
       "    </tr>\n",
       "    <tr>\n",
       "      <th>00:0c:e6:02:8e:c8</th>\n",
       "      <td>8.0</td>\n",
       "      <td>True</td>\n",
       "      <td>False</td>\n",
       "      <td>Chelsea</td>\n",
       "    </tr>\n",
       "    <tr>\n",
       "      <th>00:0d:93:7f:09:da</th>\n",
       "      <td>0.0</td>\n",
       "      <td>False</td>\n",
       "      <td>True</td>\n",
       "      <td>Chelsea</td>\n",
       "    </tr>\n",
       "    <tr>\n",
       "      <th>00:0f:24:20:8a:d0</th>\n",
       "      <td>17.0</td>\n",
       "      <td>True</td>\n",
       "      <td>False</td>\n",
       "      <td>Chelsea</td>\n",
       "    </tr>\n",
       "    <tr>\n",
       "      <th>00:0f:34:8f:9d:e0</th>\n",
       "      <td>0.0</td>\n",
       "      <td>False</td>\n",
       "      <td>True</td>\n",
       "      <td>Chelsea</td>\n",
       "    </tr>\n",
       "    <tr>\n",
       "      <th>00:0f:34:97:35:c0</th>\n",
       "      <td>0.0</td>\n",
       "      <td>False</td>\n",
       "      <td>True</td>\n",
       "      <td>Chelsea</td>\n",
       "    </tr>\n",
       "    <tr>\n",
       "      <th>00:0f:8f:38:76:20</th>\n",
       "      <td>0.0</td>\n",
       "      <td>False</td>\n",
       "      <td>True</td>\n",
       "      <td>Chelsea</td>\n",
       "    </tr>\n",
       "    <tr>\n",
       "      <th>00:0f:f7:60:bd:20</th>\n",
       "      <td>0.0</td>\n",
       "      <td>False</td>\n",
       "      <td>True</td>\n",
       "      <td>Chelsea</td>\n",
       "    </tr>\n",
       "    <tr>\n",
       "      <th>00:11:24:9d:78:72</th>\n",
       "      <td>0.0</td>\n",
       "      <td>False</td>\n",
       "      <td>True</td>\n",
       "      <td>Chelsea</td>\n",
       "    </tr>\n",
       "    <tr>\n",
       "      <th>00:11:32:75:24:6f</th>\n",
       "      <td>0.0</td>\n",
       "      <td>False</td>\n",
       "      <td>True</td>\n",
       "      <td>Chelsea</td>\n",
       "    </tr>\n",
       "    <tr>\n",
       "      <th>00:11:74:d1:d0:f0</th>\n",
       "      <td>0.0</td>\n",
       "      <td>False</td>\n",
       "      <td>True</td>\n",
       "      <td>Chelsea</td>\n",
       "    </tr>\n",
       "    <tr>\n",
       "      <th>00:11:74:d1:d0:f1</th>\n",
       "      <td>0.0</td>\n",
       "      <td>False</td>\n",
       "      <td>True</td>\n",
       "      <td>Chelsea</td>\n",
       "    </tr>\n",
       "    <tr>\n",
       "      <th>00:11:74:d7:34:20</th>\n",
       "      <td>0.0</td>\n",
       "      <td>False</td>\n",
       "      <td>True</td>\n",
       "      <td>Chelsea</td>\n",
       "    </tr>\n",
       "    <tr>\n",
       "      <th>00:11:74:d7:34:30</th>\n",
       "      <td>0.0</td>\n",
       "      <td>False</td>\n",
       "      <td>True</td>\n",
       "      <td>Chelsea</td>\n",
       "    </tr>\n",
       "    <tr>\n",
       "      <th>00:14:a4:17:d6:20</th>\n",
       "      <td>0.0</td>\n",
       "      <td>False</td>\n",
       "      <td>True</td>\n",
       "      <td>Chelsea</td>\n",
       "    </tr>\n",
       "    <tr>\n",
       "      <th>00:14:a8:8d:95:c0</th>\n",
       "      <td>0.0</td>\n",
       "      <td>False</td>\n",
       "      <td>True</td>\n",
       "      <td>Chelsea</td>\n",
       "    </tr>\n",
       "    <tr>\n",
       "      <th>00:14:d1:d6:5d:10</th>\n",
       "      <td>0.0</td>\n",
       "      <td>False</td>\n",
       "      <td>True</td>\n",
       "      <td>Chelsea</td>\n",
       "    </tr>\n",
       "    <tr>\n",
       "      <th>00:14:f2:62:8f:50</th>\n",
       "      <td>0.0</td>\n",
       "      <td>False</td>\n",
       "      <td>True</td>\n",
       "      <td>Chelsea</td>\n",
       "    </tr>\n",
       "    <tr>\n",
       "      <th>00:15:6d:dc:9b:65</th>\n",
       "      <td>0.0</td>\n",
       "      <td>False</td>\n",
       "      <td>True</td>\n",
       "      <td>Chelsea</td>\n",
       "    </tr>\n",
       "    <tr>\n",
       "      <th>00:15:70:07:0d:f1</th>\n",
       "      <td>0.0</td>\n",
       "      <td>False</td>\n",
       "      <td>True</td>\n",
       "      <td>Chelsea</td>\n",
       "    </tr>\n",
       "    <tr>\n",
       "      <th>00:15:70:09:21:52</th>\n",
       "      <td>0.0</td>\n",
       "      <td>False</td>\n",
       "      <td>True</td>\n",
       "      <td>Chelsea</td>\n",
       "    </tr>\n",
       "    <tr>\n",
       "      <th>00:15:c6:5e:c4:30</th>\n",
       "      <td>0.0</td>\n",
       "      <td>False</td>\n",
       "      <td>True</td>\n",
       "      <td>Chelsea</td>\n",
       "    </tr>\n",
       "    <tr>\n",
       "      <th>00:15:ff:55:12:be</th>\n",
       "      <td>0.0</td>\n",
       "      <td>False</td>\n",
       "      <td>True</td>\n",
       "      <td>Chelsea</td>\n",
       "    </tr>\n",
       "    <tr>\n",
       "      <th>...</th>\n",
       "      <th>...</th>\n",
       "      <td>...</td>\n",
       "      <td>...</td>\n",
       "      <td>...</td>\n",
       "      <td>...</td>\n",
       "    </tr>\n",
       "    <tr>\n",
       "      <th rowspan=\"30\" valign=\"top\">Tompkins_None</th>\n",
       "      <th>fa:8f:ca:31:94:03</th>\n",
       "      <td>0.0</td>\n",
       "      <td>False</td>\n",
       "      <td>True</td>\n",
       "      <td>Tompkins_None</td>\n",
       "    </tr>\n",
       "    <tr>\n",
       "      <th>fa:e9:03:06:85:ca</th>\n",
       "      <td>0.0</td>\n",
       "      <td>False</td>\n",
       "      <td>True</td>\n",
       "      <td>Tompkins_None</td>\n",
       "    </tr>\n",
       "    <tr>\n",
       "      <th>fa:e9:03:06:af:e5</th>\n",
       "      <td>0.0</td>\n",
       "      <td>False</td>\n",
       "      <td>True</td>\n",
       "      <td>Tompkins_None</td>\n",
       "    </tr>\n",
       "    <tr>\n",
       "      <th>fa:e9:03:06:af:e6</th>\n",
       "      <td>0.0</td>\n",
       "      <td>False</td>\n",
       "      <td>True</td>\n",
       "      <td>Tompkins_None</td>\n",
       "    </tr>\n",
       "    <tr>\n",
       "      <th>fa:e9:03:07:a6:19</th>\n",
       "      <td>0.0</td>\n",
       "      <td>False</td>\n",
       "      <td>True</td>\n",
       "      <td>Tompkins_None</td>\n",
       "    </tr>\n",
       "    <tr>\n",
       "      <th>fa:e9:03:07:a6:1a</th>\n",
       "      <td>0.0</td>\n",
       "      <td>False</td>\n",
       "      <td>True</td>\n",
       "      <td>Tompkins_None</td>\n",
       "    </tr>\n",
       "    <tr>\n",
       "      <th>fa:e9:03:07:e0:03</th>\n",
       "      <td>0.0</td>\n",
       "      <td>False</td>\n",
       "      <td>True</td>\n",
       "      <td>Tompkins_None</td>\n",
       "    </tr>\n",
       "    <tr>\n",
       "      <th>fa:e9:03:07:e0:04</th>\n",
       "      <td>0.0</td>\n",
       "      <td>False</td>\n",
       "      <td>True</td>\n",
       "      <td>Tompkins_None</td>\n",
       "    </tr>\n",
       "    <tr>\n",
       "      <th>fa:e9:03:08:23:01</th>\n",
       "      <td>0.0</td>\n",
       "      <td>False</td>\n",
       "      <td>True</td>\n",
       "      <td>Tompkins_None</td>\n",
       "    </tr>\n",
       "    <tr>\n",
       "      <th>fa:e9:03:08:23:0f</th>\n",
       "      <td>0.0</td>\n",
       "      <td>False</td>\n",
       "      <td>True</td>\n",
       "      <td>Tompkins_None</td>\n",
       "    </tr>\n",
       "    <tr>\n",
       "      <th>fa:e9:03:08:34:f1</th>\n",
       "      <td>0.0</td>\n",
       "      <td>False</td>\n",
       "      <td>True</td>\n",
       "      <td>Tompkins_None</td>\n",
       "    </tr>\n",
       "    <tr>\n",
       "      <th>fa:e9:03:0b:0d:38</th>\n",
       "      <td>0.0</td>\n",
       "      <td>False</td>\n",
       "      <td>True</td>\n",
       "      <td>Tompkins_None</td>\n",
       "    </tr>\n",
       "    <tr>\n",
       "      <th>fa:e9:03:0b:0d:c3</th>\n",
       "      <td>0.0</td>\n",
       "      <td>False</td>\n",
       "      <td>True</td>\n",
       "      <td>Tompkins_None</td>\n",
       "    </tr>\n",
       "    <tr>\n",
       "      <th>fa:e9:03:0c:11:88</th>\n",
       "      <td>0.0</td>\n",
       "      <td>False</td>\n",
       "      <td>True</td>\n",
       "      <td>Tompkins_None</td>\n",
       "    </tr>\n",
       "    <tr>\n",
       "      <th>fa:e9:03:0d:8a:53</th>\n",
       "      <td>0.0</td>\n",
       "      <td>False</td>\n",
       "      <td>True</td>\n",
       "      <td>Tompkins_None</td>\n",
       "    </tr>\n",
       "    <tr>\n",
       "      <th>fa:e9:03:0d:8a:54</th>\n",
       "      <td>0.0</td>\n",
       "      <td>False</td>\n",
       "      <td>True</td>\n",
       "      <td>Tompkins_None</td>\n",
       "    </tr>\n",
       "    <tr>\n",
       "      <th>fa:e9:03:b0:04:f7</th>\n",
       "      <td>0.0</td>\n",
       "      <td>False</td>\n",
       "      <td>True</td>\n",
       "      <td>Tompkins_None</td>\n",
       "    </tr>\n",
       "    <tr>\n",
       "      <th>fa:e9:03:b0:04:f8</th>\n",
       "      <td>0.0</td>\n",
       "      <td>False</td>\n",
       "      <td>True</td>\n",
       "      <td>Tompkins_None</td>\n",
       "    </tr>\n",
       "    <tr>\n",
       "      <th>fa:e9:03:b0:99:47</th>\n",
       "      <td>0.0</td>\n",
       "      <td>False</td>\n",
       "      <td>True</td>\n",
       "      <td>Tompkins_None</td>\n",
       "    </tr>\n",
       "    <tr>\n",
       "      <th>fa:e9:03:b0:99:48</th>\n",
       "      <td>0.0</td>\n",
       "      <td>False</td>\n",
       "      <td>True</td>\n",
       "      <td>Tompkins_None</td>\n",
       "    </tr>\n",
       "    <tr>\n",
       "      <th>fa:e9:03:b1:05:ab</th>\n",
       "      <td>0.0</td>\n",
       "      <td>False</td>\n",
       "      <td>True</td>\n",
       "      <td>Tompkins_None</td>\n",
       "    </tr>\n",
       "    <tr>\n",
       "      <th>fa:e9:03:b1:05:ac</th>\n",
       "      <td>0.0</td>\n",
       "      <td>False</td>\n",
       "      <td>True</td>\n",
       "      <td>Tompkins_None</td>\n",
       "    </tr>\n",
       "    <tr>\n",
       "      <th>fa:e9:03:b2:1d:9e</th>\n",
       "      <td>0.0</td>\n",
       "      <td>False</td>\n",
       "      <td>True</td>\n",
       "      <td>Tompkins_None</td>\n",
       "    </tr>\n",
       "    <tr>\n",
       "      <th>fa:e9:03:b3:02:7b</th>\n",
       "      <td>0.0</td>\n",
       "      <td>False</td>\n",
       "      <td>True</td>\n",
       "      <td>Tompkins_None</td>\n",
       "    </tr>\n",
       "    <tr>\n",
       "      <th>fa:e9:03:b3:02:7c</th>\n",
       "      <td>0.0</td>\n",
       "      <td>False</td>\n",
       "      <td>True</td>\n",
       "      <td>Tompkins_None</td>\n",
       "    </tr>\n",
       "    <tr>\n",
       "      <th>fa:e9:03:b3:04:9e</th>\n",
       "      <td>0.0</td>\n",
       "      <td>False</td>\n",
       "      <td>True</td>\n",
       "      <td>Tompkins_None</td>\n",
       "    </tr>\n",
       "    <tr>\n",
       "      <th>fc:15:b4:3b:d0:06</th>\n",
       "      <td>0.0</td>\n",
       "      <td>False</td>\n",
       "      <td>True</td>\n",
       "      <td>Tompkins_None</td>\n",
       "    </tr>\n",
       "    <tr>\n",
       "      <th>fc:15:b4:66:a9:a8</th>\n",
       "      <td>0.0</td>\n",
       "      <td>False</td>\n",
       "      <td>True</td>\n",
       "      <td>Tompkins_None</td>\n",
       "    </tr>\n",
       "    <tr>\n",
       "      <th>fc:3f:db:23:fc:f8</th>\n",
       "      <td>0.0</td>\n",
       "      <td>False</td>\n",
       "      <td>True</td>\n",
       "      <td>Tompkins_None</td>\n",
       "    </tr>\n",
       "    <tr>\n",
       "      <th>fe:3f:db:cf:40:24</th>\n",
       "      <td>0.0</td>\n",
       "      <td>False</td>\n",
       "      <td>True</td>\n",
       "      <td>Tompkins_None</td>\n",
       "    </tr>\n",
       "  </tbody>\n",
       "</table>\n",
       "<p>19782 rows × 4 columns</p>\n",
       "</div>"
      ],
      "text/plain": [
       "                                 open_net open_net_counts non_open_net_counts  \\\n",
       "name          bssid                                                             \n",
       "Chelsea       00:02:6f:d9:a2:a0       0.0           False                True   \n",
       "              00:03:52:8f:23:00       0.0           False                True   \n",
       "              00:03:52:b5:26:10       0.0           False                True   \n",
       "              00:03:52:b5:26:70       0.0           False                True   \n",
       "              00:03:52:b5:30:20       0.0           False                True   \n",
       "              00:06:25:9a:ac:e8       0.0           False                True   \n",
       "              00:06:66:2a:66:df       0.0           False                True   \n",
       "              00:0c:e6:02:85:37       0.0           False                True   \n",
       "              00:0c:e6:02:8e:c8       8.0            True               False   \n",
       "              00:0d:93:7f:09:da       0.0           False                True   \n",
       "              00:0f:24:20:8a:d0      17.0            True               False   \n",
       "              00:0f:34:8f:9d:e0       0.0           False                True   \n",
       "              00:0f:34:97:35:c0       0.0           False                True   \n",
       "              00:0f:8f:38:76:20       0.0           False                True   \n",
       "              00:0f:f7:60:bd:20       0.0           False                True   \n",
       "              00:11:24:9d:78:72       0.0           False                True   \n",
       "              00:11:32:75:24:6f       0.0           False                True   \n",
       "              00:11:74:d1:d0:f0       0.0           False                True   \n",
       "              00:11:74:d1:d0:f1       0.0           False                True   \n",
       "              00:11:74:d7:34:20       0.0           False                True   \n",
       "              00:11:74:d7:34:30       0.0           False                True   \n",
       "              00:14:a4:17:d6:20       0.0           False                True   \n",
       "              00:14:a8:8d:95:c0       0.0           False                True   \n",
       "              00:14:d1:d6:5d:10       0.0           False                True   \n",
       "              00:14:f2:62:8f:50       0.0           False                True   \n",
       "              00:15:6d:dc:9b:65       0.0           False                True   \n",
       "              00:15:70:07:0d:f1       0.0           False                True   \n",
       "              00:15:70:09:21:52       0.0           False                True   \n",
       "              00:15:c6:5e:c4:30       0.0           False                True   \n",
       "              00:15:ff:55:12:be       0.0           False                True   \n",
       "...                                   ...             ...                 ...   \n",
       "Tompkins_None fa:8f:ca:31:94:03       0.0           False                True   \n",
       "              fa:e9:03:06:85:ca       0.0           False                True   \n",
       "              fa:e9:03:06:af:e5       0.0           False                True   \n",
       "              fa:e9:03:06:af:e6       0.0           False                True   \n",
       "              fa:e9:03:07:a6:19       0.0           False                True   \n",
       "              fa:e9:03:07:a6:1a       0.0           False                True   \n",
       "              fa:e9:03:07:e0:03       0.0           False                True   \n",
       "              fa:e9:03:07:e0:04       0.0           False                True   \n",
       "              fa:e9:03:08:23:01       0.0           False                True   \n",
       "              fa:e9:03:08:23:0f       0.0           False                True   \n",
       "              fa:e9:03:08:34:f1       0.0           False                True   \n",
       "              fa:e9:03:0b:0d:38       0.0           False                True   \n",
       "              fa:e9:03:0b:0d:c3       0.0           False                True   \n",
       "              fa:e9:03:0c:11:88       0.0           False                True   \n",
       "              fa:e9:03:0d:8a:53       0.0           False                True   \n",
       "              fa:e9:03:0d:8a:54       0.0           False                True   \n",
       "              fa:e9:03:b0:04:f7       0.0           False                True   \n",
       "              fa:e9:03:b0:04:f8       0.0           False                True   \n",
       "              fa:e9:03:b0:99:47       0.0           False                True   \n",
       "              fa:e9:03:b0:99:48       0.0           False                True   \n",
       "              fa:e9:03:b1:05:ab       0.0           False                True   \n",
       "              fa:e9:03:b1:05:ac       0.0           False                True   \n",
       "              fa:e9:03:b2:1d:9e       0.0           False                True   \n",
       "              fa:e9:03:b3:02:7b       0.0           False                True   \n",
       "              fa:e9:03:b3:02:7c       0.0           False                True   \n",
       "              fa:e9:03:b3:04:9e       0.0           False                True   \n",
       "              fc:15:b4:3b:d0:06       0.0           False                True   \n",
       "              fc:15:b4:66:a9:a8       0.0           False                True   \n",
       "              fc:3f:db:23:fc:f8       0.0           False                True   \n",
       "              fe:3f:db:cf:40:24       0.0           False                True   \n",
       "\n",
       "                                          name  \n",
       "name          bssid                             \n",
       "Chelsea       00:02:6f:d9:a2:a0        Chelsea  \n",
       "              00:03:52:8f:23:00        Chelsea  \n",
       "              00:03:52:b5:26:10        Chelsea  \n",
       "              00:03:52:b5:26:70        Chelsea  \n",
       "              00:03:52:b5:30:20        Chelsea  \n",
       "              00:06:25:9a:ac:e8        Chelsea  \n",
       "              00:06:66:2a:66:df        Chelsea  \n",
       "              00:0c:e6:02:85:37        Chelsea  \n",
       "              00:0c:e6:02:8e:c8        Chelsea  \n",
       "              00:0d:93:7f:09:da        Chelsea  \n",
       "              00:0f:24:20:8a:d0        Chelsea  \n",
       "              00:0f:34:8f:9d:e0        Chelsea  \n",
       "              00:0f:34:97:35:c0        Chelsea  \n",
       "              00:0f:8f:38:76:20        Chelsea  \n",
       "              00:0f:f7:60:bd:20        Chelsea  \n",
       "              00:11:24:9d:78:72        Chelsea  \n",
       "              00:11:32:75:24:6f        Chelsea  \n",
       "              00:11:74:d1:d0:f0        Chelsea  \n",
       "              00:11:74:d1:d0:f1        Chelsea  \n",
       "              00:11:74:d7:34:20        Chelsea  \n",
       "              00:11:74:d7:34:30        Chelsea  \n",
       "              00:14:a4:17:d6:20        Chelsea  \n",
       "              00:14:a8:8d:95:c0        Chelsea  \n",
       "              00:14:d1:d6:5d:10        Chelsea  \n",
       "              00:14:f2:62:8f:50        Chelsea  \n",
       "              00:15:6d:dc:9b:65        Chelsea  \n",
       "              00:15:70:07:0d:f1        Chelsea  \n",
       "              00:15:70:09:21:52        Chelsea  \n",
       "              00:15:c6:5e:c4:30        Chelsea  \n",
       "              00:15:ff:55:12:be        Chelsea  \n",
       "...                                        ...  \n",
       "Tompkins_None fa:8f:ca:31:94:03  Tompkins_None  \n",
       "              fa:e9:03:06:85:ca  Tompkins_None  \n",
       "              fa:e9:03:06:af:e5  Tompkins_None  \n",
       "              fa:e9:03:06:af:e6  Tompkins_None  \n",
       "              fa:e9:03:07:a6:19  Tompkins_None  \n",
       "              fa:e9:03:07:a6:1a  Tompkins_None  \n",
       "              fa:e9:03:07:e0:03  Tompkins_None  \n",
       "              fa:e9:03:07:e0:04  Tompkins_None  \n",
       "              fa:e9:03:08:23:01  Tompkins_None  \n",
       "              fa:e9:03:08:23:0f  Tompkins_None  \n",
       "              fa:e9:03:08:34:f1  Tompkins_None  \n",
       "              fa:e9:03:0b:0d:38  Tompkins_None  \n",
       "              fa:e9:03:0b:0d:c3  Tompkins_None  \n",
       "              fa:e9:03:0c:11:88  Tompkins_None  \n",
       "              fa:e9:03:0d:8a:53  Tompkins_None  \n",
       "              fa:e9:03:0d:8a:54  Tompkins_None  \n",
       "              fa:e9:03:b0:04:f7  Tompkins_None  \n",
       "              fa:e9:03:b0:04:f8  Tompkins_None  \n",
       "              fa:e9:03:b0:99:47  Tompkins_None  \n",
       "              fa:e9:03:b0:99:48  Tompkins_None  \n",
       "              fa:e9:03:b1:05:ab  Tompkins_None  \n",
       "              fa:e9:03:b1:05:ac  Tompkins_None  \n",
       "              fa:e9:03:b2:1d:9e  Tompkins_None  \n",
       "              fa:e9:03:b3:02:7b  Tompkins_None  \n",
       "              fa:e9:03:b3:02:7c  Tompkins_None  \n",
       "              fa:e9:03:b3:04:9e  Tompkins_None  \n",
       "              fc:15:b4:3b:d0:06  Tompkins_None  \n",
       "              fc:15:b4:66:a9:a8  Tompkins_None  \n",
       "              fc:3f:db:23:fc:f8  Tompkins_None  \n",
       "              fe:3f:db:cf:40:24  Tompkins_None  \n",
       "\n",
       "[19782 rows x 4 columns]"
      ]
     },
     "execution_count": 1187,
     "metadata": {},
     "output_type": "execute_result"
    }
   ],
   "source": [
    "open_vs_non"
   ]
  },
  {
   "cell_type": "code",
   "execution_count": 1243,
   "metadata": {
    "collapsed": false
   },
   "outputs": [],
   "source": [
    "open_vs_non_ = pd.DataFrame(open_vs_non.groupby(open_vs_non.name)[[\"open_net_counts\",\"non_open_net_counts\"]].sum())"
   ]
  },
  {
   "cell_type": "code",
   "execution_count": 1251,
   "metadata": {
    "collapsed": false
   },
   "outputs": [
    {
     "data": {
      "text/html": [
       "<div>\n",
       "<table border=\"1\" class=\"dataframe\">\n",
       "  <thead>\n",
       "    <tr style=\"text-align: right;\">\n",
       "      <th></th>\n",
       "      <th>open_net_counts</th>\n",
       "      <th>non_open_net_counts</th>\n",
       "      <th>name</th>\n",
       "    </tr>\n",
       "    <tr>\n",
       "      <th>name</th>\n",
       "      <th></th>\n",
       "      <th></th>\n",
       "      <th></th>\n",
       "    </tr>\n",
       "  </thead>\n",
       "  <tbody>\n",
       "    <tr>\n",
       "      <th>Chelsea</th>\n",
       "      <td>161.0</td>\n",
       "      <td>4690.0</td>\n",
       "      <td>Chelsea</td>\n",
       "    </tr>\n",
       "    <tr>\n",
       "      <th>Chelsea_None</th>\n",
       "      <td>413.0</td>\n",
       "      <td>4129.0</td>\n",
       "      <td>Chelsea_None</td>\n",
       "    </tr>\n",
       "    <tr>\n",
       "      <th>Gowanus</th>\n",
       "      <td>14.0</td>\n",
       "      <td>1614.0</td>\n",
       "      <td>Gowanus</td>\n",
       "    </tr>\n",
       "    <tr>\n",
       "      <th>Gowanus_None</th>\n",
       "      <td>17.0</td>\n",
       "      <td>650.0</td>\n",
       "      <td>Gowanus_None</td>\n",
       "    </tr>\n",
       "    <tr>\n",
       "      <th>Ingersoll</th>\n",
       "      <td>42.0</td>\n",
       "      <td>670.0</td>\n",
       "      <td>Ingersoll</td>\n",
       "    </tr>\n",
       "    <tr>\n",
       "      <th>Ingersoll_None</th>\n",
       "      <td>111.0</td>\n",
       "      <td>3107.0</td>\n",
       "      <td>Ingersoll_None</td>\n",
       "    </tr>\n",
       "    <tr>\n",
       "      <th>RedHook</th>\n",
       "      <td>14.0</td>\n",
       "      <td>299.0</td>\n",
       "      <td>RedHook</td>\n",
       "    </tr>\n",
       "    <tr>\n",
       "      <th>Tompkins</th>\n",
       "      <td>38.0</td>\n",
       "      <td>2298.0</td>\n",
       "      <td>Tompkins</td>\n",
       "    </tr>\n",
       "    <tr>\n",
       "      <th>Tompkins_None</th>\n",
       "      <td>30.0</td>\n",
       "      <td>1485.0</td>\n",
       "      <td>Tompkins_None</td>\n",
       "    </tr>\n",
       "  </tbody>\n",
       "</table>\n",
       "</div>"
      ],
      "text/plain": [
       "                open_net_counts  non_open_net_counts            name\n",
       "name                                                                \n",
       "Chelsea                   161.0               4690.0         Chelsea\n",
       "Chelsea_None              413.0               4129.0    Chelsea_None\n",
       "Gowanus                    14.0               1614.0         Gowanus\n",
       "Gowanus_None               17.0                650.0    Gowanus_None\n",
       "Ingersoll                  42.0                670.0       Ingersoll\n",
       "Ingersoll_None            111.0               3107.0  Ingersoll_None\n",
       "RedHook                    14.0                299.0         RedHook\n",
       "Tompkins                   38.0               2298.0        Tompkins\n",
       "Tompkins_None              30.0               1485.0   Tompkins_None"
      ]
     },
     "execution_count": 1251,
     "metadata": {},
     "output_type": "execute_result"
    }
   ],
   "source": [
    "open_vs_non_"
   ]
  },
  {
   "cell_type": "code",
   "execution_count": 1250,
   "metadata": {
    "collapsed": false
   },
   "outputs": [],
   "source": [
    "open_vs_non_[\"name\"] = open_vs_non_.index"
   ]
  },
  {
   "cell_type": "code",
   "execution_count": 1254,
   "metadata": {
    "collapsed": false
   },
   "outputs": [
    {
     "data": {
      "text/html": [
       "<div>\n",
       "<table border=\"1\" class=\"dataframe\">\n",
       "  <thead>\n",
       "    <tr style=\"text-align: right;\">\n",
       "      <th></th>\n",
       "      <th>Population</th>\n",
       "      <th>name</th>\n",
       "    </tr>\n",
       "    <tr>\n",
       "      <th>name</th>\n",
       "      <th></th>\n",
       "      <th></th>\n",
       "    </tr>\n",
       "  </thead>\n",
       "  <tbody>\n",
       "    <tr>\n",
       "      <th>Chelsea</th>\n",
       "      <td>1546</td>\n",
       "      <td>Chelsea</td>\n",
       "    </tr>\n",
       "    <tr>\n",
       "      <th>Chelsea_None</th>\n",
       "      <td>1777</td>\n",
       "      <td>Chelsea_None</td>\n",
       "    </tr>\n",
       "    <tr>\n",
       "      <th>Gowanus</th>\n",
       "      <td>957</td>\n",
       "      <td>Gowanus</td>\n",
       "    </tr>\n",
       "    <tr>\n",
       "      <th>Gowanus_None</th>\n",
       "      <td>825</td>\n",
       "      <td>Gowanus_None</td>\n",
       "    </tr>\n",
       "    <tr>\n",
       "      <th>Ingersoll</th>\n",
       "      <td>3683</td>\n",
       "      <td>Ingersoll</td>\n",
       "    </tr>\n",
       "    <tr>\n",
       "      <th>Ingersoll_None</th>\n",
       "      <td>780</td>\n",
       "      <td>Ingersoll_None</td>\n",
       "    </tr>\n",
       "    <tr>\n",
       "      <th>RedHook</th>\n",
       "      <td>7278</td>\n",
       "      <td>RedHook</td>\n",
       "    </tr>\n",
       "    <tr>\n",
       "      <th>Tompkins</th>\n",
       "      <td>3595</td>\n",
       "      <td>Tompkins</td>\n",
       "    </tr>\n",
       "    <tr>\n",
       "      <th>Tompkins_None</th>\n",
       "      <td>584</td>\n",
       "      <td>Tompkins_None</td>\n",
       "    </tr>\n",
       "  </tbody>\n",
       "</table>\n",
       "</div>"
      ],
      "text/plain": [
       "                Population            name\n",
       "name                                      \n",
       "Chelsea               1546         Chelsea\n",
       "Chelsea_None          1777    Chelsea_None\n",
       "Gowanus                957         Gowanus\n",
       "Gowanus_None           825    Gowanus_None\n",
       "Ingersoll             3683       Ingersoll\n",
       "Ingersoll_None         780  Ingersoll_None\n",
       "RedHook               7278         RedHook\n",
       "Tompkins              3595        Tompkins\n",
       "Tompkins_None          584   Tompkins_None"
      ]
     },
     "execution_count": 1254,
     "metadata": {},
     "output_type": "execute_result"
    }
   ],
   "source": [
    "#open_vs_non_\n",
    "area_populations"
   ]
  },
  {
   "cell_type": "code",
   "execution_count": 1192,
   "metadata": {
    "collapsed": false
   },
   "outputs": [],
   "source": [
    "housing_gdf_final = housing_gdf_.merge(open_vs_non_, on=\"name\", how=\"inner\")"
   ]
  },
  {
   "cell_type": "code",
   "execution_count": 1193,
   "metadata": {
    "collapsed": false
   },
   "outputs": [
    {
     "data": {
      "text/html": [
       "<div>\n",
       "<table border=\"1\" class=\"dataframe\">\n",
       "  <thead>\n",
       "    <tr style=\"text-align: right;\">\n",
       "      <th></th>\n",
       "      <th>ALAND</th>\n",
       "      <th>AWATER</th>\n",
       "      <th>BLKGRPCE</th>\n",
       "      <th>COUNTYFP</th>\n",
       "      <th>FUNCSTAT</th>\n",
       "      <th>GEOID</th>\n",
       "      <th>INTPTLAT</th>\n",
       "      <th>INTPTLON</th>\n",
       "      <th>MTFCC</th>\n",
       "      <th>NAMELSAD</th>\n",
       "      <th>...</th>\n",
       "      <th>index_right</th>\n",
       "      <th>cartodb_id</th>\n",
       "      <th>name</th>\n",
       "      <th>objectid</th>\n",
       "      <th>shape_area</th>\n",
       "      <th>shape_leng</th>\n",
       "      <th>uni_bssid_by_housing_area</th>\n",
       "      <th>open_net</th>\n",
       "      <th>open_net_counts</th>\n",
       "      <th>non_open_net_counts</th>\n",
       "    </tr>\n",
       "  </thead>\n",
       "  <tbody>\n",
       "    <tr>\n",
       "      <th>0</th>\n",
       "      <td>29157</td>\n",
       "      <td>0</td>\n",
       "      <td>3</td>\n",
       "      <td>047</td>\n",
       "      <td>S</td>\n",
       "      <td>360470127003</td>\n",
       "      <td>+40.6825320</td>\n",
       "      <td>-073.9838257</td>\n",
       "      <td>G5030</td>\n",
       "      <td>Block Group 3</td>\n",
       "      <td>...</td>\n",
       "      <td>0</td>\n",
       "      <td>1</td>\n",
       "      <td>Gowanus</td>\n",
       "      <td>13</td>\n",
       "      <td>0.000022</td>\n",
       "      <td>0.026828</td>\n",
       "      <td>1628</td>\n",
       "      <td>False</td>\n",
       "      <td>14.0</td>\n",
       "      <td>1614.0</td>\n",
       "    </tr>\n",
       "  </tbody>\n",
       "</table>\n",
       "<p>1 rows × 79 columns</p>\n",
       "</div>"
      ],
      "text/plain": [
       "   ALAND  AWATER BLKGRPCE COUNTYFP FUNCSTAT         GEOID     INTPTLAT  \\\n",
       "0  29157       0        3      047        S  360470127003  +40.6825320   \n",
       "\n",
       "       INTPTLON  MTFCC       NAMELSAD         ...         index_right  \\\n",
       "0  -073.9838257  G5030  Block Group 3         ...                   0   \n",
       "\n",
       "  cartodb_id     name  objectid shape_area  shape_leng  \\\n",
       "0          1  Gowanus        13   0.000022    0.026828   \n",
       "\n",
       "   uni_bssid_by_housing_area  open_net open_net_counts non_open_net_counts  \n",
       "0                       1628     False            14.0              1614.0  \n",
       "\n",
       "[1 rows x 79 columns]"
      ]
     },
     "execution_count": 1193,
     "metadata": {},
     "output_type": "execute_result"
    }
   ],
   "source": [
    "housing_gdf_final.head(1)"
   ]
  },
  {
   "cell_type": "code",
   "execution_count": 1255,
   "metadata": {
    "collapsed": false
   },
   "outputs": [],
   "source": [
    "housing_wifi_counts_normalized = open_vs_non_.merge(area_populations, on=\"name\", how=\"inner\")"
   ]
  },
  {
   "cell_type": "code",
   "execution_count": 1256,
   "metadata": {
    "collapsed": false
   },
   "outputs": [
    {
     "data": {
      "text/html": [
       "<div>\n",
       "<table border=\"1\" class=\"dataframe\">\n",
       "  <thead>\n",
       "    <tr style=\"text-align: right;\">\n",
       "      <th></th>\n",
       "      <th>open_net_counts</th>\n",
       "      <th>non_open_net_counts</th>\n",
       "      <th>name</th>\n",
       "      <th>Population</th>\n",
       "    </tr>\n",
       "  </thead>\n",
       "  <tbody>\n",
       "    <tr>\n",
       "      <th>0</th>\n",
       "      <td>161.0</td>\n",
       "      <td>4690.0</td>\n",
       "      <td>Chelsea</td>\n",
       "      <td>1546</td>\n",
       "    </tr>\n",
       "    <tr>\n",
       "      <th>1</th>\n",
       "      <td>413.0</td>\n",
       "      <td>4129.0</td>\n",
       "      <td>Chelsea_None</td>\n",
       "      <td>1777</td>\n",
       "    </tr>\n",
       "    <tr>\n",
       "      <th>2</th>\n",
       "      <td>14.0</td>\n",
       "      <td>1614.0</td>\n",
       "      <td>Gowanus</td>\n",
       "      <td>957</td>\n",
       "    </tr>\n",
       "    <tr>\n",
       "      <th>3</th>\n",
       "      <td>17.0</td>\n",
       "      <td>650.0</td>\n",
       "      <td>Gowanus_None</td>\n",
       "      <td>825</td>\n",
       "    </tr>\n",
       "    <tr>\n",
       "      <th>4</th>\n",
       "      <td>42.0</td>\n",
       "      <td>670.0</td>\n",
       "      <td>Ingersoll</td>\n",
       "      <td>3683</td>\n",
       "    </tr>\n",
       "    <tr>\n",
       "      <th>5</th>\n",
       "      <td>111.0</td>\n",
       "      <td>3107.0</td>\n",
       "      <td>Ingersoll_None</td>\n",
       "      <td>780</td>\n",
       "    </tr>\n",
       "    <tr>\n",
       "      <th>6</th>\n",
       "      <td>14.0</td>\n",
       "      <td>299.0</td>\n",
       "      <td>RedHook</td>\n",
       "      <td>7278</td>\n",
       "    </tr>\n",
       "    <tr>\n",
       "      <th>7</th>\n",
       "      <td>38.0</td>\n",
       "      <td>2298.0</td>\n",
       "      <td>Tompkins</td>\n",
       "      <td>3595</td>\n",
       "    </tr>\n",
       "    <tr>\n",
       "      <th>8</th>\n",
       "      <td>30.0</td>\n",
       "      <td>1485.0</td>\n",
       "      <td>Tompkins_None</td>\n",
       "      <td>584</td>\n",
       "    </tr>\n",
       "  </tbody>\n",
       "</table>\n",
       "</div>"
      ],
      "text/plain": [
       "   open_net_counts  non_open_net_counts            name  Population\n",
       "0            161.0               4690.0         Chelsea        1546\n",
       "1            413.0               4129.0    Chelsea_None        1777\n",
       "2             14.0               1614.0         Gowanus         957\n",
       "3             17.0                650.0    Gowanus_None         825\n",
       "4             42.0                670.0       Ingersoll        3683\n",
       "5            111.0               3107.0  Ingersoll_None         780\n",
       "6             14.0                299.0         RedHook        7278\n",
       "7             38.0               2298.0        Tompkins        3595\n",
       "8             30.0               1485.0   Tompkins_None         584"
      ]
     },
     "execution_count": 1256,
     "metadata": {},
     "output_type": "execute_result"
    }
   ],
   "source": [
    "housing_wifi_counts_normalized"
   ]
  },
  {
   "cell_type": "code",
   "execution_count": 1257,
   "metadata": {
    "collapsed": true
   },
   "outputs": [],
   "source": [
    "housing_wifi_counts_normalized[\"norm_open_counts\"] = list(map(lambda x,y: x/y,\\\n",
    "                                                              housing_wifi_counts_normalized.open_net_counts,\\\n",
    "                                                              housing_wifi_counts_normalized.Population))\n",
    "housing_wifi_counts_normalized[\"norm_non_open_counts\"] = list(map(lambda x,y: x/y, housing_wifi_counts_normalized.non_open_net_counts,\\\n",
    "                                                                 housing_wifi_counts_normalized.Population))"
   ]
  },
  {
   "cell_type": "code",
   "execution_count": 1258,
   "metadata": {
    "collapsed": false
   },
   "outputs": [
    {
     "data": {
      "text/html": [
       "<div>\n",
       "<table border=\"1\" class=\"dataframe\">\n",
       "  <thead>\n",
       "    <tr style=\"text-align: right;\">\n",
       "      <th></th>\n",
       "      <th>open_net_counts</th>\n",
       "      <th>non_open_net_counts</th>\n",
       "      <th>name</th>\n",
       "      <th>Population</th>\n",
       "      <th>norm_open_counts</th>\n",
       "      <th>norm_non_open_counts</th>\n",
       "    </tr>\n",
       "  </thead>\n",
       "  <tbody>\n",
       "    <tr>\n",
       "      <th>0</th>\n",
       "      <td>161.0</td>\n",
       "      <td>4690.0</td>\n",
       "      <td>Chelsea</td>\n",
       "      <td>1546</td>\n",
       "      <td>0.104140</td>\n",
       "      <td>3.033635</td>\n",
       "    </tr>\n",
       "    <tr>\n",
       "      <th>1</th>\n",
       "      <td>413.0</td>\n",
       "      <td>4129.0</td>\n",
       "      <td>Chelsea_None</td>\n",
       "      <td>1777</td>\n",
       "      <td>0.232414</td>\n",
       "      <td>2.323579</td>\n",
       "    </tr>\n",
       "    <tr>\n",
       "      <th>2</th>\n",
       "      <td>14.0</td>\n",
       "      <td>1614.0</td>\n",
       "      <td>Gowanus</td>\n",
       "      <td>957</td>\n",
       "      <td>0.014629</td>\n",
       "      <td>1.686520</td>\n",
       "    </tr>\n",
       "    <tr>\n",
       "      <th>3</th>\n",
       "      <td>17.0</td>\n",
       "      <td>650.0</td>\n",
       "      <td>Gowanus_None</td>\n",
       "      <td>825</td>\n",
       "      <td>0.020606</td>\n",
       "      <td>0.787879</td>\n",
       "    </tr>\n",
       "    <tr>\n",
       "      <th>4</th>\n",
       "      <td>42.0</td>\n",
       "      <td>670.0</td>\n",
       "      <td>Ingersoll</td>\n",
       "      <td>3683</td>\n",
       "      <td>0.011404</td>\n",
       "      <td>0.181917</td>\n",
       "    </tr>\n",
       "    <tr>\n",
       "      <th>5</th>\n",
       "      <td>111.0</td>\n",
       "      <td>3107.0</td>\n",
       "      <td>Ingersoll_None</td>\n",
       "      <td>780</td>\n",
       "      <td>0.142308</td>\n",
       "      <td>3.983333</td>\n",
       "    </tr>\n",
       "    <tr>\n",
       "      <th>6</th>\n",
       "      <td>14.0</td>\n",
       "      <td>299.0</td>\n",
       "      <td>RedHook</td>\n",
       "      <td>7278</td>\n",
       "      <td>0.001924</td>\n",
       "      <td>0.041083</td>\n",
       "    </tr>\n",
       "    <tr>\n",
       "      <th>7</th>\n",
       "      <td>38.0</td>\n",
       "      <td>2298.0</td>\n",
       "      <td>Tompkins</td>\n",
       "      <td>3595</td>\n",
       "      <td>0.010570</td>\n",
       "      <td>0.639221</td>\n",
       "    </tr>\n",
       "    <tr>\n",
       "      <th>8</th>\n",
       "      <td>30.0</td>\n",
       "      <td>1485.0</td>\n",
       "      <td>Tompkins_None</td>\n",
       "      <td>584</td>\n",
       "      <td>0.051370</td>\n",
       "      <td>2.542808</td>\n",
       "    </tr>\n",
       "  </tbody>\n",
       "</table>\n",
       "</div>"
      ],
      "text/plain": [
       "   open_net_counts  non_open_net_counts            name  Population  \\\n",
       "0            161.0               4690.0         Chelsea        1546   \n",
       "1            413.0               4129.0    Chelsea_None        1777   \n",
       "2             14.0               1614.0         Gowanus         957   \n",
       "3             17.0                650.0    Gowanus_None         825   \n",
       "4             42.0                670.0       Ingersoll        3683   \n",
       "5            111.0               3107.0  Ingersoll_None         780   \n",
       "6             14.0                299.0         RedHook        7278   \n",
       "7             38.0               2298.0        Tompkins        3595   \n",
       "8             30.0               1485.0   Tompkins_None         584   \n",
       "\n",
       "   norm_open_counts  norm_non_open_counts  \n",
       "0          0.104140              3.033635  \n",
       "1          0.232414              2.323579  \n",
       "2          0.014629              1.686520  \n",
       "3          0.020606              0.787879  \n",
       "4          0.011404              0.181917  \n",
       "5          0.142308              3.983333  \n",
       "6          0.001924              0.041083  \n",
       "7          0.010570              0.639221  \n",
       "8          0.051370              2.542808  "
      ]
     },
     "execution_count": 1258,
     "metadata": {},
     "output_type": "execute_result"
    }
   ],
   "source": [
    "housing_wifi_counts_normalized"
   ]
  },
  {
   "cell_type": "code",
   "execution_count": 1298,
   "metadata": {
    "collapsed": true
   },
   "outputs": [],
   "source": [
    "bar_plot = housing_wifi_counts_normalized[[\"name\",\"norm_open_counts\",\"norm_non_open_counts\"]]"
   ]
  },
  {
   "cell_type": "code",
   "execution_count": 1299,
   "metadata": {
    "collapsed": false
   },
   "outputs": [
    {
     "data": {
      "text/html": [
       "<div>\n",
       "<table border=\"1\" class=\"dataframe\">\n",
       "  <thead>\n",
       "    <tr style=\"text-align: right;\">\n",
       "      <th></th>\n",
       "      <th>name</th>\n",
       "      <th>norm_open_counts</th>\n",
       "      <th>norm_non_open_counts</th>\n",
       "    </tr>\n",
       "  </thead>\n",
       "  <tbody>\n",
       "    <tr>\n",
       "      <th>0</th>\n",
       "      <td>Chelsea</td>\n",
       "      <td>0.104140</td>\n",
       "      <td>3.033635</td>\n",
       "    </tr>\n",
       "    <tr>\n",
       "      <th>1</th>\n",
       "      <td>Chelsea_None</td>\n",
       "      <td>0.232414</td>\n",
       "      <td>2.323579</td>\n",
       "    </tr>\n",
       "    <tr>\n",
       "      <th>2</th>\n",
       "      <td>Gowanus</td>\n",
       "      <td>0.014629</td>\n",
       "      <td>1.686520</td>\n",
       "    </tr>\n",
       "    <tr>\n",
       "      <th>3</th>\n",
       "      <td>Gowanus_None</td>\n",
       "      <td>0.020606</td>\n",
       "      <td>0.787879</td>\n",
       "    </tr>\n",
       "    <tr>\n",
       "      <th>4</th>\n",
       "      <td>Ingersoll</td>\n",
       "      <td>0.011404</td>\n",
       "      <td>0.181917</td>\n",
       "    </tr>\n",
       "    <tr>\n",
       "      <th>5</th>\n",
       "      <td>Ingersoll_None</td>\n",
       "      <td>0.142308</td>\n",
       "      <td>3.983333</td>\n",
       "    </tr>\n",
       "    <tr>\n",
       "      <th>6</th>\n",
       "      <td>RedHook</td>\n",
       "      <td>0.001924</td>\n",
       "      <td>0.041083</td>\n",
       "    </tr>\n",
       "    <tr>\n",
       "      <th>7</th>\n",
       "      <td>Tompkins</td>\n",
       "      <td>0.010570</td>\n",
       "      <td>0.639221</td>\n",
       "    </tr>\n",
       "    <tr>\n",
       "      <th>8</th>\n",
       "      <td>Tompkins_None</td>\n",
       "      <td>0.051370</td>\n",
       "      <td>2.542808</td>\n",
       "    </tr>\n",
       "  </tbody>\n",
       "</table>\n",
       "</div>"
      ],
      "text/plain": [
       "             name  norm_open_counts  norm_non_open_counts\n",
       "0         Chelsea          0.104140              3.033635\n",
       "1    Chelsea_None          0.232414              2.323579\n",
       "2         Gowanus          0.014629              1.686520\n",
       "3    Gowanus_None          0.020606              0.787879\n",
       "4       Ingersoll          0.011404              0.181917\n",
       "5  Ingersoll_None          0.142308              3.983333\n",
       "6         RedHook          0.001924              0.041083\n",
       "7        Tompkins          0.010570              0.639221\n",
       "8   Tompkins_None          0.051370              2.542808"
      ]
     },
     "execution_count": 1299,
     "metadata": {},
     "output_type": "execute_result"
    }
   ],
   "source": [
    "bar_plot"
   ]
  },
  {
   "cell_type": "code",
   "execution_count": 1300,
   "metadata": {
    "collapsed": true
   },
   "outputs": [],
   "source": [
    "bar_plot.index = bar_blot.name"
   ]
  },
  {
   "cell_type": "code",
   "execution_count": 1301,
   "metadata": {
    "collapsed": false
   },
   "outputs": [
    {
     "data": {
      "image/png": "[encoded data removed]",
      "text/plain": [
       "<matplotlib.figure.Figure at 0x1b8114978>"
      ]
     },
     "metadata": {},
     "output_type": "display_data"
    }
   ],
   "source": [
    "ax = bar_plot.plot(kind='bar', title =\"Open Networks in Public vs. None-public Residential Areas\", \\\n",
    "                   figsize=(15, 10), legend=True, fontsize=15)\n",
    "ax.set_title(\"Open Networks in Public vs. None-public Residential Areas\",fontsize=22)\n",
    "ax.set_xlabel(\"Residential Area\", fontsize=18)\n",
    "ax.set_ylabel(\"Network Counts (log)\", fontsize=18)\n",
    "ax.set_yscale(\"log\")"
   ]
  },
  {
   "cell_type": "code",
   "execution_count": 1302,
   "metadata": {
    "collapsed": false
   },
   "outputs": [
    {
     "data": {
      "text/html": [
       "<div>\n",
       "<table border=\"1\" class=\"dataframe\">\n",
       "  <thead>\n",
       "    <tr style=\"text-align: right;\">\n",
       "      <th></th>\n",
       "      <th>name</th>\n",
       "      <th>norm_open_counts</th>\n",
       "      <th>norm_non_open_counts</th>\n",
       "    </tr>\n",
       "    <tr>\n",
       "      <th>name</th>\n",
       "      <th></th>\n",
       "      <th></th>\n",
       "      <th></th>\n",
       "    </tr>\n",
       "  </thead>\n",
       "  <tbody>\n",
       "    <tr>\n",
       "      <th>Chelsea</th>\n",
       "      <td>Chelsea</td>\n",
       "      <td>0.104140</td>\n",
       "      <td>3.033635</td>\n",
       "    </tr>\n",
       "    <tr>\n",
       "      <th>Chelsea_None</th>\n",
       "      <td>Chelsea_None</td>\n",
       "      <td>0.232414</td>\n",
       "      <td>2.323579</td>\n",
       "    </tr>\n",
       "    <tr>\n",
       "      <th>Gowanus</th>\n",
       "      <td>Gowanus</td>\n",
       "      <td>0.014629</td>\n",
       "      <td>1.686520</td>\n",
       "    </tr>\n",
       "    <tr>\n",
       "      <th>Gowanus_None</th>\n",
       "      <td>Gowanus_None</td>\n",
       "      <td>0.020606</td>\n",
       "      <td>0.787879</td>\n",
       "    </tr>\n",
       "    <tr>\n",
       "      <th>Ingersoll</th>\n",
       "      <td>Ingersoll</td>\n",
       "      <td>0.011404</td>\n",
       "      <td>0.181917</td>\n",
       "    </tr>\n",
       "    <tr>\n",
       "      <th>Ingersoll_None</th>\n",
       "      <td>Ingersoll_None</td>\n",
       "      <td>0.142308</td>\n",
       "      <td>3.983333</td>\n",
       "    </tr>\n",
       "    <tr>\n",
       "      <th>RedHook</th>\n",
       "      <td>RedHook</td>\n",
       "      <td>0.001924</td>\n",
       "      <td>0.041083</td>\n",
       "    </tr>\n",
       "    <tr>\n",
       "      <th>Tompkins</th>\n",
       "      <td>Tompkins</td>\n",
       "      <td>0.010570</td>\n",
       "      <td>0.639221</td>\n",
       "    </tr>\n",
       "    <tr>\n",
       "      <th>Tompkins_None</th>\n",
       "      <td>Tompkins_None</td>\n",
       "      <td>0.051370</td>\n",
       "      <td>2.542808</td>\n",
       "    </tr>\n",
       "  </tbody>\n",
       "</table>\n",
       "</div>"
      ],
      "text/plain": [
       "                          name  norm_open_counts  norm_non_open_counts\n",
       "name                                                                  \n",
       "Chelsea                Chelsea          0.104140              3.033635\n",
       "Chelsea_None      Chelsea_None          0.232414              2.323579\n",
       "Gowanus                Gowanus          0.014629              1.686520\n",
       "Gowanus_None      Gowanus_None          0.020606              0.787879\n",
       "Ingersoll            Ingersoll          0.011404              0.181917\n",
       "Ingersoll_None  Ingersoll_None          0.142308              3.983333\n",
       "RedHook                RedHook          0.001924              0.041083\n",
       "Tompkins              Tompkins          0.010570              0.639221\n",
       "Tompkins_None    Tompkins_None          0.051370              2.542808"
      ]
     },
     "execution_count": 1302,
     "metadata": {},
     "output_type": "execute_result"
    }
   ],
   "source": [
    "bar_plot"
   ]
  },
  {
   "cell_type": "code",
   "execution_count": 1303,
   "metadata": {
    "collapsed": false
   },
   "outputs": [],
   "source": [
    "contingency_table_Chelsea = bar_plot[bar_blot.index.str.contains(\"Chelsea\",\"Chelsea_None\")][[\"norm_open_counts\",\"norm_non_open_counts\"]]"
   ]
  },
  {
   "cell_type": "code",
   "execution_count": 1304,
   "metadata": {
    "collapsed": false
   },
   "outputs": [
    {
     "data": {
      "text/html": [
       "<div>\n",
       "<table border=\"1\" class=\"dataframe\">\n",
       "  <thead>\n",
       "    <tr style=\"text-align: right;\">\n",
       "      <th></th>\n",
       "      <th>norm_open_counts</th>\n",
       "      <th>norm_non_open_counts</th>\n",
       "    </tr>\n",
       "    <tr>\n",
       "      <th>name</th>\n",
       "      <th></th>\n",
       "      <th></th>\n",
       "    </tr>\n",
       "  </thead>\n",
       "  <tbody>\n",
       "    <tr>\n",
       "      <th>Chelsea</th>\n",
       "      <td>0.104140</td>\n",
       "      <td>3.033635</td>\n",
       "    </tr>\n",
       "    <tr>\n",
       "      <th>Chelsea_None</th>\n",
       "      <td>0.232414</td>\n",
       "      <td>2.323579</td>\n",
       "    </tr>\n",
       "  </tbody>\n",
       "</table>\n",
       "</div>"
      ],
      "text/plain": [
       "              norm_open_counts  norm_non_open_counts\n",
       "name                                                \n",
       "Chelsea               0.104140              3.033635\n",
       "Chelsea_None          0.232414              2.323579"
      ]
     },
     "execution_count": 1304,
     "metadata": {},
     "output_type": "execute_result"
    }
   ],
   "source": [
    "contingency_table_Chelsea"
   ]
  },
  {
   "cell_type": "code",
   "execution_count": 1306,
   "metadata": {
    "collapsed": false
   },
   "outputs": [],
   "source": [
    "from scipy.stats import chisquare"
   ]
  },
  {
   "cell_type": "code",
   "execution_count": 1317,
   "metadata": {
    "collapsed": false
   },
   "outputs": [],
   "source": [
    "obs = np.array([[0.104140,3.033635],[0.232414,2.323579]])"
   ]
  },
  {
   "cell_type": "code",
   "execution_count": 1316,
   "metadata": {
    "collapsed": false
   },
   "outputs": [
    {
     "data": {
      "text/plain": [
       "array([[ 0.10414 ,  0.232414],\n",
       "       [ 3.033635,  2.323579]])"
      ]
     },
     "execution_count": 1316,
     "metadata": {},
     "output_type": "execute_result"
    }
   ],
   "source": [
    "obs"
   ]
  },
  {
   "cell_type": "code",
   "execution_count": 1315,
   "metadata": {
    "collapsed": false
   },
   "outputs": [
    {
     "data": {
      "text/plain": [
       "Power_divergenceResult(statistic=array([ 2.73504026,  1.71086973]), pvalue=array([ 0.09816903,  0.19087257]))"
      ]
     },
     "execution_count": 1315,
     "metadata": {},
     "output_type": "execute_result"
    }
   ],
   "source": [
    "chisquare(obs)"
   ]
  },
  {
   "cell_type": "code",
   "execution_count": 1318,
   "metadata": {
    "collapsed": false
   },
   "outputs": [
    {
     "data": {
      "text/plain": [
       "array([[ 0.10414 ,  3.033635],\n",
       "       [ 0.232414,  2.323579]])"
      ]
     },
     "execution_count": 1318,
     "metadata": {},
     "output_type": "execute_result"
    }
   ],
   "source": [
    "obs"
   ]
  },
  {
   "cell_type": "code",
   "execution_count": 1319,
   "metadata": {
    "collapsed": false
   },
   "outputs": [
    {
     "data": {
      "text/plain": [
       "Power_divergenceResult(statistic=array([ 0.04889028,  0.09411226]), pvalue=array([ 0.82500564,  0.75901295]))"
      ]
     },
     "execution_count": 1319,
     "metadata": {},
     "output_type": "execute_result"
    }
   ],
   "source": [
    "chisquare(obs)"
   ]
  },
  {
   "cell_type": "code",
   "execution_count": null,
   "metadata": {
    "collapsed": true
   },
   "outputs": [],
   "source": []
  }
 ],
 "metadata": {
  "kernelspec": {
   "display_name": "Python 3",
   "language": "python",
   "name": "python3"
  },
  "language_info": {
   "codemirror_mode": {
    "name": "ipython",
    "version": 3
   },
   "file_extension": ".py",
   "mimetype": "text/x-python",
   "name": "python",
   "nbconvert_exporter": "python",
   "pygments_lexer": "ipython3",
   "version": "3.6.0"
  }
 },
 "nbformat": 4,
 "nbformat_minor": 2
}
